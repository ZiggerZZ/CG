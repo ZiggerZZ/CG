{
 "cells": [
  {
   "cell_type": "markdown",
   "metadata": {},
   "source": [
    "We suppose that we already have one jsonfile with all the scraped data. It contains the English and the French reviews."
   ]
  },
  {
   "cell_type": "markdown",
   "metadata": {
    "colab_type": "text",
    "id": "AJJa5LepUlM5"
   },
   "source": [
    "# Making initial imports"
   ]
  },
  {
   "cell_type": "code",
   "execution_count": 1,
   "metadata": {
    "colab": {},
    "colab_type": "code",
    "id": "B1brrbapzwjh"
   },
   "outputs": [],
   "source": [
    "import pandas as pd\n",
    "import matplotlib.pyplot as plt\n",
    "import seaborn as sns\n",
    "import re\n",
    "import numpy as np\n",
    "from datetime import datetime # for parsing english-formatted date\n",
    "import dateparser # for parsing french-formatted date"
   ]
  },
  {
   "cell_type": "code",
   "execution_count": 2,
   "metadata": {
    "colab": {
     "base_uri": "https://localhost:8080/",
     "height": 102
    },
    "colab_type": "code",
    "id": "cX6z2S4cPsVu",
    "outputId": "ddf42c5b-5901-4ea0-e200-c2a26cbe32a8"
   },
   "outputs": [
    {
     "name": "stdout",
     "output_type": "stream",
     "text": [
      "[nltk_data] Downloading package punkt to\n",
      "[nltk_data]     /Users/zigfridzvezdin/nltk_data...\n",
      "[nltk_data]   Package punkt is already up-to-date!\n",
      "[nltk_data] Downloading package stopwords to\n",
      "[nltk_data]     /Users/zigfridzvezdin/nltk_data...\n",
      "[nltk_data]   Package stopwords is already up-to-date!\n"
     ]
    },
    {
     "data": {
      "text/plain": [
       "True"
      ]
     },
     "execution_count": 2,
     "metadata": {},
     "output_type": "execute_result"
    }
   ],
   "source": [
    "# NLP library imports\n",
    "import nltk\n",
    "from nltk.corpus import stopwords\n",
    "from nltk.stem.wordnet import WordNetLemmatizer\n",
    "from nltk.stem import PorterStemmer\n",
    "from nltk import word_tokenize\n",
    "from nltk.tokenize import sent_tokenize\n",
    "from nltk.tokenize import word_tokenize\n",
    "nltk.download('punkt')\n",
    "nltk.download('stopwords')"
   ]
  },
  {
   "cell_type": "markdown",
   "metadata": {},
   "source": [
    "First delete double backslashes for Python to recognize correctly the _utf-8_ encoding."
   ]
  },
  {
   "cell_type": "markdown",
   "metadata": {},
   "source": [
    "_sed_ is a terminal command that replaces the strings by a given string  \n",
    "_sed_ use the 's#str1#str2#g' where __#__ plays the role of a delimiter and could be  __any__ character  \n",
    "one might use both signle and double quotes  \n",
    "in order to represent one backslash one need to type four of them "
   ]
  },
  {
   "cell_type": "code",
   "execution_count": 3,
   "metadata": {},
   "outputs": [],
   "source": [
    "# execute when the input file is not formatted\n",
    "# ! sed -i -e \"s \\\\\\\\\\\\\\\\' ' g\" file.abc\n",
    "# ! sed -i -e 's/\\\\\\\\/\\\\/g' file.abc\n",
    "# ! rm file.abc-e"
   ]
  },
  {
   "cell_type": "code",
   "execution_count": 4,
   "metadata": {
    "colab": {
     "base_uri": "https://localhost:8080/",
     "height": 204
    },
    "colab_type": "code",
    "id": "ihyBDJ8tsv6v",
    "outputId": "c3395200-8aa6-49ef-efcb-00cb275e889d"
   },
   "outputs": [],
   "source": [
    "df = pd.read_csv('AllReviews.csv')"
   ]
  },
  {
   "cell_type": "code",
   "execution_count": 5,
   "metadata": {},
   "outputs": [
    {
     "data": {
      "text/html": [
       "<div>\n",
       "<style scoped>\n",
       "    .dataframe tbody tr th:only-of-type {\n",
       "        vertical-align: middle;\n",
       "    }\n",
       "\n",
       "    .dataframe tbody tr th {\n",
       "        vertical-align: top;\n",
       "    }\n",
       "\n",
       "    .dataframe thead th {\n",
       "        text-align: right;\n",
       "    }\n",
       "</style>\n",
       "<table border=\"1\" class=\"dataframe\">\n",
       "  <thead>\n",
       "    <tr style=\"text-align: right;\">\n",
       "      <th></th>\n",
       "      <th>hotel_adress</th>\n",
       "      <th>hotel_name</th>\n",
       "      <th>hotel_type</th>\n",
       "      <th>image_url</th>\n",
       "      <th>locid</th>\n",
       "      <th>pid</th>\n",
       "      <th>published_date</th>\n",
       "      <th>rating</th>\n",
       "      <th>review</th>\n",
       "      <th>review_id</th>\n",
       "      <th>review_language</th>\n",
       "      <th>reviewer_id</th>\n",
       "      <th>title</th>\n",
       "      <th>trip_date</th>\n",
       "      <th>trip_type</th>\n",
       "    </tr>\n",
       "  </thead>\n",
       "  <tbody>\n",
       "    <tr>\n",
       "      <th>0</th>\n",
       "      <td>{'@type': 'PostalAddress', 'streetAddress': ''...</td>\n",
       "      <td>Center Parcs Longleat Forest</td>\n",
       "      <td>LodgingBusiness</td>\n",
       "      <td>https://media-cdn.tripadvisor.com/media/photo-...</td>\n",
       "      <td>523986</td>\n",
       "      <td>38673</td>\n",
       "      <td>February 3, 2019</td>\n",
       "      <td>5</td>\n",
       "      <td>Once again we enjoyed a wonderful stay at Long...</td>\n",
       "      <td>649885528</td>\n",
       "      <td>en</td>\n",
       "      <td>E3E85C40EC2E6D6502343BEE50C3E664</td>\n",
       "      <td>Sub-Tropical Swimming Paradise</td>\n",
       "      <td>January 2019</td>\n",
       "      <td>Traveled with friends</td>\n",
       "    </tr>\n",
       "    <tr>\n",
       "      <th>1</th>\n",
       "      <td>{'@type': 'PostalAddress', 'streetAddress': ''...</td>\n",
       "      <td>Center Parcs Longleat Forest</td>\n",
       "      <td>LodgingBusiness</td>\n",
       "      <td>https://media-cdn.tripadvisor.com/media/photo-...</td>\n",
       "      <td>523986</td>\n",
       "      <td>38673</td>\n",
       "      <td>February 4, 2019</td>\n",
       "      <td>1</td>\n",
       "      <td>We had a long weekend break booked for 8 of us...</td>\n",
       "      <td>650057614</td>\n",
       "      <td>en</td>\n",
       "      <td>F3CBCD42E17AE1129A2F03E52A0C48DC</td>\n",
       "      <td>Appalling customer service</td>\n",
       "      <td>February 2019</td>\n",
       "      <td>Traveled with friends</td>\n",
       "    </tr>\n",
       "    <tr>\n",
       "      <th>2</th>\n",
       "      <td>{'@type': 'PostalAddress', 'streetAddress': ''...</td>\n",
       "      <td>Center Parcs Longleat Forest</td>\n",
       "      <td>LodgingBusiness</td>\n",
       "      <td>https://media-cdn.tripadvisor.com/media/photo-...</td>\n",
       "      <td>523986</td>\n",
       "      <td>38673</td>\n",
       "      <td>February 4, 2019</td>\n",
       "      <td>5</td>\n",
       "      <td>We stayed Mon-Fri in the Fir area.This is a 45...</td>\n",
       "      <td>650102820</td>\n",
       "      <td>en</td>\n",
       "      <td>36EE62981A8DED4E32FA5BEC17DB5ED9</td>\n",
       "      <td>Snow</td>\n",
       "      <td>January 2019</td>\n",
       "      <td>Traveled with family</td>\n",
       "    </tr>\n",
       "    <tr>\n",
       "      <th>3</th>\n",
       "      <td>{'@type': 'PostalAddress', 'streetAddress': ''...</td>\n",
       "      <td>Center Parcs Longleat Forest</td>\n",
       "      <td>LodgingBusiness</td>\n",
       "      <td>https://media-cdn.tripadvisor.com/media/photo-...</td>\n",
       "      <td>523986</td>\n",
       "      <td>38673</td>\n",
       "      <td>February 4, 2019</td>\n",
       "      <td>1</td>\n",
       "      <td>We have been to Center Parcs Longleat numerous...</td>\n",
       "      <td>650106310</td>\n",
       "      <td>en</td>\n",
       "      <td>0B74A0DF1D2B42866EACE933FCCFB3F6</td>\n",
       "      <td>Disaster in management</td>\n",
       "      <td>February 2019</td>\n",
       "      <td>Traveled with family</td>\n",
       "    </tr>\n",
       "    <tr>\n",
       "      <th>4</th>\n",
       "      <td>{'@type': 'PostalAddress', 'streetAddress': ''...</td>\n",
       "      <td>Center Parcs Longleat Forest</td>\n",
       "      <td>LodgingBusiness</td>\n",
       "      <td>https://media-cdn.tripadvisor.com/media/photo-...</td>\n",
       "      <td>523986</td>\n",
       "      <td>38673</td>\n",
       "      <td>February 4, 2019</td>\n",
       "      <td>1</td>\n",
       "      <td>Like many other people it would seem our break...</td>\n",
       "      <td>650166726</td>\n",
       "      <td>en</td>\n",
       "      <td>49C2B40945D9EEFA84AD6C3DF0A6D47A</td>\n",
       "      <td>Almost visit</td>\n",
       "      <td>February 2019</td>\n",
       "      <td>Traveled with family</td>\n",
       "    </tr>\n",
       "  </tbody>\n",
       "</table>\n",
       "</div>"
      ],
      "text/plain": [
       "                                        hotel_adress  \\\n",
       "0  {'@type': 'PostalAddress', 'streetAddress': ''...   \n",
       "1  {'@type': 'PostalAddress', 'streetAddress': ''...   \n",
       "2  {'@type': 'PostalAddress', 'streetAddress': ''...   \n",
       "3  {'@type': 'PostalAddress', 'streetAddress': ''...   \n",
       "4  {'@type': 'PostalAddress', 'streetAddress': ''...   \n",
       "\n",
       "                     hotel_name       hotel_type  \\\n",
       "0  Center Parcs Longleat Forest  LodgingBusiness   \n",
       "1  Center Parcs Longleat Forest  LodgingBusiness   \n",
       "2  Center Parcs Longleat Forest  LodgingBusiness   \n",
       "3  Center Parcs Longleat Forest  LodgingBusiness   \n",
       "4  Center Parcs Longleat Forest  LodgingBusiness   \n",
       "\n",
       "                                           image_url   locid    pid  \\\n",
       "0  https://media-cdn.tripadvisor.com/media/photo-...  523986  38673   \n",
       "1  https://media-cdn.tripadvisor.com/media/photo-...  523986  38673   \n",
       "2  https://media-cdn.tripadvisor.com/media/photo-...  523986  38673   \n",
       "3  https://media-cdn.tripadvisor.com/media/photo-...  523986  38673   \n",
       "4  https://media-cdn.tripadvisor.com/media/photo-...  523986  38673   \n",
       "\n",
       "     published_date  rating  \\\n",
       "0  February 3, 2019       5   \n",
       "1  February 4, 2019       1   \n",
       "2  February 4, 2019       5   \n",
       "3  February 4, 2019       1   \n",
       "4  February 4, 2019       1   \n",
       "\n",
       "                                              review  review_id  \\\n",
       "0  Once again we enjoyed a wonderful stay at Long...  649885528   \n",
       "1  We had a long weekend break booked for 8 of us...  650057614   \n",
       "2  We stayed Mon-Fri in the Fir area.This is a 45...  650102820   \n",
       "3  We have been to Center Parcs Longleat numerous...  650106310   \n",
       "4  Like many other people it would seem our break...  650166726   \n",
       "\n",
       "  review_language                       reviewer_id  \\\n",
       "0              en  E3E85C40EC2E6D6502343BEE50C3E664   \n",
       "1              en  F3CBCD42E17AE1129A2F03E52A0C48DC   \n",
       "2              en  36EE62981A8DED4E32FA5BEC17DB5ED9   \n",
       "3              en  0B74A0DF1D2B42866EACE933FCCFB3F6   \n",
       "4              en  49C2B40945D9EEFA84AD6C3DF0A6D47A   \n",
       "\n",
       "                            title       trip_date              trip_type  \n",
       "0  Sub-Tropical Swimming Paradise    January 2019  Traveled with friends  \n",
       "1     Appalling customer service    February 2019  Traveled with friends  \n",
       "2                            Snow    January 2019   Traveled with family  \n",
       "3          Disaster in management   February 2019   Traveled with family  \n",
       "4                   Almost visit    February 2019   Traveled with family  "
      ]
     },
     "execution_count": 5,
     "metadata": {},
     "output_type": "execute_result"
    }
   ],
   "source": [
    "df.head()"
   ]
  },
  {
   "cell_type": "code",
   "execution_count": 6,
   "metadata": {},
   "outputs": [],
   "source": [
    "df = df[[\"review\",\"published_date\",\"rating\",\"title\", \"review_language\", \"trip_date\"]]\n",
    "df.columns = ['review', 'date', 'rating', 'title', 'language', 'trip_date']\n",
    "df['hotel'] = 'Longleat Forest'\n",
    "df['source'] = 'TripAdvisor'"
   ]
  },
  {
   "cell_type": "markdown",
   "metadata": {
    "colab_type": "text",
    "id": "O3KKfifnDq2V"
   },
   "source": [
    "# Shapping dataFrame"
   ]
  },
  {
   "cell_type": "markdown",
   "metadata": {},
   "source": [
    "**Making some modifications from raw data**"
   ]
  },
  {
   "cell_type": "code",
   "execution_count": 7,
   "metadata": {},
   "outputs": [
    {
     "data": {
      "text/html": [
       "<div>\n",
       "<style scoped>\n",
       "    .dataframe tbody tr th:only-of-type {\n",
       "        vertical-align: middle;\n",
       "    }\n",
       "\n",
       "    .dataframe tbody tr th {\n",
       "        vertical-align: top;\n",
       "    }\n",
       "\n",
       "    .dataframe thead th {\n",
       "        text-align: right;\n",
       "    }\n",
       "</style>\n",
       "<table border=\"1\" class=\"dataframe\">\n",
       "  <thead>\n",
       "    <tr style=\"text-align: right;\">\n",
       "      <th></th>\n",
       "      <th>review</th>\n",
       "      <th>date</th>\n",
       "      <th>rating</th>\n",
       "      <th>title</th>\n",
       "      <th>language</th>\n",
       "      <th>trip_date</th>\n",
       "      <th>hotel</th>\n",
       "      <th>source</th>\n",
       "    </tr>\n",
       "  </thead>\n",
       "  <tbody>\n",
       "    <tr>\n",
       "      <th>count</th>\n",
       "      <td>11324</td>\n",
       "      <td>11322</td>\n",
       "      <td>11324.000000</td>\n",
       "      <td>11324</td>\n",
       "      <td>11322</td>\n",
       "      <td>11282</td>\n",
       "      <td>11324</td>\n",
       "      <td>11324</td>\n",
       "    </tr>\n",
       "    <tr>\n",
       "      <th>unique</th>\n",
       "      <td>11317</td>\n",
       "      <td>3865</td>\n",
       "      <td>NaN</td>\n",
       "      <td>9768</td>\n",
       "      <td>2</td>\n",
       "      <td>258</td>\n",
       "      <td>1</td>\n",
       "      <td>1</td>\n",
       "    </tr>\n",
       "    <tr>\n",
       "      <th>top</th>\n",
       "      <td>I visited Centre Parcs with my children at the...</td>\n",
       "      <td>November 25, 2015</td>\n",
       "      <td>NaN</td>\n",
       "      <td>Center Parcs Longleat</td>\n",
       "      <td>en</td>\n",
       "      <td>August 2016</td>\n",
       "      <td>Longleat Forest</td>\n",
       "      <td>TripAdvisor</td>\n",
       "    </tr>\n",
       "    <tr>\n",
       "      <th>freq</th>\n",
       "      <td>2</td>\n",
       "      <td>29</td>\n",
       "      <td>NaN</td>\n",
       "      <td>50</td>\n",
       "      <td>9897</td>\n",
       "      <td>156</td>\n",
       "      <td>11324</td>\n",
       "      <td>11324</td>\n",
       "    </tr>\n",
       "    <tr>\n",
       "      <th>mean</th>\n",
       "      <td>NaN</td>\n",
       "      <td>NaN</td>\n",
       "      <td>4.103674</td>\n",
       "      <td>NaN</td>\n",
       "      <td>NaN</td>\n",
       "      <td>NaN</td>\n",
       "      <td>NaN</td>\n",
       "      <td>NaN</td>\n",
       "    </tr>\n",
       "    <tr>\n",
       "      <th>std</th>\n",
       "      <td>NaN</td>\n",
       "      <td>NaN</td>\n",
       "      <td>1.064231</td>\n",
       "      <td>NaN</td>\n",
       "      <td>NaN</td>\n",
       "      <td>NaN</td>\n",
       "      <td>NaN</td>\n",
       "      <td>NaN</td>\n",
       "    </tr>\n",
       "    <tr>\n",
       "      <th>min</th>\n",
       "      <td>NaN</td>\n",
       "      <td>NaN</td>\n",
       "      <td>1.000000</td>\n",
       "      <td>NaN</td>\n",
       "      <td>NaN</td>\n",
       "      <td>NaN</td>\n",
       "      <td>NaN</td>\n",
       "      <td>NaN</td>\n",
       "    </tr>\n",
       "    <tr>\n",
       "      <th>25%</th>\n",
       "      <td>NaN</td>\n",
       "      <td>NaN</td>\n",
       "      <td>4.000000</td>\n",
       "      <td>NaN</td>\n",
       "      <td>NaN</td>\n",
       "      <td>NaN</td>\n",
       "      <td>NaN</td>\n",
       "      <td>NaN</td>\n",
       "    </tr>\n",
       "    <tr>\n",
       "      <th>50%</th>\n",
       "      <td>NaN</td>\n",
       "      <td>NaN</td>\n",
       "      <td>4.000000</td>\n",
       "      <td>NaN</td>\n",
       "      <td>NaN</td>\n",
       "      <td>NaN</td>\n",
       "      <td>NaN</td>\n",
       "      <td>NaN</td>\n",
       "    </tr>\n",
       "    <tr>\n",
       "      <th>75%</th>\n",
       "      <td>NaN</td>\n",
       "      <td>NaN</td>\n",
       "      <td>5.000000</td>\n",
       "      <td>NaN</td>\n",
       "      <td>NaN</td>\n",
       "      <td>NaN</td>\n",
       "      <td>NaN</td>\n",
       "      <td>NaN</td>\n",
       "    </tr>\n",
       "    <tr>\n",
       "      <th>max</th>\n",
       "      <td>NaN</td>\n",
       "      <td>NaN</td>\n",
       "      <td>5.000000</td>\n",
       "      <td>NaN</td>\n",
       "      <td>NaN</td>\n",
       "      <td>NaN</td>\n",
       "      <td>NaN</td>\n",
       "      <td>NaN</td>\n",
       "    </tr>\n",
       "  </tbody>\n",
       "</table>\n",
       "</div>"
      ],
      "text/plain": [
       "                                                   review               date  \\\n",
       "count                                               11324              11322   \n",
       "unique                                              11317               3865   \n",
       "top     I visited Centre Parcs with my children at the...  November 25, 2015   \n",
       "freq                                                    2                 29   \n",
       "mean                                                  NaN                NaN   \n",
       "std                                                   NaN                NaN   \n",
       "min                                                   NaN                NaN   \n",
       "25%                                                   NaN                NaN   \n",
       "50%                                                   NaN                NaN   \n",
       "75%                                                   NaN                NaN   \n",
       "max                                                   NaN                NaN   \n",
       "\n",
       "              rating                  title language     trip_date  \\\n",
       "count   11324.000000                  11324    11322         11282   \n",
       "unique           NaN                   9768        2           258   \n",
       "top              NaN  Center Parcs Longleat       en   August 2016   \n",
       "freq             NaN                     50     9897           156   \n",
       "mean        4.103674                    NaN      NaN           NaN   \n",
       "std         1.064231                    NaN      NaN           NaN   \n",
       "min         1.000000                    NaN      NaN           NaN   \n",
       "25%         4.000000                    NaN      NaN           NaN   \n",
       "50%         4.000000                    NaN      NaN           NaN   \n",
       "75%         5.000000                    NaN      NaN           NaN   \n",
       "max         5.000000                    NaN      NaN           NaN   \n",
       "\n",
       "                  hotel       source  \n",
       "count             11324        11324  \n",
       "unique                1            1  \n",
       "top     Longleat Forest  TripAdvisor  \n",
       "freq              11324        11324  \n",
       "mean                NaN          NaN  \n",
       "std                 NaN          NaN  \n",
       "min                 NaN          NaN  \n",
       "25%                 NaN          NaN  \n",
       "50%                 NaN          NaN  \n",
       "75%                 NaN          NaN  \n",
       "max                 NaN          NaN  "
      ]
     },
     "execution_count": 7,
     "metadata": {},
     "output_type": "execute_result"
    }
   ],
   "source": [
    "df.describe(include='all')"
   ]
  },
  {
   "cell_type": "markdown",
   "metadata": {},
   "source": [
    "We see that there are some _nan_ values in __date__, __language__ and __trip_date__. It's important for us to have them defined.  \n",
    "Let's start with the first two."
   ]
  },
  {
   "cell_type": "code",
   "execution_count": 8,
   "metadata": {},
   "outputs": [
    {
     "name": "stdout",
     "output_type": "stream",
     "text": [
      "language 8330\n",
      "language 8411\n",
      "date 8330\n",
      "date 8411\n"
     ]
    }
   ],
   "source": [
    "for i, e in enumerate(list(df['language'])):\n",
    "    if pd.isna(e):\n",
    "        print('language', i)\n",
    "for i, e in enumerate(list(df['date'])):\n",
    "    if pd.isna(e):\n",
    "        print('date', i)"
   ]
  },
  {
   "cell_type": "markdown",
   "metadata": {},
   "source": [
    "Let's have a look at these two."
   ]
  },
  {
   "cell_type": "code",
   "execution_count": 9,
   "metadata": {},
   "outputs": [
    {
     "data": {
      "text/html": [
       "<div>\n",
       "<style scoped>\n",
       "    .dataframe tbody tr th:only-of-type {\n",
       "        vertical-align: middle;\n",
       "    }\n",
       "\n",
       "    .dataframe tbody tr th {\n",
       "        vertical-align: top;\n",
       "    }\n",
       "\n",
       "    .dataframe thead th {\n",
       "        text-align: right;\n",
       "    }\n",
       "</style>\n",
       "<table border=\"1\" class=\"dataframe\">\n",
       "  <thead>\n",
       "    <tr style=\"text-align: right;\">\n",
       "      <th></th>\n",
       "      <th>review</th>\n",
       "      <th>date</th>\n",
       "      <th>rating</th>\n",
       "      <th>title</th>\n",
       "      <th>language</th>\n",
       "      <th>trip_date</th>\n",
       "      <th>hotel</th>\n",
       "      <th>source</th>\n",
       "    </tr>\n",
       "  </thead>\n",
       "  <tbody>\n",
       "    <tr>\n",
       "      <th>8330</th>\n",
       "      <td>Center Parcs is the family holiday I was broug...</td>\n",
       "      <td>NaN</td>\n",
       "      <td>5</td>\n",
       "      <td>Seasoned Visitors, Would Recommend To All!!!</td>\n",
       "      <td>NaN</td>\n",
       "      <td>April 2012</td>\n",
       "      <td>Longleat Forest</td>\n",
       "      <td>TripAdvisor</td>\n",
       "    </tr>\n",
       "    <tr>\n",
       "      <th>8411</th>\n",
       "      <td>We have just returned from a trip to Center Pa...</td>\n",
       "      <td>NaN</td>\n",
       "      <td>2</td>\n",
       "      <td>Run down and over priced</td>\n",
       "      <td>NaN</td>\n",
       "      <td>June 2012</td>\n",
       "      <td>Longleat Forest</td>\n",
       "      <td>TripAdvisor</td>\n",
       "    </tr>\n",
       "  </tbody>\n",
       "</table>\n",
       "</div>"
      ],
      "text/plain": [
       "                                                 review date  rating  \\\n",
       "8330  Center Parcs is the family holiday I was broug...  NaN       5   \n",
       "8411  We have just returned from a trip to Center Pa...  NaN       2   \n",
       "\n",
       "                                             title language    trip_date  \\\n",
       "8330  Seasoned Visitors, Would Recommend To All!!!      NaN   April 2012   \n",
       "8411                      Run down and over priced      NaN    June 2012   \n",
       "\n",
       "                hotel       source  \n",
       "8330  Longleat Forest  TripAdvisor  \n",
       "8411  Longleat Forest  TripAdvisor  "
      ]
     },
     "execution_count": 9,
     "metadata": {},
     "output_type": "execute_result"
    }
   ],
   "source": [
    "df.iloc[[8330,8411]]"
   ]
  },
  {
   "cell_type": "markdown",
   "metadata": {},
   "source": [
    "The language is English. We don't know the date of the review but it's fine to suppose that the review were posted\n",
    "shortly after the trip (the second review indeed suggests it), so let's set __date__ = __trip_date__. However, we need to choose a day for the review publication in order to fit '%B %d, %Y' format. Let the d = 15, middle of the month."
   ]
  },
  {
   "cell_type": "code",
   "execution_count": 10,
   "metadata": {},
   "outputs": [
    {
     "name": "stderr",
     "output_type": "stream",
     "text": [
      "/anaconda3/lib/python3.6/site-packages/pandas/core/indexing.py:194: SettingWithCopyWarning: \n",
      "A value is trying to be set on a copy of a slice from a DataFrame\n",
      "\n",
      "See the caveats in the documentation: http://pandas.pydata.org/pandas-docs/stable/indexing.html#indexing-view-versus-copy\n",
      "  self._setitem_with_indexer(indexer, value)\n"
     ]
    }
   ],
   "source": [
    "df['date'].iloc[[8330,8411]] = ['April 15, 2012','June 15, 2012']\n",
    "df['language'].iloc[[8330,8411]] = 'en'"
   ]
  },
  {
   "cell_type": "markdown",
   "metadata": {},
   "source": [
    "No more _nan_ for __language__ and __date__."
   ]
  },
  {
   "cell_type": "code",
   "execution_count": 11,
   "metadata": {},
   "outputs": [
    {
     "data": {
      "text/html": [
       "<div>\n",
       "<style scoped>\n",
       "    .dataframe tbody tr th:only-of-type {\n",
       "        vertical-align: middle;\n",
       "    }\n",
       "\n",
       "    .dataframe tbody tr th {\n",
       "        vertical-align: top;\n",
       "    }\n",
       "\n",
       "    .dataframe thead th {\n",
       "        text-align: right;\n",
       "    }\n",
       "</style>\n",
       "<table border=\"1\" class=\"dataframe\">\n",
       "  <thead>\n",
       "    <tr style=\"text-align: right;\">\n",
       "      <th></th>\n",
       "      <th>review</th>\n",
       "      <th>date</th>\n",
       "      <th>rating</th>\n",
       "      <th>title</th>\n",
       "      <th>language</th>\n",
       "      <th>trip_date</th>\n",
       "      <th>hotel</th>\n",
       "      <th>source</th>\n",
       "    </tr>\n",
       "  </thead>\n",
       "  <tbody>\n",
       "    <tr>\n",
       "      <th>count</th>\n",
       "      <td>11324</td>\n",
       "      <td>11324</td>\n",
       "      <td>11324.000000</td>\n",
       "      <td>11324</td>\n",
       "      <td>11324</td>\n",
       "      <td>11282</td>\n",
       "      <td>11324</td>\n",
       "      <td>11324</td>\n",
       "    </tr>\n",
       "    <tr>\n",
       "      <th>unique</th>\n",
       "      <td>11317</td>\n",
       "      <td>3865</td>\n",
       "      <td>NaN</td>\n",
       "      <td>9768</td>\n",
       "      <td>2</td>\n",
       "      <td>258</td>\n",
       "      <td>1</td>\n",
       "      <td>1</td>\n",
       "    </tr>\n",
       "    <tr>\n",
       "      <th>top</th>\n",
       "      <td>I visited Centre Parcs with my children at the...</td>\n",
       "      <td>November 25, 2015</td>\n",
       "      <td>NaN</td>\n",
       "      <td>Center Parcs Longleat</td>\n",
       "      <td>en</td>\n",
       "      <td>August 2016</td>\n",
       "      <td>Longleat Forest</td>\n",
       "      <td>TripAdvisor</td>\n",
       "    </tr>\n",
       "    <tr>\n",
       "      <th>freq</th>\n",
       "      <td>2</td>\n",
       "      <td>29</td>\n",
       "      <td>NaN</td>\n",
       "      <td>50</td>\n",
       "      <td>9899</td>\n",
       "      <td>156</td>\n",
       "      <td>11324</td>\n",
       "      <td>11324</td>\n",
       "    </tr>\n",
       "    <tr>\n",
       "      <th>mean</th>\n",
       "      <td>NaN</td>\n",
       "      <td>NaN</td>\n",
       "      <td>4.103674</td>\n",
       "      <td>NaN</td>\n",
       "      <td>NaN</td>\n",
       "      <td>NaN</td>\n",
       "      <td>NaN</td>\n",
       "      <td>NaN</td>\n",
       "    </tr>\n",
       "    <tr>\n",
       "      <th>std</th>\n",
       "      <td>NaN</td>\n",
       "      <td>NaN</td>\n",
       "      <td>1.064231</td>\n",
       "      <td>NaN</td>\n",
       "      <td>NaN</td>\n",
       "      <td>NaN</td>\n",
       "      <td>NaN</td>\n",
       "      <td>NaN</td>\n",
       "    </tr>\n",
       "    <tr>\n",
       "      <th>min</th>\n",
       "      <td>NaN</td>\n",
       "      <td>NaN</td>\n",
       "      <td>1.000000</td>\n",
       "      <td>NaN</td>\n",
       "      <td>NaN</td>\n",
       "      <td>NaN</td>\n",
       "      <td>NaN</td>\n",
       "      <td>NaN</td>\n",
       "    </tr>\n",
       "    <tr>\n",
       "      <th>25%</th>\n",
       "      <td>NaN</td>\n",
       "      <td>NaN</td>\n",
       "      <td>4.000000</td>\n",
       "      <td>NaN</td>\n",
       "      <td>NaN</td>\n",
       "      <td>NaN</td>\n",
       "      <td>NaN</td>\n",
       "      <td>NaN</td>\n",
       "    </tr>\n",
       "    <tr>\n",
       "      <th>50%</th>\n",
       "      <td>NaN</td>\n",
       "      <td>NaN</td>\n",
       "      <td>4.000000</td>\n",
       "      <td>NaN</td>\n",
       "      <td>NaN</td>\n",
       "      <td>NaN</td>\n",
       "      <td>NaN</td>\n",
       "      <td>NaN</td>\n",
       "    </tr>\n",
       "    <tr>\n",
       "      <th>75%</th>\n",
       "      <td>NaN</td>\n",
       "      <td>NaN</td>\n",
       "      <td>5.000000</td>\n",
       "      <td>NaN</td>\n",
       "      <td>NaN</td>\n",
       "      <td>NaN</td>\n",
       "      <td>NaN</td>\n",
       "      <td>NaN</td>\n",
       "    </tr>\n",
       "    <tr>\n",
       "      <th>max</th>\n",
       "      <td>NaN</td>\n",
       "      <td>NaN</td>\n",
       "      <td>5.000000</td>\n",
       "      <td>NaN</td>\n",
       "      <td>NaN</td>\n",
       "      <td>NaN</td>\n",
       "      <td>NaN</td>\n",
       "      <td>NaN</td>\n",
       "    </tr>\n",
       "  </tbody>\n",
       "</table>\n",
       "</div>"
      ],
      "text/plain": [
       "                                                   review               date  \\\n",
       "count                                               11324              11324   \n",
       "unique                                              11317               3865   \n",
       "top     I visited Centre Parcs with my children at the...  November 25, 2015   \n",
       "freq                                                    2                 29   \n",
       "mean                                                  NaN                NaN   \n",
       "std                                                   NaN                NaN   \n",
       "min                                                   NaN                NaN   \n",
       "25%                                                   NaN                NaN   \n",
       "50%                                                   NaN                NaN   \n",
       "75%                                                   NaN                NaN   \n",
       "max                                                   NaN                NaN   \n",
       "\n",
       "              rating                  title language     trip_date  \\\n",
       "count   11324.000000                  11324    11324         11282   \n",
       "unique           NaN                   9768        2           258   \n",
       "top              NaN  Center Parcs Longleat       en   August 2016   \n",
       "freq             NaN                     50     9899           156   \n",
       "mean        4.103674                    NaN      NaN           NaN   \n",
       "std         1.064231                    NaN      NaN           NaN   \n",
       "min         1.000000                    NaN      NaN           NaN   \n",
       "25%         4.000000                    NaN      NaN           NaN   \n",
       "50%         4.000000                    NaN      NaN           NaN   \n",
       "75%         5.000000                    NaN      NaN           NaN   \n",
       "max         5.000000                    NaN      NaN           NaN   \n",
       "\n",
       "                  hotel       source  \n",
       "count             11324        11324  \n",
       "unique                1            1  \n",
       "top     Longleat Forest  TripAdvisor  \n",
       "freq              11324        11324  \n",
       "mean                NaN          NaN  \n",
       "std                 NaN          NaN  \n",
       "min                 NaN          NaN  \n",
       "25%                 NaN          NaN  \n",
       "50%                 NaN          NaN  \n",
       "75%                 NaN          NaN  \n",
       "max                 NaN          NaN  "
      ]
     },
     "execution_count": 11,
     "metadata": {},
     "output_type": "execute_result"
    }
   ],
   "source": [
    "df.describe(include='all')"
   ]
  },
  {
   "cell_type": "markdown",
   "metadata": {},
   "source": [
    "Now let's suppose that non defined __trip_date__ are the same as dates modulo formatting."
   ]
  },
  {
   "cell_type": "code",
   "execution_count": 12,
   "metadata": {},
   "outputs": [],
   "source": [
    "non_defined_trip_dates = []\n",
    "for i, e in enumerate(list(df['trip_date'])):\n",
    "    if pd.isna(e):\n",
    "        non_defined_trip_dates.append(i)"
   ]
  },
  {
   "cell_type": "code",
   "execution_count": 13,
   "metadata": {},
   "outputs": [
    {
     "data": {
      "text/plain": [
       "'February 4, 2019'"
      ]
     },
     "execution_count": 13,
     "metadata": {},
     "output_type": "execute_result"
    }
   ],
   "source": [
    "df.date.iloc[1]"
   ]
  },
  {
   "cell_type": "code",
   "execution_count": 14,
   "metadata": {},
   "outputs": [
    {
     "name": "stderr",
     "output_type": "stream",
     "text": [
      "/anaconda3/lib/python3.6/site-packages/pandas/core/indexing.py:194: SettingWithCopyWarning: \n",
      "A value is trying to be set on a copy of a slice from a DataFrame\n",
      "\n",
      "See the caveats in the documentation: http://pandas.pydata.org/pandas-docs/stable/indexing.html#indexing-view-versus-copy\n",
      "  self._setitem_with_indexer(indexer, value)\n"
     ]
    }
   ],
   "source": [
    "def Month_year(s):\n",
    "    month, day_comma, year = s.split()\n",
    "    return month+' '+year\n",
    "df['trip_date'].iloc[non_defined_trip_dates] = df['date'].iloc[non_defined_trip_dates].apply(Month_year)"
   ]
  },
  {
   "cell_type": "markdown",
   "metadata": {},
   "source": [
    "Let's change the type of dates to Python dates."
   ]
  },
  {
   "cell_type": "code",
   "execution_count": 15,
   "metadata": {
    "colab": {
     "base_uri": "https://localhost:8080/",
     "height": 235
    },
    "colab_type": "code",
    "id": "mDAVmCJdtM31",
    "outputId": "05c9ca5c-3b48-4564-dce2-470ca8a9c320"
   },
   "outputs": [],
   "source": [
    "# Changing the date format for English reviews.\n",
    "df.loc[df['language'] == 'en', 'date'] = df[df.language == 'en'].date.apply(lambda s: datetime.strptime(s, '%B %d, %Y'))    \n",
    "df.loc[df['language'] == 'en', 'trip_date'] = df[df.language == 'en'].trip_date.apply(lambda s: datetime.strptime(s.strip(), '%B %Y'))    \n",
    "\n",
    "# Changing the date format for French reviews.\n",
    "df.loc[df['language'] == 'fr', 'date'] = df[df.language == 'fr'].date.apply(lambda s: dateparser.parse(s).date())\n",
    "df.loc[df['language'] == 'fr', 'trip_date'] = df[df.language == 'fr'].trip_date.apply(lambda s: dateparser.parse(s.strip()).date())\n",
    "\n",
    "#maybe change to the day of the trip too\n",
    "\n",
    "# Setting date as index\n",
    "df.set_index('date', inplace = True)"
   ]
  },
  {
   "cell_type": "markdown",
   "metadata": {
    "colab_type": "text",
    "id": "MLgz2bdAEn3B"
   },
   "source": [
    "# Pre-Processing: Filters for punctuation and specific characters"
   ]
  },
  {
   "cell_type": "code",
   "execution_count": 16,
   "metadata": {},
   "outputs": [],
   "source": [
    "from string import punctuation\n",
    "import unicodedata"
   ]
  },
  {
   "cell_type": "code",
   "execution_count": 17,
   "metadata": {},
   "outputs": [],
   "source": [
    "all_reviews = df.review"
   ]
  },
  {
   "cell_type": "code",
   "execution_count": 18,
   "metadata": {},
   "outputs": [],
   "source": [
    "# transforming comments into lower-case text \n",
    "all_reviews = list(map(str.lower, all_reviews))\n",
    "# removing the punctuation\n",
    "extended_punctuation = punctuation+'’'\n",
    "punctuation_dict = {initial:\" \" for initial in extended_punctuation}\n",
    "trans = str.maketrans(punctuation_dict)\n",
    "all_reviews = list(map(lambda s: s.translate(trans), all_reviews))"
   ]
  },
  {
   "cell_type": "code",
   "execution_count": 19,
   "metadata": {
    "colab": {},
    "colab_type": "code",
    "id": "HLDOvubHgn-e"
   },
   "outputs": [],
   "source": [
    "# Using a list with words to delete\n",
    "stopW = stopwords.words(['english','french'])\n",
    "# Customizing it with our needs\n",
    "stopW_extended = stopW + ['les', 'tout', 'us']"
   ]
  },
  {
   "cell_type": "code",
   "execution_count": 20,
   "metadata": {},
   "outputs": [],
   "source": [
    "# Removing the stopwords from the reviews\n",
    "def review_stopword(s):\n",
    "    words = s.split()\n",
    "    cleaned = \"\"\n",
    "    for word in words:\n",
    "        if word not in stopW_extended:\n",
    "            cleaned += word + ' '\n",
    "    return cleaned.strip()\n",
    "\n",
    "all_reviews = list(map(review_stopword, all_reviews))"
   ]
  },
  {
   "cell_type": "markdown",
   "metadata": {},
   "source": [
    "The best way to remove French accents: https://stackoverflow.com/questions/15261793/python-efficient-method-to-replace-accents-%C3%A9-to-e-remove-a-za-z-d-s-and  \n",
    "It's important to clean the accents after removing the stopwords because the list of stopwords contains the accented words"
   ]
  },
  {
   "cell_type": "code",
   "execution_count": 21,
   "metadata": {},
   "outputs": [],
   "source": [
    "clean_accents = lambda s: ''.join((c for c in unicodedata.normalize('NFD', s) if unicodedata.category(c) != 'Mn'))\n",
    "all_reviews = list(map(clean_accents, all_reviews))"
   ]
  },
  {
   "cell_type": "markdown",
   "metadata": {
    "colab_type": "text",
    "id": "tjkun2adQ5i9"
   },
   "source": [
    "# Save the cleaned reviews"
   ]
  },
  {
   "cell_type": "code",
   "execution_count": 22,
   "metadata": {},
   "outputs": [],
   "source": [
    "df.review = all_reviews"
   ]
  },
  {
   "cell_type": "code",
   "execution_count": 23,
   "metadata": {},
   "outputs": [],
   "source": [
    "df.to_csv(\"AllReviewsClean.csv\", index=True)"
   ]
  },
  {
   "cell_type": "markdown",
   "metadata": {
    "colab_type": "text",
    "id": "TVUGs90nEtce"
   },
   "source": [
    "# Some visualization about what we've done"
   ]
  },
  {
   "cell_type": "code",
   "execution_count": 24,
   "metadata": {
    "colab": {},
    "colab_type": "code",
    "id": "GVWrijfzTHyq"
   },
   "outputs": [],
   "source": [
    "def plot_frequent_words(list_of_words):    \n",
    "    dist = nltk.FreqDist(list_of_words)\n",
    "    X = [nb[1] for nb in dist.most_common(20)]\n",
    "    y = [nb[0] for nb in dist.most_common(20)]\n",
    "    ax = sns.barplot(X,y)\n",
    "    ax.set(xlabel='Word frequencies',ylabel='Words',title='Most common words in the corpus')\n",
    "    plt.show()"
   ]
  },
  {
   "cell_type": "code",
   "execution_count": 25,
   "metadata": {
    "colab": {
     "base_uri": "https://localhost:8080/",
     "height": 393
    },
    "colab_type": "code",
    "id": "XYH8EWTg0bIr",
    "outputId": "e2ed0a87-2dc4-4221-f478-4b648691cfa6"
   },
   "outputs": [
    {
     "data": {
      "image/png": "[encoded data removed]",
      "text/plain": [
       "<matplotlib.figure.Figure at 0x11c2ea048>"
      ]
     },
     "metadata": {},
     "output_type": "display_data"
    },
    {
     "name": "stdout",
     "output_type": "stream",
     "text": [
      "1095697\n"
     ]
    }
   ],
   "source": [
    "# Making a first plot with original data\n",
    "all_words = []\n",
    "for review in all_reviews:\n",
    "    for word in review.split():\n",
    "        all_words.append(word)\n",
    "\n",
    "plot_frequent_words(all_words)\n",
    "print(len(all_words))"
   ]
  },
  {
   "cell_type": "code",
   "execution_count": null,
   "metadata": {},
   "outputs": [],
   "source": []
  }
 ],
 "metadata": {
  "colab": {
   "collapsed_sections": [],
   "name": "X_HEC_Session_3_Notebook_1_clean_data.ipynb",
   "provenance": [],
   "version": "0.3.2"
  },
  "kernelspec": {
   "display_name": "Python 3",
   "language": "python",
   "name": "python3"
  },
  "language_info": {
   "codemirror_mode": {
    "name": "ipython",
    "version": 3
   },
   "file_extension": ".py",
   "mimetype": "text/x-python",
   "name": "python",
   "nbconvert_exporter": "python",
   "pygments_lexer": "ipython3",
   "version": "3.6.4"
  }
 },
 "nbformat": 4,
 "nbformat_minor": 2
}
