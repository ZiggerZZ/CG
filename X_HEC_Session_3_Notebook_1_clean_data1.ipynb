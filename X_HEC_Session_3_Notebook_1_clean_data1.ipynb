{
 "cells": [
  {
   "cell_type": "markdown",
   "metadata": {
    "colab_type": "text",
    "id": "AJJa5LepUlM5"
   },
   "source": [
    "# Making initial imports"
   ]
  },
  {
   "cell_type": "code",
   "execution_count": 19,
   "metadata": {
    "colab": {},
    "colab_type": "code",
    "id": "B1brrbapzwjh"
   },
   "outputs": [],
   "source": [
    "import pandas as pd\n",
    "import matplotlib.pyplot as plt\n",
    "import seaborn as sns\n",
    "import re\n",
    "import numpy as np\n",
    "from datetime import datetime # for parsing english-formatted date\n",
    "import dateparser # for parsing french-formatted date"
   ]
  },
  {
   "cell_type": "code",
   "execution_count": 20,
   "metadata": {
    "colab": {
     "base_uri": "https://localhost:8080/",
     "height": 102
    },
    "colab_type": "code",
    "id": "cX6z2S4cPsVu",
    "outputId": "ddf42c5b-5901-4ea0-e200-c2a26cbe32a8"
   },
   "outputs": [
    {
     "name": "stdout",
     "output_type": "stream",
     "text": [
      "[nltk_data] Downloading package punkt to\n",
      "[nltk_data]     /Users/zigfridzvezdin/nltk_data...\n",
      "[nltk_data]   Package punkt is already up-to-date!\n",
      "[nltk_data] Downloading package stopwords to\n",
      "[nltk_data]     /Users/zigfridzvezdin/nltk_data...\n",
      "[nltk_data]   Package stopwords is already up-to-date!\n"
     ]
    },
    {
     "data": {
      "text/plain": [
       "True"
      ]
     },
     "execution_count": 20,
     "metadata": {},
     "output_type": "execute_result"
    }
   ],
   "source": [
    "# NLP library imports\n",
    "import nltk\n",
    "from nltk.corpus import stopwords\n",
    "from nltk.stem.wordnet import WordNetLemmatizer\n",
    "from nltk.stem import PorterStemmer\n",
    "from nltk import word_tokenize\n",
    "from nltk.tokenize import sent_tokenize\n",
    "from nltk.tokenize import word_tokenize\n",
    "nltk.download('punkt')\n",
    "nltk.download('stopwords')"
   ]
  },
  {
   "cell_type": "markdown",
   "metadata": {
    "colab_type": "text",
    "id": "s5YWKd3kDjAN"
   },
   "source": [
    "# Loading data scrapped on TrustPilot"
   ]
  },
  {
   "cell_type": "markdown",
   "metadata": {
    "colab_type": "text",
    "id": "SVw85YFlviN_"
   },
   "source": [
    "The dataframe is  composed with the comments scraped on Trustpolit at [this page](https://fr.trustpilot.com/review/www.centerparcs.fr/fr-fr)."
   ]
  },
  {
   "cell_type": "markdown",
   "metadata": {},
   "source": [
    "First delete double backslashes for Python to recognize correctly the _utf-8_ encoding."
   ]
  },
  {
   "cell_type": "markdown",
   "metadata": {},
   "source": [
    "_sed_ is a terminal command that replaces the strings by a given string  \n",
    "_sed_ use the 's#str1#str2#g' where __#__ plays the role of a delimiter and could be  __any__ character  \n",
    "one might use both signle and double quotes  \n",
    "in order to represent one backslash one need to type four of them "
   ]
  },
  {
   "cell_type": "code",
   "execution_count": 21,
   "metadata": {},
   "outputs": [],
   "source": [
    "# execute when the input file is not formatted\n",
    "# ! sed -i -e \"s \\\\\\\\\\\\\\\\' ' g\" check.json\n",
    "# ! sed -i -e 's/\\\\\\\\/\\\\/g' check.json\n",
    "# ! rm check.json-e"
   ]
  },
  {
   "cell_type": "code",
   "execution_count": 25,
   "metadata": {
    "colab": {
     "base_uri": "https://localhost:8080/",
     "height": 204
    },
    "colab_type": "code",
    "id": "ihyBDJ8tsv6v",
    "outputId": "c3395200-8aa6-49ef-efcb-00cb275e889d"
   },
   "outputs": [],
   "source": [
    "df = pd.read_json('tripadvisorenfinal1.json')"
   ]
  },
  {
   "cell_type": "code",
   "execution_count": 26,
   "metadata": {},
   "outputs": [
    {
     "data": {
      "text/html": [
       "<div>\n",
       "<style scoped>\n",
       "    .dataframe tbody tr th:only-of-type {\n",
       "        vertical-align: middle;\n",
       "    }\n",
       "\n",
       "    .dataframe tbody tr th {\n",
       "        vertical-align: top;\n",
       "    }\n",
       "\n",
       "    .dataframe thead th {\n",
       "        text-align: right;\n",
       "    }\n",
       "</style>\n",
       "<table border=\"1\" class=\"dataframe\">\n",
       "  <thead>\n",
       "    <tr style=\"text-align: right;\">\n",
       "      <th></th>\n",
       "      <th>hotel_adress</th>\n",
       "      <th>hotel_name</th>\n",
       "      <th>hotel_type</th>\n",
       "      <th>image_url</th>\n",
       "      <th>locid</th>\n",
       "      <th>pid</th>\n",
       "      <th>published_date</th>\n",
       "      <th>rating</th>\n",
       "      <th>review</th>\n",
       "      <th>review_id</th>\n",
       "      <th>review_language</th>\n",
       "      <th>reviewer_id</th>\n",
       "      <th>title</th>\n",
       "      <th>trip_date</th>\n",
       "      <th>trip_type</th>\n",
       "    </tr>\n",
       "  </thead>\n",
       "  <tbody>\n",
       "    <tr>\n",
       "      <th>0</th>\n",
       "      <td>{'@type': 'PostalAddress', 'streetAddress': ''...</td>\n",
       "      <td>Center Parcs Longleat Forest</td>\n",
       "      <td>LodgingBusiness</td>\n",
       "      <td>https://media-cdn.tripadvisor.com/media/photo-...</td>\n",
       "      <td>523986</td>\n",
       "      <td>38673</td>\n",
       "      <td>December 8, 2013</td>\n",
       "      <td>3</td>\n",
       "      <td>We've just returned from a midweek break, we w...</td>\n",
       "      <td>187104352</td>\n",
       "      <td>en</td>\n",
       "      <td>AC7AE042F6D08EA45C748F0D8AA73830</td>\n",
       "      <td>I LOVE LOVE LOVE CENTER PARCS, BUT WHATS HAPPE...</td>\n",
       "      <td>December 2013</td>\n",
       "      <td>None</td>\n",
       "    </tr>\n",
       "    <tr>\n",
       "      <th>1</th>\n",
       "      <td>{'@type': 'PostalAddress', 'streetAddress': ''...</td>\n",
       "      <td>Center Parcs Longleat Forest</td>\n",
       "      <td>LodgingBusiness</td>\n",
       "      <td>https://media-cdn.tripadvisor.com/media/photo-...</td>\n",
       "      <td>523986</td>\n",
       "      <td>38673</td>\n",
       "      <td>December 9, 2013</td>\n",
       "      <td>5</td>\n",
       "      <td>This was our first visit  and certainly won't ...</td>\n",
       "      <td>187160229</td>\n",
       "      <td>en</td>\n",
       "      <td>AF4A7072D1181F20987A94804077F8B7</td>\n",
       "      <td>Terrific family break</td>\n",
       "      <td>December 2013</td>\n",
       "      <td>None</td>\n",
       "    </tr>\n",
       "    <tr>\n",
       "      <th>2</th>\n",
       "      <td>{'@type': 'PostalAddress', 'streetAddress': ''...</td>\n",
       "      <td>Center Parcs Longleat Forest</td>\n",
       "      <td>LodgingBusiness</td>\n",
       "      <td>https://media-cdn.tripadvisor.com/media/photo-...</td>\n",
       "      <td>523986</td>\n",
       "      <td>38673</td>\n",
       "      <td>December 9, 2013</td>\n",
       "      <td>5</td>\n",
       "      <td>We went to Longleat for a mid week break for m...</td>\n",
       "      <td>187170672</td>\n",
       "      <td>en</td>\n",
       "      <td>523B12D984E439636DA0CF7880EC3174</td>\n",
       "      <td>Romantic Mid week break, FANTASTIC!</td>\n",
       "      <td>December 2013</td>\n",
       "      <td>None</td>\n",
       "    </tr>\n",
       "    <tr>\n",
       "      <th>3</th>\n",
       "      <td>{'@type': 'PostalAddress', 'streetAddress': ''...</td>\n",
       "      <td>Center Parcs Longleat Forest</td>\n",
       "      <td>LodgingBusiness</td>\n",
       "      <td>https://media-cdn.tripadvisor.com/media/photo-...</td>\n",
       "      <td>523986</td>\n",
       "      <td>38673</td>\n",
       "      <td>December 9, 2013</td>\n",
       "      <td>5</td>\n",
       "      <td>I visited Centre Parcs with my children at the...</td>\n",
       "      <td>187175058</td>\n",
       "      <td>en</td>\n",
       "      <td>6F79F8336EB6BA0ABE0AF43C1069FADA</td>\n",
       "      <td>Relaxing break second time around..</td>\n",
       "      <td>December 2013</td>\n",
       "      <td>None</td>\n",
       "    </tr>\n",
       "    <tr>\n",
       "      <th>4</th>\n",
       "      <td>{'@type': 'PostalAddress', 'streetAddress': ''...</td>\n",
       "      <td>Center Parcs Longleat Forest</td>\n",
       "      <td>LodgingBusiness</td>\n",
       "      <td>https://media-cdn.tripadvisor.com/media/photo-...</td>\n",
       "      <td>523986</td>\n",
       "      <td>38673</td>\n",
       "      <td>December 9, 2013</td>\n",
       "      <td>4</td>\n",
       "      <td>Just had a weekend break at Center Parcs Longl...</td>\n",
       "      <td>187184263</td>\n",
       "      <td>en</td>\n",
       "      <td>C543F6BF0BEBE533AE42C5690CEC09D5</td>\n",
       "      <td>Center Parcs Longleat Forest</td>\n",
       "      <td>December 2013</td>\n",
       "      <td>None</td>\n",
       "    </tr>\n",
       "  </tbody>\n",
       "</table>\n",
       "</div>"
      ],
      "text/plain": [
       "                                        hotel_adress  \\\n",
       "0  {'@type': 'PostalAddress', 'streetAddress': ''...   \n",
       "1  {'@type': 'PostalAddress', 'streetAddress': ''...   \n",
       "2  {'@type': 'PostalAddress', 'streetAddress': ''...   \n",
       "3  {'@type': 'PostalAddress', 'streetAddress': ''...   \n",
       "4  {'@type': 'PostalAddress', 'streetAddress': ''...   \n",
       "\n",
       "                     hotel_name       hotel_type  \\\n",
       "0  Center Parcs Longleat Forest  LodgingBusiness   \n",
       "1  Center Parcs Longleat Forest  LodgingBusiness   \n",
       "2  Center Parcs Longleat Forest  LodgingBusiness   \n",
       "3  Center Parcs Longleat Forest  LodgingBusiness   \n",
       "4  Center Parcs Longleat Forest  LodgingBusiness   \n",
       "\n",
       "                                           image_url   locid    pid  \\\n",
       "0  https://media-cdn.tripadvisor.com/media/photo-...  523986  38673   \n",
       "1  https://media-cdn.tripadvisor.com/media/photo-...  523986  38673   \n",
       "2  https://media-cdn.tripadvisor.com/media/photo-...  523986  38673   \n",
       "3  https://media-cdn.tripadvisor.com/media/photo-...  523986  38673   \n",
       "4  https://media-cdn.tripadvisor.com/media/photo-...  523986  38673   \n",
       "\n",
       "     published_date  rating  \\\n",
       "0  December 8, 2013       3   \n",
       "1  December 9, 2013       5   \n",
       "2  December 9, 2013       5   \n",
       "3  December 9, 2013       5   \n",
       "4  December 9, 2013       4   \n",
       "\n",
       "                                              review  review_id  \\\n",
       "0  We've just returned from a midweek break, we w...  187104352   \n",
       "1  This was our first visit  and certainly won't ...  187160229   \n",
       "2  We went to Longleat for a mid week break for m...  187170672   \n",
       "3  I visited Centre Parcs with my children at the...  187175058   \n",
       "4  Just had a weekend break at Center Parcs Longl...  187184263   \n",
       "\n",
       "  review_language                       reviewer_id  \\\n",
       "0              en  AC7AE042F6D08EA45C748F0D8AA73830   \n",
       "1              en  AF4A7072D1181F20987A94804077F8B7   \n",
       "2              en  523B12D984E439636DA0CF7880EC3174   \n",
       "3              en  6F79F8336EB6BA0ABE0AF43C1069FADA   \n",
       "4              en  C543F6BF0BEBE533AE42C5690CEC09D5   \n",
       "\n",
       "                                               title       trip_date trip_type  \n",
       "0  I LOVE LOVE LOVE CENTER PARCS, BUT WHATS HAPPE...   December 2013      None  \n",
       "1                              Terrific family break   December 2013      None  \n",
       "2                Romantic Mid week break, FANTASTIC!   December 2013      None  \n",
       "3                Relaxing break second time around..   December 2013      None  \n",
       "4                       Center Parcs Longleat Forest   December 2013      None  "
      ]
     },
     "execution_count": 26,
     "metadata": {},
     "output_type": "execute_result"
    }
   ],
   "source": [
    "df.head()"
   ]
  },
  {
   "cell_type": "markdown",
   "metadata": {
    "colab_type": "text",
    "id": "O3KKfifnDq2V"
   },
   "source": [
    "# Shapping dataFrame"
   ]
  },
  {
   "cell_type": "markdown",
   "metadata": {},
   "source": [
    "**Making some modifications from raw data**"
   ]
  },
  {
   "cell_type": "code",
   "execution_count": 27,
   "metadata": {
    "colab": {
     "base_uri": "https://localhost:8080/",
     "height": 235
    },
    "colab_type": "code",
    "id": "mDAVmCJdtM31",
    "outputId": "05c9ca5c-3b48-4564-dce2-470ca8a9c320"
   },
   "outputs": [
    {
     "name": "stderr",
     "output_type": "stream",
     "text": [
      "/anaconda3/lib/python3.6/site-packages/pandas/core/generic.py:3643: SettingWithCopyWarning: \n",
      "A value is trying to be set on a copy of a slice from a DataFrame.\n",
      "Try using .loc[row_indexer,col_indexer] = value instead\n",
      "\n",
      "See the caveats in the documentation: http://pandas.pydata.org/pandas-docs/stable/indexing.html#indexing-view-versus-copy\n",
      "  self[name] = value\n"
     ]
    },
    {
     "data": {
      "text/html": [
       "<div>\n",
       "<style scoped>\n",
       "    .dataframe tbody tr th:only-of-type {\n",
       "        vertical-align: middle;\n",
       "    }\n",
       "\n",
       "    .dataframe tbody tr th {\n",
       "        vertical-align: top;\n",
       "    }\n",
       "\n",
       "    .dataframe thead th {\n",
       "        text-align: right;\n",
       "    }\n",
       "</style>\n",
       "<table border=\"1\" class=\"dataframe\">\n",
       "  <thead>\n",
       "    <tr style=\"text-align: right;\">\n",
       "      <th></th>\n",
       "      <th>review</th>\n",
       "      <th>rating</th>\n",
       "      <th>title</th>\n",
       "      <th>language</th>\n",
       "      <th>trip_date</th>\n",
       "      <th>hotel</th>\n",
       "      <th>source</th>\n",
       "    </tr>\n",
       "    <tr>\n",
       "      <th>date</th>\n",
       "      <th></th>\n",
       "      <th></th>\n",
       "      <th></th>\n",
       "      <th></th>\n",
       "      <th></th>\n",
       "      <th></th>\n",
       "      <th></th>\n",
       "    </tr>\n",
       "  </thead>\n",
       "  <tbody>\n",
       "    <tr>\n",
       "      <th>December 8, 2013</th>\n",
       "      <td>We've just returned from a midweek break, we w...</td>\n",
       "      <td>3</td>\n",
       "      <td>I LOVE LOVE LOVE CENTER PARCS, BUT WHATS HAPPE...</td>\n",
       "      <td>en</td>\n",
       "      <td>December 2013</td>\n",
       "      <td>Longleat Forest</td>\n",
       "      <td>TripAdvisor</td>\n",
       "    </tr>\n",
       "    <tr>\n",
       "      <th>December 9, 2013</th>\n",
       "      <td>This was our first visit  and certainly won't ...</td>\n",
       "      <td>5</td>\n",
       "      <td>Terrific family break</td>\n",
       "      <td>en</td>\n",
       "      <td>December 2013</td>\n",
       "      <td>Longleat Forest</td>\n",
       "      <td>TripAdvisor</td>\n",
       "    </tr>\n",
       "    <tr>\n",
       "      <th>December 9, 2013</th>\n",
       "      <td>We went to Longleat for a mid week break for m...</td>\n",
       "      <td>5</td>\n",
       "      <td>Romantic Mid week break, FANTASTIC!</td>\n",
       "      <td>en</td>\n",
       "      <td>December 2013</td>\n",
       "      <td>Longleat Forest</td>\n",
       "      <td>TripAdvisor</td>\n",
       "    </tr>\n",
       "    <tr>\n",
       "      <th>December 9, 2013</th>\n",
       "      <td>I visited Centre Parcs with my children at the...</td>\n",
       "      <td>5</td>\n",
       "      <td>Relaxing break second time around..</td>\n",
       "      <td>en</td>\n",
       "      <td>December 2013</td>\n",
       "      <td>Longleat Forest</td>\n",
       "      <td>TripAdvisor</td>\n",
       "    </tr>\n",
       "    <tr>\n",
       "      <th>December 9, 2013</th>\n",
       "      <td>Just had a weekend break at Center Parcs Longl...</td>\n",
       "      <td>4</td>\n",
       "      <td>Center Parcs Longleat Forest</td>\n",
       "      <td>en</td>\n",
       "      <td>December 2013</td>\n",
       "      <td>Longleat Forest</td>\n",
       "      <td>TripAdvisor</td>\n",
       "    </tr>\n",
       "  </tbody>\n",
       "</table>\n",
       "</div>"
      ],
      "text/plain": [
       "                                                             review  rating  \\\n",
       "date                                                                          \n",
       "December 8, 2013  We've just returned from a midweek break, we w...       3   \n",
       "December 9, 2013  This was our first visit  and certainly won't ...       5   \n",
       "December 9, 2013  We went to Longleat for a mid week break for m...       5   \n",
       "December 9, 2013  I visited Centre Parcs with my children at the...       5   \n",
       "December 9, 2013  Just had a weekend break at Center Parcs Longl...       4   \n",
       "\n",
       "                                                              title language  \\\n",
       "date                                                                           \n",
       "December 8, 2013  I LOVE LOVE LOVE CENTER PARCS, BUT WHATS HAPPE...       en   \n",
       "December 9, 2013                              Terrific family break       en   \n",
       "December 9, 2013                Romantic Mid week break, FANTASTIC!       en   \n",
       "December 9, 2013                Relaxing break second time around..       en   \n",
       "December 9, 2013                       Center Parcs Longleat Forest       en   \n",
       "\n",
       "                       trip_date            hotel       source  \n",
       "date                                                            \n",
       "December 8, 2013   December 2013  Longleat Forest  TripAdvisor  \n",
       "December 9, 2013   December 2013  Longleat Forest  TripAdvisor  \n",
       "December 9, 2013   December 2013  Longleat Forest  TripAdvisor  \n",
       "December 9, 2013   December 2013  Longleat Forest  TripAdvisor  \n",
       "December 9, 2013   December 2013  Longleat Forest  TripAdvisor  "
      ]
     },
     "execution_count": 27,
     "metadata": {},
     "output_type": "execute_result"
    }
   ],
   "source": [
    "df = df[[\"review\",\"published_date\",\"rating\",\"title\", \"review_language\", \"trip_date\"]]\n",
    "df.columns = ['review', 'date', 'rating', 'title', 'language', 'trip_date']\n",
    "df['hotel'] = 'Longleat Forest'\n",
    "df['source'] = 'TripAdvisor'\n",
    "#df.columns = [\"content\",\"date\",\"name\",\"stars\",\"title\",\"review_language\", \"trip_date\"]\n",
    "\n",
    "#df = df.dropna(axis=0, subset=['published_date'])\n",
    "\n",
    "# Changing the date format for English reviews.\n",
    "df[df.language == 'en'].date = df[df.language == 'en'].date.apply(lambda s: datetime.strptime(s, '%B %d, %Y'))\n",
    "    \n",
    "# Changing the date format for French reviews.\n",
    "df[df.language == 'fr'].date = df[df.language == 'fr'].date.apply(lambda s: dateparser.parse(s).date())\n",
    "    \n",
    "    \n",
    "#maybe change to the day of the trip too\n",
    "    \n",
    "#i = 0\n",
    "#for date_string in df.date:\n",
    "#    df.date[i] = dateparser.parse(date_string).date()\n",
    "#    i = i +1\n",
    "\n",
    "# later \n",
    "#df.review = df.review.apply(lambda x: ' '.join(x.split()).lower())\n",
    "    \n",
    "#df = df[[\"content\",\"date\",\"name\",\"stars\",\"title\", \"trip_date\", \"review_language\", \"trip_type\"]]\n",
    "\n",
    "# Setting date as index\n",
    "df.set_index('date', inplace = True)\n",
    "\n",
    "#  Displaying result\n",
    "df.head()"
   ]
  },
  {
   "cell_type": "markdown",
   "metadata": {
    "colab_type": "text",
    "id": "GhNwaxJMECPY"
   },
   "source": [
    "# Exploratory Data Analysis"
   ]
  },
  {
   "cell_type": "code",
   "execution_count": 444,
   "metadata": {
    "colab": {
     "base_uri": "https://localhost:8080/",
     "height": 170
    },
    "colab_type": "code",
    "id": "qzkNSIqexrGI",
    "outputId": "2ade5bd5-2369-4e99-944d-23447fd45923"
   },
   "outputs": [
    {
     "name": "stdout",
     "output_type": "stream",
     "text": [
      "<class 'pandas.core.frame.DataFrame'>\n",
      "DatetimeIndex: 3170 entries, 2013-12-08 to 2005-09-13\n",
      "Data columns (total 7 columns):\n",
      "content            3170 non-null object\n",
      "name               3170 non-null object\n",
      "stars              3170 non-null int64\n",
      "title              3170 non-null object\n",
      "trip_date          3160 non-null object\n",
      "review_language    3170 non-null object\n",
      "trip_type          101 non-null object\n",
      "dtypes: int64(1), object(6)\n",
      "memory usage: 198.1+ KB\n"
     ]
    }
   ],
   "source": [
    "# Even if not really useful for this case, a good habit is to start with df.describe() and df.info() when you start working on a dataFrame\n",
    "df.info()"
   ]
  },
  {
   "cell_type": "markdown",
   "metadata": {
    "colab_type": "text",
    "id": "-S8wX_k9ELU3"
   },
   "source": [
    "**Studying eventual doubles**\n",
    "\n",
    "- We're here looking at names which are pseudos. Be careful, differents people could use the same ones. The date is a good indicator to know if the same person let 2 comments."
   ]
  },
  {
   "cell_type": "code",
   "execution_count": 445,
   "metadata": {
    "colab": {
     "base_uri": "https://localhost:8080/",
     "height": 343
    },
    "colab_type": "code",
    "id": "spwpPLb-tmBJ",
    "outputId": "1ef790e2-cd2a-4769-a5e8-81f6de3e1b32"
   },
   "outputs": [
    {
     "name": "stdout",
     "output_type": "stream",
     "text": [
      "Number of comments 3170\n",
      "Number of unique names:  3048\n",
      "\n",
      " 2e7e8588f675d25f883054869bb730b5\n",
      "2013-04-06 00:00:00 my husband and two young daughters (7&amp;3) returned yesterday from our 10th visit to longleat and you'll see from our previous reviews that we have always rated our stays as excellent however this time i do have to mark the stay down slightly. first the good points:- we stayed in a two bedroom (one double, one twin) woodland lodge right by the plaza, in the ash area. as always it was spacious, well equipped, warm &amp; cosy. there is a main bathroom, containing a bath with shower attachment. there is also a wc out in the hallway, however see negative points below.- staff very pleasant, friendly, helpful &amp; efficient as always. - wide range of activities available but most do cost extra. indicative prices can be found on the website before booking to give you an idea of what these extras will cost. we enjoyed mini bowling, indoor putting, snooker, a massage and our daughters especially loved the fairy and wizards academy which took place at the time out club for three hours. this was pricey, costing just over £50 for the two of them but they haven't stopped talking about it since, they really enjoyed it. of course there is the sub tropical swimming pool which is great fun, and we had no problems even at busy times finding a family changing room, however this time we did face a couple of negative things (more later)- we ate out every night. this can be expensive however the facilities in your lodge give you the opportunity to make your stay as cheap or expensive as you want. again restaurant prices can be found on line.- massage at aqua sana was excellent but see comments below.now the negative points:- i booked a massage on tuesday for my birthday on thursday. received a email to confirm the booking and cost of £70. by the thursday morning when i looked at my itinerary again, at the same time 4 adult spa sessions had appeared at a cost of £148. of course this worried me as i was concerned that this £148 had been taken from my account, so when i went to aqua sana i asked. the helpful lady behind reception confirmed that these 4 sessions were appearing on my booking (under our villa number) but they were under the name young, which is not my name. i asked whether they could check whether it had been debited from my account and they said they would speak to guest services. so i went into my massage not very relaxed as you can imagine, however it was excellent and i will definitely be visiting the spa again. when i came out the very polite gentleman, who was lovely, advised that they had spoken to guest services who had advised that it was under someone else's name but if the money did come out of my account i should contact them. as you can imagine i wasn't very satisfied with this so i visited guest services when i got back up to the plaza and explained the situation again. this time i was told that the booking was under my name! i offered to give them my card so that they could check whether it had been my card that this money had been debited from. i was told that there was no way to check this and if it was debited from my account i would need to contact head office to arrange a refund, but then that begs the question how would they know that i wasn't just making it up and had used the sessions. luckily as of today they money hasn't gone out of my account, but i really didn't want to spend my birthday checking up whether it had and not having much help from center parcs, which i have never experienced before.- center parcs is meant to be a car free area with the exception of change over days and those accommodations with disabled parking or parking allocated. for the five days that we were there we had a car parked outside of our accommodation. after the first night we thought security would do their usual of placing a notice on the car (as they did with other cars) to say that they would need to remove it to the car park. this did not happen. we did notice a couple of other cars who had notices on permitting them to park but the car outside our villa had nothing. again i mentioned it to guest services but nothing was done. this car remained parked in the spot from before three on the monday to just before 10 on the friday. there are only two parking spots outside the villas, and luckily we and the other villa who had parked their car in the car park as per the normal cp rules managed to coordinate unpacking and packing without having to park one of our cars on the side of the road, which at busy changeover days can be dangerous. also our villa was opposite the plaza land train stop and a number of times we heard people in the queue commenting about the car being parked there as we walked back to our villa and i personally don't like the thought of fellow guests thinking we are flouting center parcs rules. i know that there may have been a perfectly good reason why the car was left there, but confirmation that the car was allowed to park there would have been good, however again one of the main reasons i book cp is not to see cars and to allow my children to wander freely, within reason.- walking to the car on the monday afternoon to get our swimming things i witnessed a very aggressive car rage incident. i know not cp's fault but the rush at three to get into the parc results in some very disappointing behaviour.- when we got to our accommodation at 5 (we always wait until the rush is over) there was no wood burning logs as previously ordered. my husband want to guest services who gave him a pack. in the meantime a kindly gentleman turned up with another pack and said that we were last on his route hence why the pack wasn't there when we arrived. at this point i didn't know guest services would give my husband a pack, so we ended up with two. so my husband went back to guest services to hand a pack back in and at that point the gentlemen came back to collect a pack as he'd been told we'd now got two. bit of a comedy of errors really.- our safe was locked by the previous occupants so we couldn't use straight away. went to guest services who had to book someone to come out and unlock it. this had to be done on an appointment basis so we were booked in for 9 the next morning, the gentleman had been told the wrong villa number so turned up late but very apologetic, however if had turned up any later we would have missed the start of the activity we had booked as we needed to be down in jardin des sports.- our bathroom grouting could have done with a good spray of mildew remover or just re-grouting- the dvd player was not working properly and kept jumping whatever dvd you placed in it.- the water on the last evening / morning did not warm up quickly and kept going cold after warming up.- sub-tropical pool temperature, main pool seemed fine, but the children's pool did seem cooler than our previous visits. also the air temperature did not feel sub-tropical. also a number of the showers weren't working causing chaos in this area.- accommodation now comes with one toilet roll per toilet, with the expectation that you will buy more from the parcmarket when needed, however each of our wcs didn't have a full roll left in them when we arrived. this may not be such as big thing but when you pay nearly £1000 for five days then i think this is something that cp could get right.i am still rating our stay as good as we really enjoyed ourselves as we always do, but the things outlined above did disappoint us, especially the aqua sana and car parking issues. i hope that our stay in october and december won't be marred with the above issues.\n",
      "2012-12-11 00:00:00 we got back yesterday from our ninth visit to longleat and fourth to the winter wonderland. had a fantastic time. staff as friendly and helpful as ever. our woodland lodge near the plaza was very clean and has all the amenities you would require. we ate out every night but you can make your stay as cheap or expensive as you see fit. had three great meals, in hucks, strada and rajinda pradesh. all cater for children really well plus hucks and strada have play areas which is great. usually when we have a weekend break we make sure we arrive for 10 am on the friday and don't leave until 7 or 8 clock on the monday, but this stay we decided not to take our daughter out of school, so were only there just over two days. however we packed loads in to those two days, horse and carriage ride, visit to father christmas, christmas party, panto, swimming etc. leaving early on your final day is no problem as they open the barrier at about 3 in the morning if you need to get away. the main pool inside did feel cooler than usual but i'm not sure whether that was because it was so cold outside. the only real negative we would say was the behaviour that we witnessed from some fellow guests, who appeared to have no problem swearing and behaving aggressively in front of children. we know this is not center parcs fault, but center parcs is a family environment and it would be a pity if the behaviour of some spoils that.\n",
      "2012-11-05 00:00:00 we visited center parcs longleat for the eighth time over the first weekend in half term. there were lots of halloween decorations which our children loved. the parc had also put on lots of halloween activities in addition to the normal activities that you can book. over the weekend we booked pumpkin carving, broomstick party hour, mini bowling, animal antics and the magic show at the pancake house (nutty noah is brilliant - a must) in addition to the free activities, pool, playgrounds, soft play etc. we personally do not find the activities we book to be too expensive however we do have younger children, so can appreciate that as they get older the cost will increase due to the type of activities at they will be able to partake in. we stayed in a woodland lodge near the plaza. our lodge was very clean and well maintained. the heating worked well and when the fire was was lit at night the whole place was very cosy. lots of wildlife to be seen from our patio window. being as it was half term the price of the weekend was expensive compared to a weekend in term time, however this is the same with any holiday company. we didn't hire bikes on this occasion, but have done in the past and have found them useful for getting from a to b. yes there are some steep hills at longleat but there are quite a few alternative routes to help you avoid some of these. we had no problems walking from the plaza to the jardin des sport (even with a 3 year old) but there is a land train which runs every 20 minutes (apart from in the day on a friday and monday) if you don't want to walk. the pool was great as usual, our daughters (and us) love going on the slides and the rapids. the floor of the changing rooms was quite grubby but given the weather we could understand why with people traipsing in mud etc. we usually take all our food essentials with us however when we have bought items from the supermarket on site we have never found them overly expensive. we ate out every night, visiting ortega, strada and hucks (plus the aforementioned pancake house). it is essential to book as you may find yourselves disappointed if you just turn up. prices in the restaurants appear similar to similar restaurants outside of the parc, however the one exception to this is the sports cafe which we ate in at lunch time a couple of times. the sports cafe have recently changed their menu and it would seem the prices have increased quite substantially, £7.95 for a fish finger roll, £14.95 for a cottage pie etc. whilst the food is tasty i'm not sure that it is worth the amount that the sports cafe is charging. however all in all we had another excellent stay. we are back again in a month for the winter wonderland which is another special and great time of year to visit center parcs.\n",
      "2012-04-08 00:00:00 got back on friday from our 7th visit to longleat and yet again we were not disappointed. we stayed in villa 803, a woodland lodge for a midweek break. we only live a hour away so we made sure we got there at 10 on the monday &amp; didn't leave until 7 on the friday night, so we had the full five days there. we made use of all the amenities until we were able to get into the villa at 3. we found the villa to be clean and tidy on arrival and there was a box of chocolates and a gift to grow our own oak tree waiting for us to thank us for returning, which we thought was a really nice touch. these new style lodges are very stylish and once the fire is burning, very cosy. center parcs at longleat is set in beautiful surroundings and we love nothing more than cycling around the park with our two young daughters. there are plenty of activities to do but our daughters favourite is the swimming pool, we can spend hours in there. we ate out every night except for the first night where we had a take away delivered, but the accomodaton has everything you need for self catering. as usual all the staff were very friendly &amp; helpful. we are booked in for a weekend before christmas but we love it so much that i'm just about to book for the easter holidays next year and a weekend in the october half term.\n",
      "2011-12-17 00:00:00 we returned on monday from our sixth visit to longleat and our third to the winter wonderland. every year the christmas decorations, entertainment &amp; general ambience get better and better. our two young daughters love the whole experience. we do pack so much into the four days that we could do with a further few days to recover but it is absolutely worth it. some of the activities we did this year included, a horse and carridge ride, ice skating, pantomine &amp; a visit to see santa claus.we stayed in villa 803, a woodland lodge near the plaza which is really conveniently placed. we found our villa lovely and clean. the accomodation has everything you need, although we did eat out every night and can highly recommend strada &amp; ortega. we did have a moment of panic when we tried to enter our accomodation for the first time on the friday, whereby the keys we were given did not fit the locks. a quick visit to customer services saw the maintenance guys coming to let us in straight away and within 30 minutes we were given the right keys. the swimming pool did seem slightly colder on this visit but we soon got acclimatised to the temperature and the outside pool was really warm, so when ever we felt the need to warm up we'd just pop out there.all in all we had a lovely stay again, so much that i've just booked a winter wonderland weekend for next year, but we don't have that long to wait as we're back at longleat in the easter hols - can't wait!\n",
      "2010-12-17 00:00:00 this is the 4th time we have visited longleat and every time we haven't been able to fault our stay. it really gives you the best of both worlds, if you want to stay in and cook for yourself you have all the facilities you need and the shop is well stocked. if you want to go out there is lots of choice. we have stayed in a new style woodland lodge everytime and the accomodation is lovely and the beds so comfy. every member of staff that we interacted with were very pleasant and can't do enough for you. the place is so child friendly and there's so much for them to do, especially the swimming pool, our children love going to center parcs. this time we visited santa which our children loved and the pantomine was great. although spread out there is the land train which we found to travel on time. usually we also hire bike which are great for getting around the site. we love longleat center parcs, so much that we have already booked for easter and a weekend before xmas next year!\n",
      "\n",
      " a2a918dce9b829ea598204e73a154ab1\n",
      "2013-09-29 00:00:00 we have been to longleat center parcs many times before, but the last visit was nearly two years ago now. we have always had a brilliant time here, but have had lots of problems with cleanliness of villas so we were a bit concerned on arrival.the new style executive villas were exactly as before - comfortable, well designed but getting a bit shabby in places. they could be really lovely with better upkeep and a deep clean e.g freezer door hanging off, bathroom sink kept blocking, scuffed walls, marked carpets. on the surface level the villa was reasonably clean and acceptable, however bathroom floor could do with a really good clean.hucks really good and magic show at pancake house worth a boost for nutty noah. lots of facilities so you can do as much or as little as you want. we always hire bikes and really love the site layout and the space! a lovely weekend had by all and hope to visit again - will maybe try woburn for the new accommodation!\n",
      "2012-02-05 00:00:00 we came back for our 4th visit in a year and had another fantastic time!!! weather was very cold but wrapped up warm and enjoyed the forest. great outdoor play areas for our 4 year old and good facilities. villa was nice, although once again cleanliness could be better but definately not bad enough to ruin the break. great to have open fire.hucks was great once again and magic night at pancake house was very good. service at cafe rouge and strada was very very slow (this is nothing new and we always give these feedback but it never really improves).overall a fab holiday, great location, friendly staff and lots of fun!!!!\n",
      "2011-10-01 00:00:00 we returned for the third time this year and were lucky to have the most amazing hot weather for the last week in september. we visited the beach and the pool every day and nowhere felt too crowded, despite a lot of people being there. bike hire is the best way to get around.ate out at hucks (twice) which was excellent, very friendly staff. cafe rouge was not so great (as always) - staff are not very helpful or happy and food is average. the pancake house magic night was excellent - great for our 3 year old who loved the entertainer. accommodation was fine, definately cleaner than during our last stay where we had to complain, however still room for improvement - bathrooms not as clean as i expect! maintained well though and comfortable. on the whole an excellent holiday for all. will definately return (hopefully soon!!!).\n",
      "2011-05-21 00:00:00 this is our 4th trip to longleat centerparcs and as always we had a fantastic break. the pool is excellent especially for a 3 year old!! the lake and beach area is lovely, the play parks are fab and there is a good choice of restaurants. our only issue is the cleanliness of the villa on arrival - on all previous visits accommodation could be a bit cleaner however i do have quite high standards and so usually put it down to that, however on this occasion the floors in particular were really dirty and i needed to give the place a good clean before i was happy for my toddler to run around. despite this we will definately be returning again later this year as overall it's a lovely place, staff are friendly and its great fun for children (and adults!!!)\n",
      "2011-01-29 00:00:00 we stayed in a 4 bedroom executive lodge which was excellent. all rooms had ensuite bathrooms and there was a sauna and fantastic games room with pool table and ps 2. the lodge was relatively clean on arrival although having high standards, i did give it an additional clean through. the daily housekeeping was good and staff were very friendly. the resort is great, so family orientated and staff friendly and helpful. hucks in particular is great for children and staff are brilliant. the pool is great and they do try and keep it clean, although it can get very busy and the changing rooms a bit dirty.\n",
      "\n",
      " 7660c0d93c012e08ae290fb9264ee229\n",
      "2013-07-28 00:00:00 this is our 14th (i think - have lost count now) return visit to longleat and this is the first time we have gone in 'school holidays' although it wasn't school holidays for english schools; so slightly cheaper than the following week and suprisingly not as busy as we thought it would be. we stayed in villa 535, a 4 bedroomed new style lodge. the first time we have had a 4 bedroom in this range. the bedrooms were good sizes, with one large double and one large twin as well as an average size double and twin. added bonus of a shower room with walk in shower (ideal for my dad who suffers with arthritis). two fridges in the kitchen (welcomed!) although missing the long, tall cupboard that you get with the 3 bedroomed lodge we stayed in last time and found ourselves clearing away things we didn't need to make room for our food e.g. cereals etc.... only minor issues with accomodation was the television (not that we watched much but our 4 yr old watched a little) signal was terrible and picture awful and with 18 month old twins crawling everywhere, it was apparent that whilst the villa was clean, the floor and carpet could have done with a bit more thorough cleaning as all of their clothes came back with black knees! our villa backed onto a small lake, so we had the added bonus of seeing the ducks every morning coming up to our door, plus plenty of squirrels and to our amazement, one evening a badger!the sun shone the whole time we were there which was the icing on the cake! we spent most of our time in the pool or at the beach soaking up the good weather. staff were fantastic - with 18 month old twins, a 4 yr old and 4 adults we were always made very welcome and staff went out of their way with our twins, giving us extra plates to share meals etc... dexters, cafe rouge and pancake house fab food and fab service. great coffees and service too at the grand cafe. changing facilities as always for babies were top class and very clean. only gripe was the toilet at the boathouse - appreciate its vicinity means it's difficult to keep clean but don't think it had been cleaned for many hours when we used it after the pedalos.land train great as my dad can't walk far and loved the drivers giving us a toot as they went past us. aqua aerobics class was great and a treat that it was in the outside pool with the sun shining and pilates also very good. a big thank you to whoever handed in my mums watch which she misplaced in the pool changing room and also my daughters goggles which someone had placed on one of the rocks!we love everything about center parcs and love longleat for its fabulous surroundings and wildlife. suits and caters for all ages. all in all a fantastic trip with fantastic weather and yes we will be returning for winter wonderland.\n",
      "2012-12-01 00:00:00 our 15th stay at longleat and our 2nd for the winter wonderland. we love center parcs as you can see but this trip was slightly marred by tired and disappointing accomodation. we stayed at villa 484. our first time in the fir region. normally we stay in the 300's as we were just three but this time we had our twins who were born this year plus my parents so we needed bigger accomodation and having experienced the new style accomodation previously, didn't really want to downgrade from that. when we arrived one of the bedrooms hadn't been made up. no linen so we had to call guest services. we had to move the coffee table and one of the chairs to accomodate the twins playmay and we found sweet wrappers and a little girls disney bag. clearly this area had not been thoroughly cleaned. one of the bathrooms had plaster falling off the ceiling and smelt continually damp as did our room. not great with twins who have chronic lung disease. the whole villa seemed tired and unloved with the windows having black around the panes and sills. there are other villas being done up in this area so i suspect these are due to be renovated soon but this should be reflected in the price.the site itself was as always spotlessly clean, very child friendly (although not happy there was no changing mat at cafe rouge - apparently it's been stolen and they have no plans to replace so babies have to lie on a hard surface unless you have a portable one) restaurants great, fireworks spectacular and father christmas wonderful as ever. village square absolutley magical. the pantomime was even better than last year and the new seating arrangements meant everyone could see! ice skating disappointing as this year they didn't have the double blades for children. last year my little girl could skate pretty freely with the safety of the double blades. this year single blades - apparently they hadn't turned up. had we known this we would have cancelled as it was very hard work trying to keep a three and a half year old on the ice. a real shame that the wave machine broke on thursday but these things happen.all in all another great trip - would we return? yes but i we will stay clear of villa 484.\n",
      "2011-03-26 00:00:00 just got back from another center parcs trip, our second within 12 months and our 11th trip to date.yet again a fantastic time. we stayed in the new style woodland lodges (415) overlooking one of the lakes and each morning ducks would come up to our patio for feeding which our little girl loved.we love everything about center parcs; the peace and quiet, the safe environment and so many things to do despite the weather. we were very lucky and had fantastic sunshine for our midweek stay and so made use of the beach and cycling and the outdoor swimming pool.this year our little girl (2) was able to participate in more activities now she is a little older and the painting and playdoh were big hits, as were the small slides in the toddler swimming pool.overall another fantastic holiday - my only gripe is that the breaks are too short and too expensive for us to go for a week. already looking to book our next stay.\n",
      "\n",
      " 65b7c6032e06532112df8b099868088a\n",
      "2013-11-23 00:00:00 this was the 5th time we've stayed at center parcs longleat and we had a great holiday as always. the winter wonderland events and activities were great too. reindeer, santa, lots of lights and fake snow, all great fun. the free firework display was one of the best i have seen. we'll be back again.\n",
      "2012-03-19 00:00:00 great family holiday, we had a new style woodland lodge, no.425. it was clean and tidy and central to most attractions. we booked the flying start package which is a great time and money saver. food wise, the grand cafe was great value on carvery night and the staff were really friendly and helpful. also ate at the pancake house, service there was painfully slow but the food was good. service at ortega, the spanish themed restaurant, was also slow and generally pretty poor, but can be overlooked slightly because the food was amazing. all in all another great family holiday at centre parcs, we'll be back.\n",
      "2011-09-18 00:00:00 just returned from our first center parcs longleat holiday and we can’t wait to go back.we stayed in a 2 bed new style executive lodge and it was all very tidy, clean and warm. our 19 month old twins loved the whole thing, they love animals and being outdoors so at breakfast on the first day when two deer came and had a look in our dining area window the twins were beside themselves with excitement. when they discovered that ducks, squirrels and a cat regularly visited the patio of the lodge we knew they were going to love it, and if they’re happy we’re happy.the pool complex was excellent, the changing rooms got busy at times but we found that around 6 or 7pm was pretty quiet. our little ones loved the pool but could have easily spent all day watching the fish in the stream in the plaza. there are a huge number of organised activities for little ones, ours really enjoyed tatty bumpkins and messy play. there’s also a great toy shop int he plaza with really helpful staff. we didn’t use the land train so can’t comment on that. bike hire was very efficient and reasonably priced. as for eating out, we ate at the grand cafe, the sports cafe and used dining in. we found the quality of the food to be excellent and staff to be very helpful and friendly. yes, the meals are a more expensive than you may pay at your favourite local pub or takeaway but at center parcs you are subsidising an expensive swimming complex with all the associated running costs.in conclusion, we’ll be back.\n",
      "\n",
      " 3ac53e56c5c42e4ffe7bda6004146171\n",
      "2013-08-19 00:00:00 we went for the weekend with two children aged 5 and 8.first of all the positives:- pool is great fun, rapids excellent even when busy, something for all ages- badminton (and other sports at jardin des sports) - cheap, fun- lots of kids to do, both active and relaxing - the pottery was great and so were little outlaws- food - a bit pricey, but lots to choose from and on the whole good quality- spa is lovely!- great to ride bikes and forget about the car, even with the big hills- medical centre - my daughter was stung by a wasp and the nurse was greatoh dear, the negatives:- a few members of staff who 'let the side down'- some activities very pricey - £20 for four to play 'adventure' golf- no soap in public toilets- some showers either cold or not working at the pool, and dirty floors- other guests who drive too fast!our main issue was the accommodation. we paid for the 'new style' executive villa - expensive anyway but even more so in august - and it was really shabby. marks on the ceiling, kitchen drawer fronts which fell off, kick boards missing, cracked sockets. we did ring maintenance and they did sort a couple of our problems very quickly and politely. i emailed cp on our return and had a very quick and helpful reply (including a reasonable discount off another stay) - so their customer service is very good and responsive, and they took our complaint seriously.overall, we had a marvellous time even with our villa issues.\n",
      "2011-06-30 00:00:00 we returned to center parcs in june after a great break in march 2011. it was superb. the lake was lovely in the sun and the staff were really helpful. short tennis was really enjoyable even if we were all hopeless. and the pool is great!restaurants aren't cheap but in our experience were surprisingly good quality, especailly hucks and orterga. the grand cafe was great for lunch.it's a shame that nowhere opens early (i.e. before 9am) for breakfast, and more outdoor seating at restaurants would be good. on sunday the grand cafe was busy, but only had children's meals and sandwiches unless you'd pre-booked the carvery - not ideal, really.small gripes, though. it's a great place and we'll be back.\n",
      "2011-03-21 00:00:00 first time at center parcs and will definitely be going again. facilities and accommodation very good indeed, wide range of food options, not as busy as i thought it would be and lots to do without booking expensive activities.my daughter had her birthday whilst we were there and relative bought a party pack for the villa (without us knowing). a note to say who it was from would have been helpful! staff in hucks really good indeed with birthday stuff - candle in ice cream, group staff singing happy birthday, balloons. very well done and much appreciated.less impressed by lack of opening before 10am - young children wake up early!!! could do with 'proper' pool for fitness and not really traffic free on friday or saturday.\n",
      "\n",
      " 80eaa3dd86d42b1f912c62fbe2feb114\n",
      "2013-03-18 00:00:00 after a poor experience last time we decided to give centrer parcs , longleat one more shot. this time we went for a more updated lodge and it made a huge difference. the cleaning staff were far more unobtrusive and did not move all of our personal belongings, clothes etc as had happened the last time!. despite rubbish weather we had a great time using the jardin de sports area and bikes. swimming pool had really bad showers as it seemed that most of them were cordoned off for repair presumably. pottery painting was fun and a hit with all of us. no trouble getting in to restaurants etc despite really busy week. biggest down point was queuing for ages to get in and not being able to stay for another week.\n",
      "2012-12-17 00:00:00 great time in august hence booked executive lodge for 6 of my family in november.a brand new, still label attached cardigan disappeared from the bag it was bought in from a bedroom. the water system was exceptionally noisy. we arrived to many dirty plates and glasses in the cupboard. the dishwasher was badly cracked and dials illegible. despite making these complaints they were not addressed. a massage for one of the party was very poor and rushed.the attitude of the complaints desk was one of disinterest.however, the tapas that we ate at the spanish/mexican restaurant was excellent as was the pancake house, bikes brilliant, archery great fun as was quad biking. the park was well kept and pottery painting a fantastic activity considering we were 6 adults!!they need to offer a facility to lock and secure the chalets to protect privacy and belongings. despite asking ,and signing, for no maid service, this was ignored. clothing that we had left out to wear etc had been folded and many of our personal belongings moved around. this is not acceptable and would restrict us from returning. shame !!\n",
      "2012-08-15 00:00:00 first time there and expecting the usual karaoke, macdonalds and screaming children. not the case at all ! lots of families all spending time with their children and having a great experience. only a few carefully selected eating places but no trouble at all getting a table. huge variety of activities with a fantastic pool complex. the security was very good but very subtle, non of the wrist band wearing that is often required elsewhere. the staff were , without exception, really helpful and friendly trying hard to assist and make the stay the best it could be. my daughter and i stayed this time but are planning to take all the rest of the family next year. fantastic memories.\n",
      "\n",
      " 6e2a99aa32ca212e1a6218be68e67d8b\n",
      "2013-04-06 00:00:00 our trip to longleat this march was different this year as my daughter had won our weekend shortbreak as a center parcs family blogger. as a party we had two lodges and we had the adapted lodge because we had our eldest granddaughter with us who is servely disabled, also ti was the first time we have not been in executive accommadation.the lodge is very nice, warm and lots of space for a wheelchair also had a beautiful view and the position was very close to the plaza.we did really miss having wifi as you do get that in the executive lodges but as it was just a weekend we managed.the adapted bedroom was a really good size and had an electric bed in it, but the first thing i noticed was it was too cold, the raditor was far too small for a room that size and we needed to use a fan heater as back up. there are no hoists in the lodges, so they are more suitable for people with limited mobility rather than those with no mobility at all. we have been told they can give you a phone number to hire a hoist in, we have our own mobile hoist but it is just such a lot to have to bring with you.the wet room is across the dining area from the bedroom, again it is a good size and it was lovely and warm, perfect for those with some mobility, but we needed a shower chair which they do not have so we would have had to bring one with us. the lodge was fine for the weekend and the fact we had our own hoist, and wonderful for those who are not totally wheelchair bound.in general center parcs is very good at having disabled access, we thought the changing room very good with a hoist and bed, staff very helpful, but we had hired a cabana and luckily our granddaughter is not very heavy as she had to be carried down into the cabana and sat on a lounger, which for some would be impossible, so make sure you check this out when booking things like that.longleat is very pretty and we did have a great time but i would recommend sherwood as the better flatter park for those who have to take wheelchairs with them. i would like to say i think center parcs really does a great job of trying to give everyone a good holiday.\n",
      "2012-11-24 00:00:00 another wonderful holiday at center parcs this year during the winter wonderland, which for us was a new experience. we booked a mid week break monday to friday as we find them quieter and better value, john and i had a penthouse apartment with a physiotherm room. joanne and graham had a 4 bed 2 storey executive adapted villa, both lots of accomadation was the old style executive and sadly both needing to be upgraded as both looked in need of some work and decorating. we could not get the new accommodation with the same specs so that left little options. that aside any little things that needed correcting they did respond too, and space wise there seemed to be masses, in fact joannes villa was actually 5 bedrooms which was fantastic as most of the children did have their own rooms and bathroom’s, plus a huge sauna.the village it’s self looked stunning, putting everyone in the mood for christmas, the walk to the village square was so pretty and the children loved seeing santa’s real reindeer along with the animated singing reindeer. the ice rink down by the lake set another magical winter scene and really made you feel you wanted to put your skates on and give it a go.this year we needed to use the guest services more than other years as our disabled granddaughter’s needs are now more complex and i must say they were very good and i would like to mention a young lady called tammy who was amazing, she really did go out of her way for us, so a big thank you to her.also new to us this year was the cabana’s, wow is the best word to use they are wonderful. we booked one for each day of the week and worth every penny. the first day on the monday we had the big one for 8 people this is the best as the position is lovely and very spacious, they may seem expensive but we found them excellent value. we found that our little girl who cannot swim a lot loved sitting in there watching a huge tv with all the kids channels, we had complimentary drinks in a chiller and lovely soft towels plus they will come and take your food orders to the cafe and then the cafe will bring your order to you, along with a choice of magazines. we did find that the first 3 days we had a wonderful host who looked after us, but the last 2 days the lifeguards on duty did not seem to care about the cabana guests which is a shame and on the friday when we had a double slot booked i had to ask for our drinks to be be refreshed after our two hour slot and they did not change our towels. i could have complained but i know friday is a busy day so i let it go. i also believe that the first morning slot should not start till 10.15am as the pool does not open till 10.00am and they will not let you in early to be at your cabana for 10.00am, although they did let us in on monday because we had our disabled grandaughter with us and it takes 20 mins to get her ready.the swimming paradise was as good as ever, it was clean warm and fun, it never lets us down. the canopy cafe was a let down we think the old menu was better in many ways, we could not buy fruit shoots for the children and the children’s burgers where terrible.the children went to see santa in his workshop and that was excellent value, it was done very nicely and the children received really nice quality gifts not throw away rubbish, and it was all very magical. the four year old in the party also went to the timeout club for a party and had the best time ever, she came back very excited and happy with lovely gifts.i used the indoor tennis bubble which cost £16 for the hour but they gave us an hour and half and was also floodlit so it was good value, we enjoyed a good game of tennis in comfort.my husband and i did eat out quite a bit, strada was closed so that was a shame as we like that chain, but we ate at hucks and i had the ribs which were very good, our granddaughter had the christmas turkey meal which was the best buy. we also ate at ortega the tapas bar, we ate there twice and it was great each time and price wise about the same as we pay in salisbury so we did not think it over the top.my son in law took the children tree trekking and they all loved it, the most important thing about the holiday was that as a family we had time together doing fun things in a magical environment that set the children’s imaginations working and our disabled granddaughter was able to join in most of it, they truly are a family establishment. we are very much looking forward to going back in march.\n",
      "2011-11-11 00:00:00 we stayed in this apartment 10 years ago redwoods 49 penthouse and we knew it had not been upgraded so we were a little worried. thankfully it was fine, not as nice as the new style executive but still very comfortable, missed the real sauna i do not think the physio therm rooms are as good. the kitchens really should be fitted with dishwashers now though, but the good convection oven was excellent.the apartment was very warm so you would be fine in very cold weather. they have upgraded the tv's and also put one in the bathroom along with a roll top bath which is nice.the housekeeping staff were great. center parcs also made sure that my husband received a birthday card and a bottle of wine on his birthday plus at the restaurant on the evening we had wine on the house, nice touch. my main grumble was the boardwalk, people on their bikes just made you feel like you should not be on it, some of then nearly running into you, i strongly think that should be looked at, maybe split it into lanes, but saying all that we did have a great time. as we were leaving they had just opened the winter wonderland, even had real reindeer it was very festive.\n",
      "\n",
      " 1ac815ebd90ae3226a641c2e5c26bf48\n",
      "2013-03-01 00:00:00 once again great time, although new areas added still needs 'tweeking' in areas.there is a lot of work going on &amp; this will be a big bonus as long as the prices remain within everyone's reach.there is quite a lot of tree clearing which is really necessary as the some of the trees are requiring repacing due to age &amp; this will help the national tree planting to take place to allow the natural undergrowth underneath to establish.\n",
      "2011-10-17 00:00:00 following 1st every visit in march, just the 2 of us, rebooked for oct but took extended family this time. as the 'children' are all teenagers, it was so easy to let them sort out their own activites with help &amp; sort out getting to the various destinations to complete them, therefore making our stay less stressfull.\n",
      "2011-03-18 00:00:00 very well organised arrival. beautiful settting. accomodation adequate &amp; daily maid sevice made up for no dishwasher due to economy apartment. facilities for everything excellant. everything made even better with good weather on most days. if you enjoy the outdoor life you'll love centre parcs. the fact that the forest areas &amp; surrounding accomodation was left 'wild' made it more natural. the wild life was lovely although thought we'd see more birds of prey &amp; small birds due to location. all this &amp; all cars 'banashed' into car parcs &amp; not seen for 4 days/nights even better. can't wait to save up the next holiday fund, to book again.\n",
      "\n",
      " e5a458f373c9bba9b4a8fef4798e46cc\n",
      "2012-03-16 00:00:00 always have fab times at center parcs however never stayed in the redwoods before, very disappointed dated decor basic facilities, ok if you just want to sleep there, no room to spread out and chill.needs updating,no cooker or grill,balcony was nice bathroom also dated.\n",
      "2011-07-23 00:00:00 take a ruck sack easiest way of carrying items ( especially on a bike ) you may need, if you can take food supplies take some although everything is in the supermarket food shopping can take up some of your valuable chill out time.wear comfortable clothes and walking shoes- lots of walking.\n",
      "\n",
      " 008aec58908efc3de7e3c7dcd80dde4c\n",
      "2011-12-14 00:00:00 me and my family loved our annual xmas holiday to centerparcs as always, would recomend everyone with kids to to go them and you will love it!!!\n",
      "2011-01-03 00:00:00 if you have kids of any age they would love it here, if your a couple of any age you will love it here, everyone will love centerparcs. my family and i have been going to centerparcs every xmas for the last 3 years now and we will carry on doing so, the onlt bad thing about it is having to come home.\n",
      "\n",
      " 8c51ed0bbee991a9ebcd42b9df330683\n",
      "2013-11-26 00:00:00 what can i say, after 25 years of going i can't fault it. great family holiday, or with friends. staff are really friendly and helpful. you can go all year round. swimming i my favourite thin to do and shopping.if you love sports or relaxing this is the place to go.\n",
      "2012-11-28 00:00:00 perfect holiday with the family and friends over 24 years. each visit is amazing and makes anymore memories. stayed in three different types of villas, and all are great, woodland is my fav. great food and so much to do.\n",
      "\n",
      " 593f8dd803f1379aea9b78d31d804741\n",
      "2013-02-11 00:00:00 just back from an impromptu weekend at cp, longleat. we booked a new executive 2 bedroom and were very impressed by the finish and comfort overall. included wi-fi was necessary for us as one of our party had some college work to do and they said the speed was perfectly adequate for their use. the beds and linen were comfortable.as we have teenagers at school/college, we now always arrive for weekends quite late on a friday after they fininsh and leave very early monday morning to get home in time to go, so we miss the major mass arrival/departure chaos (which we have been part of when the children were younger). it does mean missing out on the (very busy) facilities for a few hours but it also means our restful break remains restful.we treated ourselves this time to some time in the aqua sana and it was worth every penny. initially, on booking, i had thought it expensive but the facilities and choice of spa rooms was really good. there were a few chattery people in there, but not very many and not enough to spoil the experience in anyway and i found it extremely relaxing. the waterbed area was my favourite! at times the main plaza pool seemed colder than normal but then, at other times, it seemed warmer again. very strange!we always eat in as we cannot afford to eat out each night on quite expensive food that i can easily cook myself (well, apart from the indian, perhaps) but we always find a few special quality bits in the shop to supplement the groceries we bring. i am pleased that security do not let anyone not booked or paid for as a day guest into the park. part of the enjoyment of the park is that cars are not allowed on non-changeover days (other than disabled and service vehicles) and that makes it a pleasure to cycle and walk around as a family. i believe there are day passes people can buy if they want to join family on the park.\n",
      "2008-04-09 00:00:00 when the children were pre-schoolers and longleat cp was new we stayed there a lot, knowing once tied to school holidays we wouldn't be able to afford to go back. eight years after our last trip we gave in and paid a hefty rate for a midweek easter school holiday in a comfort villa in the firs (the cheapest option).on reading reports here we were expecting a poor holiday compared to our earlier experiences. we couldn't have been more surprised, and i felt compelled to post our review.although the park was full we did not find the swimming paradise impossible. it might be that in school holidays the children staying are older and so do many more activities. it used to be just as busy when we went eight years ago.the swimming pool was clean, well staffed and as warm as we remember. the rapids were closed one night but there had been an injury, so it was understandable. the aqua sana has been revamped since our last trip and has gone from excellent to amazing! i didn't want to leave.the cycles were nearly new.the food and shop outlets were similar to before - quality offerings and a medium to high price. relatively pricey for the level of food on offer. we always self cater and have just one meal out treat which was at cafe rouge. great service and the food was fine. we had a disappointing experience at the reception area starbucks but, on reflection, we should have complained and given them a chance to replace, or refund, our cold hot chocolate. our basic villa was comfy, clean and everything was in order. i didn't notice any fall in standard - in fact the beds and bedding looked pretty new.the landtrain ran on time and only once could we not get all get on and two of our party of six decided to walk.they are very strict now on cars around the park (something we noticed was waning abit when we last went) and it was lovely for walking and cycling.\n",
      "\n",
      " e7ec9cc7b5805eaf4e5ca98e70a46a5c\n",
      "2011-11-22 00:00:00 this was a girls break for a group of work colleagues, and once again we have had an awesome time!we started the break with lunch at zilli's and an afternoon in the spa, to chill out after hectic times at work. it was blissful and we were chilled to jelly!! it was dark when we came out, and the walk back to the carpark to fetch the cars was magical, with all the christmas lights on!settled in to our villa we chatted, drank wine and looked forward to the rest of the weekend,which passed in a whirl of eating, drinking, ten pin bowling, swimming, shopping and challenges for the adrenaline junkies and most of all laughing till our sides hurt!!it has been just the tonic we all needed to get us through the difficult months ahead and we will be back soon!\n",
      "2011-01-31 00:00:00 once again, i have spent quality time with family on our break. i cannot fault the service and friendliness of all the staff. this was my first stay with our first grandchild and i noticed how child friendly everyone was.everywhere was clean and our villa was so comfy and homely - i would recommend the new style woodland villas as excellent value for money and comfort. having 2 fridges was a bonus in our 4 bedroomed villa - plenty of room for food, beer and wine!!!looking forward to my next break already!!!\n",
      "\n",
      " a29fb1ec334ccf56aeb020d7973a50bf\n",
      "2012-12-27 00:00:00 we've been to center parcs many times before, but not in winter. we seized the opportunity of booking a last minute 2 night break before christmas.as my husband was working on our arrival day (21st dec) i drove down with my 2 daughters in the morning. a pleasant trip with the sun shining and a quick drive through the arrivals lodges. we were given chocolate coins at check in !we headed for the subtropical swimming paradise where we looked at all the decorations and had lunch. we then decided to head off in search of the live reindeer which we heard were located at the village square. how cute were they ? the village square had been transformed with sparkling snow covered trees and lights and looked amazing. there was also a hut where you could buy christmas gifts, and also santa's hut.there is no land train on changeover days so we walked down the boardwalk to the lake and jardin de sports. it dawned on us at that moment that for two days we could manage without our trusty bikes that we always bring, so quickly phoned my husband to save him the arduous task of strapping all four bikes to the car in the dark !then it was a walk back to collect the car - busy. and find our villa to unpack - easy.we had a three bed woodland lodge. we decorated it with tinsel and lights to get in the spirit !then off to the parc market to get breakfast for the next day and a swim, before the arrival of the aforementioned husband. he too had had a quick journey - made a lot easier by not bringing the bikes ! the check-in was empty at 6.30 pm.the next day it poured with rain which really wasn't a problem. usually we are off all over the placeso our bikes are handy - but this time it was more relaxed . we ate at strada the first evening and went bowling which was fun. the second evening i went to the moonlight spa session with my daughter whilst my husband and younger daughter went to watch the free firework display over the lake. i would recommend the aqua sana spa - reasonably priced for three hours. it was a fantastic way to chill out before christmas. i especially liked the indian blossom steam room, the japanese steam, the balinese steam room and the water meditation room.on our final day, we packed all our stuff into one car - a lot simpler than bringing the 2 around. then another wander around to the reindeer (ok we were quite taken with these) where they had a baby there for the day which was sooooo cute! amazingly, it was dry. we had a hot mince pie (a nice touch that stall) before heading back to the swimming pool. my daughters (who actually possess webbed feet) then decided they didn't want a last swim, so we had a leisurely lunch at cafe rouge before heading home.it felt we had had a much longer break. there was a good vibe on the parc - people were singing carols and wearing festive jumpers and antlers ! a bit twee maybe ? probably, but it was christmas !and here is the proof that it was a fantastic and relaxing break - it's now 27th december and i'm still chilled out !!!!!!!!!\n",
      "2011-08-16 00:00:00 our 13th consecutive year at center parcs ! children aged 14 and 11 absolutely love it here. no arguments - suddenly they come into their own and leave the teenage attitudes behind ! they are at the age where they can now find their own way around so cycle up to the pool every day on their own.we stayed in the redwoods. it's executive accomodation so maid service is included. they all have their own balcony - lovely to have breakfast on. the location was perfect - in between the plaza and the lake. the apartment was clean with toiletries and plenty of utensils in the kitchen (didn't use them as we ate out and picnicked )we enjoyed a family game of bowling. we also sampled the spin class, legs,bums and tums class, and pottery painting.we ate at the grand cafe, ortega and cafe rouge. ortega was our favourite - the tapas was varied and great for children to try something new.we took our own bikes - easier on the last day as you still have access around the parc after checking out. longleat is very hilly - we have no problem at all with this, but the not so fit may find cycling up and down the boardwalk or cascades a little challanging !the aqua sana was amazing. my daughter and i booked a twilight 3 hour session. you get to try about 14 different treatment areas. i would recommend the balanese steam room, the japanese salt steam and the aqua meditaion room - pure bliss ! water is available as are magazines and plenty of chill out zones - even huge beds ! no spa treatment will ever measure up now !all in all a very relaxing break - although i would advise those with small children to take the opportunity to book outside of school holidays when it is busy and almost 3 times the price.\n",
      "\n",
      " 1e4c317ec7dabe07c1e88a5d13db40f2\n",
      "2013-09-07 00:00:00 we went there as usual from 2nd of september 2013; we booked the two chalets in the oaks one for the older adults and one for the grown up kids and a couple of their friends. firstly the good news ...the weather was fantastic with temperatures soaring into the late twenties throughout ...oh and that’s about where the good news ends. the chalet had issues and on the very first day the bulbs had to be changed ,door stops replaced ,fuses kept blowing ,worst of all in the other chalet the covers on the settee stank of dirty dog and had to be changed immediately .chrissy who was the maid for our holiday was very smart clean and helpful moving through her chores with ease and good humour while retaining a very professional grace 10/10.moving on to other matters ,the pool was damaged and whilst still in use parts of the stone seating in the outdoor jacuzzi had been removed /destroyed leaving very sharp edges that were invisible when the bubbles were running (indifference was shown by staff when pointed out to them),also general cleanliness was not what i have been used to and the sports bar was dirty (tables were sticky with residues)moving on the service at the pradesh restaurant was very poor and the cuisine was awful .(if you like cheapest chicken leg that’s been dyed served up as a starter fine, also chicken served up as lamb and only changed after some discussion, worst of all we are still all suffering with chronic diarrhoea two days later! now the worst of all the cost ....it has rocketed up to a point of silliness. you used to be able to rely on the little shop at the plaza being roughly 10 percent over normal prices and likewise the sports bar ...but not anymore, oh no now its £20.00 pounds for a bottle of dishwater pretending to be wine (yuk) £5.00 pounds for a single ordinary bottle of strawberry cider, fruit juice from the shop a whopping £4.00 for a small carton.....etc. etc. . . .if i was in central london then perhaps but not here ,they have gone bonkers throughout the site jacking all prices skyward. this small break is now very expensive and we alone spent over £1000 pounds without doing anything (except for a peddalow ).so if you’re thinking about this as a place to go ,make sure you have packed a lot of cash .you are going to need it. perhaps they are trying to make katie price /nick berry (it’s well known that they like to go there) feel more at home by pricing out ordinary folk like us. after years of going there (we always go to the oaks because of the jacuzzi and steam room which i am now told they want to stop. that will hurt them a little as all of our friends only go for the same reason...and it’s the best layout for disabled elderly) it’s a shame to say the least that some bean counter has trashed the whole essence of the place, probably counting all the cash as we speak, or at least until next year when booking crash through the floor............................i wonder why.\n",
      "2011-12-03 00:00:00 booked this time one of the new 4 bed executive villas ,wished i had not ,there was no downstairs toilet (for when you come in covered in leaves or just wet ) no open fire (just fantastic in old style) for cosy evenings, no steam/shower cabinet (forget the sauna in the new villas this is way better in the old style)no jacuzzi(in the master bedroom for sexy times or just soaking away the aches of the dayagain in the ols style villa),ahhhhhhh memories of the old style villas...which are 200 pounds cheaper more cosy (the new ones are big )and no stairs (which for me of advancing years was a real pain in more ways than one)activities are expensive but can be satisfying (scuba diving is good value and comes with a proper certificate) food expensive but local restaurants (westbury/frome cheaper and going in and out of park easy) some good deals at the sports bar but miss the platters they are awful. water park is well maintained at the whirlpools spas are fantastic(sitting in a hot jacuzzi outside at night while it’s raining is an experience that must be done)so in short go for old style single storey villa with steam room (max 3 bed) enjoy the free activities ,bring food for big breakfasts and money for sports bar (same cost as normal pubs )pick onsite food with care go offsite for better value and have a fantastic time while saving a shed load of cash, oh by the way midweek in better value than weekend and on friday morning when you leave you are only two miles from longleat safari park so that day is already lined up as a parting memory to finish the week off.\n",
      "\n",
      " 56bf8a0c613c88caf1c93818a0873239\n",
      "2012-03-31 00:00:00 another fantastic holiday at c parcs - accommodation excellent, facilities excellent and plenty to do at longleat. good to go out of school hols to get a good deal on your holiday.\n",
      "2011-04-02 00:00:00 absolutely fantastic great value top quality accommodation. they think of every detail you will need to self cater. you could spend loads of money on arranging lots of activities but why bother when there is the leisure pool, 400acres of woodland and wildlife at your window.\n",
      "\n",
      " 84b943d176c37338e25d6f935e38d3f9\n",
      "2013-04-20 00:00:00 this was our 6th time at longleat center parcs, but the first time that we have stayed in the firs area. when i booked the trip i did not want to stay in the firs area as it is too far from the main complex, but this was all that was available. we had to use the land train to get around quite a lot as one of our party did not ride. we did a lot of activities in the jardin sports the staff very helpful, and as it was not very busy most of the activities were available. some of the things i tried to book on line said that only 1 or 2 slots free but when i went to the booking desk in the jardin sports a lot more was available, so if you can, book at the desk. the sports cafe is a great place to eat as good choice of food and the kids can play in the play area, and there are lots of things to do in this area. the aqua sana spa was great value for money and very relaxing. the pool was great and best part of the holiday for the kids, we booked a cabana for a treat and was well worth it. center parcs is still a great place to stay even if it is expensive. we had a good stay, but it is worth the extra to pay to choose which villa to stay in if you want to be nearer the main complex.\n",
      "2012-05-18 00:00:00 center parcs at longleat offers a great holiday for all ages. the accommodation was excellent, very clean and comfortable.it is worth paying for the flying start package as you get two adult bikes a bag of shopping and early entry to your villa. yes the food in the parc is more expensive but you dont have to eat in them every night. we ate in hucks the food was great and portions bigger than you would get in other places. the pools are safe and good for the kids. for the adults i recommend aqua sana world of spa, well worth the money for peace and getting awayb from it all. we will definately come back to center parcs again but maybe try one with not so many hills.\n",
      "\n",
      " 002a15a94a1de3bc2c8730d2e0fd4a39\n",
      "2013-02-01 00:00:00 just spent another midweek break at longleat, all i can say is that it was as fantastic and relaxing as always, we have visited for over 11 years. this is one of the only places my son can relax and although getting him there can be very stressful it is well worth it albeit far too short! will definitely be back - thank you centre parcs !!\n",
      "2012-01-30 00:00:00 we come back every year and we are never disappointed. the accomodation is always lovely with everything that you could ever need. the swimming pool is lovely and longleat has the rapides which always proves popular. the log fires are lovely - and really help you to keep warm in january!!\n",
      "\n",
      " b4b0d3ad37bae6c8ad7cff148bdfa3bc\n",
      "2012-04-17 00:00:00 great stay going elveden in may, looking back and now looking at may its an expensive break may for 2 of us has cost £450 however its a 3 bed place as its same price as a 1 so for 6 its not a bad price! so swings and roundabouts i guess! but great omfortable stay!\n",
      "2012-02-24 00:00:00 loved it here, great lodge great facilities. didn't find things too expensive as thought before we left really enjoyed ourselves and looking forward to heading to elveden in may\n",
      "\n",
      " 9727f23b7a5525ea05c358d8f09fa38e\n",
      "2012-11-10 00:00:00 lovely villa, clean and modern. everything we needed. villa did not smell of damp like others have said. great value for money. cheaper than a hotel for three adults and baby but you also get a swimming pool included.\n",
      "2012-09-14 00:00:00 i could write a review and tell you about the dirty carpet and the tatty curtains but i'm not. none of these things really mattered. we relaxed and my six month old had so much fun. we spent roughly the same staying in a hotel in cornwall and had a tiny room and a rubbish view. as another reviewer said center parcs is in a forest and you expect some wear and tear. i could stay for a month! also staff are lovely and so helpful.\n",
      "\n",
      " 0b8340e92003f64a80dc7758b8ced151\n",
      "2012-01-28 00:00:00 just returned from yet another visit to longleat. whilst the pool is good fun for all, it is in serious need of a major refurb. the outside rapids are in need of a good clean- the sides are extremely grubby. the land trains were frequently packed- although they will send a minibus as back up. as they build more and more accommodation units it is becoming very hard to find peace and quiet anywhere......and why do parents allow young children to scream (not as in crying) all the time without checking them !!\n",
      "2011-01-15 00:00:00 just returned from our 3rd stay at longleat, whilst the value per person is excellent ( for the acommodation), everything else is rather pricey. fortunately i was happy to swim or sit in one of the pool hot tubs ( entrance and use of the pool is free). but.......unfortunately everywhere allows children, there is nowhere that is peaceful ( unless you want to use the expensive spa facilities). even sitting in the hot tub you are likely to be kicked or annoyed by someones bratish child. the lifeguards do nothing to ensure people adhere to the rules. - seems anything for a quiet life is their mantra.it would be wonderful if cp had a restaurant or bar where only adults are allowed.having had my moan, i'm sure i will return with the rest of my family next year.\n",
      "\n",
      " 8ea00132aab326d25620f99f127b3f23\n",
      "2013-06-18 00:00:00 we went to centre parcs on 15th april 2013 for 4 nights, where thursday was my 25th birthday...loving my 1st time at centre parcs in 2011, i then planned another visit here as i loved the thought of having my birthday here. the first time i loved visiting centre parcs...not noticing the price of things i think. but this time i did!! it is very very expensive. i love the setting and the surroundings but for 4 nights, i spent ridicously amount of money...we even ate in 2 nights!! we ate at the sports bar one night, whilst footy was on....it was buy one get one free on burger night...saving money!! and then on my birthday we ate at the indian....which i loved and happy spending money there, its gorgeous!! didn't do any activities, prices weren't worth it. we did mini golf, which was fun for about an hour. nothing much more to say really....i don't no if i will revisit again, maybe when the prices are lower!! sorry to say, as much as i love centre parcs, its not worth the amount for the 4 nights, and ridicious price of food and drink!! email if u would like any advice or information!!\n",
      "2012-06-16 00:00:00 we visited centre parcs longleat, party of 6, 4 adults, and 2 under 5's from 11th june 2012 to 15th june 2012. we chose to stay in the comfort plus villas, in the fir area of the parc. we knew this was far from the village and plaza, so we went with some worries, however, when see saw that there was a train every 20 minutes from each bus stop it was more relaxing to know we could access these other areas without long walks. the bus stop was a 5 minute walk from our villa, which was a nice scenic root. the train had always seats avaliable and we didnt not get on a train at all. the train driver also very friendly. when we first arrived, check in was quick and staff very polite. we then had to park up until 3pm when the barrier went up to access our villa. so we went to have a look around the plaza and had a few drinks in the tapas bar. about 4pm we then went to our villa, a nice scenic view up hills and down.the villa was nice and spacious for the 2 of us as it was a 2 bedroom villa, had our own patio, and bbq stand. we had our own tv, and stereo. the shower was very powerful and felt very clean afta!! hahha only moan i would have is the cutlery and plates etc were dirty on arrival, i shouldnt have to wash these when i arrive on holiday, this should be done by cleaners or previous occupiants. we noticed the villa back door only had one lock where our friends next door had 2 locks, i felt the back door was insecure and very easy to be opened by anyone if they wanted. plenty of wildlife came to visit the villa, espeically ducks and squirrels, no deers though, which i was looking out for. restaurants, whilst we was there, we prebooked (which i reccomenned, as we put a deposit of £5 per head and then the deposit will be taken off the end of the bill) we visited hucks restuarant our first night, we were very disappointed with this, the staff were friendly, however, the meal wasnt very up to standard or value for the money we spent, the meal of fall off the bone ribs only had 5 bones and hardly any meat to the bones, however, the price was £15 for it, i would of got alot more in other restaurants for a smaller price. we ordered garlic bread with cheese, came very under cooked, flopped so to speak as the cheese was soo heavy. when told the staff to take back and change to onion rings, we recieved a funny look to say that we was in the wrong to send it back, but arent the customer always right, we are eating the meal not them. the men found the beer very flat, they ordered the pintcher for 4 pints, which is value for money however, the beer was flat and didnt taste right. we also visited the sports cafe for lunch, which i loved!!! we should of came here more often, its like a pub lunch menu which is good price and good food, great enviroment with football and sport on, with an area of kids to play also. indian restaurant, have to say excellent value for money, lovely enviroment, great friendly staff and wish we visited this restaurant more than once in the week we was there. we also ordered a takeaway one night whilst watching the euro2012 football, 2 of us had the premuim banquet chinese which was good alot of food, but when seeing the other preimuim banquet indian our friends got, it was better value for money and looked yummier!! so would reccommend the indian takeaway! but they only except credit or debit cards no cash allowed, however cash allowed if u walked to the village square but then doesnt that ruin the whole point of a takeaway!! so we just paid by card, very quick delievery within the hour, they said. we didnt try out the pancake house where we would of liked to, however, run out of time, like we did for the activities. we didnt do acitivities due to our budget however, there is plenty to do, without booking into activities, for example, the swimming pool, rapids and slides which is all free. the weather was raining most of the week, we didnt let it spoil our holiday and still very much enjoyed it. i wouldnt reccommend this holiday to people with people that have problems with walking, as it is very hilly here, but there are short cuts up a number of stairs, which is quicker than walking the long way round. (which we did our first night there haha) we shopped the the parc market, and wow the prices arent over priced and have majority of everything you need whilst there. which saves you bringing everything, however, we still did bring our own alcohol and snacks, to save money which i advise if u are on a budget. also, the train doesnt run on mondays and fridays until 6pm, but there is a minibus on mon and fri mornings from 8am till 9.40 every half an hour, where they take u to the carpark so you can get a lift, there or it would be a very long walk. overall, a fantastic holiday for adults and kids!! and would reccomend to anyone (i have already done so) already looking at a weekend in the next couple of months!!!come and see what all the fuss is about it is brilliant there!!!\n",
      "\n",
      " e1e5246402173372ea4ec3719211a618\n",
      "2013-08-10 00:00:00 we stayed in fir - 8 of us! 4 adults and 2 kids. we all had a wonderful time. the kids rated it 10/10 and the adults were all 9/10. it is certainly not a cheap holiday if you want to enjoy all the facilities and have the odd meal out. but if you enjoy sports and activities - it is a great way to enjoy a family holiday. we were lucky with the weather which also helped.\n",
      "2013-04-15 00:00:00 we had a great time at the park. the kids had never been on this type of holiday before and loved every minute - especially being able to try so many different activities. we adults also enjoyed the experience, including the riding, badminton and squash courts. i am looking forward to doing this again.\n",
      "\n",
      " 746f3454c5fccf605f0e7bdad4b7b447\n",
      "2013-04-05 00:00:00 just back from a mid week break with 6yr old, 4yr old and 9m old. kids loved it and fell into bed exhausted every night! we booked activities which they enjoyed but they are pricey. we ate at the pancake house and hucks, all the staff friendly and helpful. magic night at ph was great, very funny. we had dinner in 1 night and it was delivered hot and on time. lodge a bit tired, loose cupboard doors but clean and comfy. the lodge was chilly all the time, even with the heating on. we lit a fire but logs are £5 for just 2.5 hours so couldn't have a fire every night. blankets would be nice in cold weather as duvets aren't that great. we stayed in 180 and hired bikes so was a nice easy ride all over the park. my 4yr old daughter loved riding her bike around with no problems, great exercise for them whilst having fun. my husband and i walked round the park and round by the treehouses up to the plaza saw quite a it of rubbish including a dirty nappy thrown into the bushes! someone needs to be litter picking more regularly! swimming pool was great fun and nice to swim outside and feel warm! as it was easter holidays and schools off, it was obviously going to be pracically full but as its such a huge area it doesn't feel busy which is nice. we have booked again for next easter and are back for new year again too. we love it. thanks.\n",
      "2013-01-03 00:00:00 back from our 2nd trip to longleat, 1st time at new year and have already rebooked for next new year! we had a great time, stayed in exec woodland lodge, 2 bed, with 2 adults, 5yr old, 4yr old and baby. villa was clean, beds not made but quick to do as laundry there to do it, slightly annoying over sight but not major. magic night at pancake house was great fun, kids enjoyed it. food not great for the money but quick and easy and with our little ones was best plus they could help themselves to pudding. staff were friendly and efficient and returned the next day for the pancakes which are delicious. we hired bikes or walked with pushchair, was easy and did look easier than waiting in queues for train. it rained solidly for a day and i thought paths were ok considering. new year at jardin was brilliant! pricey but again, the children were thrilled with their gold coins and the games on offer. we left before midnight but from the sound of them, the fireworks were good! didn't see any rubbish, whole place had lovely xmas lights up, thought it looked great. yes, it is expensive but great fun! will be saving up over the year for the next trip.\n",
      "\n",
      " a957d694d7e4ba8f63b7af72d1b162fb\n",
      "2013-12-06 00:00:00 reading the last review i can't believe it as we have been in november for the last four years and have always commented on the fact that all staff were so friendly and attentive - admittedly we were five adults but we love it - going to book again for next year. take away was great on the monday night strada on tuesday one of the best italian meals i have had. the sports bar is great value on wednesday with all burgers two for one and we all love hucks. villa (should be called chalet as villa a bit posh ) was a bit dated but all around being renovated so next year hopefully we'll have a more modern one. new for this year was segway - being in my fifties a bit apprehensive but loved it - wanted to bring it home with me. we were down in fir quite a distance but that is part of the fun as we hire bikes and get a lot of exercise and in the evenings we use the land train cold and uncomfortable but does the job.\n",
      "2012-11-16 00:00:00 we were a party of five adults this was the third year we have been. we love it - location of the villas in amongst the trees is lovely and although we had neighbours we never heard them or saw them our villas was positioned so we were not overlooked. not a restful holiday as so much to do. we hired bikes and although longleat is quite (well very) hilly we enjoy the exercise. new this year was archery and we all loved it. plenty of places to eat although disappointed that the italian strada was shut for refurbishment - last year the meal there was excellent. loved ortega for tapas and hucks but for value for money you can't beat the sports cafe especially with the offers they have ie tuesday and wednesday two burgers for the price of one. very well presented too and the service was so quick. swimming in the dark in the amazing pool in november is amazing. will definately go back next year\n",
      "\n",
      " 2a5aef87037c03b43a577b25a979d2a2\n",
      "2013-02-09 00:00:00 family of ten visiting for the fifth year running in the same week in february, just before half term to catch the cheaper deal. six adults and four children aged 2 to 6 in one 8 bed lodge and a one bed roomed apartment for the grandparents. the holiday is getting a little 'samey' for the adults but the children love it so much we keep going back! staff continue to be excellent and are forever helpful. some minor maintainence issues with the accommodation and some duvets are well past their usefulness and are very lumpy! the longleat site is beautiful and well laid out. cycling around is a joy especially in the traffic free environment. we particularly enjoyed the new pottery studio this year. we went horse riding off site which was well organised. on the whole a good break. there is a continuing issue with the prices in the various restaurants leading us to self cater more often this year. the men in our party thought that a good old fashioned fish and chip shop would have been welcomed. we will probably book to go again next year.\n",
      "2012-02-11 00:00:00 we have just had our fourth febuary break at longleat for ten of us including four children under five. yet again the centreparcs experience is a winner for families. just a few dissapointing issues this year. the cafe rouge was over priced and gave us very poor service. other restaurants were very good. the cleanliness of our apartment was poor, however the rest of the family stayed in an eight bed lodge that was very clean. a few noticeable mainentance issues in the pool area, some hand dryers and showers not working. over all yet another successful break and we will probably book again next year. just hope that the excellent standards we expect for what is not a cheap holiday will not slip any further.\n",
      "\n",
      " b41c85543f5b5700ec2741919f7aca15\n",
      "2012-06-07 00:00:00 third trip to centr parcs with two teenage boys. facilities are good - feels safe and you can allow older children to have freedom to do their own thing. cleanliness of our accommodation was not great but the facilities of the 'executive' lodge was very good. tried the aqua sana spa for the first time - this was good but small niggles like showers not working properly and lack of staff were annoying. the main swimming pool was great and kept the boys entertained for most of the weekend. you really do feel that the park absorbs a huge number of people without feeling crowded (except in the pool!). could cycle or walk without seeing other people early morning and late evening. take you own bikes as hire (like all the other extras) is expensive. not cheap but a good weekend when the british weather can't be relied on.\n",
      "2011-09-19 00:00:00 just had great weekend at centerparcs longleat. new style executive accommodation - very impressed. comfortable with lots of thoughtful extras, two en suites and wi-fi included. teenage boys loved the pool. ten pin bowling was great fun for the family and 49 year old husband re-discovered his love of roller skating! the only negative thing to say about the whole experience was the cleanliness of the lodge. if this had been spot on then it would have been a perfect weekend despite the rubbish weather. kitchen was greasy and rugs not hoovered - a disappointment considering how great everything else was. a couple of maintenance problems were sort really quickly and efficiently. highly recommended - they just need to get the cleaning staff sorted or supervised!\n",
      "\n",
      " a0b09bdb199fc6a159e3ca43280eca53\n",
      "2013-05-30 00:00:00 we absolutely love centre parcs and visit at least once (usually twice a year). i have to say that longleat is our firm favourite, having stayed at all but one of the centre parcs villages. from the moment you arrive for the quick and efficient check in, you are made to feel very welcome and valued as a guest. staff in all areas of the resort are warm, friendly and willing to help in any way they can. villas range from quite basic to pretty luxurious depending on your budget, but to be honest, it's not really the sort of place where you want to spend time sitting in the villa (for us anyway). there's so much to see and do. there are a wide range of well planned and organised activities for all ages and interests. the swimming pool is free and brilliant fun with a variety of slides and pools. eating out can be expensive but there's always the option of buying from the well stocked parc market. there's plenty of meal inspiration as you browse it's shelves. centre parcs is absolutely perfect for families. we have always found it to be a safe, clean, and fun environment for our 2 year old (and now also for our 4 month old baby). each time you go back, the experience will be different as your children grow and new experiences there open up to them. such a shame then that the last part of our week long break was marred by a number of hen parties (some in fancy dress) being permitted to stay there. i would advise anyone thinking of booking a break with their children to consider a mid-week break and avoid the weekend. having watched hordes of single sex parties bottle neck the slides on the outdoor flume (watched by non-participating members of their party in fancy dress) we decided it would be best to avoid the swimming pool on the saturday afternoon. following a nice meal that night, we decided to take our little ones on a ride around the site on the landtrain. big mistake. it was only 8.30pm but the train was packed with a loud, rowdy crowd of hen night women shouting and screaming and encouraging the driver to join in (which he did). we were the only family on the train and i found myself praying others would get on, but to no avail. as soon as the hen party got off, another got on. for the whole journey. only at the last stop before we got off did any other families get on an even then the train was rammed with drunken single sex parties. the land train driver played up to his audience leading at one point to the brakes being slammed on and my 2 year old flying off the seat into the seat in front. not impressed. we were considering visiting whinfell for my husband's birthday but it falls on a sunday so we are having second thoughts. please centre parcs, try harder to stop these rowdy, drunk, obnoxious groups from booking, and spoiling what it otherwise a fantastic family resort. it would be such a shame if it is allowed to continue and will eventually, undoubtedly affect the number of weekend family visitors.\n",
      "2011-06-27 00:00:00 we stayed here for the first time in may, and didn't really know what to expect until we got there. infact we chose to stay at longleat and not a closer centre parcs because we really like the location and thought we would have a few days out while we were there. however there was more than enough to keep us occupied without having to leave!check-in was quick and efficient, after which we drove to our villa to unpack. we had selected comfort plus accommodation which was lovely : spacious, clean and well equiped, with a patio and bbq area. after unpacking we returned our car to the main car park and had a really pleasant walk back to our villa (despite the rain!)we hired bikes and a trailer for our stay, although lots of people brought their own. because no cars are allowed on the roads after arrival day we could cycle around without worry, in the lovely forest setting.there are plenty of restaurants and a brilliant supermarket which stocks everything you could possibly need so don't worry about having to bring food etc from home if space is short. also there is a good variety of shops if you forget anything or want to buy some gifts. all the restaurants are extremely family centred (as you would expect) and make you feel very welcome. the parc market offer a delivery service, and if you don't want to cook or eat out, there are a range of takeaways that you can collect or have delivered to your villa. we sampled most of the restaurants (well we were &quot;on holiday&quot;!) and also used the takeaway service and the food was always very nice! on average we paid about £50 each time we ate out, for two courses and drinks.we didn't participate in lots of activities as our daughter is only a baby, and we were enjoying being out on the bikes, but we did take her swimming, went ten pin bowling, and my partner and i visited the spa on separate occassions - do try the world of spa experience, it was lush :-d mmmmmm! i can see that centre parcs is the type of place we will be able to return to time and time again, and have a different experience in relation to what we do as our daughter grows. it's brilliant for children (and adults!) of any age, with plenty of things to do whatever your interests.they run a booking system which works well as it means you have an allocated slot for whatever it is you are doing, so you never have to wait or queue. this booking system also applies to restaurants, and you usually have to pay a deposit. if you know what you want to do, you can pre-book weeks in advance, but you can also decide what you want to do on the day and book then (if there are spaces), using one of the booking points that are allocated around the place, or by seeing guest services.in short, we had a fantastic time! the whole experience was faultless : fantastic setting, friendly staff, spotlessly clean accommodation and environment, and plenty to do. it is clearly an extremely well run and managed operation, and i commend the team for what they are doing. we will definitely be returning, it was brilliant!\n",
      "\n",
      " ecfd450f63f1f508068e2069f832cda7\n",
      "2013-01-26 00:00:00 this is the second time we have stayed at longleat and we had a great 5 day break but some aspects could have been better.we stayed in a woodland lodge in firs area which was not to the standard of the woodland lodge we had previously stayed in, in pine area. the lodge was grubby and scuffed, whether this was because it allowed dogs, therefore isnt as well looked after i dont know but it was disappointing.on a positive note the walks and sub tropical swimming paradise are wonderful. it was magical one dark evening being in the hot and steamy outdoor pool and snowing.. really lovely. the kids have so much fun with plenty for them to do there.the restaurants are overpriced for a family but you know this before you go so budget and take some meals with you to cook in. we ate at the indian and the pancake house and both were delicious.my husband and my father also took part in the archery which they both thoroughly enjoyed and would recommend.the landtrain was generally full which was difficult for us as the firs area is a good 35 minute hilly walk to the plaza.the only real let down for us was the last day when snow was predicted. weather warnings were put up and advise notices to pack your car the night before and return it to the carpark, however having a baby, a toddler and 2 dogs it was impossible for us to do this. it was advertised anyway that minibuses for transport to the carpark would be running so we didnt think this would be an issue. the next morning however in 6 inches of snow our cars were not allowed on site for us to pack up and leave. the minibuses were also not running. none of the roads had been cleared with snow ploughs as promised due to inconsiderate other residents leaving their vehicles outside their lodges overnight which meant the ploughs could not get through. this meant 3 journeys of a 45 minute walk each way to the carpark and back in 6 inches of snow carrying numerous heavy suitcases and bags. customer services were extremely unhelpful and didnt care, they just wanted us out by 10am. the incosiderate people who didnt remove their cars back to the carpark manged to leave on time, no stress all packed up. this was extremely infuriating for us as we stuck to the rules and suffered as a result.the above aside though we did enjoy our stay and will will return (probably to another parc) in the future.\n",
      "2012-05-19 00:00:00 we have just returned from a week at center parcs and have to say we had a brilliant time. we travelled with family, 5 adults and 2 children under 3. it was our first visit to a center parcs and we are very impressed with the resort as a whole and the facilities it offers.we stayed in a woodland lodge which was large, comfortable and well equipped. it was beautiful being surrounded by the forest and all the wildlife just outside the patio door. we had two ducks who would come every morning and evening for some bread! also birds, squirrels, rabbits and deer.the land train was an excellent service running every 20 mins all over the resort.the sub tropical swimming paradise was also excellent, clean and has something for everyone, from baby pools and slides to the outdoor wild water rapids which were great fun! the cabana we hired at the side of the pool area was brilliant and gave us chance for relaxation in private.there are plenty of restaurants on site from indian to italian,spanish and american. they all cater well for children and have plenty of variety to choose from. they all have offers on at different times which eases the price, as they can be expensive. we ate at the indian -&quot;rajinder prajesh&quot; which had 3 courses plus drinks each for £19.95 per person. the meal was delicious and good value. its nice to eat in some nights and the parc market in the plaza is great for buying everyday groceries.there is plenty to do indoors and outdoors so the weather makes no difference to your holiday. although you have to pay for some of the activities, you know this when you book and can view a full price list so you know how much to budget for. we played short tennis, badminton, table tennis, indoor golf, adventure golf, all of which was good fun and kept the kids entertained.we can recommend the aerial adventure and zip wire across the lake to get your adrenaline running!the aqua sana spa was beautiful. pure relaxation and one of the nicest spas i have been to. loads of different therapy rooms from japanese salt steam to meditation rooms. you have to option of having treatments should you wish to. well worth a visit!the staff on resort are so friendly and helpful which makes a real difference to your holiday.the only recommendations i would have if travelling with extended family is to take a wok with you if you are planning on cooking in the lodge (as you are only provided with a small frying pan and couple of saucepans) and travel wash as there is no washing machine in the lodge or launderette on site. we only found this an issue as we were there for a week with 2 small children who don't stay clean for long.all in all we can honestly say we had a brilliant holiday and cant wait to return again soon.\n",
      "\n",
      " 37f191ab4257731feabe5676998b7afb\n",
      "2011-08-12 00:00:00 i see from some recent reviews of center parcs at longleat, that other people have had very different experiences from ours. in particular they comment on the high cost of going and staying there. i’ve also noticed this in reviews of atlantis on the palm, in dubai. these places are not cheap holiday options, but they are also not all-inclusive resorts where, once the holiday has been booked, require no further investment. when it is pricey to book, it is going to be pricey when staying. we all save to be able to take these nice holidays, but quality costs, especially when the number of people staying in a group is sizeable. we have returned today from our third holiday at center parcs in longleat. i’m posting another review because this time we took an exclusive villa, rather than an executive accommodation, so our experience was different and worth a few words.we were pleasantly surprised to find our villa in a secluded spot, though only a 10 minute stroll to the action. it was detached and, for the 8 of us, there were 4 bedrooms and 4 bathrooms. spacious villa, though the lounge area was perhaps a tad smaller than we had expected, and the décor, while acceptable, was a little tired. perhaps the new style exclusive villas, now available, would be better next time.great to be able to park the cars at the villa for the entire stay, though we didn't use them at all.included with the villa was a large sun terrace amongst the trees, and a large outdoor hot tub, with an indoors sauna, shower and steam room complex. together these made the stay for us!wifi was included in the cost, and covered all of the resort, though for most of the time i could get no o2 signal for my mobile phone.we had four younger people with us, aged 13, 10, 5, 3 respectively. they loved the accommodation – especially the hot tub, which was in constant use.maid service was unobtrusive, but welcome.as always, we took a car full of provisions, including a home made ready meal for the evening of our arrival, plus wine, and a range of things to enable us to have an evening showing the children how to make ice cream sundaes.the resort as a whole is lovely, and perfectly positioned. we ate out at the pancake house, and huckleberry’s – where i had one of the best steaks ever – including the brilliant ones i have had in the usa.we also went to a “take that experience” show at the venue. there was an excellent buffet, very good dj, and a most acceptable take that tribute band. i’m no expert on take that – i only know a couple of their hits – but i liked the evening a lot, as most clearly, did the audience.staff at center parcs were all most attentive and helpful.in summary, a third successful holiday at the resort, and, most likely, we will return annually; it is just a lot of fun.some other reviewer recently questioned those taking executive and exclusive accommodation, and why they would want to go to center parcs for that. does anyone need a hot tub? no of course they don't - but i'm betting that if they could have stretched to it, they would have done so, at the drop of a hat. i think we will always book accommodation with a tub in future, if only for the kids' benefit!\n",
      "2007-06-03 00:00:00 the first time i stayed at longleat i was a bit sniffy about it - a holiday camp? that was soon set to rest and we all had a super weekend there, with excellent dining and facilities. we stayed in executive apartments then.that was 2 years ago, so have standards slipped now?no, not a bit. we stayed in two executive apartments and an executive villa, right next to the dome. really good accommodation and at the centre of things.the kettle failed after the first night. just mentioned it to staff and a new one was produced immediately. that was the only thing that went squiffy on the stay.facilities are still excellent and much upgraded since last visit.we were blessed with lovely sunshine, which helped of course.saturday night we had booked a table for 15 [10 adults, 4 children and a baby] at huckleberry's, and it was perfect. great service and food, and the children could waltz off to the play area whenever they wanted during the meal.there was some refurbishment going on outside the apartments, but it was well handled, unobtrusive.not crazy on the changing rooms in the pool area - too few and a bit of a maze - but that is really nit picking.\n",
      "\n",
      " 933df02ae389bb1c5e7a11010f21b905\n",
      "2012-03-03 00:00:00 apologies for reviewing only the restaurant here but unfortunately i couldn't find the location of 'restaurant review' anyway, having visited center parcs 3 times and eaten at cafe rouge on 3 occasions, in the evening, i had nothing but praise, however, breakfast is a different matter....we ordered full scale breakfasts for 4 with potatoes ( lyonnaise) which hinted at nicely cooked, french style, and was nothing more than greasy, re warmed, wedges with masses of onions!! the children ordered bacon/sausage with potatoes and they experienced faintly warmed, fatty bacon, greasy and with the same abundance of onions. at the end of this disheartening breakfast we had enough onions to feed 20 people in a pile on the table. tomatoes were cold and looked/tasted like they'd had their day...disappointing, expensive and next time i'll make our own at the lodge\n",
      "2011-07-08 00:00:00 eight of us stayed in a comfort plus lodge for 5 days and thoroughly enjoyed. our activities were mainly booked beforehand online, which resulted in a clear itinery that helped a lot. we all took our bikes except for one which we hired. that one had a lock from the cycle centre. what was incredibly inconvenient and i must stress the only weak point in the 5 days, was on 3 occasions our bikes were taken away by security. understandably, they stated it was for our benefit, however, there were many other bikes left unlocked, purely through the owners choice, but weren't removed. so with young children in tow, we had to retrieve our bikes thus making us late for activities planned. quite tedious!!!activities outdoors and indoors were well organised, staffed appropriately and fun. the swimming pool was an event in itself with slides, rapids, hot and cold pools. when we came in december the restaurants seemed less expensive, probably due to the vat not being added on, so i'd recommend a few barbecues and cooked meals to save some money!the lake was great and had lots of water vehicles; pedalos, hydro bikes, canoes and katakanu's which held 6 of us and was great fun but quite difficult to steer. horse riding was ok, but we felt a bit wary as inexperienced riders, as the 2 supervisors were way out in front and at the rear, so if you were in the middle, astride a hungry horse heading off track and into the trees it was quite stressful!had a thoroughly enjoyable time and the peaceful woodland environment amongst those beautiful trees was therapeutic\n",
      "\n",
      " 54cd0b421653c24d2b4a384ff12b526a\n",
      "2012-07-18 00:00:00 just back from a five night stay and i have to say that whilst i maintain my previous pluses with regard to being comfortable travelling on my own with two children, this stay was not as good as the one in october 2011 (see previous review). we arrived and were put in a two bedroomed apartment which was locatedd at the back of the plaza, it was so dark that even even utilising every light during the day did not help, there was a tiny balcony which again was so dark you could not sit out even during the day. in fairness i booked the wrong accommoda\n",
      "2011-10-29 00:00:00 booked this break at short notice, my husband had work committments so could not accompany me and my two children aged 6 &amp; 9 and i was slightly apprehensive about what to expect.stayed in a new style executive lodge, the self catering aspect which i was dreading worked really well, although we ate out every night the kitchen was well appointed with a dishwasher and good sized fridge and it was nice getting up at our leisure and planning our day over breakfast. the lodge was in a good location just past the village square, although i would try to get a bit nearer to the plaza next time. it was well equipped, comfortable and modern, nice tv in every room, dvd player, nice coffee machine (senseo), good bathrooms and weather permitting, outdoor patio/barbeque area. the highlight for the kids was the floor to ceiling chalkboard and i found this really useful for noting down our pre booked activities and eating arrangements.despite the arrival day (monday) being a bit manic (the parc is crowded with families arriving and familes leaving) the whole place feels extremely well run, we returned our car to the car park after unpacking and collected our pre booked cycles which were in tip top condition, equipped with lights and locks, and that was us for the rest of the week, cycling everywhere. the next day took on a much more relaxed vibe with hardley any cars on the roads so it felt very safe for my kids who cycle regularly but not on the road.if like us you are travelling during a school break, it is important to pre book everything, that includes restaurants and activities, although nothing seemed fully booked whilst we were there, i think they are very strict on controlling numbers but this in turn is reflected in the high levels of serve we experienced.people complain about the prices but i found everything to be very reasonable, the supermarket is fantastic with prices that would give sainsburys a run for its money and eating out was no more expensive than it would be at home. there is no fine dining but strada and cafe rouge etc provided just what we needed at the end of an active day.the activities available were second to none, there really is so much for all ages from ice skating to horse riding !the sub tropical pool (no pre booking necessary) was a favourite for the kids and the rapids and water slides lots of fun but it does looked a bit tired and could do with a refurb. however, it was great that we could swim late in the afternoon (it was open until 9pm) and go straight to dinner without going back out into the rain, since the pool is housed in the plaza where most of the restaurants are. as well as this there is a reasonable fast food cafe right in the middle of the pools, and towel hire (£2 per towel) and swimming accessories for sale.there really is so much to do here and it is worth doing your research before you arrive and getting your activities booked, however, the forest itself is outstandingly beautiful and it is worth setting aside some time for walking or cycling it.i can honestly say it was a great holiday, the weather was really wet and some days everyone looked like drowned rats on their cycles but it did not dampen the fun we had, looking forward to the next visit.\n",
      "\n",
      " 9f099bebc31d070c1d2a732b03d12723\n",
      "2013-12-06 00:00:00 another return visit for me and my family, with a centre parcs newbie in the group this time!fab 3 bed 2 story in ash.....old style in decor, but clean and had everything we needed apart from a decent frying pan! stair gates both ends, great when 18 month old niece let loose.lovely xmas atmosphere, managed to fit in adventure golf, pool, swimming, bowling and spa - twice! visited rajinda for the first time, fabulous!will be trying the new woburn village next year, booking within 28 days of this visit for best prices, as moving to the area and will be nice to visit a new village.will be visiting the centre parcs villages for many years to come.\n",
      "2013-05-21 00:00:00 i have been going to cp for years whilst growing up, and this was the first time i went as part of a large group (3 villas worth!)was great vfm as always, and due to my young niece we were able to pre-book a villa near to the dome for easy access!villa was slightly shabby, the 2 storey ones are about ready for a revamp.and the temperature of the pool was chilly every time we visited, and with a young baby that wasn't so good.but i wont let this put me off! with plenty of choice of restaurants (although pancake house always fully booked) and plenty of activities for everyone to enjoy, we are already booked to go back dec 2013.\n",
      "\n",
      " 45e0d3216a53d410030b26851a3454bf\n",
      "2012-10-01 00:00:00 thought we would go back for 2nd time this year as its so family friendly. it's still a great place to holiday but the apartment is looking a little tired from our first visit (same apartment), could do with a lick of paint and new carpet and the shower needs some maintenance. the restaurants seemed very expensive this time it cost us £40 in hucks for 2 of us and the carvery at the grand cafe is expensive for what it is, nice food but no better than a pub carvery. would definitely recommend for a family holiday though.\n",
      "2012-05-10 00:00:00 this is the first time we've visited as before having our 7 month old son we'd always been abroad! the park is excellent and the swimming pool is great for babies. we didn't purchase any extra activities as we didn't need them but some of them seemed quite costly but if you've got older children they are probably worth it. we stayed in an apartment in pinewood which is a stones throw away from the plaza and swimming pool which was a good idea, the apartment was plenty big enough for the 3 of us and we managed to fit our travel cot in the bedroom. eating out is expensive but you can cook yourself, if you just want a sandwich for lunch use the supermarket or make your own. a very good time was had even though it rained most of the time x\n",
      "\n",
      " 3dedb1f48e18733a1b7f08b867a3df96\n",
      "2013-09-04 00:00:00 we have just returned from a brilliant weekend break at center parcs. we stayed in a new style woodland lodge which was well equipped and spotlessly clean. the bedding, tea towel and bath towels were brilliant white and like new.the park itself was well maintained and felt totally safe at all times. the sports facilities cost more than an average sports centre but bearing in mind the standard of the equipment and choices available then it is well worth the extra couple of pounds.we swam in the pool and my tip is to swim in the evenings as the pool is a lot quieter then because the families with small children seem to use it mostly during the day. it also looks much prettier at night! the restaurants are quite expensive so we ate mainly in the villa. the parcmarket is quite reasonable and the selection of cakes is to die for. the ages of our group ranged from 73 to 18 and i can honestly say that there was something for everyone. we have already booked for next summer!\n",
      "2011-09-05 00:00:00 we have been going to center parcs every year since my boys were born. the eldest one is 19 now and center parcs is still the perfect place for a family holiday. there is something to do for all ages and the accommodation is everything you could wish for. we stayed in a woodland lodge that was close to the plaza. we couldn't fault the villa as we always pay extra for a good location. all in all it is a good place for a holiday although it is a bit pricey!\n",
      "\n",
      " b2110477f83b12fdb69dfb69a14fa0e7\n",
      "2011-12-29 00:00:00 we went with our parents for christmas at center parcs. on the first night we went to hucks, which is fantastic. there are computers and a large playland where you can play on before you have your buffet. the subtropical swimming paridise is amazing - the best pool we have ever been to.our favourite parts are the rapids and the water slides.we enjoyed cycling down the board walk and the cascades.in the parc market you can drive round kid size trolleys and at xmas they have the names of the riendeers on. we realey enjoyed our holiday at center parcs and would recomend it to anybody\n",
      "2010-12-28 00:00:00 my favourite time to go to center parcs is at christmas. it's great in the swimming pool. the only center parcs i've been to is longleat forest and it's great there. at the lagoon bar i didn't get bored while i was waiting because i could go on the water slides. i love hucks because of the play area and the kids' buffet. my favourite restaurant @ center parcs is rajinda pradesh.i love center parcs.by james healey, age 10.\n",
      "\n",
      " 6e34f33e8e6c7b48775e1839103e60d5\n",
      "2009-09-25 00:00:00 we as a family have been going to center parcs for the last 7 years, twice a year but this year we came away feeling a bit let down. we stayed in the woodland lodge for the 3rd time and the one we stayed looked a little tired, seeing it was meant to be a newish one.the toilets in ortega and jardin de sports were disgusting and very smelly. the pancake house was a very big let down. i ordered a brunch which stuck to the plate, with everything thrown on top. i remember when the sauseges etc were cooked and blended together. we did have a good meal at hucks and the computers a good idea.i am just wandering if the center parc life is getting same old, same old. altough a good place to go if 1st time goers.\n",
      "2009-01-23 00:00:00 we have just come back from our 9th visit to longleat center parcs and yet again had a good time. we stayed in a woodland lodge only 2 min walk from the plaza ans swimming pool.we had a good meal in the indian, hucks and the pancake house.tho only place we felt let down was the jardin de sports.the villa we had was clean and tidy, and the beds were comfy and we had a good following of ducks outside the patio doors. we had a blocked loo which was dealt with within the hour.the swimming pool was clean and the general operation has been the best we have ever known it, and they have introduced a few new shops in the plaza.\n",
      "\n",
      " 0c808c1f666e2b157e6f29bbd0b8eeaf\n",
      "2012-06-18 00:00:00 our second visit, terrible weather but still a good getaway.only grumbles were the lack of cleanliness - clearly the cabins only ever get a superficial clean at best, rubbish under beds, dust around skirting, filthy uner units in kitchen and under sofas; and the pool changing facilities, cramped and always overcrowded.get a grip cp, sort out the cleanliness issue, it's the least you can do for the prices you charge. it's also unacceptable.we have looked for an alternative for our next uk break, but sandy balls reviews seem really bad at first glance.\n",
      "2011-07-19 00:00:00 villa 242, central area, pinesfirst time to a center parcs, and overall it wass a good holiday. i can see how later on it will be even better for us when our 8 month old twins are older and can enjoy the activities.we were underwhelmed by our accommodation, and had no idea what was 'executive' about it! the bathrooms were ok, fairly modern, but the main living area drab, depressing and cramped. the cheap canteen like furniture didn't add to the apeal, and the rug (which was changed the next day) looked like it had things living in it.the indoor pool, the walks, the activities and the grounds in general were all pleasant and there was a chilled out vibe to the place, a quiet peaceful feeling.we were meant to have a daily maid service....when they did turn up (they didn't show twice, we had to remind them), they were indifferent....polite, but it was the lightest of cleans, they really needn't have bothered.cafe rouge - they need a chef that can cook a piece of meat as requested, and a manager that listens to requests, and can manage to run a restaurant and get the basics right - like having ice to chill a bottle of wine (they had none for 4 days).and the draconian exit policy whereby @10.45 they put the barrier down not allowing you to exit....if they'd answered the phone, we would have told them the unavoidable and extenuating circumstances preventing us from making the strict 10am check out. and don't bother with the the truly awful chinese takeaway, smallst portion ever seen, and really expensive. i had to ask for a full refund, the quantity and quality were so bad - when i initially called, the explanation was that it was probably because it was at the end of the evening, and yes they had had complaints before about the portions sizes.but none of this spoilt our holiday, they were inconveniences, although disappointed with quality the room, and the camp-site quality of the cooker.we will go back, but likely to give it a break for a while.\n",
      "\n",
      " 752ee5f18d148c605c4664797551e1ba\n",
      "2013-10-12 00:00:00 stayed at longleat 7-11 october, our 3rd time. they are currently undertaking some major maintenence to the plaza dome. center parcs have worked hard at minimising disruption for guests (although i personally would have appreciated some advanced warning). sadly, our sleep was distrupted for one of the nights due to some over-running work - but the guest services staff were very helpful in resolving the problem.staff generally were very friendly and cheerful - i think this, in turn, made holiday makers relaxed and friendly too. everyone seems very accepting of disability and difference - a big plus point. highly recommended for a friendly family holiday.\n",
      "2012-10-19 00:00:00 firstly, i have to complement the staff - who were helpful, friendly and cheerful. i couldn't fault them at all.the was a little bit scruffy and not super clean. i was disappointed with the accommodation which was rather scruffy and not super clean. especially because we were in the more expensive &quot;executive&quot; style apartment. activities were good but a little bit pricey as was any food or items purchased on the park. however, there was quite a bit of free stuff to do with kids - my son loved the train and the swimming pool and we could have spent every hour of the day on those. i would suggest you plan your trip very carefully, including your budget for food and activities. buy most of your food and booze off site!\n",
      "\n",
      " 48a3c999278f97cdba6cfa3ce2e479e1\n",
      "2013-06-05 00:00:00 we stayed at longleat last year and this time the accommadtion was much cleaner, villa was 711 in the firs as we had the dog with us. we did have an issue with the bedding which we reported at 10--00am and it had been dealt with when we returned to the villa at lunch time. grandchildren enjoyed all the activities even though we got very wet on more than one ocassion.we did the ariel challenge, gladiator challenge, archery, roller skating, ten pin bowling, crazy golf and enjoyed the subtrpical paradise, especially the slides and the rapids. we ate at hucks and the pancake house, and can recommend the pancake house on athursday night when entertainment is on with nutty noah the magician, with a good selection of food, which is value for money.all staff we encounted were always friendly and polite, which all helped us to enjoy our stay.\n",
      "2012-06-17 00:00:00 all four adults and two children and dog had a good time at longleat from 11th june 2012, we stayed in a comfort villa as we had the dog with us.the villa was very clean and tidy, we stayed in the firs area, a little way out but managed to use the train and children had their bikes. staff were always very polite and friendly. the children aged 10 and 6 went on the zip wire experiance which goes over the lake, they also did quad biking, archery, canoeing, laser quest, and enjoyed all the activities, also went tenpin bowling and used the pool and facilities daily. we ate out at hucks which was good value, and the children liked the buffet meals, so we ate there twice.we also ate at the strada which was italian but were not as impressed with the food, also went to cafe rouge which was ok.the only down side of the stay was that there was no area to have a drink etc if you had a dog, other than around the lake, which had no cover, if wet.\n",
      "\n",
      " ccd52297e2669d20c09b7169f648703a\n",
      "2013-03-20 00:00:00 we are a group of 8 ladies who go to center parcs once a year, and have been for the past 15! this time as we had some special birthdays we decided to splash out on a treehouse.they are situated on a road near to the plaza, they do cost twice as much as we normally pay for an exclusive villa.i will start with the positives, you are able to go in from 2pm not the usual 3pm, the hosts are very welcoming and informative. there is a complimentary welcome pack, a bottle of champagne, cheeses and complimentary drinks fridge in the games den. the rooms are a good size, the shower in the twin rooms was great, although in my friends room it was very difficult to turn on and off! the upstairs bedroom lovely with your own direct access to the hot tub. plenty of space for 8 of us to sit round the fire and large flat screen tv's. the snug area was also a bonus, great place for a nap or read. hot tub good for a maximum of 4 people and the physiotherm room was great when you could fathom out how to use it!now for the not so good, if you are a technophobe be careful, everything is very high tech! the main tv was a bit of a problem, the sound went and you had to reboot the whole system, the one in the games room was just as complicated. the xbox was great once we got it to work, on the last night, even the maintenance men had trouble, it was faulty so we got a new one. even the cooker was fairly complicated.they have made the treehouses look very attractive, inside and out but i am not sure they are worth the extra money, the exclusive lodges (with hot tub, steam room and sauna) seem almost as good.we are going back to a treehouse next year as the others in the party wanted to, so will have to see if my opinion changes.\n",
      "2012-03-12 00:00:00 we are a group of ladies who have been coming to center parcs for 14 years for a relaxing weekend away from it all!! we started out in comfort villas and are now in the old style executive lodge. this was in the maple area and is in a great position, a ten minute walk to the plaza and about 5 minutes to the aqua sana and sports area. the villa is great as it has its own hot tub, steam room and sauna. there are four bedrooms, two with double beds and two with twins. we tend to eat in one night, and have a takeaway, which is very handy to have delivered to your door. the double beds can be a problem for a single sex group, they could do with having the beds that can be unzipped to be made into twins. however this is probably meant for two families to use. the bathrooms are a bit outdated now, the shower over the bath is difficult to get anymore than a trickle of water.the only problems we encountered were the aqua sana treatments. these are very expensive and as we usually like to treat ourselves have had several disappointing treatments. it seems to vary from beauty therapist as to whether you have a good or bad experience. i was kept waiting for 15 minutes to find that they had lost me on their system, they found someone else to do the treatment but this only lasted 50 minutes instead of an hour. something to consider if you are going there, the aqua sana spa is normally very busy as they have clients on spa days as well, again it is expensive and you can be disappointed. the restaurants are ok, we had a good meal in ortega's. as we do not do that many activities it does not work out as expensive as for families etc. it is costly, a zumba class was over £8 each!!.we always enjoy our stays but certainly a lot of things could be improved.next year we are going to try the tree top houses, hope they live up to our expectations.\n",
      "\n",
      " 98763f5258015ba5d7df3d2b283b4efc\n",
      "2013-11-20 00:00:00 a truly magical stay in centre parc's. we go every year, it just gets better and better, the christmas decorations are fantastic, loved and admired form the youngest to the oldest, the firework display done to music at the beach was better than ever. we came home and booked again for next year, we can&quot;t rate this holiday village highly enough.well done centre parc's.\n",
      "2012-09-20 00:00:00 we had along weekend in longleat centre parc's with friends, we had such a wonderful time together, it was the first time our friends had been to cp, thery were over the moon with it and like us can't wait to go back, so much to do if you want a sporty weekend, leisure activities or love walking as we do, then this is the place for you, it is a wonderful happy place for children, we have taken our grand children several times, they just love it, so much for them to do.centre parc's fits the bill what ever your age what ever your your looking for, they have it all.we spent the last day in aqua sauna\n",
      "\n",
      " 9acc5f69efd756005f0b8f85dbedfda9\n",
      "2013-02-05 00:00:00 longleat is an amazing center parcs village but i was bitterly disappointed that i was unable to express my celebration of my hen weekend with my family by not being allowed to wear sashes. i think this should be given to management discretion on individual party basis and not branding all hen parties as trouble makers/visually unpleasant. apart from this the weekend was lovely and activities were great fun....quad biking i would highly recommend, brilliant staff and awesome!\n",
      "2013-02-05 00:00:00 centerparcs is amazing and i love it except that i was unable to express my celebration of my hen weekend, with my family, by not being able to wear sashes! i think this should be up to management discretion and not branding all hen parties as trouble/visually unpleasant. i think minimum of a sash would be ok...can understand no l plates (as one party had....tacky!) loved quad biking and the spa and the pool is great fun.\n",
      "\n",
      " 883542031dfc230e98172837fc51a0ec\n",
      "2012-12-10 00:00:00 it was our 4th visit to longleat but our first to the tree house and winter wonderland. the tree house as you can imagine is amazing and it was a real treat. it is nice to live in luxury, but our real enjoyment of being in center parcs is the 'outdoors' feeling and wildlife, and also the atmosphere in the park has a nice buzz with everyone looking excited to be there and having fun. the tropical paradise was loved by the kids as usual, and we made sure that they had their mini wetsuits on, so that they could be comfortable (it is not that warm). the decorations in the park are very pretty and the firework display by the lake is a 'must see'. we had a take-away most nights and we have to recommend the makhani chicken curry and naan bread!\n",
      "2012-08-10 00:00:00 just got back from a mon-fri break at longleat. we are a family of 7 and we had the 'comfort plus' accommodation, and it was well worth it. we stayed in the 'fir' area, which is close to the jardin des sports and lake. the land train was very handy to ferry you around the park, though my infirm parents struggled with it a little. next year we have booked a lodge closer to the plaza, so my parents will not have to travel so much. the pool is amazing, and as parents we are exhausted trying to keep up with our 3 kids. the rapids are the highlight, but you have to be very robust to go on them, prepare yourself for bumps and bruises. we ate twice at the cafe and bar at the pool. we had mixed feelings about the food. half our family liked the food, half thought it was tasteless. all meals are a little over priced and we could have easily bought snacks from the parc market and ate them at the tables and chairs at the cafe. i think we got too rushed off our feet to plan properly. we also ate at the sports cafe by he lake. the food tasted really good, the prices a little over the top, and the service painfully slow.we enjoyed a game of badminton in the jarden des sports, but it was very warm inside and the kids were soaked with sweat. the lake is full of fish (carp), and they sell fish food at the boat house by the lake for 50p a coffe cup full, and it's well worth it. feed them by the beach edge, they come up almost on land and it's funny to see. also £2.50 for duck and swan food from the park market goes down very well with the local wildlife of all shapes and sizes. throw a few handfuls out on your patio late at night on your first night there, and you will have loads of animals visiting you in the morning.really nice kids play areas near the pancake house and sports cafe. they have built a small play area in the 'fir section of the park, but it was disappointing. i'm pleased they made the effort in building the play park, i just wish that it was more interesting for the kids. also wifi is better at the sports cafe and outside at the jarden des sports. park market is packed full of great food, but is a little more expensive than your average store. but we enjoyed shopping there. can't wait to go again next year. :o)\n",
      "\n",
      " 7cc23074d5bc9c3d5c551a692ea1707b\n",
      "2012-12-26 00:00:00 having visited center parcs annually for nigh on ten years i feel they need to pull their socks up at longleat. instead of needing to pay a higher rate for the modernised accomodation they need to renovate the whole comfort lodge stock asap. arriving to find a less than clean shabby lodge, granted warm and cosie, took the shine of an expensive pre christmas weekend. one of the double glazing panels had even failed in the lounge leaving a permanently opaque window blocking our views.the communal bins were also overflowing and added to the beautiful deer, ducks and squirrels we did see a huge fat rat ! 'mum come and see the mouse' there was also a can left outside the window too. i complained and was given a £30 voucher and wine and chocolates left in the lodge. the staff are lovely and it the owners who need to put thier hands in their pocket and modernise the whole housing stock and get rid of the yellow artex walls and caravan style sofas. good points the bedding was crisp and clean and the entertainment and attractions laid on for christmas were well worth the money. ( lovely reindeer and a carriage ride with mrs christmas priceless ) pull your socks up center parcs bosses !! it is fabulous but make sure you have got one of the newer lodges when you book !\n",
      "2011-02-14 00:00:00 it was still excellent but do book up your badminton and similar activities. the only disappointment kids football being cancelled but it was for safety reasons due to torrential rain. the staff are accomodating and i only saw one girl sneak a look at her mobile while taking a kiddies archery session - luckily not a huge problem as the arrows had suckers on the end. in all great organisation by staff. clean and encapsulates fresh air and countryside despite there being a good few thousand people on site. we never tire of the forest animals coming to the back of the chalets. well recomended the restaurants they are fanastic. the pancake house a must follow the booking instructions and book activities ahead. if you are kid minded then this is a place for a family. if you don't like kids stick to warners.\n",
      "\n",
      " b3ec4c245dff153dada13075c025bd4f\n",
      "2013-09-30 00:00:00 my husband and i returned to center parcs with our daughter who is 20 months to celebrate our first anniversary having first visited for our honeymoon. the apartment we had was a two bedroomed executive lodge in the pine area, situated very close to the plaza as i'd requested. the apartment was immaculately kept and had all the things you might need. the walk in shower was a lovely bonus as well.the only thing that let it down was that the heating system was poor and left the house very cold at night. we attended the swim a song lessons with our daughter which were exceptionally well run and the instructor was encouraging despite the fact that my daughter was frightened ( she eventually enjoyed it). we ate out regularly, cafe rouge, pancake house, rajinda pradesh and the dining in takeaway which was between £35-£60 per meal but were a beautiful treat for a special time. we took the land train as well which my daughter loved and had a family photoshoot done where the pictures came out lovely. we were sad to come home and can't wait to go back again\n",
      "2012-10-05 00:00:00 just returned from our week long honeymoon at center parcs. it is an idyllic setting, so quiet and peaceful you can really get away from it all. we love woodland walks and just spending time together. the apartment we had was in the redwoods area about a 5 minute walk from the plaza, we had the adapted 2 person apartment because i am disabled. it was immaculately clean even if the decor was a little bit too 70s for us. a word of advice though is that longleat only appears to have one adapted apartment, and all that involves is a walk in shower and slightly wider doors, and isn't really spacious enough if like us you need space for a travel cot. i'd advise you get both the flying start pack and the grocery pack as it basically sets you mostly up for the week.the maid service is excellent and came in everyday to do our housework and dishes, which was a nice break for me. all staff were friendly and helpful. we took part in a few of the children's activities, the tiny tumbles and the tadpoles baby swimming class, with our daughter who is 9 months she loved them. we also had a photo session done with pret a portrait, it was a fun experience and we got some great photos although at £30 a picture we thought the prices were a bit steep. most of the activities seemed really good value at £5-£10 the expensive part comes when if like us you need to buy some clothes (my husband forgot his suitcase in the rush to get there) and can be £40-£60 per item. we went to cafe rouge for a special meal and the service was exceptional. they placed us in a nice corner and gave us a complementary glass of bubbly to celebrate our honeymoon. the beef bourguinon was delicious, the best stew i've ever tasted. we also dined at the pancake house which was lovely too. in fact all the food was delicious even the takeaway. the swimming pool was disappointing though, the baby pool had sprinklers constantly on and wasn't really suitable for my little girl who loves her swimming ring, because it wasn't deep enough. the only possible pool had waves going off very regularly which isn't ideal. the whole honeymoon was amazing, we are definately going back again next year, in fact we will be phoning monday to book it.\n",
      "\n",
      " 0abe3ce4d021eb474b7e767e1c379240\n",
      "2013-03-26 00:00:00 just come back from centrparcs and had a similar experience to another review. like them we have been many times before and have really enjoyed it but found this time that there were so many &quot;sorry out of order&quot; signs about which made you feel that the place was beginning to fall apart. the swimming pool water was not very warm, even in the hot pool areas, our children who normally want to stay in the pool for hours asked to come out as they were cold.it remained like this the whole weekend. i hope that centre parcs can rectify these problems raise the standard again which we are normally used to. this is usaully a fantastic place to stay for all generations of the family but came away feeling dissapointed this time.\n",
      "2012-03-16 00:00:00 another action packed holiday at centerparcs our two boys love it there and want to go back again next week they were well catered for with all the activities available and we all spent lots of time in the pool together.whatever the weather we always have a great time. we tend to go in the winter as the savings on price are so much better.\n",
      "\n",
      " 15af410997e7f7bfa184b2e44bbee3c0\n",
      "2013-04-12 00:00:00 this was our third visit to centerparcs longleat. previously we have been earlier in the year. it was another great time, our 5 year old grandson adored everything he did and the staff are all so good with not only children but the adults too! we left it late to book this time and ended up booking the second most expensive lodge which was a little shabby in places and not necessarily worth the extra! the hot tub and steam room were amazing though :). i love the fact that you walk everywhere (or cycle of course) and with all the exercise it is so good for you, despite so much yummy food being available. one tip - if you go in a busy time like school hols, book restaurants way ahead if you need to go at children-friendly times. and the most popular kids' activities too. we shall return!\n",
      "2012-03-02 00:00:00 i poo-pooed the whole idea of center parcs until we took a winter break 2 years ago. we have now had a short break in february every year with our family. it has lots to do, peace and quiet if you need it, new things to try like archery. longleat has the added advantage of a land train which runs around the site if your legs get tired of going up and down those hills! the staff are great and the only downside is that in the winter at least the accommodation though perfectly clean and tidy, is a bit weary before it's 're-do' ready for the high season.\n",
      "\n",
      " 6fcb99f363aae24e8e6bc391528f09fc\n",
      "2013-03-18 00:00:00 just got back from another extended family weekend break and thankfully this time a good time was had by all and no one caught a sickness bug!i do think that the checking in system needs to be reviewed. we arrived at 5.30pm approx on the friday and spent a good 20 minutes queuing from the road when we had already checked in online and the actual handing over of keys and a info booklet took a couple of minutes.we paid the supplement to have an exeuctive lodge in pine and it was well worth the extra money. the plaza was 10 minutes easy walk one way and the jardin de sports 10 minutes the other with the village square and pancake house even nearer. there wasn't any need for bikes so we didn't bother this time.the lodge itself was spotless, well equipped and welcoming. no complaints at all, comfy beds and good quality bed linen too.i still find the swimming pool over crowded, there is a real need for the complex to expand and the layout (and cleanliness) of the changing rooms poor. dirty floors with tissues, food packets and various other bits and pieces make it quite unpleasant. in addition there was only one row of showers working at the entrance to the pool with people queing to use them, so we didn't bother at all and showered back at the villa, which isn't ideal. that said the rapids and slides are great fun and a favourite with all of us.our only other gripe would be the high cost of some of the activities which do leave you feeling quite ripped off. we booked three of the teenagers on the aerial tree adventure at £27 per child which sounded fantastic in the parc literature. in reality this consisted of three rope bridges and then a zip wire across the lake. all three of the children were back with us in half an hour! really poor value for money. this is a favourite treat of the children and they have beena few times now to llangorse lake activity centre where it is £25 for 3 hours which really could show centre parcs a thing or two about putting together a decent course - and fair pricing!the pedaloes were another rip off - £10.50 for half an hour.on the other hand we had a great evening with nutty noah the magician at the pancake house for my neice's birthday. he was fantastic with an act that appealed across the age groups with plenty of jokes for the adults that went across the children's heads! food was also really good which despite being based on family favourite meals, was all well cooked and tasty. we turned up quite late in the session after watching the rugby and were really well looked after by barbara - so a big thank you to her.the spa was also excellent and we had a great meal at strada to round the weekend off.far more positives than negatives but please centre parcs, don't rip your customers off!\n",
      "2007-12-13 00:00:00 just returned from an extended family weekend away at longleat after a break of 3 years - sadly it has noticeably gone down hill. it is an expensive break - two villas cost over £700 for the weekend and bearing in mind that this doesn't include any meals and the only free activity is the swimming plaza - we came away feeling rather ripped off.we do like to book our activities in advance but despite three phone calls chasing our booklet, it didn't arrive until the day before our departure, too late for everyone to have a chance to flick through and make their choices.one villa didn't have any beds made up. we were told that the staff were behind but on their way but no one ever showed up and so i had to make up 5 beds - not a great start. the lock on our patio door was also broken and brother-in-law had a near miss when the panel above the exactractor fan in the kitchen fell on his head. both faults were reported to guest services but no one ever came to fix the probems. cycles are a complete rip off - we spent around £170 on hire to discover on the first night that out of a total of 9, 5 had defective lights which when mentioned to the staff on their return was shrugged of with little interest. maintenance of these is obviously not regularly carried out.to be fair, we found the pool lovely and warm although crowded and the changing rooms horrible - cramped and dirty.food - agreed very expensive for mean portions of average food. the exception to this would be the gran cafe where we had a lovely meal at a fair price.the parc on the whole was a lot quieter than on previous visits and dead in the evening. the sports bar was almost empty at 7pm and there were few fellow guests on any activities that we booked - can only presume that people are now voting with their feet and refusing to be ripped off.\n",
      "\n",
      " 310d48ce253eef67d5d9810378051bf1\n",
      "2011-11-22 00:00:00 loved the design of the site, the rapids were great fun. the walks were interesting and facilities fantastic. so much to do.would be nice to know the cost of the other activities prior to arriving so you can plan what you want to do more.\n",
      "2011-11-22 00:00:00 we were invited to make up the numbers in a wonderful chalet with 4 bedrooms, open plan living area by the lake. number 111! and it was superb could not fault it at all. the beds were very comfortable, the bathroom and shower room large with excellent showers.everything we needed for our 4 nights there, we ate in the restaurants strada and hucks and both were first class, food and service were over and above what was needed.the facilities on site were vast, did not have time to do everything but spent hours in the pools, played badminton, table tennis, bowling, the kids went skating which was not open but ben was most helpful and said if we went back in an hour we could skate. he was so helpful and lovely to the kids. highly recommend this site. cant wait to return and plan on taking the whole family with grandchildren as well\n",
      "\n",
      " 4a5259a1db465bfe24dd66074c110b67\n",
      "2013-09-19 00:00:00 we have been going to center parcs longleat for 19 years, i am not going to review the place again but comment on recurring themes in other reviews so you can make an informed decision whether to go or not1. apart from the swimming and fresh air everything costs and this can add up. people seem to go thinking they have filled a 4 bed villa with granny, 2 cousins and a family friend off peak for not a lot and then assume everything else will represent the same value. the only way not to spend much here is to stay in every night, take food from home, just swim and enjoy the walks and wildlife. many seem to happy do this and so did we when the children were babies, the change of scenery was enough. not doing anything or very little because of the cost however makes for a pretty miserable experience so do yourself a favour, if money is tight go elsewhere 2. the accommodation varies enormously in terms of convenience to facilities, furnishings and ambience. strangely the cheapest villas in fir get the most wildlife visits because they are on the fringes of the resort, the bigger new villas are better furnished but not always in the best locations as they have been put in spare bits of land later, the tree houses for example are on a busy main route for vehicles and the land train, some villas have very dark small patios in deep shade so no good for sunbathing, some are on the land train route and mean you can save considerable time on walking or cycling. if sun is important look at the map for the compass and see the direction of the rear aspect, don't pay for saunas etc unless you really think you will use them, a dvd player in the villa can keep everyone happy as there aren't many channels on the tv, not all the villas have the open fires which are lovely to use in the winter, don't pay for maid service unless you want to be disturbed around 10 am every morning and in essence:pine - useful for the plaza but nothing else, the 400s are very near the busy main a road outside which can be heard, the 100s are very near the car park and exit and lack in ambience, wildlife, style or convenience for anything much, the 200s go quickly and are best for young children just wanting to swim, 300s are good compromise between convenience and feeling like you are in a forest/resort, apartments good for balcony views over the treesash - the 800s are 2 storey villas, 801 means noise from the outdoor area of the pool and train stop, 841 at the far end a good central location and quieter, these go fast, good for limited mobility with the land train stopping outside, too busy for wildlife and darkish rear areas from the redwoods but some have saunas etcmaple - newish hilly area feeling more like a holiday village but dark in places from the natural redwoods, feels more forest like than other areas but requiring a reasonable level of fitness for the path gradients, seem convenient but can be tiring on the legs moving aroundoak - quiet location near the jardin, gets plenty of rabbits and squirrels, on the train route, 455 on have maid service and have the feel of a residential cul de sac, 445 is very private at the end of a block set back from the road, convenient for nice walks around the lake and evenings in the sports barfir - some rear patio areas overlook small ponds with ducks which can be very relaxing, deer seen the most here, very peaceful location and can be done successfully with no cycling and the land train service, the cascade waterfall path is a shortcut to the jardin, young children with bikes i think are the safest here pottering about outside, whenever we have stayed here we have engaged most with wildlife3. none are the restaurants are gourmet eating and there is little bar life apart from the sports bar, if you do not have children avoid hucks, the pancake house and strada (unless after 8pm), the indian is best for older families, the tapas has live guitar on thursday evenings and the grand cafe is expensive for a grown up treat. the sports bar can be nice on a summers day outside for lunch but very noisy eating inside during the day. do not rely on ordering in at the last minute, the night we decided to do this there was a 2 hour wait, outside school holidays you won't need to book tables. the parcmarket prices are not outrageous unless you mainly shop at asda and if you shop on the first day spending over £40 they deliver to your villa, alcohol choice is limited but center parcs is not trying to attract beer drinking lager louts thanks goodnessso if you like fresh air and family orientated fun, playing sport, trying new things, are tolerant of children, treat it as a home from home experience but in a forest, don't expect fantastic facilities for peanuts and have the right attitude this is still a good break, if not go to spain, it will probably be cheaper!!!!\n",
      "2007-10-30 00:00:00 we are seasoned center parcers - 13 years so they must have been doing something right but the last couple of trips to longleat have been a big dissapointment and we will no longer be going back, a great shame but its just too expensive a uk break to continue. the problem seems to be the repeated ownership change and with that the following:the continual expansion of the accomodation without any change in the facilities means most of the time everything is chronically busy, especially if you go during school holidays, if you haven't prebooked your activites forget it, this is a big problem if it suddenly rains and maybe what you had planned was outside, there's nothing left to do and everyone is also in the pool so standing room only and nowhere to sit! it used to be you couldn't pre-book to the extent you can now so there was always a fair chance something was still available.the understaffing has been a huge problem for at least 3 years, it means at very busy times the place can look like a wreck, no clean tables, rubbish everywhere, toilets you wouldn't want to use etcthe understaffing means maintenance issues, october half term just now has meant most hairdryers in the pool changing were not working, our villa having a kitchen door hanging off its hinge (when we arrived so the cleaner saw that one), missing lightbulbs in the bedrooms, drinks machines were out in the jardin and other nigglesthere is now a clear strategy to extract money, at every corner there are blatant attempts to get you - charges to dry or spin your cosie, game machines everywhere etc.many facilities have been turned over to these - missing now are the kids disco room (a video games room) the short tennis courts (indoor climbing wall) and the cinema (gym)the temperature of the pool and jacuzzi - a clear strategy has developed to reduce the temperature of both to get you out quickly, clealry with so many people they don't want you overstaying your welcome in the pool, trust me when i say both used to be a lot warmer and my 2 teenage girls this time genuinely felt cold in both. we even used the aqua sana pool thinking that would be better and it wasn't. we no longer enjoy the pool, it is cold, too busy and dirtythe food is now in the busy of mass catering not a meal experience - the indian was the exception and always has been, huckleberrys was particulalry bad but the italian followed. spanish tapas was opening as we left so maybe that will be good. milk we got from the parcmarket was off when we went to use it, made for a miserable breakfast on the first morningfor our family a lost annual break which will be much missed but we don't want our positive memories of the place continue to be ruined by further visits.\n",
      "\n",
      " 42c04517a813a77aeba45dcc608cffbe\n",
      "2012-01-16 00:00:00 this is our fifth time to center parc and second to longleat.it really is a relaxing break for all ages and you can taylor your holiday to your needs.there is a wide range of restaurants and an ample supermarket as well..we visited hucks and would recommend the children buffet,for £7.95 you get a drink ,pud and full buffet!the accommodation is always lovely and clean and we even had a lovely welcome message from the cleaning crew (-:\n",
      "2011-04-01 00:00:00 no matter what cente parc you go too,you always have fantastic service.it is an ideal holiday for all.there are activities for all ages and tastes.longleat is so peaceful even at the height of the season.i would say that longleat is full of heels so be prepared to walk,or you can get the land train.definatly recommend\n",
      "\n",
      " 111b61a018d1358f914c051767b11fa9\n",
      "2013-02-17 00:00:00 this was our second holiday at longleat. weather was colder this time but looking out at the snow covered fir trees was great, like being in scandinavia! there was so much to do each day that our four days just flew by.if you and the kids love sports then this is paradise but if you're a grandma content with your own hobbies in the chalet while enjoying eating out with no housework or shopping it's not too bad!\n",
      "2012-03-31 00:00:00 excellent villa, paid a little extra for the executive style which was well worth it.. bags of restaurants to pick from. sub tropical pool area is great with lots of fun for the kids and adults alike. i enjoyed the aqua jetting option. brought my own foldaway bike with me which was very useful in getting about the large longleat site. wife and daughter enjoyed the spa facilities. if you go kayaking anticipate a cold wet bottom! just a really enjoyable action packed break.\n",
      "\n",
      " 7a7a0bb178bc434b45b781ec3be053e7\n",
      "2013-05-08 00:00:00 this is the 2nd time we stayed at longleat, last year we stayed in a comfort plus lodge and this year we thought we would upgrade slightly and stayed in redwoods apartment which are classed as 'executive'. don't bother staying in these, the comfort plus lodges were loads better even though they were cheaper.there isn't even a oven in the redwoods, which i still can't get my head round as to why not, there is a conventional type microwave which is rubbish, also the stairs inside the apartment are very steep so not good for a young family, doors very heavy which also isn't good for small children. to say there is meant to be daily maid service this is a very basic service. i wouldnt bother paying the extra. the only bonus about staying here is the location of them as its very near the village and about 10 minute walk from the plaza.the rest of the park is sill very good but some parts are beginning to look very tired and could do with some tlc.also drinks prices in the sports bar are very expensive £4.00 for a pint. the food there was very nice though.we will probably return next year but definitely not in one of these apartments again! there is some very nice walks and places to ride bikes, also like the idea of cars not been allowed in the park area except loading and unloading which is a great idea.\n",
      "2013-03-13 00:00:00 stayed in a comfort plus lodge, it was pretty basic for a comfort plus, but had everything that you need in there. we were very near a train stop which was great onceyu got the hang of them. the swmming pool was very clean and good fun, my daugter enjoyed all the parks that were onsite, there is always plenty to do that doesnt cost any extra. we had booked a 2 day pass to longeat safari which was also very good. i would recommend staying at center parcs, the staff were always on hand to help wherever they could, the train drivers all looked like they loved there jobs, aways smiling and waving to my daughter when they drove past which she liked. my only complaint would be the lodge was quite basic for what we paid.\n",
      "\n",
      " b9fe31f4f1e313e7f46802edfb4742a5\n",
      "2013-03-23 00:00:00 this was our second visit to center parcs and all i can say is that the whole thing was another wonderful experience for all! we chose lodge 169 (a new style woodland which was well maintained and felt clean) because previously we had stayed in 172 and liked the general location - you feel like you're in the middle of nowhere because you can't really see any other lodges at the rear, yet you're less than 10 minutes walk from the plaza and 5 mins from the carpark. the lodge backs onto a little lake so you get regular visits from the ducks which the kids love.as for the rest of the experience - everything is very clean and tidy. we enjoyed seeing lots of wildlife including buzzards and dear. the activities were really good particularly the archery and the aerial adventure. the pool is brilliant, certainly the best indoor pool i've been to in this country although i must agree with others comments about the slight tardiness of the changing rooms and showers but that doesn't detract from the experience at all.i can wholeheartedly recommend longleat center parcs and will definitely be bringing the family back again.\n",
      "2012-11-10 00:00:00 just got back from a mid-week break. we had villa number 171 and couldn't fault it at all. we arrived in the dark on monday night and woke the next morning to beautiful woodland views with ducks and wildlife coming up to the window. the villas are so cleverly laid out that we couldn't even see another villa out of our back windows, we felt like we were all on our own in the middle of no where! all of the facilities were top notch and the staff everywhere gave a good welcome and couldn't do enough. the falconry was brilliant and so too the field archery - both well worth the money. would also highly recommend the owls for kids at the falconry center. all in all a memorable week and we will definitely be returning.\n",
      "\n",
      " 56bf1218a950d62e7ffeee25ba74e8b9\n",
      "2011-12-15 00:00:00 we came back to longleat after a trip to sherwood forest last year. it is still clean, tidy and this year we had the advantage of the winter wonderland. it was nicely lit around the park with good xmas lights and didn't look too tacky. there are various displays and real reindeer i saw somewhere.after a second visit the only reason i don't give 5 stars is that it is an expensive holiday, worth the money, but very little changed in 2 years. i would expect to see continuous improvement in the amenities.we had a new style executive lodge and it was clean and warm. the usual bits of dried food on the plates but that takes seconds to wash.\n",
      "2010-10-21 00:00:00 we booked a mid week stay at longleat in an executive 2 bed villa. the accoomodation was excellent. very well furnished and very clean. the daily maid service was not really needed but the staff were very friendly and a pleasure to have around.we made full use of the swimming pool and swam twice a day. it does get busy, so early morning and later in the day was best. the swimming pool area is immaculate and very cleanwe booked some activities which are not cheap, but highly recommended. the staff are very friendly and know what they are talking about.the on site super-market is very well stocked and priced. i will not be taking food next year, i will buy it there.the site is set in glorious woodland and fantastic for walking and cycling. the only thing is it is very hilly in some areas, but i need the exercise!. we visited in february and the wildlife was great, deer, sqirrels, birds and ducks all outside the villa.\n",
      "\n",
      " 58226d8d855009b101926ff313d197c8\n",
      "2012-10-16 00:00:00 we have been coming to longleat for 4 yrs now, mainly twice a year and have stayed in most types of accomodation. i have always loved coming and have always had great times. this time i hate to say it, but i actually found it not quite so enjoyable. the main reason is that the older styles of appartments/villas are really starting to look old and shabby and stairs creaking so loudly its silly. we stayed in the redwoods, and i admit that this particular break was a very late booking and there was not alot left, but i chose this apartment due to the proximity to the plaza and village square, but really for the money the quality was not reflective. also we do try and make the most of the eating venues whilst away as we are supposed to be away on holiday, but found that particularly rajinda pradesh was very very overpriced for only quite good food. we very often eat at local indian restaurants and the extensive menus and fabulous value for money, makes it harder to say that we would eat there again. many of the eateries are, in my opinion, overpriced.it saddens me to actually say anything negative about this lovely place, as it will always be a favourite holiday destination, and you cant beat the subtropical paradise as it is fantastic.however we have stayed quite recently at butlins minehead and although i appreciate that centreparcs is a completely different type of holiday, if it had to be based purely on value for money, butlins would win hands down.some sort of loyalty scheme would possibly help too! i really really hope things improve. money is obviously being spent as certain shops and restaurants have been changed/updated but i would say spend the money on the accomodation, as it will start putting people off coming back.\n",
      "2011-10-11 00:00:00 this is my 5th stay and mine and my husbands 4th, i was in early pregnancy on my first stay, so my daughter who is now nearly two has actually been here 5 times but only 3 times really. i first came here nearly 3 yrs ago and fell deeply in love with the place straight away. i/we have stayed in different types of accomodation, in different areas of the site, at different times of the year and have never had anything less than a great stay. we have been twice this yr now, first with friends then on our own, our friends absolutely loved it too. i will say it is not the cheapest place to go, and i have got wise to picking the accomodation so we are always in the best position for the plaza, land train stops etc, but you get exactly what you pay for, which is consistently high standards. we at the moment come here to relax and unwind and always hate leaving! yes you have to pay for activities and to eat out etc, but the parc market is fab if you want to shop and cook yourself a meal, and i dont go on holiday to get everything for 'free'. you can use the pool all day every day if you like, and the forest is great to explore, on foot by cycle and on the land train. i will be continuing to visit for many years to come.\n",
      "\n",
      " f49bebbdf6b5eb3b79e082ab9b4abce9\n",
      "2012-12-01 00:00:00 having visited center parcs longleat at least three times a year for the last 19 years, this was our first winter wonderland visit. our daughter celebrated her 30th birthday while we were there and hucks restaurant pulled out all the stops to make it a very special evening for her. it was also our first visit with our new grandson. we stayed in a two storey original style 4 bed executive lodge. the accommodation was lovely, plenty of room for 8 adults and a baby with the benefit of an outdoor sauna. on arrival the villa was clean and welcoming. we had our first experience of winter wonderland which was so different to previous stays. the whole park was magical and made us feel very chistmassy (even though it was late november). the pantomime was brilliant as were the fireworks. the festive carvery in the grand cafe was delicious. we rented a cabana for the first time which was briliant, except the three hours went far too quickly! we will definately rent one again, although it seems expensive, it is worth every penny. for the very first time we had to use the medical centre when mygrandson became poorly, my daughter was very impressed with the nurse who was kind and professional and referred my grandson to a local gp. this has been a truely fantasic holiday, previous to this we had only stayed fr-mon, but on this holiday stayed fri-fri. we still did not have enough time to do all we wanted. the staff employed by center parcs either go though vast 'customer service' training or are very caring people as the service they provide cannot be faulted. the aqua sana far exceded a recent stay i had at champneys. we enjoyed this stay so much we are about to book another winter wonderland stay for nov 2013, (after my stay in jan 2013 and spa day in march 2013). simply love this place!!!\n",
      "2012-03-10 00:00:00 we have visited longleat 3 times a year ever since it opened! we have just returned from yet another week-end. still 100% love the place but have noticed that over the last couple of years some things have declined. mainly the standard of cleanliness in the accommodation. this time in the executive accommodation (which is serviced daily by maids) the downstairs toilet sink was dirty, the washing up done daily, was done to a very poor standard (lipstick still on wine glasses etc) and cobwebs and dust evident. also and i know this is going to sound very snobbish but over the last few years the clientel have changed! now hen and stag parties seem to be evident, where once they were not allowed. hence the aqua sana is not quite the sanctuary it used to be!! the restaurants remain fantastic and we have never had a bad meal. overall we will contine to go to longleat (and in fact have just booked to go again) but i am a little concerned about the way it is declining and can see that may be in a few years time the delcine if not rectified may deter us from going. center parcs needs to regain it's 'family orientated' banner before it turns in to another butlins,pontins, haven type holiday. to finish on a positive note, one aspect of the holiday that is spot on is that the staff are 100% courteous and helpful and if you do find a problem while you are there, they do rectify it asap.\n",
      "\n",
      " b628bc0069855a630946c60f4b8634ec\n",
      "2013-11-08 00:00:00 visit number 6 was as enjoyable as ever but it appears that standards are slipping. for a fairly expensive holiday it would be very easy to find another holiday for the same or less money. i will be checking the bed when/if i go again, as i noted hair and stains on the mattress and the mattress cover when i stripped the bed on departure.we enjoy eating out but the french restaurant wasn't an enjoyable experience. other restaurants were brilliant and the wednesday carvery is to die for.the staff are all very friendly and cannot do enough to make the holiday a good experience.\n",
      "2011-09-02 00:00:00 we have been before but this is the 1st time we have had a 4 bedroom chalet, to spend time together as a family (grandparents, paremts and youngsters) with 4 en-suite bathrooms it was a wise decision. the accomodation was clean with everything we needed for the very limited time spent indoors. our only criticism was the slow service in the restaurants. come on centre parcs, you should know that we don't want to waste time waiting when there is sooooo much fun to be had.\n",
      "\n",
      " 2b10fb7e9ad7adc8793f7e186bdb2bbf\n",
      "2012-10-31 00:00:00 another great trip. loved the pool and rapids as usual and staff very friendly and helpful. the kids loved it - we took our children plus their friends ranging from 14 to 17 and they love center parcs. we did some of the activities tennis, badminton, pool and paintball and they were very enjoyable if a bit on the expensive side. we thought our cabin could have done with some decorating - it was o.k. but some of the furnishings looked a bit worn and the fridge and cooker were due an upgrade. however beds were very comfy. the price of food was very expensive, especially the sports bar. we paid almost £40 for two burgers, some fish fingers and a few fries and a couple of drinks. it is best to bring your own food with you and eat out as a treat as otherwise it gets very expensive. overall a great visit again and we will be back!\n",
      "2012-07-24 00:00:00 always a very chilled out holiday. the kids loved the freedom and the subtropical swimming paradise. it is perfect for a short break with the family. helpful and friendly staff, lovely woodland environment. only downside is that the food in the supermarket and drinks in the bar are very expensive and the takeaway food was not very nice. we have been three times now as it is ideal for teenagers as they can do their own thing and we can relax! but we usually bring our own food and only eat out occasionally otherwise it can be very expensive. i also think that some of the cabins could do with updating but they are generally very comfortable and well equipped. one thing that always impresses me is that although there are a lot of cabins, the way they are planned means that they feel very secluded and private. the other thing is that you don't need to worry about the weather - when we went most recently it rained solidly for the first few days but the pool is well heated and a lot of things are under cover especially the plaza so it was not a problem.\n",
      "\n",
      " bc2ffc5aab10b6aeecf7705c762a43c7\n",
      "2012-12-22 00:00:00 this was our 11th time to longleat centerparcs. we have two boys aged 13 &amp; 11 and this was the first time we let them go to the pool by themselves. we have had a really relaxing time. the physiotherm villa (504) was excellent. the accommodation was plush and comfortable. my husband and i did the aqua sana spa on the tuesday evening and it was worth every penny. it cost £49 for the two of us and it lasts for 3 hours which might seem a long time but when you spend about 25 minutes in each of the ;many different saunas and steam rooms the time flies and you are so relaxed and rejuvenated after the lovely experience. we also did bowling with our two sons and had a great time. some of the activities are a little pricey. i think more people would do more activities if the prices were lower. in past years my sons have enjoyed the soccer school and mini golf. this year they were just happy to spend the time at the pool going down the rapids. my only criticism this year was that you have to be out of your villa by 10am and the cleaner arrived at 9:50 and just waltzed into the villa as we were just taking our cases to the car. in all the 11 years of going to centerparcs this has never happened before and i thought it was a little rude not to wait until we had taken everything out. even so we have already booked again for next year.\n",
      "2011-12-18 00:00:00 we have been going to center parcs longleat for 10 years and have never been disappointed with the accommodation. this year we booked an old style executive 3 bed villa with a steamroom. unfortunately the villa was not the cleanest we have been in and the steamer in the steamroom only worked for one day and could not be fixed until after we left. the diswasher was looking sorry for itself but at least it worked. we also didn't have any toilet paper in any of the bathrooms and after reporting this it took 4 hours to get some delivered. even so we have already booked for next december but we have made sure that we are in a new style executive villa this time. center parcs is a great holiday for all ages. my boys are 12 and 10 years old and love it there. the swimming pool with the rapids is great fun and they also enjoy the soccer school. it also snowed while we were there which was beautiful.\n",
      "\n",
      " 9a800f00176405f888061089b6a6ed27\n",
      "2013-02-11 00:00:00 having had a bumpy start a year ago. we decided to give it one more go, using the £60 off having complained. we arrived on friday 18th jan, we stayed overnight at the nearby travelodge, which was a good idea was there was about 5 inches of snow. the 3 mile journey took about 10mins. we were unable to check in with our car so went in on foot and did it at the plaza. not a problem as we arrived at 10am and were passing it on our way to pre-booked sports. we only had one key, and did so until saturday night, as they couldn't locate it. our villa hadnt been serviced due to the low staff levels. we were given £50 in vouchers as an apology. i didn't have to ask or complain, they were left on our doorstep. it took us about an hour to hoover and clean. we also had another £50 off another holiday posted to us which arrived shortly after getting home. i don't think they could have done any more to redeem themselves, having listened to the complainers at the desk. one woman was moaning that the beds hadn't been made, really!!! yes, if a company fails, i will complain, but in this instance, the weather was at fault.kids had a great time, pre-booked about £180 of activities, high wires etc. only complaint was the swimming pool indoors and out was not as warm as previous visits. the rapids were ffffffreeeezing. i have booked another trip next janurary, but not at longleat, gone for elveden as its is a smaller site as we don't like bikes, we shouldn't have a too long a walk to the sports and pool.tipsto make the most of a weekend, stay at a nearby hotel to arrive at 10am, no queues in the morning to check in. pre-book sports activities months in advance.get a villa close to the pool - £45 premium. if the weather is bad, you won't want to cycle. if it snows, they don't hire bikes out. some villas are a 30+ min walk\n",
      "2012-06-30 00:00:00 firstly, if you want to save yourself some time checking in and to make the most of a weekend break, book a local hotel and arrive at 10am. otherwise if you arrive later, you can expect a very long queue. it's a drive through checkin, so there is no option to queue. depending on the time of year, in my case janurary which is cold, i paid the £45 premium to select a villa within a 2 minute walk from the pool. sports centre was a bit of a walk, but better to do a longer walk with dry hair. we didn't hire bikes as it was very cold so avoided the wind chill and about £85 for the weekend charge.i also pre-booked most of our activities online which proved to be a good choice as many of the best activities were booked up quickly.the brand has become very expensive, i went on family holidays to center parcs as a child and with my young family every year. our last holiday at center parcs was in france during the may half term about 4 years ago, it as less than half price of any of the uk locations (excluding the ferry cost). if you are strapped for cash, seriously consider the french option in may.a bumpy start. we checked in at 10am, had a 2 minute wait, check in was quick and easy. you can get into the villa at 3pm. so went to the villa bang on 3pm as we wanted to go swimming straight away. villa was unlocked, we unloaded the car, went to lock up, key wouldn't work. i went to reception and they said i was given the wrong key as my villa was 5 doors away. so i had to rush back, pack the car up and then unload again in our correct villa. we were promised a spare set of keys to be delivered, 2 hrs later we were still waiting. so had to go to reception again. luckily the reception was 2 mins away to collect the spare key. what had happened was that they realised they gave us the wrong key, changed the lock on the villa we were given, forgot to lock the door and didn't bother trying to contact me on my mobile to tell me they cocked up. it was a very stressful afternoon, they compensated us with a box of chocolates and a bottle or wine. i didn't think that was sufficient as our afternoon plans were ruined as we didnt get a swim before our evening meal. i wrote a letter of complaint, they offered £60 off another holiday. i accepted this and booked another january weekend next year, this will be the decider if we ever return. i complained when we went to france 4 years ago as they were doing some serious renovations meaning lots of activities were out of action, without any prior notification when booking, that time i got a 50% refund and decided never to take another centre parcs holiday. let down twice, let's see if they up their game.\n",
      "\n",
      " 60e74f52f45f9611e36e512e84b7e979\n",
      "2012-08-29 00:00:00 i have just returned from center parcs with my family which consists of 2 adults and 4 teenagers 12,14,16,19.the amenities are amazing. the pool is lovely and warm so you can use it all year round. it has lots of water slides and an outdoor section which included rapids. the kids loved it and swam every day. (this is included in the price) there are loads of other activities but it all comes at a price. to hire a bike is £35 for the week, well worth it as the complex is large and from our chalet 635 it took atleast 15 minutes to cycle. there is a train that runs frequently too.the surroundings are stunningly beautiful the complex is in a forest, we saw lots of wildlife which was wonderful, it was lovely to walk and cycle round.the accommodation was spacious and well laid out except the bathroom is off the lounge so not very private.the kitchen is well equipped with enough cutlery and crockery for 6, however there is only enough washing up liquid for one day, same with the tea and coffee, so take everything with you.there is a supermarket on site and it is not to pricey for anything you forget. there is also the option of eating out with a number of restuarants including hucks (american pricey) strada (italian also pricey) cafe rouge (french not to pricey and many more responable options) there is also a pancake house very pricey for 6 pancakes with soft drinks came to over £60.00!!!overall a great week but we spent over £1000 on food, drink and sport. if you cook and only swim a resonable break but the minute you do anything else the cost mounts.they also had a dine in option this was our preferred option and came to about £10 a head, the takeaway had chinese, indian and pizza and you could combined all 3 options, this was great and kept everyone happy.overall a great holiday and i would recommend it, i've come back very healthy which is not the norm from a holiday.please tick if my review was helpful, thanks :)\n",
      "2011-04-04 00:00:00 the weekend was about cycling, walking, swimming and relaxing. this did all that. all the staff were excellent and the whole set up runs like clock work. i would highly recommend it to all age groups\n",
      "\n",
      " 33c5685c554d837b7df88a9fbe38e75d\n",
      "2011-12-05 00:00:00 booked a disabled executive lodge, had proper hospital type bed in one room which was good. our lodge was wonderful but lacked the finishing touches that id expect with what i paid, like ripped wallpaper, dirty dishes &amp; cups in cupboards that all needed washing again, a dodgey dishwasher &amp; cobwebs on alot of the bed lights..we had a fair few spiders that were already in residence when we arrived. we declined the maid on the first day apart from emptying our bins, but needed her on second day but she wasnt very cheerful. the lodge was spacious and the sauna was an added bonus for the older children. our dishwasher wasnt working, but once we went to customer service someone was sent within few hours, but it kept breaking down.centre parcs at his time of year is magical for the little ones, there was a gorgeous horse and carriage going around which looked beautifulthe only gripe i have with cp longleat is the land trains, there are never enough seats for all the customers using them, its quite stressful trying to load kids and yourself onto the train when seats are scarce and you cant always sit together. they run every 20 mins but waiting with kids and older people not appropriate, they should put more carriages on for the amount of money people pay. ate in sports cafe, which is reasonable for kids meals, about £6.50 for meal, drink and dessert but then the price jumps stupidly to £5.50 for an adult dessert when it should be £3.50 max. expect a long wait., our desserts were forgotten about.village square looked amazing for the children, we booked ice skating for kids which was skating on plastic to an apparent &quot;disco&quot;, there would be more life in an oap dance hall, the music was rubbish, we did complain but the guy had nothing else, with 2 teens we expected some beat for them to bop too but it was pretty dire for £5.50 so id give that a miss. bowling at plaza ok but once your time runs out even if you are in the middle of a game, it flashes up game over and you cant finish it or see your scores. wouldnt mind so much but if it didnt take so long to be served at the bar im sure people wouldnt waste minutes of their games. i saw numerous groups unhappy about this, but if you have time to sare (which isnt likely) you can rebowl til your time runs out. drinks expensive, for 4 drinks not much change out of £20 and 2 was childrens drinks thou were kids cocktails. bar staff nice but service so slow.now to the tropical pool, and rapids.....if you are frail in any way dont attempt the rapids, they bash you about like a mouse in a wind tunnel....chipped all my nail polish, and you will go under the water. the hot tub was nice til a child was sick in it. the pool is nice but its so overcrowded, if you have kids of young age you'll struggle for a free changing room and space. when its not so busy it is nice esp at night going around the rapids in the rain. avoid the pool on a monday morning as everyone checking out goes to the pool for a last swim, it was so overcrowded it was stupid.food at cp is very expensive overall, so best to do a shop before you go. i was going to have a head massage but at £38 for 20-25 mins i thought id pass..again silly prices.you have to be out of your apart by 10, the maid will arrive at 10 on the dot so if you are thinking of hanging it out you have no chance, as we left the maids bikes were outside all the apartments.not much entertainment for young girls aged 11 onwards..you have to be 14 to have a pamper in spa and alot of activities towards boys not girlsoverall this time (i stayed before in fir but didnt like it as so far away from everything) we paid a little more but were in a better location and had a better time. was better as had no fight over getting seat on land train to get back to lodge. take plenty of money as apart from swimming nothing is free. an expensive treat\n",
      "2010-12-06 00:00:00 where do i start, i booked an comfort plus, it was my daughters 11th birthday, and due to ill health we have had a real rough time and wanted a treat for her. disappointmented to end up in only comfort with no dvd player and my daughter brought some dvds to watch with her friend, phone, or tv in bedroom, but thought i wont ruin her holiday il deal with it after and make the most of it. the tv kept breaking down, on 3rd day asked for it to be replaced, only for same thing to happen. the chalet was full of cob webs, not great for someone with a fear of spiders! mould in bathroom, broken tiles, real grubby dirty doors with other peoples hand prints. moved onto kitchen, forks with egg still welded on, a jug with some gone off milk welded in the bottom. one bedroom was awfully cold compared to the rest. it was like being at £39 night butlins not £500 wkend break. the pathways to our accomodation was not even lit with solar eco lights, and at night you have no chance of walking anywhere much, the roads are dimly lit by lights, but its not enough, its actually dangerous. someone could easily be knocked over by a bike or car.the parcs say you musnt use your car, you must use land trains, well thats fair enough if they run on time and you have enough spaces for the hundred and hundreds of people who stay....which there arent. i have a disability, to wait around at bust stops for trains that dont run on time, and sometimes are too full to get on is a big no no. we have 3 girls, my mum, my hub and me, my kids are 10 plus so people had tiny babies. it was dec, we'd had snow it was freezing. in end we had to use our car for some bits. eating out is very expensive and the word greed springs to mind, they dont need to be exploiting this issue, the food and drinks are expensive. one lad and his friends we spoke too, there was 4 of them and the round of drinks cost £17. you cant eat out for less than £50 and the food is nothing special, id advise people to eat in local pubs. the parc itself in winter looked stunning, absolutely beautiful as we had just had snow, we had deers outside our apartment, i had fed a squirrel, ducks and you see plenty of wildlife.the roller skating id give a miss, it isnt arranged properly but the sports bowl venue is nice at jardins de sports. our kids went quading through the forest and loved it, but they are 12. it seemed fairly slow for the adults. but it is well run and safe, and the guys running it were great. the pool is lovely, but you get fed up with it after few times. its a shame everything is so spread out, it needs to be centralised more. we missed one activity because another one was brought forward. i went to relax and i did, but my anxiety was raised by the land train situation, people try and jump on in desperation even when there are no places. i would say if a land train breaks down and all times are running incorrectly, then only choice you have is to use your car. we are there for a holiday no-one would choose to drive, but until they can run what they say they do, you just have to do what is least stressful fr your holiday. the main car park where you leave your cars is miles from accomodation, we were fir. i dont think id go again, the cabins need updating and cleaing better. the car parks are a nightmare, finding a space can be stressful. for the money people pay, centre parcs makes enough money to update things, the rooms look tired. you will be in the middle of nowhere and have many forest friends\n",
      "\n",
      " 669ec4301afdd488f63ba52673501a0e\n",
      "2012-02-13 00:00:00 a wonderful place for a family get-together and the staff did a good job of clearing the snow and blocking off the dangerous parts. a winter wonderland when we were there in february\n",
      "2011-02-21 00:00:00 everything is done to make your stay as pleasant as possible. some activities are rather expensive but the fact that it is often difficult to book at the last minute proves how popular they are. very proud of myself at 74, climbing the pole to enjoy the zip wire. steve, ed &amp; ben assisting here were very encouraging and safety was their first consideration.the swimming paradise is just that, very well thought out and again very safety concious.loved the pottery painting and we all surprised ourselves at how well they turned out. a great week-end enjoyed with three generations of the family. thank you longleat centre parc. already booked for next year.\n",
      "\n",
      " c94362b85aefaf13ba380bca3605744b\n",
      "2013-03-24 00:00:00 this was our 4th break to longleat centreparcs and it was fantastic yet again! we booked an executive lodge which was situated behind the plaza (swimming,bowling, restaurants and shops). we booked several activities online for while we were there. these included pottery painting, quad biking, spa, mini ballerinas, bollywood dance and bowling. i would recommend all of these activities but be quick doing the bowling as it is timed and once you have had 45 minutes they turn your lane off! we couldnt finish our game :( the shops are all reasonably priced as are the take aways and the restaurants. i would recommend the italian and spanish restaurants but not cafe rouge. the service was very poor and there was no atmosphere. in the tapas restaurant you get live music! overall a fantastic family holiday with lots to do!\n",
      "2012-03-29 00:00:00 we holiday for 5 days in march every year at longleat forest center parcs with our family and friends. this year there was 8 of us including couples, parents and children and every one of us enjoyed it thoroughly. the pool and swimming facilities are brilliant fun, the spa is amazing and so relaxing and the restaurants are fab. there is a train that takes you around the park every 20 mins so you can hop on and off as you wish and there are so many activities to book while you are there, my 2 year old attended mini ballerinas, a painting session and a pottery session, while my mother in law and my friend did tree walking. we also played pool, had drinks in the sports cafe, there is bowling, a kids club and much much more!! we booked a table at the tapas restaurant for our final night and although the service was quite poor the food was lovely. (the cocktails even better!!)overall a lovely break, lots of fresh air, walking, cycling and laughs!!\n",
      "\n",
      " 7a73d70fa248d50e397f9e428c62cbaa\n",
      "2010-09-29 00:00:00 stayed for a full week this time and still plenty to do with our 4 year old. the 'executive' accommodation was good though could do with a deep clean. the indoor facilities are great for a small child but could do with a bit of updating the decor etc seems a bit old fashioned and the poolside menu really needs an overhall. nonetheless a really good stress free break. our son tried a bike for the first time and the men at the bike hire shop were really helpful.\n",
      "2010-05-07 00:00:00 stayed in a new style executive lodge, i was a bit apprehensive because of some of the adverse comments re cleanliness but it was fine, not perfect but as clean as my own house at least!staff very friendly. loads to do. our 3.5 year old loved it all including the time out club.the park is hilly and i'm apparently very unfilt as i found the cycling rather hard going. i might just stick to the land train and strolling next time. went for a walk at dusk last night-very quiet apart from the birds-lovely.\n",
      "\n",
      " 9c1a84378730c840429a1acf587d170e\n",
      "2012-11-10 00:00:00 i returned from a week at center parcs with 2 children very happy. i was a bit worried it would not be the same having gone last year but i was definately not disappointed. we arrived early in order to collect our hired bikes and explore to find the location of our cabin. i was initially downhearted to find it was the other side of the park but found this to be beneficial for spotting wildlife on our patio. it is quite hilly at center parcs but i find this to be a good point as we got to explore more of the grounds.a few activities were booked which can get expensive but as a family i find being able to book activities we can all do together is a bonus.the kids thoroughly enjoyed the pool, we tended to go in the evenings when the younger children were gone home (mine are 10 and 9) so it was not as busy. swimming in the outdoor pool at night is a must to enjoy the lit up trees.it did rain a few days but it did not stop our enthusiasm in being able to enjoy the outdoors. all the staff were very friendly and helpful with any queries that we had.we have booked again to go next year during the summer holidays, the downside to this is the price but we are sharing a cabin with another family which makes the price better for us.\n",
      "2011-10-01 00:00:00 as soon as we entered center parcs we were warmly welcomed by the staff who were very friendly. the accommodation provided was very clean and comfortable and i could not fault anything about it. all activities were easy to book and there were plenty to choose from to suit all ages of the family. after a day of activities we were all able to enjoy hours of fun in the swimming pool which included both indoor and outdoor heated pools. the children were tired out in the evening and slept well in the very comfortable beds which they did not want to get out of in the morning.we were constantly on the bikes and used them to travel around the whole park, there were plenty of bike parks to leave your park while we explored on foot or used facilities. i would definately recommend hiring a bike for the week as they get used a lot. a bike lock is also needed to keep bikes safe whilst parked up.there were an array of restaurants and cafes available if you do not want to cook at home, although the mini market does provide reasonably priced groceries for those that do.cars are kept in the car park during your stay which makes it safe for children to ride and walk around the park, however, it can get busy on a monday and friday when cars can come ont the park to unload luggage. i would recommend taking swim bags on the first day and going swimming for the day before unpacking as it can get busy in the car park before 4pm.kids have said its their best holiday ever and we will definately be returning next year.\n",
      "\n",
      " aaa1d263d1373aa692c8f1ad7cf6893f\n",
      "2013-02-09 00:00:00 just got back from longleat centre parcs, 4 - 8th feb 2013. just wanted to praise again longleat for a lovely stay! the apartment redwood was very clean and decor was smart. the beds were comfortable, duvets were a bit lumpy. we spent most of our days swimming, so was so tired the comfy bed was lovely at the end of the day. all the staff are very friendly, lifeguards, in the restaurants even the cleaning said good morning. when i had a visitor to the room, they sorted the experience professionally, because my daughter would have reacted not so well. we visit mainly the pool, so cannot comment about other activities. the fact that there are no cars makes the experience more pleasurable and make you appreciate a different way of life. the site seemed very full even for february, the site seemed so well organised that change overs seemed seamless. we will hopefully book again for next year.\n",
      "2012-01-16 00:00:00 we stayed in a villa, self catering at centre parcs. it is a huge site, and seems quite daunting on arrival. the staff are very friendly and the site is very organised. i suppose it has to be - because of the volume of people visiting, we went in jan 2012, and was quite surprised at how busy the site was, but not over bearing that you did not have to wait to be served, or use of the facilities. the only bug bear is the fact we had our dog, so there is a long walk to the villa from the car park, if it's dark and not sure where to go can be a bit difficult. the site is well lit, so did not need our torch most of the way.once we settled into the villa and got to know the site, it was wonderful. the staff are so friendly and helpful. it has a magical feel even in january. the accommodation was fair, but we were in a budget villa, the accommodation was very warm, so we did not need to use the log burning fire. the woodland walks were beautiful. it was very relaxing and would definately go again soon.\n",
      "\n",
      " 738afe79f6cb301400ba9446e4d46e28\n",
      "2012-07-31 00:00:00 i have come here for the first time in summer after visiting last christmas. this place is incredible bad value for money and while i would do the christmas one again, i would not waste my time on doing this for a summer holiday. first of all i booked a house and it was £300 per day for a week holiday. the inside is tired, floorboards creaky, it's generally dirty and in need of refurbishment. everything about this place is poor value for money. silly things like a barbecue, we wanted one but you have to buy there disposable ones at £7. you cannot cook a burger on these rubbis ones. the activities, high ropes £25 per person which lasts for 45 minutes. for that you can go to longleat which is 2 minutes up the road and you get a full days entertainment and it is amazing. don't bother with takeaway food here as it is not cooked but reheated at inflated prices. restaurants are priced on another planet and the indian was not even open last night so it's not just me that has this view. in times like this when money is hard to come by, value for money is important and one week here is well short of this. next year i will fly abroad and have a lot of change left over. by all means go for a short stay, but the week is a con. the swimming pool is good, sports centre is good and site is good, it's just the price. it is not worth the money. please take the time to visit attractions off site otherwise you will be skintight at the end of the week.\n",
      "2011-11-15 00:00:00 first time at center parcs and will not be my last. the staff were all more than helpful, the place was excellant and the site was on another planet. i was so impressed i will be gong back in a couple of weeks. tehey will have a hard job improving what they have done as its as near to perfection as i could find. keep up the good work and no i dont work for them or own shares. i wish i did !!!!\n",
      "\n",
      " 3c3417532db7b3e6726ed5923f399faa\n",
      "2012-10-05 00:00:00 we have been visiting centreparcs for many years now, rotating between longleat and elvedon, and our children have grown up through the activities from babies to now the gladiators challenge and laser combat as a family. we always say you can 'do' centreparcs as cheaply or as expensively as you want, but that it is always great value for money. however this time it appears centreparcs are starting to get 'greedy' and have tipped the scales in favour of profit over service. the pool was colder than it used to be, the prices in the supermarket more expensive, you have to pay to hire equipment and 'buy' shuttlecocks, there was no fishing tackle to hire, no one answered guest services telephone for the first two days, the 'new style' accomodation is looking very tired and really shouldn't be called that any more. the sofa is nearly on the floor and the beds are sagging. we had a great time, i went wind surfing for the first time and provided huge amusement to many watching, my 10 year old managed the 'leap of faith' and we learnt fencing, amoungst many other things. centre parcs is a place where every visit should make great memories. come on management, stay true to what centre parcs is about and don't let it become just another tired, jaded site where you have to hold your breath when you put the key in the lock to see if the accomodation is good or bad. we want to carry on coming for many years, but we won't if things don't change.\n",
      "2012-01-16 00:00:00 interesting the visitor mix has moved from over 90% families to include a high percentage of young adult only groups. this was not a problem, but could become so if the trend continues as the advantage of centre parcs is the family culture. however the accomodation, site, food, activities and service as always were perfect. we will be back in october.\n",
      "\n",
      " 0643818235ab8266d18bc5cf5de189ba\n",
      "2013-01-25 00:00:00 just returned from an amazing trip to center parcs, longleat forest!! we stayed in an exclusive games lodge which was fab - great having the hot tub in the snow!! staff were great and very helpful - all the roads and paths were cleared of snow and well gritted. only downside was they had to stop the land train on tuesday night because of a heavy snowfall. part of our group had a reservation at the aqua sana and struggled to get there - again great customer service - they rebooked for the following day instead!! we really love center parcs and we're already looking at booking for next time!!!\n",
      "2012-01-23 00:00:00 we always have a great time at center parcs - its great to get the family together! great activities and a good range for all ages!\n",
      "\n",
      " 866279f2db39b2af5c73a7d847bd0fce\n",
      "2011-12-29 00:00:00 just got back from centre parcs longleat on what was our third christmas break there. it was never going to be as good as last year because we had the snow then , but wow, what a fantastic six days !!! we maximised our break by getting there at 10am and leaving on the last day at 4pm !! i got home and thought i had been in a time machine for six days !!! where did it all go !! the facilities were excellent, there were too many activities to do !! you simply have to try the zip wire !!! the restaurants were all great and every member of staff we met were great ambassadors for centre parcs !!!!\n",
      "2010-12-28 00:00:00 second time to centre parcs for the christmas break and what a fabulous experience. the real snow and cold weather made it even more fantastic. the kids (13,12 and 6) loved it, the grand parents (80 and 70) loved it and mum and dad are shattered and broke !!! the staff were friendly and helpful, we again tried to do too much (despite being five times veterans of centre parcs !!) 9.30am boxing day, minus three degrees up in the trees doing high ropes with the oldest two kids, fabulous sunrise, friendly instructors, overall experience was absolutely priceless..... 6 year old daughter talking to santa and telling daddy to put the fire out before bed was fabulous!! 13 year old son showing off on bike on the ice and falling off !!! hilarious !! white water ride at night when it was minus ..... 8!! outstanding !! cafe rouge last night dinner excellent especially the real ducks and fish !!! only down sides are the melee at 3pm which can be avaoided by just moving your car later, but you do need to keep off the roads at that time as you will most likely get run over and the method of booking which can be 'prescriptive'. we want to add two days to our visit next year but i absolutely refuse to pay rack rate for it when me doing seven days is clearly better for them than me doing five !!booked again for next year....\n",
      "\n",
      " ea3176c888c2069855982e9dcd30e860\n",
      "2013-03-19 00:00:00 went back to centreparcs for a weekend meet up with relatives - great fun! we had two lodges - the larger original style exclusive was brilliant for everyone getting together and the sauna and hot tub got plenty use (especially in the hail storm and the snow!) quad bikes were an exciting treat for our teenage boys and the instruction was excellent - thoroughly recommend it.only slight down side was just how busy it was - saturday morning the pool was almost impossible - its probably at capacity (even though this wasn't a school or bank holiday) this means that some areas really need some extra investment; the pool was not quite sub-tropical (in fact a little chilly with no sun shining) and our accommodation needed a spruce up (and an oven that worked properly). saying that still a very enjoyable experience and would definitely recommend it for family or friend groups\n",
      "2012-03-27 00:00:00 just back from a wonderful weekend break at longleat centre parcs. an opportuntiy for us to get together with family in other parts of the south of england - and have a whale of a tiem! admittedly it was helped by the unseasonable fantastic subshine which we thoroughly enjoyed!like most poeple i guess we took food with us which seemed a good idea as the supermarket on site is... well ok at best...they should maybe hand it over to tesco express or m&amp;s food.the activities are easily accessible and good fun. nice safe atmosphere and a real sense of care for the environment. booking bikes (or taking them) is a must to get most out of your experience. would certainly recommend it as an excellent break for family or a group of friends\n",
      "\n",
      " 30e88b1ee47ff715d1f3b42e7c9623cb\n",
      "2012-03-19 00:00:00 it was my step dads 50th birthday so as a family we decided to surprise him. my boyfriend, little brother and got to center parcs a few hours before my mum and step dad, so we could get the villa ready. at reception when you drive in, the staff were very helpful and said they would make a note on the system to advise it was a surprise and not to tell the next car that we had already arrived. we paid for the early check in before we went, this gives you 2 bike hires, a selection of shopping (for example coffee, milk, fruit juice, toliet roll, crisps) and you can get into the parc an hour early. would recommend this if you want the bikes as well. we were handed our key and directed on the map the way to our villa. we were the furthest away villas away from the car park and swimming centre. last time we stayed we were right next to the swimming, so this was a shame.when we got inside our villa, i have to say we were very disappointed. staright away you could see that it was run down and there was a very strong smell of damp. we were in one of the modern villas (again we stayed in the same style last time and could not fault it) and it was nothing like the standard of the villa we had last time we stayed. if we didnt know how good the villa could look, then it might not have been so bad. straight away i got on the phone to guest services, i wanted to try and get us moved before my parents turned up. guest services asked the problems, i explained about the tired interior, the smell, there was even mud all over the double doors, you could hardly see out. the whole place just needed fixing up and redecorating. guest services said they would send someone cleaners out and someone to look at the broken kitchen doors etc. i did ask if we could be moved as the smell was very strong and wasnt very nice. they said they were fully booked but if a cancellation does come up they will let us know straight away. sure enough the cleaners turned up very quickly, about 7 of them! they cleaned all around, strubbed the double doors and the kitchen floor which we were sure the smell was coming from. the tech guys turned up and fixed the fridge door etc. so they were quick to come and help. however the cleaning only masked the damp smell for about an hour. by the time my family turned up, it had come back. we had made the most of it and decorated the villa for my step dads birthday. my mum called guest services to chase if there was any further cancellation, no such luck.we went about as normal, we were out for the evening and when we returned the smell was really bad again. after speaking to guest services, they sent the technical guys out again, as we could see water coming up through the wooden floor in the kitchen and dining area. sure enough when they came out (which was very quickly) there had been a leak for quite a while and this was the problem and the smell. the leak was fixed and a we were left with some noisy equipment to take the mositure out. we had to leave this on all night and this resulted in my little brother not getting alot of sleep.the next morning we got a call from management to advise there was a cancellation, it wasnt a new lodge like we were in, but an older 2 storey type. we agreed to take a look.my mum decided we will move, the lodge was clean and fresh and straight away felt alot nicer. we were impressed that center parcs gave us £60 worth of vouchers to eat at a restaurant of our choice and they sent two boxes of chocolates and 2 bottles of wine.apart from the nightmare of the first villa and the hassle to move (as we were only there 3 nights) the rest of the trip was brilliant. we love the place and the outside swimming rapids are so much fun. the surroundings are lovely and very peaceful.would recommend eating in the indian restaurant by the lake as it is really good food and much nicer to eat there, than in the swimming complex. pancake house is a must, amazing pancakes!there is also a little train that takes you round the whole site, this is ideal for evenings when your all dressed up to go out. we would go back again, but we would need the accomodation to be as perfect as it was on our first visit.\n",
      "2010-08-01 00:00:00 myself, my boyfriend, my mum and 15 year old brother have just come back from a mon-fri break at center parcs, near longleat. we had an executive lodge, 2 bedrooms both with unsuite bathrooms and it was lovely. very modern. couldnt fault the accomodation at all, but then it was alot of money. it was in a good location, 2 mins walk to the swimming pool and plaza (this had quite a few restaurants in it). swimming pool was very good, there were slides and the best part was that there was an outside heated pool. this included a jacuzzi and pludge dip. there was also what they call rapids, this was brilliant, its like a lazy river but has slides included and is outside, the best thing in the swimming section. we only ate at one restaurant which was cafe rouge, on a whole we liked it, starters were lovely. inside the plaza, there is also shops and a yummy sweet shop.activities we did included laser quest, zip wire, quad biking, family quiz, little and large football, geocache and mini golf, all really good. the setting is lovely, with the lake and all the woodland area. if you are lucky you can see some of the wildlife and we saw some deers. you do walk quite far but this all adds to it, but there is also a free train that takes you around certain parts of the park. we took alot of our own food and would recommend as everything is quite expensive, there was a bbq in our lodge and that was lovely when we had that one night. i wouldnt bother with the takeaway service, we ordered a bit of everything and it was like tesco chinese/indian. just looked microwaved.would def go again, but it was very expensive.\n",
      "\n",
      " fd4c3644a573863997b580ccf70f1031\n",
      "2013-03-26 00:00:00 just as good as last year. customer service is excellent, swimming pool good fun for all ages, kids really enjoyed mini bowling (ages 2and 3). for us our lodge is near the pool which works best for us. hucks good and pancake house great, strada ok and sports cafe good.\n",
      "2012-07-19 00:00:00 stayed at longleat july 2012 in a refurbished exec. lodge. accomodation great, restaurants good but expensive, supermarket excellent, swimming pool, slides and rapids excellent, sports hall very good and varied, bike hire good, customer service very good - one of the games broke down with the kids about to win some toy eggs, when we told the manager on duty he bought two kinder eggs for them!we all thoroughly enjoyed our stay (four 30 something adults, a 2 and 3 year old and a 6 month old). plus we visited longleat safari on way home.\n",
      "\n",
      " e5be548033a93e1f6efe3bc31064e329\n",
      "2013-10-08 00:00:00 we had so many problems; fuse in kitchen went twice, dishwasher faulty, mobile scooter needed replacing, for a short break there was a lot of hassle.but every member of staff who assisted did so very well.the problems were raised and resolved.we had goods replaced promptly and some complimentaries too, so not unhappy.but - the pool is the main attraction and it is in a poor state, don't go with high hopes is my general advice.\n",
      "2012-10-02 00:00:00 first visit to this cp, 2nd ever. last weekend.we had 2 x exec 3 bed, all in pines. but - not on paperwork and no 'heads up' when booking, 1 was a villa £619 (means not refubed and really felt like a comfort plus standard), the other was a lodge £699 (refurbed, v swanky). far more than £80 difference in feel and facilities and actually very embarrasing when compared - we understandably assumed the difference was the facilities in the locations - not the fitting out - the lodge had a ''physiotherm''. [a what i hear you say? indeed, 'tis a grill that gets hot, you sit against it and get red and hot in a hot room. the promises/claims for the physiotherm are incredible, incredulous and a pile of bollocks frankly, soo don't bother - but shove the kids out of the way and have fun in the farty bath - jacuzzi].how did cp services handle our issue - politely but without clout, not impressed. we will take it up with the management.the pool area is small and felt a bit limited. rapids are fun, especially the people watching - happy hippos galore but fewer tattoos than recent other holidays! it is a happy place and always people watching the rapids, maybe the chance of a possible drowning holds some delight?the onsite shops felt expensive, of course.restaurants were expensive so we self catered which was fun if a bit limited by in lodge/villa facilities - limited perhaps to encourage you to venture into their 'rip off zones'?.the main area for improvement i'd suggest was signage - took a full day to work out best route to the pool, burned a few unnecessary calories that day cycling up very steep hills when a route around was easier but unclear to first timers!also - personal bugbear - mobile coverage is appalling, but then the cynic in me thinks hey give poor coverage and signal and people wait around more, drink more coffee, spend more money, buy more 'just incase items'. it was 'disabling'.top tip, if you are holidaying with a crumblie lady, grab them a tricycle bike - my very youthful mother was a sprightly mary poppins on hers, to the humourous delight of her adoring grandchildren. bikes if hiring (theft is a definite issue there)from £17 per trip for kids, adults £25, trike £29 with deposit. take own hats, locks are provided.remember to pack; - a back pack, when cycling to the pool or shops to carry stuff. change £1 for all lockers. reinforced underwear if unused to cycling. also a torch for night walks. bring own log burner packs and disposable bbq's as easy to use and costly onsite. tea towels, clingfilm, bag clips, washing up liquid, pool towels and plenty of spending money!we left silly o'clock monday and rather than cycle return at ridiculous o'clock i brought car in around 8pm and had no problems, thankfully, not alone in preparing with this approach.it is a world apart, you can leave troubles behind, especially as your phone is unlikely to work!!go again - yes we will, but will be very mindful of accomodation choices.\n",
      "\n",
      " ae0efee1a4a9d35072b08a3cff096e6c\n",
      "2013-01-07 00:00:00 just returned from a long weekend at center parcs. we've been a number of times over the years and each time our (now 9 year old) daughter gets more and more out of it. we stayed in a new exec villa in fir and it was spacious, clean and comfortable. the staff at center parcs were all friendly and efficient. the activities we took part in, laser shooting and geocache, were great fun. the hire bikes seemed to be relatively new and were all in good condition and clean. we ate in strada, cafe rouge and the grand cafe and all were good. i do agree with some of the other reviews that parts of center parcs are now showing their age and need updating. the pool and changing rooms continue to disappoint. they are tatty, dirty and far too crowded. some of the facilities at the jardin de sport need refreshing, including better lockers. i can see that many of the older villas really need updating or completely replacing. for me, center parcs longleat is at a turning point. it needs to spend some serious money to bring various facilities up to date and able to cope with the large crowds. building a couple of extra lanes in the carpark would help for starters. ultimately the inadequate pool will eventually put me off visiting if it is not rennovated. we really enjoy center parcs, so please invest for the future. management needs to think long term, not just about maximising current revenues.\n",
      "2012-01-13 00:00:00 we keep going back, so they must be doing something right! we have been to center parcs 5 or 6 times, mostly at longleat. for a family holiday it works very well. our 8 year old daughter absolutely loves it. i wouldn't go there if it wasn't for her, there are better alternatives at the price.it is a bit of a gamble with the accommodation. we tend to go for the new style exec villas. this time our 3 bedroom villa was very good. last time our 2 bedroom villa was quite tired and dirty. so there is a lack of consistency. being in the forest is lovely. we liked being way out in the fir area as it meant we had to cycle everywhere which my daughter really enjoyed. it is also a little bit quieter away from the main centres. cycling back after dark is a great experience.we found the staff to be excellent and had good meals in both strada and cafe rouge (the grand cafe was a bit hit and miss).the high ropes was a big hit with the kids and again the staff were first rate.i personally like the lake and all the activities around it.my biggest complaint about center parcs is the pool. now my daughter thinks it is fab, she loves the water slides and the rapids. however it is consistently over-crowded (we tried to go in the evening when it had calmed down a bit). the changing rooms are grim - crowded and dirty with rubbish showers. if they could just spend some money making them more pleasant, we would be a whole lot happier. also, they need to expand the pool given all the extra villas that they have built.so, in summary, a great holiday for the kids. you'll get lots of exercise and fresh air. what quality of villa you get is down to luck. prepare yourself for a crowded pool and dodgy changing rooms.\n",
      "\n",
      " 6f79f8336eb6ba0abe0af43c1069fada\n",
      "2013-12-09 00:00:00 i visited centre parcs with my children at the beginning of december, staying in a 2 storey lodge complete with sauna, along with my sister and her family. we were positioned in maple which was perfect as it was only 5 minutes walk to the plaza and 10 minutes up hill to the village square.. we started off each morning at the advent calendar which is near guest services, each lodge/villa receives a ticket and 1 each per child, offering anything from a mini hamper to a meal for 4 in one of the onsite restaurants. we then went swimming in the pool and rapids for many hours until everyone decided they were ready for lunch. back to the lodge for lunch and rest before resuming our fun in the rapids late afternoon.so much fun swimming late afternoon as the pool is floodlit (not too bright though) and much more fun swimming when dark.. we ate out twice during the week, once in strada which was lovely food, tasty and well presented so happy mum and contented children. friday we watched the pantomime which was very good and certainly entertaining- even my 16yr old was laughing and enjoying it.. the accommodation was ideal for the 7 of us, with 4 bedrooms and all ensuite, the children all had enough space to not crowd each other and could take themselves off to their rooms if they wished for 5 minutes quiet time.. the addition of an attached sauna was lovely and a perfect way to end a busy day swimming. the only downside was the décor seemed pretty dated and in need of a refurb, but they seem to be updating throughout the parc, so a minor flaw there.. it is our second stay and will definitely not be our last.. a great week well spent..\n",
      "2012-03-30 00:00:00 first time to centre parcs and it was a very needed and relaxing break. our four children loved spending time in the rapids and flumes( three hours daily). it was lovely to cycle everywhere and not worry about the car. we all thoroughly enjoyed ourselves and cannot wait for our next visit.\n",
      "\n",
      " 43f3323853e12abaa7510405ae991bbe\n",
      "2011-11-03 00:00:00 our second visit to center parcs, longleat forest. the first visit was at half term in february this year and we have just returned from a half term break. this time we were with both of our daughters and our grandson (aged 6) and three granddaughters (aged 7, 5 and 3).once again we had a whale of a time. it was great fun watching the children enjoying themselves. we spent quite a bit of our time in the pool, water slides etc. our daughters enjoyed a very relaxing three hour break in the spa while we wore ourselves to the bone looking after their children!when we stayed in february we had a comfort plus lodge which we were pleased with but this time we upgraded to an original executive four bedroomed villa. the decor is very similar to the lodge but with a lot more space. each bedroom had its own en-suite which delighted our seven year old granddaughter but i am afraid that the 'soap and water' facilities rather passed the other three by! the bedrooms were comfortable and a reasonable size. our shower compartment looked a little tired but the rest of the shower room looked as if it had been refurbished.the living area downstairs was open plan with a large dining table, sitting area and kitchen. the kitchen was a little disappointing. there were plenty of glasses, cutlery and china but a bit short on cooking implements. i mean to say - how can you cook a full english without something to lift the fried eggs out of the pan. guest services were always very busy and i did not want to waste time hanging around so i was unable to ask for the necessary and ended up buying a set of wooden spoons and spatula in the supermarket, which was no big deal.overall we were delighted with our villa. it had enough room for the children to run around and play and it wasn't so 'designery' that we worried about them spoiling anything. (not that they are ever badly behaved) we also paid a small supplement for a villa near to the plaza (no.923) which was only a few minutes walk away and made a great difference to our outings each day. we were very near to the village as well and the spa and sports area was only 10-15 minutes walk so everything was very conveniently situated for us. unfortunately we did not have time to use the sauna in the villa.we found the restaurants very busy and were glad that we had booked in advance. as before, we started off at ortega to get the holiday going and rounded off the week at huck's. in between we all went to strada on one night. at each one the food and service was great. we had taken quite a bit of food with us for the times when we planned to eat in so that we did not have the bother of having to decided what to eat/cook and then have to waste time shopping. we were unable to eat at the grand cafe as it was always full (note for next time to book in advance). the supermarket is good and well stocked with quality brands, not cheap own brands from a local cash and cary.once again we had a wonderful holiday - seeing it through the eyes of four excited children. there is always so much to do. we had the pleasure of seeing the deer grazing on the hill behind the villa and the excitement of seeing them at the same time on the following day - 'will they be coming back tomorrow?' (unfortunately, not)whether you think center parcs is expensive is relative. for us to be able to stay in one place where there is so much to keep all ages occupied or stay lazy depending on how the mood takes, then center parcs is the place. again, well done.p.s. four little children want to know when they are going to be going again!\n",
      "2011-02-26 00:00:00 we have just returned from a short half term break with one of our daughters, her husband and two granddaughters aged four and six. wow! what a great time we all had. this was our first centre parcs experience and it exceeded our expectations. we stayed in a comfort plus lodge. this was, obviously, one step up from the basic accommodation the only difference being it included a dishwasher and a dvd player - both of which were well used. we would probably opt for a higher grade lodge another time. (yes, we do want to go back) the forest setting was beautiful. two little girls were absolutely delighted to see a roe deer on our patio on the first morning.the cabin was clean and comfortable. we had a problem with the oven but this was fixed straightaway. being caring parents/grandparents we let our daughter and son-in-law have the double room. the twin beds in the other two rooms were suitably sized for the children but were a bit narrow (2ft 6in) for adults but we were all usually so tired out and ready for bed that we did not find the beds uncomfortable. the setting in longleat forest is fantastic. there is so much to do for all ages groups. plenty of places for the more mature guests to just sit and read the newspapers, drink a coffee or just watch the world go by. most activities are at extra cost but there is plenty to do, walking, cycling, swimming that won't disturb the bank. the site is very well organised. the staff are very much on the ball and, apart from one instance (more later), attentive to guests requests etc. the customer services training and ethos that centre parcs use is outstanding and needs to be copied by other service industries where such high standards are sadly lacking. the same high standard of customer service existed in the franchise restaurant outlets as well. well done everyone. the only place where we experienced less than that this standard of service was in the laundry. one of our grandaughters was unfortunately sick in the car on the way to longleat. my son in law tried to get the bag of yucky clothes washed soon after we arrived but the laundry was not operational until tuesday and the person he saw was less than helpful. however, everything was sorted out in the end.!we ate out a few times. cafe rouge and ortega were very good. we had snacks from made which were ok but nothing more and the same could be said for the sports cafe.overall we really did have a good time but i would like to make a couple of recommendations - (1) could twin beds be put together (on request) to make a double when required and (2) cycle routes. all the routes were very clearly marked out on the ground but became incomprehensible when looking at the map! repeat visitors will know where they are going but for first timers it can be very confusing. we all thought that a little more information - just to let guests know where the nearest cycle path is in relation to their cabin - would help. once on the cycle path the signs are very clear. it took us three days to work this out with a great deal of trial and error not to mention sweat of brow!!!that's all.\n",
      "\n",
      " a65f9b9b9d83ff8a0e354b1d1009f9f5\n",
      "2012-10-19 00:00:00 just returned from a week's stay in an executive games lodge. accomodation was excellent, as was the food in both restaurants we used - huck's and cafe rouge. we ordered a delivery meal, a mix of indian and chinese and this was as good as anything we've had in a restaurant and good value - recommended. staff as friendly as ever and activities good with one exception - 9 holes of 'adventure golf' was £15 for my son and i and it took all of 15 minutes to complete the course. incredibly bad value for money so we won't be doing this again. couple of gripes - people drive around the parc far too fast in the parc's own service vehicles and the visiting contractors/delivery drivers. this is dangerous and really needs to be addressed. there is supposed to be a 10mph speed limit which i assume is never enforced. the other one is about the noise of the traffic if you stay where we did (number 96 pines) as you are on the route to the back of the plaza and venue and deliveries from trucks is fairly constant. i appreciate they have to have deliveries but if the speed limit was observed (especially early in the morning) it would be appreciated... we were woken/startled most mornings by loud trucks. be aware of this, especially if you want some peace and quiet - you won't get it in lodges 96 to 100. other than that a super holiday with all the facilities you could need and relatively good value too. we will return? definitely, but we'll try a different location away from the traffic noise!\n",
      "2011-10-27 00:00:00 great holiday, stayed in one of the exclusive games lodges (number 96) which had it's own hot tub, sauna and steam room. the accomodation was very spacious, each bedroom had an en suite and the kids loved the games room. the maids called each day and even did the washing up, towels and bedding was also changed so we really didn't have to do much other than enjoy the holiday.good points included the incredibly friendly staff, especially those at the guest services desk and the arrivals lodge. nothing was too much trouble, they must be well looked after (or well paid..) by center parcs as the type of friendliness you get is quite unusual these days.activities we did were the treetop adventure and zip wire over the lake (cared for and looked after by the incredibly busy bet incredibly friendly and professional kirsty) and the falconery experience for the kids - good but take a coat with you if you do it as it's in a 'hollow' in the forest and the sun does not get to it.dining - well the pancake place was our favourite but get there early as it's always busy. bad points - if you walk, especially with a buggy or pram, you have to be prepared to dice with death with the cyclists (and there are lots of them..) as this is a real problem that somehow needs to be addressed - it's really not safe in my opinion. also, on the same kind of subject there is quite a lot of traffic passing where we were staying, delivery vehicles, cp's own maintenance crews and of course the people who can have their car next to their accomodation - there is a 10mph speed limit on site but i have to say this also needs addressing as you have to be very careful to get out of the way quickly as people drive way too fast on site. these two things (especially the mad cyclists) were much more noticeable this year than the last time we stayed which was two years ago.if you can stretch to one of the exclusive games lodges (or one of the new treehouses being built as we stayed) and can avoid the bikes and traffic then this could well be the only place you need to go.\n",
      "\n",
      " bf2fa0b508c719d4840171bf32ecfd96\n",
      "2012-11-12 00:00:00 this is our third trip to center parcs in the last 18 months and we are now very familiar with how things work!! our aim was to relax so we booked into the sauna spa for a three hour session..it was, as ever, divine and we left very chilled!!we were on a bit of a budget this time so we took our own food &amp; only ate out once at hucks diner..the food was very yummy. top tip..if ur having soft drinks get a pitcher for £4.25..u get about 4 drinks out of it and its cheaper than 2 individual drinks!! prices at center parcs are a little on the expensive side and we would have eaten out more/booked onto more activities if they'd been a bit cheaper. new for us this time was the winter wonderland theme with festive lights/snowy trees &amp; real life reindeer!! we were enchanted :-) there are currently two free fireworks displays a week which are carried out by the lake. the display was fantastic..probably one of the best that i have seen in real life..good job!!we'll be going back but increasingly conscious of the prices!!\n",
      "2012-05-12 00:00:00 my hubby &amp; i just got back from celebrating our anniversary at center parcs this week. this was our 2nd visit but first one alone as a couple. i love that u can book ur exact accommodation online so u know where ur gonna stay. our apartment was perfectly located &amp; absolutely lovely. my only criticism would b that the kitchen is quite small (more reason to eat out!). the pool/rapids etc are free and fab..we spent a lot of time in the water!! we pre-booked a spa session which was awesome..love the variety of steam/sauna rooms. also hung out at the jardin de sports which has a nice family atmosphere. the grounds are stunning to walk around. there is a gd variety of restaurants..we particularly enjoyed hucks american diner &amp; the pancake house. staff were all friendly, the whole place felt clean &amp; there is a massive range of activities available. brilliantly relaxing, beautiful place to stay &amp; very family orientated..thoroughly recommend a center parcs break for 2 or families..go go go!!\n",
      "\n",
      " dca8c4dfa97120ee567c954524986107\n",
      "2011-11-25 00:00:00 we have just returned from center parcs longleat, this was our second visit, we enjoyed it even more than last time, the swimming paradise was fantastic, so warm and great fun the children love the rapids, the hot tub is really warm. the villa was nice, we had a 2 bedroom exec, it was clean and had everthing we needed, the cupboard door was hanging off in the kichen, and the sink did not drain well in the master bath, but not really a problem.food and drink quite pricey, activities very expensive, but its a holiday so we expect to pay more. we had a very relaxing break and the children love love love it will go back!.\n",
      "2011-07-02 00:00:00 we loved the park, the lodge was nice we stayed in exec woodland lodge, quite pricey (714) for midweek break, but worth it, kids loved activities, also extra money tho, swimming paradise is so good! warm water plenty of room, rapids and whirlpools! wild life at the door, deer badgers all very tame. eating out expensive, but parcmarket very well stocked, no loud or rowdy people, we stayed in maple area (paid extra) horse riding was great, will be going back, maybe try the new tree houses!\n",
      "\n",
      " ad7eba0711a9a6da012b4de9f62ea714\n",
      "2013-08-26 00:00:00 great to return with our children 5 years older since our last summer visit. everyone enjoyed the tranquility of the villa and forest, and the mania of the rapids. also enjoyed the cycling and eating out, also dining in option. have already booked for next summer. beds could do with renewing but overall accomodation was outstanding and although expensive we think good value for what you get. good to be close to the plaza so everyone can go back and forth at their leisure. we enjoyed cycling to the jardin de sport and playing air hockey and table football before settling down to a drink at the sports bar. had a coule of outstanding meals at strada, but avoid fridays as the play area can be very noisy with the play pit which seems to take up half the area. dont know why friday was particulalry so, maybe last night treat? we will keep strada for midweek next year and order dining in on friday - the curry and pizza are excellent!reallylooking forward to our next visit.\n",
      "2011-12-31 00:00:00 having had 5 previous summer breaks to centerparcs longleat, this was out first winter break and decided to opt for one of the festive 3 day breaks, between christmas and new year, and to try the new woodland lodge. it was very expensive as it is effectively peak season. we were totally impressed by the woodland lodge refurb as we previously stayed in comfort plus. the decor is contemporary and plush, with forest murals and pastel-coloured walls. also a giant floor-to-ceiling wall-mounted blackboard which all the family had no end of fun chalking on throughout our stay - that was a real buzz. we felt a bit ripped off by the cycle hire charges which were £20 per bike for less than 3 days in effect, but still glad we hired them as it is an integral part of the centerparcs experience. my wife enjoyed a morning at the aqua sana which was excellent as usual. centerparcs had obviously gone to a lot of trouble to decorate the main areas with christmas lights which gave it a really festive air. of course the main atrraction as always was the subtropical swimming paradise, and principally the 'rapids' which our kids were addicted to, although it was busier than we had seen it in our previous summer visits. after 6 visits now i can confidently say we will return.\n",
      "\n",
      " 04cf7cbe76a0202922dbd76924040173\n",
      "2013-03-27 00:00:00 please read my first review of center parcs as well (october 2012)we went to center parcs longleat for the second time from mon 4th march to friday 8th march. we went as a family of 4, myself, my partner, our baby and my dad. we thought that we would take grandad with us this time so we could go down the rapids in pairs rather than by ourselves like last time since someone had to stay with the baby. it was no where near as busy as when we went in october. we arrived about 1.30pm, the same as last time. in october we had to queue for ages at the arrivals lodge to be let in and then queue again for ages at guest services to get our keys, and then queue for ages to get let in to the village at 3pm. however, this time there was only 2 cars in front of us and we were given our keys at the arrivals lodge in the car park so no need to go to guest services. again, when we arrived everyone was just hanging around the plaza waiting for 3pm so they could go up to the villas and so the plaza was chaos. however, we expected this after we did the same thing in october, so we went straight to the pancake house for lunch. there were only 2 other families in the pancake house because everyone else was in the plaza. the pancake house is about a 10 minute walk from the plaza (taking it slowly and with a pushchair). the staff in the pancake house were really nice (as were all the staff in the parc). the food was lovely, i wanted to substitute some items and this was no problem. when the pancakes arrived i didn't think that they looked that big but they completely filled us up. we ate them about 2pm and then didn't eat anything else for the rest of the day. my dad ordered a sweet pancake which looked really nice so i was planning on having the same for pudding but my savoury pancake filled me up so much i could eat a sweet one as well. we stayed in a new style woodland lodge in the fir area. neither of the times we have gone to center parcs have we paid the extra to be closer to the plaza or to chose our location. both times we selected the no preference option and i am glad we did. i do not think it is worth paying extra to chose a location. the fir area was a lot quieter than the pine area we stayed in last time and we saw a lot more animals in the fir area. in the pine area we only saw one squirrel but in the fir area we saw 2 deers and lots of ducks and squirrels. we stayed in a 3 bedroom lodge again and could not fault it. when we came in october there wasn't any new style woodland lodges in the fir area they were all comfort lodges. now quite a few of the old comfort lodges have been converted to new style woodland lodges and you can tell that everything is brand new. a lot of people on here have complained about the state of the comfort lodges but most of the time the woodland lodges are either the same price as or only slightly more than the comfort lodges so i would definitely recommend staying in the woodland lodge, and like i said they are all new in the fir area. on the first day after we returned the car to the car park we decided to time how long it took us to walk back to the lodge. it took us only 30 minutes but that was without the pushchair or baby. most of the time we walked around and yes it can be a bit of a long walk up and down hills but it was nice to walk around and see the place. we walked to the plaza 3 different ways, each taking between 30 and 45 mins. we used the land train when we returned to the lodge in the evenings and we had no problem getting a seat at any time. we ate in hucks, after booking in advance this time, (please see previous review), and the food was lovely. all 3 of us had something different and we all really enjoyed it. they also had plenty of facilities for preparing, heating up and serving baby food. yes the food can be slightly on the expensive side but all of the menus for all of the restaurants are on the website (as well as outside of the restaurants) so you know how much things are before you go. i think a glass of fanta was about £2.95 but we ordered a pitcher for £4.25 and it was enough for the 3 of us to have 1 1/2 glasses each so that worked out a lot cheaper. my only negative would be that it says on the menu that the desserts are for sharing but the one that we ordered was so small that my baby could have eaten it on his own. it was yummy though. the bill for the 3 of us came to £50 but because we had already paid a £15 deposit plus we had £25 come back soon vouches we only had to pay £10 so it felt like a really good deal. we took a lot of food with us but had to buy a couple things in the parc market. we found the prices to be about average, some things cheaper than at home and others more expensive. the reason why people seem to think it is expensive is because they sell brand items and not value items like a supermarket does. the swimming pool was a lot better this time of year than october. in october we had to queue 20 mins for a changing room but this time we went straight in each time regardless of time of day. a lot of people on here have complained about the pool being cold but we did not find it cold at all, it was much colder in october. yes the temperature did vary considerably from day to day but it was never what i would say was cold. however, on the wednesday the outdoor pool was extremely hot so the other days felt cold in comparison but it was plenty warm enough. we spent a few hours in the pool each day with a baby and the temperature was fine. a nice surprise was that on the last day (when the land train) wasn't running a mini bus was provided from the fir area to the car park for people to collect their cars. i would definitely recommend center parcs and i can't wait to go back again. people seem to complain about the prices of everything on here but the prices are all on the website so you can budget for things before you go. also, people have complained on here about the number of toilet rolls they get and also that they are not allowed into the villa until 3pm and other little things but again all this information is on the website so this is not a surprise when you get there. there is a section on the website for first time visitors so make sure you read this before you go and study the menus etc so you know the price of everything. all the staff we lovely and helpful, with the exception of one. a young woman that worked in the clothes shop in the plaza completely shocked me. when i was looking around the shop a little girl about 4 years old came running into the shop crying her eyes out and screaming &quot;mummy where are you?&quot; over and over. the woman that worked there asked the little girl if she was lost and the little girl said yes, to which the woman replied &quot;oh well never mind&quot; and then walked away from her. i was completely shocked, i have never seen anything like it. the little girl then ran out of the shop still crying and shouting for her mum. i did follow the girl to help her but just as i caught up with her luckily her dad found her.like i said i cannot wait to go again\n",
      "2012-10-18 00:00:00 we just recently got back from our first center parcs trip and we are already looking into booking again for march. after reading some of the reviews on here before we went i was a little worried but we had a brilliant time and can't wait to go again. i cannot fault the place at all. i have a few little niggles if i am being really picky and there are a few things worth knowing before you go but like i said it was a brilliant holiday. we stayed in a 3 bedroom new style woodland lodge in the pine area (367). the lodge looked exactly like it does in the pictures on the website and we loved it. my only little niggle is that the water in the lodge wasn't drinkable and was full of lime scale, however, i may just be being really picky because where we live the water is drinkable, but we were able to buy bottled water in the parc market at an average price. also a point to note is that the microwave was too small for our baby's bottles and steriliser but we anticipated this after experiencing this problem before and took our own microwave. but apart from that the lodge was lovely. it was about a 15 minute walk from the plaza and that was taking our time with a pushchair. lots of people on here have suggested getting a villa near the plaza but it can get rather noisy the closer you get to the plaza so the middle area is a good compromise, no noise but still only a 10 minute walk to the plaza. on the center parcs website when booking, there was an option to pay an additional £49 to book a lodge in the middle area, we did not do this and just chose the &quot;no preference&quot; option and we were still allocated a lodge in the middle section. when we arrived on the monday it was a bit chaotic but that was too be expected. we went on the 8th october and even though it was during term time there was still an awful lot of children there, probably because of how expensive it is to go during school holidays, so just be aware that if you are going during school time hoping that it will be quiet this wont be the case. i have noticed that a lot of people on here have commented on how expensive everything is but the cost of all of the activities and all of the menus from the restaurants are on the center parcs website so you are able to budget for this and it is not a shock when you get there. we decided to take our own food and eat all our meals in our lodge to save money and the kitchen was more than adequate to do this. we did buy a few extra items in the parc market and we were pleasantly surprised with the prices of things. some items were more expensive than in our local supermarket but many others were either cheaper or the same price. while we were out at longleat safari park we decided to pop to a nearby tesco to pick up a few items as well. even though we were not planning on eating out we still did on two occasions. we had lunch at the sports cafe, just because we happened to be there when we got hungry and the food was lovely and so were the staff. however, i do think that £19.95 for two sandwiches and 2 drinks is a bit much but we were expecting to pay this amount. on our last night we decided to treat ourselves to a meal out and i would strongly advise you to book if you decide to eat out. we did not book and got turned away from hucks because we did not book, even though the restaurant was almost empty and over an hour later the restaurant was still almost empty. we then went to ortega and again because we hadn't booked we were told that we could only have starters and had to be gone within the hour. again the restaurant had lots of empty tables that were still empty when we left. the food was lovely though so we will definitely be going there again just this time we will make sure we book first. we hired bikes but we wont be doing this next time. i was only advise you to hire a bike if you are an experienced rider, i have not rode a bike in over 20 years and center parcs is not the place to try to learn how to ride a bike. there are paths that are just for bikes and others just for people but a number of times i got forced off my bike by people walking on the cycle paths, which are extremely narrow and i also got forced off my bike by someone on a bike coming the other way because the path wasn't big enough for 2 bikes. we also had to spend the week avoiding cars while we were out on our bikes. center parcs say that you are not allowed to drive your cars around the village but there were a considerable number of cars and also staff vans driving around every day. the people in the lodge next to us used there car all the time and even parked it outside their lodge rather than in the car park which did annoy me a bit. we went swimming a couple of times and we were expecting it to be warm since it is called 'subtropical swimming paradise' but it was extremely cold. also the first time we went we had to wait 20 minutes for an available family changing room, but the second time we were able to go straight in. the actual pool and everything inside it is really good and we had a lot of fun but like i said it was freezing so we couldn't stay in too long with a baby. like i said at the start we had a brilliant time and the points i mentioned above are only because i am being really picky and we can't wait to go again next year\n",
      "\n",
      " 7373549a86525294e66fb5329fc31d3a\n",
      "2013-02-12 00:00:00 relaxing holiday! or if you want it to be full of energy this is certianly possible! kids realyy enjoy as there are many activities for them to choose from. however these do come at a small charge which can turn the holiday into expensive!! village is very clean and gives off a very pleassant atmosphere with no cards bring used. there are either bikes to used or walking but both are suitable as your time is relaxed and you dont need to rush.\n",
      "2012-02-20 00:00:00 it can be relaxing but also energising. enjoyable time away as a family lots or little to do. nice bike ride around the park area. can be expensive if eating out a lot but supermarket on site if planning evenings in.\n",
      "\n",
      " 1d7642f83ff73e9c03e1a1dd5b5188d4\n",
      "2012-01-09 00:00:00 we've been coming here for 13 years now. a lovely, chilled out relaxing weekend.staff are all approachable and helpful. villas are always cosy, warm and very clean. the beds are very comfortable.we are always very sad when we have to leave.\n",
      "2011-05-03 00:00:00 lovely setting. accommodation is spotless. there is so much to do, its hard to fit it all in. its great for older kids because they can have independance. its busy in some areas, but you can always find a space. the kids love the pool, watersports on the lake and sport in the jardin. restaurants are very good but the parc market is very well stocked. we've been going for over twelve years now.\n",
      "\n",
      " b174d2fde319b95096d724fb5c96561d\n",
      "2012-03-05 00:00:00 just returned from a weekend break - booked last minute, did the school run on the friday night and headed straight off to longleat before heading home late on sunday. i don't know why we've not thought to do it before at such short notice as we saved a small fortune and means we won't ever pay the over-inflated kids' holiday prices again! now i've got my head around the fact it's little more than butlins for professional types, i have no problem with the place. if you don't set the bar too high, you won't be disappointed. it's expensive but there's plenty to do and lots of choice when it comes to eating out. if i didn't have a child i don't think it's somewhere i'd go out of choice, but as a family-orientated destination, it's hard to beat.\n",
      "2011-09-06 00:00:00 we've been to center parcs longleat twice and are currently planning a third trip. the first time i absolutely hated it as it went there with all the wrong expectations - i felt trapped in a glorified holiday camp. the second time i knew what to expect and treated it as i think i should have done the first time - a forest park for children (or adults if you're in to the whole spa thing). this time i loved it. i knew what to expect and my son (and husband!) had the time of his life. we had a real, quality family time. it is an absolute rip-off, but as long as you go in with this in mind you won't be disappointed! the swimming pool is superb, many of the on-site restaurants are fabulous quality (but pricey) and the sports facilities are brilliant. book well in advance to secure the best deals. and you don't need a bike to get around; fun, but not vital. that said, it is on a hill so book accommodation closest to the pool if you're not prepared for a hike.\n",
      "\n",
      " 760f9d6b027bf2382870720fcbf14627\n",
      "2012-01-27 00:00:00 just come back from a week at centerparcs. good points-not far from home, holiday without the travel hassle.a quality place, lovely scenery, comfortable contemporary styling in the executive villas, plenty to do, nice outdoor playparks for the children, pool good fun, our little boy loved being chauffeured around in his trailer.bad points-service is patchy, our little one was staring through to another room with loads of toys at the time out club, however when i popped in to enquire when we could book a session to play with the toys as he was so interested, i was told we weren't allowed in quite rudely. the restaurants seem a little sniffy over making sure you booked a table, however are only about 60% full.overall however a great place to go.\n",
      "2011-06-27 00:00:00 we stayed here as two couples with two babies of 1 year old. the resort is lovely, with great attention paid to quality. the new style accomodation is lovely, very contemporary, with beautiful forest views, and all conceivable amenities. we loved what was available, the pool is enormous, and has so many different areas, there are toddlers and childrens pools, an outside pool, hot and cold plunge pools, flumes and various slides etc. the cycle paths are excellent, with lovely boardwalks down to the lakes, and lovely cycling through the forest. we saw ducks, rabbits, birds and deer (!) on our patio every day, which the babies were bonkers over. the local horse-riding stables has excellent hacking and was very enjoyable, and we also enjoyed the owl encounter and baby tadpoles swimming. center parcs has a fantastic business model, however they do squeeze money out of their customers, with some pretty greedy pricing. aqua sana treatments are much more than you would pay in many 5 star hotels, and some activities like the pottery painting with children are very steep, £6 for adults and £3 for children, then the actual items on top of that, and given that they were only simple moulds, at least £10 each is a lot.i would definitely recommend going there, and will go again, as it's in a beautiful location, very relaxing and has loads for children to do, however i would be choosy over the activities which you pay for. there are plenty of free things to do, the swimming pool, loads of adventure playgrounds, picnics by the lake etc.\n",
      "\n",
      " 8bf9981725db168b7430642c4bb384f9\n",
      "2012-08-12 00:00:00 i wrote a review on here following our last stay back in february half term, and said we would never be back. after some pressure from my husband and daughter, and in need of a last minute break, i booked center parcs again for a week at the end of july - and i am very glad we did. i felt that our experience this time was a true cp holiday, in that our villa was a bit further out than we had previously been, and so we made full use of our bikes and trailer for the little ones. we decided that we wouldn't book any activities for our stay due to the inflated summer holiday prices, and that we would content ourselves with the swimming pool and crazy golf! our villa was spotless, we stayed in 437 in pine, and my only moan would be the condition of our duvet, which was horrendously lumpy. the swimming pool was no busier than when we have stayed out of season, and we were always able to find a clean family changing room - something we were never able to do before. the kids had a wonderful time, our youngest are 1 and 2, and the kiddy pool was far better suited to their needs than on previous visits - them being a little older makes all the difference. we ate on several occasions, at ortega twice, the grand cafe, cafe rouge, and strada, and all of our meals were great. the grand cafe was close to our villa, and so we made full use of their children's park outside while we sat in the sunshine - it felt like a proper holiday this time. we felt that strada especially cater for families very well, and their children's menu was better than the average 'everything with chips'. i was a little concerned that we would struggle to get tables, having read reviews on here saying you need to book everything, even meals out, in advance, but we booked nothing and always managed to get a meal. all round, we had a wonderful time, and although we will return at some point, we have decided to give sherwood forest a go next time, just for fewer hills!\n",
      "2012-02-24 00:00:00 we stayed at longleat over the half term break, following a fantastic trip there last summer. we were booked into a woodland lodge in the pine area, as we were in the same area last year and found it perfect for families like ours, with buggies and grandparents in tow - it is completely flat, and very accessible to the plaza. unfortunately our villa, although the beds had clean sheets, and the kitchen cupboards had clean crockery in them, looked rather tired, and on closer inspection was actually very dirty. skirting boards hadn't seen a duster ever by the looks of it, the feet of the settee were surrounded by dirt, and when i reached under the settee to retrieve one of my children's toys, found a whole host of dirt, rubbish, and wrappers left there by the previous occupants. one of the sofa cushions had a huge sticky purple stain on it, and had obviously just been turned around to save them the bother of cleaning it. on the sunday morning, our fire alarms started going off, and my god they were deafening. we had two babies with us, both of whom were absolutely terrified, and nothing we did could stop the alarms. i rang the emergency number for guests, i rang guest services, and i rang accommodation services. none of the numbers were answered, despite being advised by guest services later that week that the emergency number must be answered within 3 rings. the following day i rang guest services to request a clean single sheet for my daughters bed, was promised that one would be dropped in by housekeeping, and it never materialised. the final straw was on our last full day when we were advised on arrival at aqua sana, that the bookings we had made were not on their system. my husband demanded a refund and the girl on reception then turned to her colleague to ask if she should delete the booking before refunding - i thought there was no booking?!we definitely left feeling short changed this time. everything costs a fortune. we ate out at each of the restaurants while we were there, and felt that the only meal that provided value for money and tasted delicious was the prix fixe £8.50 for 2 courses we had one lunchtime in cafe rouge - though the service was extremely slow and nobody seemed to know what was going on!for a week costing £1700 we realised we could have stayed in a 5 star hotel, enjoy exceptional service, food, and entertainment on our doorstep, and still have money left over. centre parcs markets itself as the uk holiday destination for the middle classes, but they are losing their hold on the market, as options like butlins and haven up their games. we have received a letter from their complaints department this week offering £50 off our next stay. too little too late. we will not be going back.\n",
      "\n",
      " 80102b2b3c505c1a8fcc00b6059c67f2\n",
      "2013-10-22 00:00:00 another great weekend stay, cosy villa well located and great activities. the ad slogan used to be the 'holiday the weather can't ruin' and try as the weather did by lashing with rain, it still seemed fun to cycle round the village, if a little tiring at longleat. aeriel adventure a smash with the kids and young son would have quad biked all day, but as always rapids in the pool the continual attraction for the children. food seems to have gone up a notch, made the effort to book hucks on a saturday and had a great evening, staff really friendly and food good. the curry from dining was also good and making the effort to collect saved on the cost. it is not a cheap holiday, but by going weekend before half term much better value, and you do spend in every location, some leisure activities are a bit too expensive, but as always left looking forward to a return trip.\n",
      "2013-03-05 00:00:00 great holiday for kids and adults, very comfortable villa with much improved furnishings and really comfortable beds. the swimming pool, rapids and waterslides are a real winner now kids can swim better, and climbing together as a family was a great experience. daughter loved time out creativity. some meals not great, cafe rouge, but strada and pancake house were both very good. will certainly return as this is a safe and fun holiday for us all\n",
      "\n",
      " 0be3f96a5de47b8f362e31c3acf026a0\n",
      "2013-03-16 00:00:00 just had another great week at center parcs. parents and kids worn out but i'm sorry to have to say on this visit we all felt the park was showing wear and tear and the accommodation was far from &quot;executive&quot;. chewing gum under kitchen work tops, huge spiders cobwebs behind bedrooms mirrors and missing skirting boards is not what you expect to find. some parts of the park were also showing a lack of attention. a big shame.\n",
      "2011-05-27 00:00:00 great for the kids and adults and fantastic outdoor activities which we all thought were a bit pricey. nothing opens until ten in the morning and when you have young kids this can be a bit of a pain or if you looking for an early morning gym. the food and service is good but not very many healthy options which is surprising considering cp push the healthy outdoor life style all the time. the pool or subtropical paradise is great and keeps adults amused for ages. i'm going again. seeya there.\n",
      "\n",
      " ba806cac0b6968f21d96bb0e99fc38a4\n",
      "2013-03-05 00:00:00 we have just had our second trip to longleat and again had a wonderful weekend. as a family of 8 adults celebrating some special birthdays we spoiled ourselves and booked an exclusive lodge which had 4 ensuite bedrooms, sauna, steam room and outside hot tub. it was fabulous! we were able to park the cars right at the front of the lodge too. the accommodation was spacious, well-equipped and clean and looked out over the woodland. we were thrilled to catch glimpses of a deer early every morning and enjoyed feeding the birds and squirrels.we ate out at ortega and rajinder pradesh, both of which served us lovely meals. we also did badminton, snooker, aquarobics and cycling as well as swimming. we were disappointed that the water temperature was quite cool and the rapids very cold and this sadly spoiled our fun a bit. mind you, it meant we spent more time in our hot tub so it wasn't all bad! the only other negative was the lack of cleanliness in the public toilets near ortega.the girls in our party did the jewellery making on saturday afternoon and it was really enjoyable and we all came away with lovely earrings and necklaces or bracelets. we also did the family quiz on sunday and we won!we would always recommend center parcs as great breaks for families of whatever age and we will certainly be going again.\n",
      "2012-02-07 00:00:00 another great family break at cp. our first time at longleat and it did not disappoint. excellent range of activities, great choice of restaurants etc and the staff were all so friendly and helpful. our villa was cosy and really well-equipped and we enjoyed cycling as we were not very near the activities although some of the hills were challenging. as a non-biker i was thrilled to be able to hire a trike to get around and it was great. the land train is also a good way to get about and is fun. we loved the pool and especially the rapids and played adventure golf in the snow which was a laugh. the family quiz was very good and worth doing. can't wait for our next visit!\n",
      "\n",
      " aa854f03f9194f3a4e2dd6fffb380d3e\n",
      "2013-08-06 00:00:00 we visit centerparcs longleat annually as a family group of nearly 20, mixed ages from 5 up, and every year it is brilliant fun. this time we stayed in a two storey villa, roomy and clean but in need of an update decor- wise. for the cost of the accommodation i would have expected a bit more. all rooms have ensuite though, and that was great for our mix of families. we loved the pool as always and the kids did the aerial adventure - not cheap but went down brilliantly.eating out at centerparcs has always been on the pricy side and i've always accepted it really as par for the course - we go into it with our eyes open and you can always self cater a bit, which we did. however this time i'm docking a star because i really feel it's pushing it now price-wise in the restaurants. even the kids meal options are around the £6 mark. the worst offender was the sports bar - at least with the other restaurants the food and service quality was good, but here the food was really ropey and the service poor. a side of chips was £2 for a tiny bowl (held about ten chips). we will be back, but really hope centerparcs will do a price check in the interim!\n",
      "2011-08-09 00:00:00 just returned from a weekend break with the whole family, party included 8 adults, 6 teenagers, an 11, a 9 and two preschoolers. the place had something for everyone and in particular the pool was a huge crowd pleaser. have already booked up for next year. it is hard to find a holiday that works for all our kids across the age groups but this ticks all the boxes. yes we thought the restaurants were overpriced but food quality was very good and there is the option to self cater as much or as little as you like to keep costs down. we had a bbq one night and ate breakfast and often lunch in the villas. one issue we did have was that we booked hucks one night, paying a £30 deposit. when we came to pay this wasn't automatically deducted and because we split the bill we didn't realise until after we'd paid and left. when we returned ten minutes later it wasn't a straightforward procedure to refund this. i feel the onus should not be on the customer to flag the deposit up when it must show on the electronic booking. also watch out for discretionary service charges, they are added on and you have to opt out to avoid paying them, 10 percent in some cases. i feel this is uncalled for as the food is highly priced anyway.despite these minor grumbles the holiday was loved by all and we can't wait to go back.\n",
      "\n",
      " f23d790025fac59eec4751a4a013983c\n",
      "2012-12-28 00:00:00 we have just returned from centerparcs for xmas and have had another magical time.my 7 year old had a great time in the time out club and the staff there were brilliant.my husband and i took advantage of the wonderful aqua sana spa and our teenagers had a brilliant time paintballing.the entertainment was fabulous and we found the staff extremely helpful especially when the pantomime had to be changed at short notice.our accomodation was comfortable and clean,this was our third time to longleat and we'll definitely be going back again.\n",
      "2011-01-25 00:00:00 after spending christmas 2009 at centerparcs longleat my husband and i decided to book a weekend break to celebrate my 40th birthday.we arrived on friday and after checking in were directed to our accomodation. we arrived at a secluded lodge hidden in the trees and overlooking a small lake. upon entering the villa we were welcomed with chocolates,champage and a beautiful flower arrangement. the villa was exceptionally clean,decorated to a high standard and had a fabulous spacious bedroom with ensuite.after relaxing with a glass of champagne we headed down towards the aqua sana spa and arrived for the twilight spa experience. this was fantastic, with turkish baths, indonesian steam baths, saunas, meditation rooms, an outdoor hydrotherapy pool, experience showers and foot baths we were in pure heaven and had three hours of pure bliss. after finishing our spa time we headed to the indian restaurant, rajinda pradesh and had a fabulous meal(one of the best bhunas i've had)!the following day we had a long lazy lie in and then headed back to the spa where we had a serail mud treatment,we had loads of fun covering each other in mud and then steaming it off! after chatting to the therapist that i was 40 on sunday he brought us a glass of champagne and we chilled out in the relaxation room. we had a delicious light lunch in the zilli cafe and then i had a pristine pedicure while my husband was pampered within the steam rooms. that evening we ate in hucks, an american styled diner and were treated to fantastic food but couldn't quite eat it all as there was loads of it!on sunday we had a champagne breakfast and then spent the day at the tropical swimming paradise, where we enjoyed the outdoor flumes and heated outdoor pool,there really is something fabulous about swimming outside in january! for lunch we had a wonderful light italian meal in strada.finally we returned to the spa where we were booked into have a bliss treatment.this was a dual massage and we had a foot ritual, followed by hot stone massage, scalp massage and all followed by champagne and chocolates. the therapists also gave us a complementary 3 hours in the spa where we languished before heading to the fabulous ortega restaurant and celebrated over a gorgeous meal of tapas and sangria.the only problem with our break was that it went too quickly! this is our second time to centerparcs and i've heard comments before that its expensive, well i believe in getting what you pay for and i'd recommend this idyllic holiday to everyone.the accomodation is clean, the park easy to get around(if you're not energetic there's a land train).the staff are really helpful and the spa is one of the best i've visited in the uk.if you're looking for a relaxed break with pampering or for an active family holiday(which is what we did before) then this is the perfect location.the manager of longleat should be really proud of the staff there as every single person that served us made our holiday perfect.thanks centerparcs for giving me an amazing birthday,i'll look back on my 40th with wonderful memories.\n",
      "\n",
      " b67e2288b2522959715bdf92e57196ea\n",
      "2012-08-26 00:00:00 just returned from another break at center parcs longleat and must say the standards are slipping. my family and i have stayed here on numerous occasions and have never found any cause to complain quite the opposite we praise the place that is why we keep returning, but this time standards have slipped mainly to do with the cleaning. we rented an executive 2-bedroom lodge as usual, but as soon as we arrived i was shocked by how dirty the accommodation was the bedroom floor was shocking and way past needing a carpet clean i rubbed a bit of tissue over it and it came out black, the sides in the kitchen where the same they had obviously made some attempt to clean them but maybe used a dirty rag i don’t know but not what you would expect. i decided not to complain and cleaned up myself. the next morning we went out and when returning at lunch time we noticed the cleaner had been back in because she had taken all the towels from the towel rails and placed them in a heap by the front door where they remained until 4pm when i had to call guest services and ask where the replacements where they said sorry and said they would be right up with some6pm still no towels so phoned again by this time i really wanted a shower and asked they be dropped of straight away, but the guy on the desk said he would get his manager to call me straight back ,but she never did so i went down to guest services and complained direct to a lady called michelle who basically said what do you expect me to do about it and complain to who you like great attitude.before leaving i had booked for christmas 2012, but will no way be taking the chance of wrecking my families christmas so will be staying at home. don’t let this review put you off i have had many good holidays there and the parc has excellent facilities the pool is great, but the stress of dealing with this has taken that all way for me on this occasion.i don't think it is to much to ask for a clean place to stay\n",
      "2012-05-07 00:00:00 once again a brilliant stay we go 3 times a year and love it more every time. i reccomend hiring bikes as the site is quite spread out and the bikes give you the oppurunity to explore it all. the pool is amazing no matter what the weather is like and is open from 10am until 9pm . we had a new style executive lodge which has everything you need including wifi. we have returned today and just booked again for august i know you can get cheaper but i've tried them out and in my opinion center parcs have got it right\n",
      "\n",
      " ee6dc2890311aefb9ff2ad8efbfeff57\n",
      "2011-11-28 00:00:00 we are regulars at center parcs during late nov /early dec when the winter wonderland is on. as ever center didn't disappoint our party ages 60, 36, 32, 4,2, and 1. our villa was the cheapest comfort out in fir and was clean and well equipped. there was a problem with the heating on arrival but within half an hour of ringing guest services a man had come out and fixed it. our children loved the outdoor parks, feeding the birds and squirrels and den building in the woods. many a hour was also spent in the swimming pool which the kids never seem to get bored of. they loved seeing santas house and meeting his reindeer. yes the 'activities' can be expensive but you really don't have to do anything unless you want to, there's so much nature around we don't really see the need. we also never eat out so can't comment on that but the kitchen is fine or cooking in and the supermarket is fine. we did hire a bike this time but wouldn't bother again as my 4 year old couldn't manage the hills or distance. walking / the land train was fine. check in has never been a problem for us, we get there early, enjoy the day then drive the car to the villa in the evening when it's a bit quieter. on check out day we get the car early, pack it up, return it to the car park and enjoy the rest of our day there. overall we all love center parcs, and it really doesn't have to cost a lot of money as long as you like nature, swimming and spending time with your family /friends. it cost £270 for our villa which slept 6 + cot. if you want widescreen tvs, surround sound, fine dining etc then maybe it's not the type of hoilday for you.\n",
      "2010-12-16 00:00:00 as ever center parcs didn't disapoint. very cheap deals always to be had in early december. kids loved the pool area and the wildlife all around them. plenty to do for everyone, i particularly enjoyed the aqua sauna!\n",
      "\n",
      " 089e211a754dc0bd47cba3d0999f915b\n",
      "2012-01-14 00:00:00 we love this place so much it is now our winter holiday destination. cannot recommend it highly enough.\n",
      "2010-12-19 00:00:00 this is the third time we have visited centreparcs and every time we throughly enjoy it. it is completely geared up for children wherever you visit in the park and will we will bo looking to visit again next year. as a fmaily - we love it. cannot fault it. (age of children 1 &amp; 4)\n",
      "\n",
      " 85286046022bafded9a79e2cc6c69658\n",
      "2013-03-08 00:00:00 longleat centerparcs is a wonderful place to stay. very child friendly, great location. you can do as little or alot as much as you like. the staff and facilities are great. we have never had a bad experience and we have been going for 15 years.\n",
      "2011-10-26 00:00:00 we have been going to centreparcs at longleat for over 10 years now, the reason we go is because it is so beautiful there. there is always a warm welcome from the check in staff and all the staff in the village, bars, restaurants, shops etc. we have never had a bad experience and we often go at least twice a year. we now have a five year old and a set of twins. we have found that centreparcs has grown with us. the villas are well maintained and well equipped and set amongst the trees which is great. fully recommended.\n",
      "\n",
      " d71bbfebea5341ded1a5f9ad52944c43\n",
      "2012-04-14 00:00:00 our second visit to center parcs longleat and despite the weather we weren't disappointed. we came with two other families and we all had great fun. the diversity of activities means that there is always something to interest everybody. the treatments at the spa were fabulous and i was very impressed with the standard of the food in the restaurants we visited. not cheap but well worth it for the chance to get away from it all.\n",
      "2011-02-28 00:00:00 we decided to have a break at february half term at centre parcs longleat. being on a budget, and booking late, i decided to go for a comfort villa in the oak area. i thought the accomodation was perfect - clean, comfortable, just right for a family of four. i had pre-booked a number of activities, including the badminton and pool tournaments - these were very well run. in fact all the activities we booked were excellent, especially aquajetting for my daughter, laser combat, and the treasure trail was great fun, although quite exhausting. the swimming complex was fabulous - we went there every day and never tired of it. the rapids are a must! special mention for the pancake house - excellent quality. overall the parc was very tidy and well maintained, and all the staff without exception were really cheerful and helpful. we will certainly be returning!\n",
      "\n",
      " 166977b878031bed641c9421658b648d\n",
      "2013-03-22 00:00:00 ok, we are regular visitors and gave my last review of the place a 5*. this time i think that it's time cp sharpened its act a little. it is a fabulous break for a young family but much of the accomodation is getting a little tired i feel. the positives a still there but here are a couple of my negatives...swimming pool is now very cold, not sub tropical in the slightestshowers were being refurbished, and the foot bath was out of action and filthy. i did tell the life guard who replied &quot;oh yes, we haven't had time yet&quot; this was 10:05 (5 mins after opening)!!woodland lodge level accomodation is getting tired, ripped wallpaper, missing toaster, faulty grill, no water pressure, filthy mat (pepperoni under it and not from us), front door handle held on by 1 screw, patio door that struggled to close..ok enough... i only post this in the hope that cp take note, as we love the place as a holiday destination. if they are interested in fixing some of these faults, it's number 253 :)\n",
      "2011-12-10 00:00:00 having been to cp many times they do a lot right. it is a perfect short break even better with a 1 year old. we have stayed in the &quot;new&quot; style lodges for some years now and i think that it may be time to drop the word new from the description. whilst ours was very comfortable, spacious and well designed it was getting tired. ripped tree wallpaper, dodgy cooker, mouldy window cills and bath and needed a good hoover. however having said all of that we will no doubt be back early next year for our cp fix.time to step up the maintenance plan please!\n",
      "\n",
      " b40af600edee8470fbb2d60fb35234a4\n",
      "2012-06-11 00:00:00 wow, when it rains in this country it pours! i think we were in the best place over the half term week, the rain never gets in the way of what center parcs has to offer.i went away with my parents, husband and 2 teenage kids. i can tell you i would rather have been here than on the beach or camping. accommodation was lovely, clean and spacious. enough room so we didn't get under each other's feet. we stayed in a new style woodland lodge in pines, this is nearer to the plaza and the first time we have stayed over this side. it was quite nice as we were in a corner with no through road so made it very private and very quick when loading and unloading our vehicles.we all ate out every night, no complaints. booked quite a few activities, the list was endless: boating, snooker, bowling, skating and tennis............ by the end of our 5 day break we were all shattered but no one was complaining.as the skies are still grey and the rain is still falling i am booking a weekend break in august, just incase mother nature is not kind to us.all in all i'm addicted, so are my family, i love this place and it's the only time my teenagers don't fight; now that has to be worth booking up for!!!so far over the 15 years we've been going, you haven't failed us yet!\n",
      "2011-12-30 00:00:00 we arrived on the 23rd-28th december, this is our 10th stay and second christmas! from arrival to departure it was faultless! we had a 3 bedroom executive with physiotherm! the whole villa was comfy, clean and spacious! the physiotherm was great, a lovely way to warm those tired muscles after a day if activites! wine cooler was added bonus as was the coffee maker.we ate out everyday jardin des sports, hucks, pancake house with magic, grand cafe and christmas day a superb carvery in the venue.every experience we have had at center parcs has been great, we have been all times of the year and it has never failed us.we fell in love on our very first visit minus kids and now many years later and 2 teenage kids we still keep coming back for more!my husband and i are hoping we may get to treehouse status one year...............well done center parcs\n",
      "\n",
      " e2e35c8ebd2961ec49e40aaf2b497445\n",
      "2013-02-13 00:00:00 we came back to center parcs for our first holiday with our baby girl and overall had a really good time; we stayed in a comfort plus villa which was perfect for us although it was quite simple. we all loved the swimming pool, there was something tailored to everyone ( indoor pool, outdoor pool, rapids, slides, whirlpools...), however we did find that the water felt colder than last time and heard other people say the same. the restaurants were lovely, especially huck's and the pancake house, although the sports bar menu has changed and in my opinion is not as good, to add to this our food was luke warm when it arrived, the waiter was aware of this and blamed a kitchen error. we didn't do that many paid for activities but enjoyed what we did do, my mother and sister in law loved the spa!it snowed during our break which made the forest look beautiful but on the night it snowed the land train was cancelled which led to the land train being cancelled, this is clearly not center parcs fault, however on the walk back i had to stop to feed our baby in the stop and when staff stopped to inform us the train wasn't running they were far from sympathetic of the fact i was having to bear skin in the freezing cold! in fact we hardly used the land train as buggys have to be folded which was a bit annoying for us, although fine if you have a stroller.the feeding rooms dotted around the site are wonderful, i didn't want to leave the rocking chair! center parcs do provide a cot but i felt it was unsuitable for a young baby as it was very low so quite hard to put a baby down into and the mattress was quite worn, i was worried it might be dangerous.all in all a great mini break for the family but we wouldn't pay school holiday prices.\n",
      "2012-06-29 00:00:00 we had an amazing time at center parcs longleat. it's true that it's pretty expensive but our villa was very reasonably priced (£60 each for 6 of us), and you can eat well without spending a fortune. the atmosphere was lovely, we went for some great walks in the forest and really enjoyed the swimming (which was free). there's plently to do whatever your interests and some activities are quite cheap, although others are very expensive. overall we had a fantastic mini break- can't wait to go back!\n",
      "\n",
      " bd99e11c86a68a2fe4240b548c52718d\n",
      "2012-10-06 00:00:00 this was our 5th stay at center parcs the 3rd stay at longleat. stayed in a 2 bed new style executive in the pine area. we found this location ideally placed as it was only 5 min walk to both the plaza &amp; the village square. the lodge was really clean with 2 en-suite bedrooms, the master one being big with a whirlpool bath &amp; a triple shower. there is a tv in each bedroom which you can watch different channels to the main tv which is useful. there was also an extra toilet in the hallway. the outlook was fabulous from every window, we saw so much wildlife including a badger one evening. we had a smell coming from bathroom sink on arrival, reported it &amp; maintenance came out almost instantly &amp; rectified this. we also told them the frying pan needed replacing &amp; again almost instantly someone brought a brand new pan. every member of staff we met were super friendly &amp; helpful which was an added bonus these days &amp; very appreciated. we went to the pool every day but they had a boiler problem so the pool temperature was far too cold both inside &amp; out which was disappointing. the pottery painting was excellent value as for around £15/£20 you had an hour or 2 of entertainment for the kids (&amp; parents) plus something to take home at the end.our son also done the mini jet ski's which was only £5 &amp; lasted about 15/20 mins &amp; he loved it. ate out at hucks &amp; have to say the food was delicious &amp; piping hot &amp; again excellent customer service. we also went to the pancake house magic show which was so funny, worth every penny &amp; was the highlight of the trip. there are refurbishment works going on over in the fir area so glad we were away from this &amp; i would personally only ever stay in new woodland or new style executive or above as to me the accomodation is very important to me &amp; i wouldn't stay in the comfort lodges but that it my own choice. parc market have a really good selection although on the pricey side especially the alcohol, but just bring your own or stop off at morrisons which is only about 3 miles away. we have already booked to go back next year &amp; i am counting the days. would recommend center parcs to anyone\n",
      "2009-12-27 00:00:00 had a fantastic weekend stay here in oct 09, with 2 year old, and 20 year old son &amp; girlfriend &amp; 18 year old daughter. paid extra for executive lodge (new style) in firs which was a fair distance from pool but we had bikes &amp; used the train so didn't mind. bought the flying start priority package so got in villa just after 1400 hours which was brill, this is only available to book with the executive accommodation though as far as i am aware and costs £79 &amp; also includes some food &amp; 2 bikes. cooked in villa mostly &amp; also had takeaway which we all really enjoyed - little bit on the pricey side but you are on holiday after all. the advantage of being so far away from hustle &amp; bustle is the peace &amp; quiet &amp; wildlife at your villa which you dont get if you are close to the pool/restaurants but you have to weigh this up with your requirements. the pool is amazing especially in the evening - much better than center parcs elvedon. just a very relaxing break but if you want action you can also book various activities.. the only negatives i have are as follows(1) alot busier on the weekends as opposed to midweek(2) there seemed to be alot more cars driving around most of the weekend which i didn't notice on my midweek stay at elvedon(3) the spa was very busy in the evenings due to the 'twilight' package which although cheap i prefered the day visit when it was alot quieter &amp; worth the £10 extrabeds are fantastically comfortgable &amp; the new executive 3 bed are all en suite &amp; have a infared heat room which was lovely in october!if you are on a tight budget just bring your own food &amp; cook in the lodge &amp; spend lots of time in the pool which is free! its just so lovely to be living in the forest! i have booked to return again this year for my birthday &amp; am staying in the same lodge! happy days :-) any questions please message me\n",
      "\n",
      " 4271173d936978d8a62b6a016ff4f011\n",
      "2013-04-30 00:00:00 this is our 7th year of coming. we still enjoy the safety of center parcs and its community feeling. we ventured to ortega this year for the first time &amp; the food was great. we chose an executive 2 storey and it was not great, the carpets were soooo dirty we had to keep our shoes on indoors. subtropical swimming pool becoming a bit tired in places and it seems a shame they arent doing it all up for its 20th anniversarie. im know the upkeep must be horrendous but i do think they should block out some time to do it properly as the rapid river was really bumpy &amp; scratchy! we have already planned our next trip back so its not all bad.\n",
      "2011-03-13 00:00:00 2 storey exec lodge, you get what you pay for, nice spacious accom with everything a family needs, extras like sauna and maid service a bonus. loved all the facilities but some areas let it down (water quality in pool not great) restaurants are reasonable but get very busy, sports and activities can get pricey so plan your break to get the most for your money. nice environment and friendly staff. my favourite is pancake house and aqua sana.\n",
      "\n",
      " 65050ba85f220f2b32d59fc6b4da10e0\n",
      "2012-05-10 00:00:00 went back a second time and had another great relaxing holiday. this time we tried the huck’s restaurant, and to be honest the food was ok, but the service was great. my 2 year old order the poor waitress to &quot;get juice now&quot;, so embarrassing! but rather than take offence, she saw the humour and played along. it's the small things like this that make for good memories. it realy is a home away from home experience. the only negative i have is the cost, it is expensive, but you definitely get what you pay for. my advice wold be to go for a week, not the weekend.\n",
      "2011-10-03 00:00:00 i relay enjoyed my stay at longleat. the cycling was great fun, and we liked it so much that when i got home i bought 2 bikes and a child seat to continue the fun. the service was great, and the attention to detail was very impressive. we went there on our honeymoon, with our young son. i mentioned in passing to the lady at the supermarket that we were on honeymoon. later on that night, we got a knock on the door with a card and a bottle of wine. i would definitely recommend going if you have not before.\n",
      "\n",
      " 77d1e383f434487983081fa0ab86151f\n",
      "2013-04-28 00:00:00 living less than an hour from this park we've visited a few times over the years and always left with a smile on our faces. the last weekend was no exception but we've noticed the place is starting to look a little tired and in need of some tlc. our villa was one of the newly refurbished properties and as such was clean, comfortable and warm although the front door handle was hanging off when we arrived and a kitchen drawer was broken!the main plaza / swimming area is starting to show it's age with a lot of worn areas including handrails, steps and soft furnishings. the swimming pool area was similarly worn and in places quite grubby which, given the cost to be there, needs to be addressed.in all the times we've been to cp this was the busiest we've seen the pool with a system in place to only permit groups into the changing area when similarly sized groups had left. the queue as we left was about fifty or sixty deep as we left and there were more bodies in the pool area than was comfortable.we ate in few restaurants over the course of the weekend with mixed feelings. stradawe ate twice here because our first visit was so positive. a very reasonable two course lunch menu (£10.95) with a great setting and attentive service. both visits were positive and we'd certainly recommend this restaurant.rajinda pradeshexcellent food, outstanding service and a great setting. the price however is too high given that we paid £144.00 for five starters and main meals plus two soft drinks and 3 beers. huckshard to decide if this was the most disappointing meal we had, it's a close call between this and the grand cafe. the service was excellent, our problem with this place was purely the poor quality of food and the price we paid. of particular disappointment was the &quot;new&quot; soft shell crab salad. curiously, each individual salad item (bacon, sweet corn etc) was lined up military fashion and a few pieces of deep fried crab placed on top. the sweet corn was old and hard and the crab so heavily cooked that it was barely edible and at £13.50 it's not unreasonable to expect better. the other food was generally poor, but just about edible for diner type food. i'm sure the younger children love this place, it's noisy, colourful and the menu is laden with child friendly food.grand cafethis place is struggling to carve an identity for itself, i'm not really sure what part of &quot;grand&quot; applies to it other than perhaps the high ceiling. we pre-booked and paid for a sunday carvery that reminded us of school dinners. the meat was ok but the veg was of poor quality with cheeseless cauliflower cheese! the deserts were laid out on the same table as the apple sauce and gravy and if i'm paying this much money for a sunday lunch i expect a plate for a lemon tart, not a bowl that folds it in two before i eat it! the service here was less attentive than anywhere else we'd experienced and the whole experience left us cold. one other issue i have here, if you're going to call yourself &quot;grand cafe&quot; at least do away with paper napkin and put some cloths on the tables. we'd really looked forward to ending our weekend here but left feeling we'd rather have gone to a pub on the way home.if you come to center parcs you probably already know it's going to be expensive to eat out - but other than strada we felt we'd had far less than value for money and if we decide to go again we'll almost certainly rely more on self catering.other than grand cafe, one aspect of our stay was consistently good, the customer service. staff were always friendly and attentive and nothing was ever too much trouble.i'm sure we'll be back, but in the meantime i hope they smarten it up a little.\n",
      "2006-04-10 00:00:00 this is the third time we have visited this center parc and once again we had a great time. we had originally booked an executive apartment but were immediately disappointed. whilst clean and adequate it wasnt a patch on the executive villas and we asked to move. to the sites credit we were moved straight away and from that point on had a blast. we went bowling, did archery, rode our bikes for miles and attended the fondue evening at the pancake house.it is expensive! if you're on a budget, bring your own food and cook in the adequate kitchen with each villa.and lock your bike, my wifes was taken but we found it later the same day.\n",
      "\n",
      " 685f3ec18d7507ee800cb803eaea3230\n",
      "2011-06-27 00:00:00 the complex is lovely. exactly as you would anticipate a cp. what makes me think however, is the detail that misses. maintenance faults include cracked bathroom floor tiles that risk cutting you feet, missing hand rail in the pool, resulting in a torn muscle after a slip, hair dryers not working in aqua sana, steam room in one of the treatment rooms faulty, and when mentioned, dismissed on basis that they have our money and we must be wrong... they could have easily recovered this by staying nice instead of becoming petulant, as we certainly didn't want a fuss to spoil the weekend.recommend the indian restaurant, 2nd time here and just as good. ortega with guitarist was pleasant. parc market well stocked and fairly priced given it's exclusivity.exec apartment was comfortable, no oven a shame, and not get excited about maid service... 6 mins including washing up. but not a vacuum,bathroom clean, bed make in sight. balcony and views lovely, and the beds are so comfortable!overall as always a great stay, but for over £1000 for 2 it should be.\n",
      "2011-02-27 00:00:00 can't fault the whole concept, and amazing how quick you get into travelling by bike instead of car. woodland lodge good standard, ours located close to swimming plaza, handy to get back quickly with wet hair. pool excellent, ignoring behaviour of a few idiots who left changing areas in disgusting state...who ever left human feaces above a changing room door on a ledge should be truly ashamed.food outlets - rajinder pratesh excellent service, good food and lovely ambience, highly recommend. hucks - avoid, unless they get lessons in service speed and food quality. grand cafe, ok for lunch with low expectations, shame best table reserved for management, who then didn't sit down as maybe they thought it was too busy! sports cafe mayhem, but ok, star bucks bang on standard.activities all excellent, especially the outdoor ropes, zip wire etc. a great break, would love to do it all again soon and made a great change to struggling on a plane to an overseas packag holiday.\n",
      "\n",
      " dbebba53929b36521c1663c65cd304eb\n",
      "2012-12-28 00:00:00 we have just returned from a family christmas break at center parcs - 11 of us in total, 7 adults and 4 children. one family in an executive 3 bed and the rest of us in one of the tree houses. the tree house was expensive due to being there 23-28 december but was well worth it. the accommodation was superb and the games room was fantastic with all of us having lots of fun playing pool and making good use of the x box and the games provided. the hot tub also got a lot of use!we have been to longleat several times and been in different accommodation every time. we have always found the staff excellent. if you need to phone them about any problem you may have they get it sorted out quickly, they are friendly and very helpful and help make the break an enjoyable experience. the accommodation has always been clean and tidy and in good condition, and unlike some others who complain of dirty dishes etc we have never had to wash anything upon arrival. when booking your villa take time to find the best location for your needs, if you don't want a long walk or have to rely on the land train then pick accommodation near to the plaza. center parcs is a good family break for all ages, you can do lots of things if that's what you want or you can have a chilled out, relaxing break. we all found the break a chilled out and enjoyable, with things to do for the children, both in the accommodation and with activities outside in the parc itself, and we will be going back again in 2013!\n",
      "2011-12-28 00:00:00 thoroughly enjoyable christmas break, our lodge was clean and spacious. enjoyed the hot tub, sauna and steam room. only downside was return journey from the plaza on the land train was 40 minutes. overall it was a great break for christmas and would do it all again.\n"
     ]
    }
   ],
   "source": [
    "\n",
    "\n",
    "print('Number of comments', df.name.count())\n",
    "print('Number of unique names: ', df.name.nunique())\n",
    "\n",
    "double = df.name.value_counts().index.tolist()[:sum(df.name.value_counts()>=2)]\n",
    "for name in double:\n",
    "    print('\\n',name)\n",
    "    date_double = df[df.name==name].index.tolist()\n",
    "    content_double = df[df.name==name].content.tolist()\n",
    "    [print(date,content) for date,content in zip(date_double,content_double)]"
   ]
  },
  {
   "cell_type": "markdown",
   "metadata": {
    "colab_type": "text",
    "id": "BruF1vFwyIRQ"
   },
   "source": [
    "You might find interesting things in your dataset. \n",
    "\n",
    "For example it is fun here to see **Peltier**'s comments and how he changed is mind:\n",
    "\n",
    "- April 14th 13:41 : \"formule intéressante pour de courtes vacances\"\n",
    "- April 14th 20:33 : \"pas de réseau et deux chaines tv manquantes\" \n",
    "\n"
   ]
  },
  {
   "cell_type": "markdown",
   "metadata": {
    "colab_type": "text",
    "id": "hxSb1N1jEPuN"
   },
   "source": [
    "**Rapid overview of global rating**\n"
   ]
  },
  {
   "cell_type": "code",
   "execution_count": 446,
   "metadata": {
    "colab": {
     "base_uri": "https://localhost:8080/",
     "height": 393
    },
    "colab_type": "code",
    "id": "Wu_sUarGwp1c",
    "outputId": "2cc9626f-fe06-4142-e010-0c8e09c6bd65"
   },
   "outputs": [
    {
     "name": "stdout",
     "output_type": "stream",
     "text": [
      "Average rating is : 4.08\n"
     ]
    },
    {
     "data": {
      "image/png": "[encoded data removed]",
      "text/plain": [
       "<Figure size 432x288 with 1 Axes>"
      ]
     },
     "metadata": {},
     "output_type": "display_data"
    }
   ],
   "source": [
    "# Average rating value\n",
    "print('Average rating is : {}'.format(round(df.stars.mean(),2)))\n",
    "\n",
    "# Plotting rating distribution\n",
    "X_ratings = df.stars.value_counts()\n",
    "ax = sns.barplot(X_ratings.index,X_ratings,alpha=0.8)\n",
    "ax.set(xlabel='Ratings',ylabel='Frequencies',title='Frequencies of ratings over the {} reviews'.format(df.shape[0]))\n",
    "plt.show()"
   ]
  },
  {
   "cell_type": "markdown",
   "metadata": {
    "colab_type": "text",
    "id": "RtxcYJ-jxKpv"
   },
   "source": [
    "**Distribution of comments length**"
   ]
  },
  {
   "cell_type": "code",
   "execution_count": 447,
   "metadata": {
    "colab": {
     "base_uri": "https://localhost:8080/",
     "height": 349
    },
    "colab_type": "code",
    "id": "KCiWzmLoxL3c",
    "outputId": "7f0c744b-457c-42b9-ba43-b0ac0dbea365"
   },
   "outputs": [
    {
     "name": "stderr",
     "output_type": "stream",
     "text": [
      "/Users/po/anaconda3/lib/python3.6/site-packages/matplotlib/axes/_axes.py:6462: UserWarning: The 'normed' kwarg is deprecated, and has been replaced by the 'density' kwarg.\n",
      "  warnings.warn(\"The 'normed' kwarg is deprecated, and has been \"\n"
     ]
    },
    {
     "data": {
      "image/png": "[encoded data removed]",
      "text/plain": [
       "<Figure size 864x360 with 1 Axes>"
      ]
     },
     "metadata": {},
     "output_type": "display_data"
    }
   ],
   "source": [
    "# Making the plot\n",
    "x = plt.figure(figsize=(12,5))\n",
    "sns.distplot(df['content'].apply(len))\n",
    "plt.title('Characters distributions')\n",
    "plt.xticks(range(0,2000,250))\n",
    "plt.show()\n"
   ]
  },
  {
   "cell_type": "code",
   "execution_count": 448,
   "metadata": {
    "colab": {
     "base_uri": "https://localhost:8080/",
     "height": 378
    },
    "colab_type": "code",
    "id": "7PZ7spdtwyul",
    "outputId": "457b99c4-1e93-45ab-dc2e-14f11cd37cd0"
   },
   "outputs": [
    {
     "data": {
      "text/plain": [
       "<matplotlib.axes._subplots.AxesSubplot at 0x10ad1ce48>"
      ]
     },
     "execution_count": 448,
     "metadata": {},
     "output_type": "execute_result"
    },
    {
     "data": {
      "image/png": "[encoded data removed]",
      "text/plain": [
       "<Figure size 432x288 with 1 Axes>"
      ]
     },
     "metadata": {},
     "output_type": "display_data"
    }
   ],
   "source": [
    "# Repartition of reviews dates\n",
    "\n",
    "df.head()\n",
    "df['content'].resample('M').count().plot()"
   ]
  },
  {
   "cell_type": "markdown",
   "metadata": {
    "colab_type": "text",
    "id": "MLgz2bdAEn3B"
   },
   "source": [
    "# Pre-Processing 1 : Filters for punctuation and specific characters"
   ]
  },
  {
   "cell_type": "code",
   "execution_count": 834,
   "metadata": {
    "colab": {},
    "colab_type": "code",
    "id": "33QCujGbEtQa"
   },
   "outputs": [],
   "source": [
    "df_token = pd.read_csv('DataFrameCleanedFinal.csv')\n",
    "df_token.head\n",
    "# creating a list with all reviews\n",
    "all_reviews = df_token.review.tolist()"
   ]
  },
  {
   "cell_type": "code",
   "execution_count": 835,
   "metadata": {
    "colab": {},
    "colab_type": "code",
    "id": "iOUGQIpCEtSz"
   },
   "outputs": [
    {
     "name": "stdout",
     "output_type": "stream",
     "text": [
      "11322\n"
     ]
    }
   ],
   "source": [
    "# transformating comments into lower-case text \n",
    "lower_reviews = [review.lower() for review in all_reviews]\n",
    "print(len(lower_reviews))"
   ]
  },
  {
   "cell_type": "code",
   "execution_count": 836,
   "metadata": {
    "colab": {},
    "colab_type": "code",
    "id": "sYbuqWVEE94p"
   },
   "outputs": [],
   "source": [
    "# deleting all specific caracters\n",
    "characters_to_remove = [\"@\", \"/\", \"#\", \".\", \",\", \"!\", \"?\", \"(\", \")\", \"-\", \"_\",\"’\",\"'\", \"\\\"\", \":\", \";\"]\n",
    "transformation_dict = {initial:\" \" for initial in characters_to_remove}\n",
    "no_punctuation_reviews = [review.translate(str.maketrans(transformation_dict)) for review in lower_reviews]"
   ]
  },
  {
   "cell_type": "code",
   "execution_count": 837,
   "metadata": {
    "colab": {},
    "colab_type": "code",
    "id": "SF8kk2hPE97H"
   },
   "outputs": [],
   "source": [
    "# removing accent\n",
    "with_accent = ['é', 'è', 'à']\n",
    "without_accent = ['e', 'e', 'a']\n",
    "transformation_dict = {before:after for before, after in zip(with_accent, without_accent)}\n",
    "no_accent_reviews = [review.translate(str.maketrans(transformation_dict)) for review in no_punctuation_reviews]"
   ]
  },
  {
   "cell_type": "code",
   "execution_count": 838,
   "metadata": {
    "colab": {
     "base_uri": "https://localhost:8080/",
     "height": 377
    },
    "colab_type": "code",
    "id": "x4FoSV8eO92Z",
    "outputId": "69253c41-f0e9-4a85-b970-3cfcff23747c"
   },
   "outputs": [
    {
     "name": "stdout",
     "output_type": "stream",
     "text": [
      "once again we enjoyed a wonderful stay at longleat centerparcs.this time one of our friends was celebrating a major birthday, so we had two lodges, one from friday to friday for us and our friends, another for some of his family for the weekend, friday to monday.this time we were in fir near the top of the cascades and our only complaint would be that there were refurbishment works going on to the neighbouring lodges, which meant that there were trades vehicles parked up and down the road and the inevitable noise that accompanies construction work!that aside we don't spend much time in the lodge during the day so it was more annoying than anything else.we enjoyed the high trees challenge with the exhilarating zip wire over the lake, this time it was a lot more challenging due to the colder weather and the fact it was drizzling with rain, but the feeling of accomplishment was exponentially higher. my daughter also especially enjoyed the archery, but best of all was the sub-tropical swimming paradise, always amazing fun with the outdoor rapids and waves but this was our first time back since they opened the typhoon and tropical cyclone rides which are the best fun!as always we love the relaxed feeling and living amongst the trees, we had a great meal at bella italia one night but most we self catered in our lodge where we made good use of the log burner.all in all another memorable visit, it won't be long before we're booking the next one.\n",
      "once again we enjoyed a wonderful stay at longleat centerparcs this time one of our friends was celebrating a major birthday  so we had two lodges  one from friday to friday for us and our friends  another for some of his family for the weekend  friday to monday this time we were in fir near the top of the cascades and our only complaint would be that there were refurbishment works going on to the neighbouring lodges  which meant that there were trades vehicles parked up and down the road and the inevitable noise that accompanies construction work that aside we don t spend much time in the lodge during the day so it was more annoying than anything else we enjoyed the high trees challenge with the exhilarating zip wire over the lake  this time it was a lot more challenging due to the colder weather and the fact it was drizzling with rain  but the feeling of accomplishment was exponentially higher  my daughter also especially enjoyed the archery  but best of all was the sub tropical swimming paradise  always amazing fun with the outdoor rapids and waves but this was our first time back since they opened the typhoon and tropical cyclone rides which are the best fun as always we love the relaxed feeling and living amongst the trees  we had a great meal at bella italia one night but most we self catered in our lodge where we made good use of the log burner all in all another memorable visit  it won t be long before we re booking the next one \n",
      "\n",
      "\n",
      "we had a long weekend break booked for 8 of us on friday 1st feb.given the snowy weather i called to check everything was open before setting off, i was assured it was.after setting off i discovered the park had been closed because of the snow and the associated health and safety implications! we received an email assuring us we could transfer our break to another weekend.we contacted cp today to be informed that all available remaining weekend breaks from now until next february cost significantly more and that we will need to pay the extra.centre parcs closed their park and cancelled our break because of snow when the roads were ok to drive on. following the same thing happening last year surely preparations should have been made to clear the park and keep the park open. if the park really had to close then it is very poor customer service to expect people to pay significantly more money to take their already paid for break.we have been going to centre parcs as a group for many years but will be looking for an alternative for future breaks.\n",
      "we had a long weekend break booked for 8 of us on friday 1st feb given the snowy weather i called to check everything was open before setting off  i was assured it was after setting off i discovered the park had been closed because of the snow and the associated health and safety implications  we received an email assuring us we could transfer our break to another weekend we contacted cp today to be informed that all available remaining weekend breaks from now until next february cost significantly more and that we will need to pay the extra centre parcs closed their park and cancelled our break because of snow when the roads were ok to drive on  following the same thing happening last year surely preparations should have been made to clear the park and keep the park open  if the park really had to close then it is very poor customer service to expect people to pay significantly more money to take their already paid for break we have been going to centre parcs as a group for many years but will be looking for an alternative for future breaks \n",
      "\n",
      "\n",
      "we stayed mon-fri in the fir area.this is a 45 minute walk from the car park on a good day.i am shocked by some of the reviews and comments on social media that we should have been &quot;kicked out&quot; of the lodge to make way for the incoming weekend guests.we had packed,stripped our beds, cleaned and hoovered our lodge ready to depart on friday morning.we did not want to stay an extra night but due to the fact it would have taken my husband 6 trips with our belongings to the car(9 hours of walking) it just wasn't possible!i wasn't able to help as we have a 2 year old,we couldnt use his buggy as the snow was too deep.did the incoming guests expect our 2 year to walk for 9 hours!?would you make your child to do it!?i highly doubt it!!the roads on site especially in the fir area were covered in deep snow,despite the best efforts of the ground staff,they just couldn't clear it.they worked through the night trying to clear the internal roads but they were fighting a losing battle.so to summarise and make this clear to people who think we had a free night in &quot;their lodge&quot;,had we been able to get our car up to our lodge to pack we would have left on the friday.yes the external roads were ok to drive on, we just couldn't get out!!thank you to all the staff who worked tirelessly(and slept on the floor)to continue trying to help guests the next day.\n",
      "we stayed mon fri in the fir area this is a 45 minute walk from the car park on a good day i am shocked by some of the reviews and comments on social media that we should have been &quot kicked out&quot  of the lodge to make way for the incoming weekend guests we had packed stripped our beds  cleaned and hoovered our lodge ready to depart on friday morning we did not want to stay an extra night but due to the fact it would have taken my husband 6 trips with our belongings to the car 9 hours of walking  it just wasn t possible i wasn t able to help as we have a 2 year old we couldnt use his buggy as the snow was too deep did the incoming guests expect our 2 year to walk for 9 hours  would you make your child to do it  i highly doubt it  the roads on site especially in the fir area were covered in deep snow despite the best efforts of the ground staff they just couldn t clear it they worked through the night trying to clear the internal roads but they were fighting a losing battle so to summarise and make this clear to people who think we had a free night in &quot their lodge&quot  had we been able to get our car up to our lodge to pack we would have left on the friday yes the external roads were ok to drive on  we just couldn t get out  thank you to all the staff who worked tirelessly and slept on the floor to continue trying to help guests the next day \n",
      "\n",
      "\n",
      "we have been to center parcs longleat numerous times and always enjoyed ourselves, however we saw a very different side over this weekend and were woefully let down by the disastrous management over a snowy weekend.as usual we travel from different locations at different times for a family get together.my parents travelled up earlier in the morning. sensibly they saw the weather warnings and rang in the morning to clarify if the park was open, they were assured it was. they then received the email from centre parcs as they were travelling that unfortunately they had made the decision to close for the weekend. at this point they then rang again and were assured as they were en route a villa would be provided and the break could go ahead as planned, although were warned some facilities might not be available, which they understood and accepted.once arrived they checked in and were given a &quot;cleaning kit&quot; and explained they may not receive the booked villa but could be guaranteed a villa. again they understood and accepted this.things then started to unravel. hundreds of arrived guests - all told they would be provided accomodation - were herded into a room and told that villas would be allocated but could not be promised until around 10pm. obviously this was disappointing but it appeared centre parcs were trying. very few villas were allocated over the next few hours and people grew increasingly frustrated. later the assembled room were told by one of the employees that it was essentially their fault for arriving - despite being told this wasn't an issue and they would have lodges provided. they were told they would need to sleep on the floor in the conference room or make their own way back home.during this time i arrived (having been assured by family and centre parcs that we would be able to arrive and join our party). we were stopped at the gate by security who had been told to not let anyone else through. our family had ordered food for us. we had one night to join them as we needed to travel elsewhere and we were turned around. we were told to have a drink at a local cafe and await further news.whilst we explained our situation at the gate lots of other cars were turned away, who had made the journey having been told accommodation would be provided. in one instance the husband of the family turned up (presumably after work). his wife walked out to try and explain the issue and ask the security staff to let him in. they were told that neither of them could re-enter the park.my family took matters in their own hands and walked around to have a look for empty lodges. they found several and eventually were allowed to stay in one when a member of staff had checked that they were indeed empty. other families were &quot;allocated&quot; lodges to find people already staying in them.we had to stay locally at cost to ourselves, only to find out that everyone was asked to leave the next day.we were shocked and upset by how badly this situation was managed. the explanation was that it wasn't deemed safe for people to leave and i accept this, they have a duty of care towards people in the park and they cared for the people there and allowed them to stay longer for their safety.that duty of care was not extended to arriving guests - who were told they would have accommodation provided - and then were made to feel that it was their own fault when it wasn't. despite it not being safe for people already in the park, it was deemed safe for arrived guests to leave at 10pm. families were stopped from spending the night together. at no point in that disastrous friday was it made clear that everyone would be leaving on saturday anyway. the whole affair was badly mismanaged and centre parcs will rightly feel embarrassed.\n",
      "we have been to center parcs longleat numerous times and always enjoyed ourselves  however we saw a very different side over this weekend and were woefully let down by the disastrous management over a snowy weekend as usual we travel from different locations at different times for a family get together my parents travelled up earlier in the morning  sensibly they saw the weather warnings and rang in the morning to clarify if the park was open  they were assured it was  they then received the email from centre parcs as they were travelling that unfortunately they had made the decision to close for the weekend  at this point they then rang again and were assured as they were en route a villa would be provided and the break could go ahead as planned  although were warned some facilities might not be available  which they understood and accepted once arrived they checked in and were given a &quot cleaning kit&quot  and explained they may not receive the booked villa but could be guaranteed a villa  again they understood and accepted this things then started to unravel  hundreds of arrived guests   all told they would be provided accomodation   were herded into a room and told that villas would be allocated but could not be promised until around 10pm  obviously this was disappointing but it appeared centre parcs were trying  very few villas were allocated over the next few hours and people grew increasingly frustrated  later the assembled room were told by one of the employees that it was essentially their fault for arriving   despite being told this wasn t an issue and they would have lodges provided  they were told they would need to sleep on the floor in the conference room or make their own way back home during this time i arrived  having been assured by family and centre parcs that we would be able to arrive and join our party   we were stopped at the gate by security who had been told to not let anyone else through  our family had ordered food for us  we had one night to join them as we needed to travel elsewhere and we were turned around  we were told to have a drink at a local cafe and await further news whilst we explained our situation at the gate lots of other cars were turned away  who had made the journey having been told accommodation would be provided  in one instance the husband of the family turned up  presumably after work   his wife walked out to try and explain the issue and ask the security staff to let him in  they were told that neither of them could re enter the park my family took matters in their own hands and walked around to have a look for empty lodges  they found several and eventually were allowed to stay in one when a member of staff had checked that they were indeed empty  other families were &quot allocated&quot  lodges to find people already staying in them we had to stay locally at cost to ourselves  only to find out that everyone was asked to leave the next day we were shocked and upset by how badly this situation was managed  the explanation was that it wasn t deemed safe for people to leave and i accept this  they have a duty of care towards people in the park and they cared for the people there and allowed them to stay longer for their safety that duty of care was not extended to arriving guests   who were told they would have accommodation provided   and then were made to feel that it was their own fault when it wasn t  despite it not being safe for people already in the park  it was deemed safe for arrived guests to leave at 10pm  families were stopped from spending the night together  at no point in that disastrous friday was it made clear that everyone would be leaving on saturday anyway  the whole affair was badly mismanaged and centre parcs will rightly feel embarrassed \n",
      "\n",
      "\n",
      "like many other people it would seem our break this weekend did not happen. my complaints are not with what happened as i understand safety was paramount. my outrage is at being informed by text at 11 am when you are already on the road travelling when they would have known hours before and phoning up to be told we could have our weekend in a years time lol 😂 or pay probably double to be able to re book during the year. no contingency was put in place at all and having to argue to get my money back when they cancelled!! days off work wasted, petrol wasted and time and vouchers given to us for xmas now not used and unlikely to be as i feel so angry about their handling of this it doesn’t make me want to return ever and that’s sad as i’ve been a loyal customer for about 18 years.\n",
      "like many other people it would seem our break this weekend did not happen  my complaints are not with what happened as i understand safety was paramount  my outrage is at being informed by text at 11 am when you are already on the road travelling when they would have known hours before and phoning up to be told we could have our weekend in a years time lol 😂 or pay probably double to be able to re book during the year  no contingency was put in place at all and having to argue to get my money back when they cancelled   days off work wasted  petrol wasted and time and vouchers given to us for xmas now not used and unlikely to be as i feel so angry about their handling of this it doesn t make me want to return ever and that s sad as i ve been a loyal customer for about 18 years \n",
      "\n",
      "\n"
     ]
    }
   ],
   "source": [
    "# Displaying some results \n",
    "for i in range(5):\n",
    "    print(all_reviews[i])\n",
    "    print(no_accent_reviews[i])\n",
    "    print('\\n')"
   ]
  },
  {
   "cell_type": "code",
   "execution_count": 839,
   "metadata": {
    "colab": {
     "base_uri": "https://localhost:8080/",
     "height": 85
    },
    "colab_type": "code",
    "id": "18vn7kJQE9-V",
    "outputId": "2c4ac6a3-1ef5-4e22-fcf1-ac602e049c48"
   },
   "outputs": [],
   "source": [
    "def number_of_unique_words(list_of_reviews):\n",
    "  \n",
    "    # Concatenating all reviews from the list\n",
    "    all_words = ''.join(list_of_reviews)\n",
    "\n",
    "    # Tokenizing\n",
    "    unique_tokens = set(word_tokenize(all_words))\n",
    "  \n",
    "    # Returning length of list\n",
    "    return len(unique_tokens)"
   ]
  },
  {
   "cell_type": "code",
   "execution_count": 840,
   "metadata": {},
   "outputs": [
    {
     "name": "stdout",
     "output_type": "stream",
     "text": [
      "53551\n"
     ]
    }
   ],
   "source": [
    "print(number_of_unique_words(all_reviews))"
   ]
  },
  {
   "cell_type": "code",
   "execution_count": 841,
   "metadata": {},
   "outputs": [
    {
     "name": "stdout",
     "output_type": "stream",
     "text": [
      "53551\n"
     ]
    }
   ],
   "source": [
    "print(number_of_unique_words(lower_reviews))"
   ]
  },
  {
   "cell_type": "code",
   "execution_count": 842,
   "metadata": {},
   "outputs": [
    {
     "name": "stdout",
     "output_type": "stream",
     "text": [
      "31699\n"
     ]
    }
   ],
   "source": [
    "print(number_of_unique_words(no_punctuation_reviews))"
   ]
  },
  {
   "cell_type": "code",
   "execution_count": 843,
   "metadata": {},
   "outputs": [
    {
     "ename": "KeyboardInterrupt",
     "evalue": "",
     "output_type": "error",
     "traceback": [
      "\u001b[0;31m---------------------------------------------------------------------------\u001b[0m",
      "\u001b[0;31mKeyboardInterrupt\u001b[0m                         Traceback (most recent call last)",
      "\u001b[0;32m<ipython-input-843-9186fc8ec1a7>\u001b[0m in \u001b[0;36m<module>\u001b[0;34m()\u001b[0m\n\u001b[0;32m----> 1\u001b[0;31m \u001b[0mprint\u001b[0m\u001b[0;34m(\u001b[0m\u001b[0mnumber_of_unique_words\u001b[0m\u001b[0;34m(\u001b[0m\u001b[0mno_accent_reviews\u001b[0m\u001b[0;34m)\u001b[0m\u001b[0;34m)\u001b[0m\u001b[0;34m\u001b[0m\u001b[0m\n\u001b[0m",
      "\u001b[0;32m<ipython-input-839-97f1d028e664>\u001b[0m in \u001b[0;36mnumber_of_unique_words\u001b[0;34m(list_of_reviews)\u001b[0m\n\u001b[1;32m      5\u001b[0m \u001b[0;34m\u001b[0m\u001b[0m\n\u001b[1;32m      6\u001b[0m     \u001b[0;31m# Tokenizing\u001b[0m\u001b[0;34m\u001b[0m\u001b[0;34m\u001b[0m\u001b[0m\n\u001b[0;32m----> 7\u001b[0;31m     \u001b[0munique_tokens\u001b[0m \u001b[0;34m=\u001b[0m \u001b[0mset\u001b[0m\u001b[0;34m(\u001b[0m\u001b[0mword_tokenize\u001b[0m\u001b[0;34m(\u001b[0m\u001b[0mall_words\u001b[0m\u001b[0;34m)\u001b[0m\u001b[0;34m)\u001b[0m\u001b[0;34m\u001b[0m\u001b[0m\n\u001b[0m\u001b[1;32m      8\u001b[0m \u001b[0;34m\u001b[0m\u001b[0m\n\u001b[1;32m      9\u001b[0m     \u001b[0;31m# Returning length of list\u001b[0m\u001b[0;34m\u001b[0m\u001b[0;34m\u001b[0m\u001b[0m\n",
      "\u001b[0;32m~/anaconda3/lib/python3.6/site-packages/nltk/tokenize/__init__.py\u001b[0m in \u001b[0;36mword_tokenize\u001b[0;34m(text, language, preserve_line)\u001b[0m\n\u001b[1;32m    127\u001b[0m     \"\"\"\n\u001b[1;32m    128\u001b[0m     \u001b[0msentences\u001b[0m \u001b[0;34m=\u001b[0m \u001b[0;34m[\u001b[0m\u001b[0mtext\u001b[0m\u001b[0;34m]\u001b[0m \u001b[0;32mif\u001b[0m \u001b[0mpreserve_line\u001b[0m \u001b[0;32melse\u001b[0m \u001b[0msent_tokenize\u001b[0m\u001b[0;34m(\u001b[0m\u001b[0mtext\u001b[0m\u001b[0;34m,\u001b[0m \u001b[0mlanguage\u001b[0m\u001b[0;34m)\u001b[0m\u001b[0;34m\u001b[0m\u001b[0m\n\u001b[0;32m--> 129\u001b[0;31m     return [token for sent in sentences\n\u001b[0m\u001b[1;32m    130\u001b[0m             for token in _treebank_word_tokenizer.tokenize(sent)]\n",
      "\u001b[0;32m~/anaconda3/lib/python3.6/site-packages/nltk/tokenize/__init__.py\u001b[0m in \u001b[0;36m<listcomp>\u001b[0;34m(.0)\u001b[0m\n\u001b[1;32m    128\u001b[0m     \u001b[0msentences\u001b[0m \u001b[0;34m=\u001b[0m \u001b[0;34m[\u001b[0m\u001b[0mtext\u001b[0m\u001b[0;34m]\u001b[0m \u001b[0;32mif\u001b[0m \u001b[0mpreserve_line\u001b[0m \u001b[0;32melse\u001b[0m \u001b[0msent_tokenize\u001b[0m\u001b[0;34m(\u001b[0m\u001b[0mtext\u001b[0m\u001b[0;34m,\u001b[0m \u001b[0mlanguage\u001b[0m\u001b[0;34m)\u001b[0m\u001b[0;34m\u001b[0m\u001b[0m\n\u001b[1;32m    129\u001b[0m     return [token for sent in sentences\n\u001b[0;32m--> 130\u001b[0;31m             for token in _treebank_word_tokenizer.tokenize(sent)]\n\u001b[0m",
      "\u001b[0;32m~/anaconda3/lib/python3.6/site-packages/nltk/tokenize/treebank.py\u001b[0m in \u001b[0;36mtokenize\u001b[0;34m(self, text, convert_parentheses, return_str)\u001b[0m\n\u001b[1;32m    110\u001b[0m     \u001b[0;32mdef\u001b[0m \u001b[0mtokenize\u001b[0m\u001b[0;34m(\u001b[0m\u001b[0mself\u001b[0m\u001b[0;34m,\u001b[0m \u001b[0mtext\u001b[0m\u001b[0;34m,\u001b[0m \u001b[0mconvert_parentheses\u001b[0m\u001b[0;34m=\u001b[0m\u001b[0;32mFalse\u001b[0m\u001b[0;34m,\u001b[0m \u001b[0mreturn_str\u001b[0m\u001b[0;34m=\u001b[0m\u001b[0;32mFalse\u001b[0m\u001b[0;34m)\u001b[0m\u001b[0;34m:\u001b[0m\u001b[0;34m\u001b[0m\u001b[0m\n\u001b[1;32m    111\u001b[0m         \u001b[0;32mfor\u001b[0m \u001b[0mregexp\u001b[0m\u001b[0;34m,\u001b[0m \u001b[0msubstitution\u001b[0m \u001b[0;32min\u001b[0m \u001b[0mself\u001b[0m\u001b[0;34m.\u001b[0m\u001b[0mSTARTING_QUOTES\u001b[0m\u001b[0;34m:\u001b[0m\u001b[0;34m\u001b[0m\u001b[0m\n\u001b[0;32m--> 112\u001b[0;31m             \u001b[0mtext\u001b[0m \u001b[0;34m=\u001b[0m \u001b[0mregexp\u001b[0m\u001b[0;34m.\u001b[0m\u001b[0msub\u001b[0m\u001b[0;34m(\u001b[0m\u001b[0msubstitution\u001b[0m\u001b[0;34m,\u001b[0m \u001b[0mtext\u001b[0m\u001b[0;34m)\u001b[0m\u001b[0;34m\u001b[0m\u001b[0m\n\u001b[0m\u001b[1;32m    113\u001b[0m \u001b[0;34m\u001b[0m\u001b[0m\n\u001b[1;32m    114\u001b[0m         \u001b[0;32mfor\u001b[0m \u001b[0mregexp\u001b[0m\u001b[0;34m,\u001b[0m \u001b[0msubstitution\u001b[0m \u001b[0;32min\u001b[0m \u001b[0mself\u001b[0m\u001b[0;34m.\u001b[0m\u001b[0mPUNCTUATION\u001b[0m\u001b[0;34m:\u001b[0m\u001b[0;34m\u001b[0m\u001b[0m\n",
      "\u001b[0;31mKeyboardInterrupt\u001b[0m: "
     ]
    }
   ],
   "source": [
    "print(number_of_unique_words(no_accent_reviews))"
   ]
  },
  {
   "cell_type": "markdown",
   "metadata": {
    "colab_type": "text",
    "id": "tjkun2adQ5i9"
   },
   "source": [
    "# Pre-processing 2 : Tokenization"
   ]
  },
  {
   "cell_type": "markdown",
   "metadata": {
    "colab_type": "text",
    "id": "gVRX2Pf3c1Ay"
   },
   "source": [
    "**Doing it in two different ways**"
   ]
  },
  {
   "cell_type": "code",
   "execution_count": 844,
   "metadata": {
    "colab": {},
    "colab_type": "code",
    "id": "jpGhYooEFThl"
   },
   "outputs": [],
   "source": [
    "# Using regular expression\n",
    "tokenized_reviews_re = [re.split('\\s+', review) for review in no_accent_reviews]"
   ]
  },
  {
   "cell_type": "code",
   "execution_count": 845,
   "metadata": {
    "colab": {},
    "colab_type": "code",
    "id": "pMbnY4XIFTfC"
   },
   "outputs": [],
   "source": [
    "# using NLP libraries\n",
    "tokenized_reviews_nltk = [word_tokenize(review) for review in no_accent_reviews]"
   ]
  },
  {
   "cell_type": "markdown",
   "metadata": {
    "colab_type": "text",
    "id": "ZUO9Rc-Zc7U2"
   },
   "source": [
    "**And making a comparison of results**"
   ]
  },
  {
   "cell_type": "code",
   "execution_count": 846,
   "metadata": {
    "colab": {
     "base_uri": "https://localhost:8080/",
     "height": 51
    },
    "colab_type": "code",
    "id": "HQoeqvGHZ87e",
    "outputId": "bcb209c9-a483-424f-f758-69dec9884954"
   },
   "outputs": [
    {
     "name": "stdout",
     "output_type": "stream",
     "text": [
      "With NLTK  library : 11322\n",
      "With RegEx library : 11322\n"
     ]
    }
   ],
   "source": [
    "# Making a comparison between both of them\n",
    "print(\"With NLTK  library : {}\".format(len(tokenized_reviews_nltk)))\n",
    "print(\"With RegEx library : {}\".format(len(tokenized_reviews_re)))"
   ]
  },
  {
   "cell_type": "markdown",
   "metadata": {
    "colab_type": "text",
    "id": "RDKdet1KduF3"
   },
   "source": [
    "**Try to analyze the next lines of code and to understand the difference between both of them**"
   ]
  },
  {
   "cell_type": "markdown",
   "metadata": {},
   "source": [
    "Here is an original review"
   ]
  },
  {
   "cell_type": "code",
   "execution_count": 847,
   "metadata": {},
   "outputs": [
    {
     "name": "stdout",
     "output_type": "stream",
     "text": [
      "i feel compelled to review after reading all the emotionally driven negative ones off the back of the issue from the snow during thursday night 31st jan. we were due to leave on friday 1st feb and cp were absolutely right to cancel the weekend guests. the conditions on site were so hazardous and there was no way they could allow cars back on site for the departing guests to leave, think of the elderly, babies, kids etc. this would have resulted in multiple accidents for which cp would be responsible. the abuse some of the staff took from the arriving guests was disgraceful resulting in tears. it wasn't cps fault it snowed. the majority of incoming guests arrived well after being told they were cancelling incoming booking and were trying their luck. what did they expect to be able to do at cp all weekend with snow and limited staff able to get on site?ignore the negative reviews. it must be frustrating that your weekend away was a ruined but this is no way was cps fault. as for our week we had a great time. great food, scenery, activities and family time. can't wait to go back.\n"
     ]
    }
   ],
   "source": [
    "# Choosing a review to inspect\n",
    "n_review = 10\n",
    "print(all_reviews[n_review])"
   ]
  },
  {
   "cell_type": "markdown",
   "metadata": {},
   "source": [
    "And here are the tokenized ones"
   ]
  },
  {
   "cell_type": "code",
   "execution_count": 848,
   "metadata": {},
   "outputs": [
    {
     "name": "stdout",
     "output_type": "stream",
     "text": [
      "['i', 'feel', 'compelled', 'to', 'review', 'after', 'reading', 'all', 'the', 'emotionally', 'driven', 'negative', 'ones', 'off', 'the', 'back', 'of', 'the', 'issue', 'from', 'the', 'snow', 'during', 'thursday', 'night', '31st', 'jan', 'we', 'were', 'due', 'to', 'leave', 'on', 'friday', '1st', 'feb', 'and', 'cp', 'were', 'absolutely', 'right', 'to', 'cancel', 'the', 'weekend', 'guests', 'the', 'conditions', 'on', 'site', 'were', 'so', 'hazardous', 'and', 'there', 'was', 'no', 'way', 'they', 'could', 'allow', 'cars', 'back', 'on', 'site', 'for', 'the', 'departing', 'guests', 'to', 'leave', 'think', 'of', 'the', 'elderly', 'babies', 'kids', 'etc', 'this', 'would', 'have', 'resulted', 'in', 'multiple', 'accidents', 'for', 'which', 'cp', 'would', 'be', 'responsible', 'the', 'abuse', 'some', 'of', 'the', 'staff', 'took', 'from', 'the', 'arriving', 'guests', 'was', 'disgraceful', 'resulting', 'in', 'tears', 'it', 'wasn', 't', 'cps', 'fault', 'it', 'snowed', 'the', 'majority', 'of', 'incoming', 'guests', 'arrived', 'well', 'after', 'being', 'told', 'they', 'were', 'cancelling', 'incoming', 'booking', 'and', 'were', 'trying', 'their', 'luck', 'what', 'did', 'they', 'expect', 'to', 'be', 'able', 'to', 'do', 'at', 'cp', 'all', 'weekend', 'with', 'snow', 'and', 'limited', 'staff', 'able', 'to', 'get', 'on', 'site', 'ignore', 'the', 'negative', 'reviews', 'it', 'must', 'be', 'frustrating', 'that', 'your', 'weekend', 'away', 'was', 'a', 'ruined', 'but', 'this', 'is', 'no', 'way', 'was', 'cps', 'fault', 'as', 'for', 'our', 'week', 'we', 'had', 'a', 'great', 'time', 'great', 'food', 'scenery', 'activities', 'and', 'family', 'time', 'can', 't', 'wait', 'to', 'go', 'back']\n"
     ]
    }
   ],
   "source": [
    "print(tokenized_reviews_nltk[n_review])"
   ]
  },
  {
   "cell_type": "code",
   "execution_count": 849,
   "metadata": {},
   "outputs": [
    {
     "name": "stdout",
     "output_type": "stream",
     "text": [
      "['i', 'feel', 'compelled', 'to', 'review', 'after', 'reading', 'all', 'the', 'emotionally', 'driven', 'negative', 'ones', 'off', 'the', 'back', 'of', 'the', 'issue', 'from', 'the', 'snow', 'during', 'thursday', 'night', '31st', 'jan', 'we', 'were', 'due', 'to', 'leave', 'on', 'friday', '1st', 'feb', 'and', 'cp', 'were', 'absolutely', 'right', 'to', 'cancel', 'the', 'weekend', 'guests', 'the', 'conditions', 'on', 'site', 'were', 'so', 'hazardous', 'and', 'there', 'was', 'no', 'way', 'they', 'could', 'allow', 'cars', 'back', 'on', 'site', 'for', 'the', 'departing', 'guests', 'to', 'leave', 'think', 'of', 'the', 'elderly', 'babies', 'kids', 'etc', 'this', 'would', 'have', 'resulted', 'in', 'multiple', 'accidents', 'for', 'which', 'cp', 'would', 'be', 'responsible', 'the', 'abuse', 'some', 'of', 'the', 'staff', 'took', 'from', 'the', 'arriving', 'guests', 'was', 'disgraceful', 'resulting', 'in', 'tears', 'it', 'wasn', 't', 'cps', 'fault', 'it', 'snowed', 'the', 'majority', 'of', 'incoming', 'guests', 'arrived', 'well', 'after', 'being', 'told', 'they', 'were', 'cancelling', 'incoming', 'booking', 'and', 'were', 'trying', 'their', 'luck', 'what', 'did', 'they', 'expect', 'to', 'be', 'able', 'to', 'do', 'at', 'cp', 'all', 'weekend', 'with', 'snow', 'and', 'limited', 'staff', 'able', 'to', 'get', 'on', 'site', 'ignore', 'the', 'negative', 'reviews', 'it', 'must', 'be', 'frustrating', 'that', 'your', 'weekend', 'away', 'was', 'a', 'ruined', 'but', 'this', 'is', 'no', 'way', 'was', 'cps', 'fault', 'as', 'for', 'our', 'week', 'we', 'had', 'a', 'great', 'time', 'great', 'food', 'scenery', 'activities', 'and', 'family', 'time', 'can', 't', 'wait', 'to', 'go', 'back', '']\n"
     ]
    }
   ],
   "source": [
    "print(tokenized_reviews_re[n_review])"
   ]
  },
  {
   "cell_type": "code",
   "execution_count": 852,
   "metadata": {
    "colab": {},
    "colab_type": "code",
    "id": "W9FuzwFdFTku"
   },
   "outputs": [
    {
     "data": {
      "text/html": [
       "<div>\n",
       "<style scoped>\n",
       "    .dataframe tbody tr th:only-of-type {\n",
       "        vertical-align: middle;\n",
       "    }\n",
       "\n",
       "    .dataframe tbody tr th {\n",
       "        vertical-align: top;\n",
       "    }\n",
       "\n",
       "    .dataframe thead th {\n",
       "        text-align: right;\n",
       "    }\n",
       "</style>\n",
       "<table border=\"1\" class=\"dataframe\">\n",
       "  <thead>\n",
       "    <tr style=\"text-align: right;\">\n",
       "      <th></th>\n",
       "      <th>date</th>\n",
       "      <th>review</th>\n",
       "      <th>rating</th>\n",
       "      <th>title</th>\n",
       "      <th>trip_date</th>\n",
       "      <th>language</th>\n",
       "      <th>hotel</th>\n",
       "      <th>source</th>\n",
       "    </tr>\n",
       "  </thead>\n",
       "  <tbody>\n",
       "    <tr>\n",
       "      <th>0</th>\n",
       "      <td>2019-02-03</td>\n",
       "      <td>once again we enjoyed a wonderful stay at long...</td>\n",
       "      <td>5</td>\n",
       "      <td>Sub-Tropical Swimming Paradise</td>\n",
       "      <td>January 2019</td>\n",
       "      <td>en</td>\n",
       "      <td>Longleat Forest</td>\n",
       "      <td>TripAdvisor</td>\n",
       "    </tr>\n",
       "    <tr>\n",
       "      <th>1</th>\n",
       "      <td>2019-02-04</td>\n",
       "      <td>we had a long weekend break booked for 8 of us...</td>\n",
       "      <td>1</td>\n",
       "      <td>Appalling customer service</td>\n",
       "      <td>February 2019</td>\n",
       "      <td>en</td>\n",
       "      <td>Longleat Forest</td>\n",
       "      <td>TripAdvisor</td>\n",
       "    </tr>\n",
       "    <tr>\n",
       "      <th>2</th>\n",
       "      <td>2019-02-04</td>\n",
       "      <td>we stayed mon fri in the fir area this is a 45...</td>\n",
       "      <td>5</td>\n",
       "      <td>Snow</td>\n",
       "      <td>January 2019</td>\n",
       "      <td>en</td>\n",
       "      <td>Longleat Forest</td>\n",
       "      <td>TripAdvisor</td>\n",
       "    </tr>\n",
       "    <tr>\n",
       "      <th>3</th>\n",
       "      <td>2019-02-04</td>\n",
       "      <td>we have been to center parcs longleat numerous...</td>\n",
       "      <td>1</td>\n",
       "      <td>Disaster in management</td>\n",
       "      <td>February 2019</td>\n",
       "      <td>en</td>\n",
       "      <td>Longleat Forest</td>\n",
       "      <td>TripAdvisor</td>\n",
       "    </tr>\n",
       "    <tr>\n",
       "      <th>4</th>\n",
       "      <td>2019-02-04</td>\n",
       "      <td>like many other people it would seem our break...</td>\n",
       "      <td>1</td>\n",
       "      <td>Almost visit</td>\n",
       "      <td>February 2019</td>\n",
       "      <td>en</td>\n",
       "      <td>Longleat Forest</td>\n",
       "      <td>TripAdvisor</td>\n",
       "    </tr>\n",
       "  </tbody>\n",
       "</table>\n",
       "</div>"
      ],
      "text/plain": [
       "         date                                             review  rating  \\\n",
       "0  2019-02-03  once again we enjoyed a wonderful stay at long...       5   \n",
       "1  2019-02-04  we had a long weekend break booked for 8 of us...       1   \n",
       "2  2019-02-04  we stayed mon fri in the fir area this is a 45...       5   \n",
       "3  2019-02-04  we have been to center parcs longleat numerous...       1   \n",
       "4  2019-02-04  like many other people it would seem our break...       1   \n",
       "\n",
       "                            title       trip_date language            hotel  \\\n",
       "0  Sub-Tropical Swimming Paradise    January 2019       en  Longleat Forest   \n",
       "1     Appalling customer service    February 2019       en  Longleat Forest   \n",
       "2                            Snow    January 2019       en  Longleat Forest   \n",
       "3          Disaster in management   February 2019       en  Longleat Forest   \n",
       "4                   Almost visit    February 2019       en  Longleat Forest   \n",
       "\n",
       "        source  \n",
       "0  TripAdvisor  \n",
       "1  TripAdvisor  \n",
       "2  TripAdvisor  \n",
       "3  TripAdvisor  \n",
       "4  TripAdvisor  "
      ]
     },
     "execution_count": 852,
     "metadata": {},
     "output_type": "execute_result"
    }
   ],
   "source": [
    "# We select the secon one which seems more accurate\n",
    "tokenized_reviews = tokenized_reviews_nltk\n",
    "df_token[\"review\"] = stopword_reviews\n",
    "df_token.head()"
   ]
  },
  {
   "cell_type": "code",
   "execution_count": 853,
   "metadata": {},
   "outputs": [],
   "source": []
  },
  {
   "cell_type": "code",
   "execution_count": null,
   "metadata": {},
   "outputs": [],
   "source": []
  },
  {
   "cell_type": "markdown",
   "metadata": {
    "colab_type": "text",
    "id": "ighzJ5h1f_e4"
   },
   "source": [
    "# Pre-processing 3 : Stopword removing"
   ]
  },
  {
   "cell_type": "code",
   "execution_count": 854,
   "metadata": {
    "colab": {},
    "colab_type": "code",
    "id": "HLDOvubHgn-e"
   },
   "outputs": [],
   "source": [
    "# Using a list with words to delete\n",
    "stopW = stopwords.words(['english','french'])"
   ]
  },
  {
   "cell_type": "code",
   "execution_count": 855,
   "metadata": {
    "colab": {},
    "colab_type": "code",
    "id": "8jS036yUgn8S"
   },
   "outputs": [],
   "source": [
    "# Customizing it with our needs\n",
    "stopW += ['les', 'a', 'tout', ';', 'us']"
   ]
  },
  {
   "cell_type": "code",
   "execution_count": 856,
   "metadata": {
    "colab": {},
    "colab_type": "code",
    "id": "S3wlZQebg5Eq"
   },
   "outputs": [],
   "source": [
    "# Stopword_list\n",
    "stopword_reviews = [[token for token in review if token not in stopW] for review in tokenized_reviews]\n",
    "df_token[\"review\"] = stopword_reviews\n",
    "df_token.head()\n",
    "df_token.to_csv(\"Datacleanedfinal1.csv\", index=False)\n",
    "\n"
   ]
  },
  {
   "cell_type": "markdown",
   "metadata": {
    "colab_type": "text",
    "id": "TVUGs90nEtce"
   },
   "source": [
    "# Some visualization about what we've done"
   ]
  },
  {
   "cell_type": "code",
   "execution_count": 615,
   "metadata": {
    "colab": {},
    "colab_type": "code",
    "id": "GVWrijfzTHyq"
   },
   "outputs": [],
   "source": [
    "def plot_frequent_words(list_of_words):    \n",
    "    dist = nltk.FreqDist(list_of_words)\n",
    "    X = [nb[1] for nb in dist.most_common(20)]\n",
    "    y = [nb[0] for nb in dist.most_common(20)]\n",
    "    ax = sns.barplot(X,y)\n",
    "    ax.set(xlabel='Word frequencies',ylabel='Words',title='Most common words in the corpus')\n",
    "    plt.show()"
   ]
  },
  {
   "cell_type": "code",
   "execution_count": 616,
   "metadata": {
    "colab": {
     "base_uri": "https://localhost:8080/",
     "height": 393
    },
    "colab_type": "code",
    "id": "XYH8EWTg0bIr",
    "outputId": "e2ed0a87-2dc4-4221-f478-4b648691cfa6"
   },
   "outputs": [
    {
     "data": {
      "image/png": "[encoded data removed]",
      "text/plain": [
       "<Figure size 432x288 with 1 Axes>"
      ]
     },
     "metadata": {},
     "output_type": "display_data"
    },
    {
     "name": "stdout",
     "output_type": "stream",
     "text": [
      "2159473\n"
     ]
    }
   ],
   "source": [
    "# Making a first plot with original data\n",
    "all_words = []\n",
    "for review in all_reviews:\n",
    "    for word in review.split():\n",
    "        all_words.append(word)\n",
    "\n",
    "plot_frequent_words(all_words)\n",
    "print(len(all_words))"
   ]
  },
  {
   "cell_type": "code",
   "execution_count": 617,
   "metadata": {
    "colab": {
     "base_uri": "https://localhost:8080/",
     "height": 393
    },
    "colab_type": "code",
    "id": "E2iUMPlP0Jub",
    "outputId": "c97e79d8-53c9-4bf8-ad33-c3c79cee5ddd"
   },
   "outputs": [
    {
     "data": {
      "image/png": "[encoded data removed]",
      "text/plain": [
       "<Figure size 432x288 with 1 Axes>"
      ]
     },
     "metadata": {},
     "output_type": "display_data"
    },
    {
     "name": "stdout",
     "output_type": "stream",
     "text": [
      "1104809\n"
     ]
    }
   ],
   "source": [
    "# And making it with our current data\n",
    "all_words = []\n",
    "for review in stopword_reviews:\n",
    "    for word in review:\n",
    "        all_words.append(word)\n",
    "\n",
    "plot_frequent_words(all_words)\n",
    "print(len(all_words))\n",
    "\n",
    "df.to_csv(\"DataCleanedFinalProcessed.csv\", index=True)\n",
    "\n",
    "dfen1 = pd.read_csv('DataCleanedFinalProcessed.csv')\n"
   ]
  },
  {
   "cell_type": "markdown",
   "metadata": {
    "colab_type": "text",
    "id": "wE5UXQn8jTp1"
   },
   "source": [
    "...Much better ! Isn't it ?"
   ]
  },
  {
   "cell_type": "markdown",
   "metadata": {},
   "source": [
    "# TO DO : Now you can apply all of these methods to your own DataFrame\n",
    "\n",
    "\n",
    "**The purpose is to create a second column with reviews content but processed and tokenized**"
   ]
  },
  {
   "cell_type": "code",
   "execution_count": 809,
   "metadata": {},
   "outputs": [
    {
     "name": "stdout",
     "output_type": "stream",
     "text": [
      "(9897, 8)\n"
     ]
    }
   ],
   "source": [
    "dfen1 = pd.read_csv('Datacleanedgroup11en1.csv')\n",
    "dfen2 = pd.read_csv('Datacleanedgroup11en2.csv')\n",
    "dffr = pd.read_csv('Datacleanedgroup11fr1.csv')\n",
    "\n",
    "dffr.head\n",
    "dfnew = pd.concat([dfen1, dfen2], axis=0)\n",
    "print(dfnew.shape)\n",
    "dfnew = pd.concat([dfnew, dffr], axis=0)\n",
    "dfnew.to_csv(\"Datacleanedfinal.csv\", index=False)\n"
   ]
  },
  {
   "cell_type": "code",
   "execution_count": 810,
   "metadata": {},
   "outputs": [
    {
     "data": {
      "text/html": [
       "<div>\n",
       "<style scoped>\n",
       "    .dataframe tbody tr th:only-of-type {\n",
       "        vertical-align: middle;\n",
       "    }\n",
       "\n",
       "    .dataframe tbody tr th {\n",
       "        vertical-align: top;\n",
       "    }\n",
       "\n",
       "    .dataframe thead th {\n",
       "        text-align: right;\n",
       "    }\n",
       "</style>\n",
       "<table border=\"1\" class=\"dataframe\">\n",
       "  <thead>\n",
       "    <tr style=\"text-align: right;\">\n",
       "      <th></th>\n",
       "      <th>content</th>\n",
       "      <th>name</th>\n",
       "      <th>stars</th>\n",
       "      <th>title</th>\n",
       "      <th>trip_date</th>\n",
       "      <th>review_language</th>\n",
       "      <th>trip_type</th>\n",
       "    </tr>\n",
       "    <tr>\n",
       "      <th>date</th>\n",
       "      <th></th>\n",
       "      <th></th>\n",
       "      <th></th>\n",
       "      <th></th>\n",
       "      <th></th>\n",
       "      <th></th>\n",
       "      <th></th>\n",
       "    </tr>\n",
       "  </thead>\n",
       "  <tbody>\n",
       "    <tr>\n",
       "      <th>2019-02-03</th>\n",
       "      <td>once again we enjoyed a wonderful stay at long...</td>\n",
       "      <td>e3e85c40ec2e6d6502343bee50c3e664</td>\n",
       "      <td>5</td>\n",
       "      <td>Sub-Tropical Swimming Paradise</td>\n",
       "      <td>January 2019</td>\n",
       "      <td>en</td>\n",
       "      <td>Traveled with friends</td>\n",
       "    </tr>\n",
       "    <tr>\n",
       "      <th>2019-02-04</th>\n",
       "      <td>we had a long weekend break booked for 8 of us...</td>\n",
       "      <td>f3cbcd42e17ae1129a2f03e52a0c48dc</td>\n",
       "      <td>1</td>\n",
       "      <td>Appalling customer service</td>\n",
       "      <td>February 2019</td>\n",
       "      <td>en</td>\n",
       "      <td>Traveled with friends</td>\n",
       "    </tr>\n",
       "    <tr>\n",
       "      <th>2019-02-04</th>\n",
       "      <td>we stayed mon-fri in the fir area.this is a 45...</td>\n",
       "      <td>36ee62981a8ded4e32fa5bec17db5ed9</td>\n",
       "      <td>5</td>\n",
       "      <td>Snow</td>\n",
       "      <td>January 2019</td>\n",
       "      <td>en</td>\n",
       "      <td>Traveled with family</td>\n",
       "    </tr>\n",
       "    <tr>\n",
       "      <th>2019-02-04</th>\n",
       "      <td>we have been to center parcs longleat numerous...</td>\n",
       "      <td>0b74a0df1d2b42866eace933fccfb3f6</td>\n",
       "      <td>1</td>\n",
       "      <td>Disaster in management</td>\n",
       "      <td>February 2019</td>\n",
       "      <td>en</td>\n",
       "      <td>Traveled with family</td>\n",
       "    </tr>\n",
       "    <tr>\n",
       "      <th>2019-02-04</th>\n",
       "      <td>like many other people it would seem our break...</td>\n",
       "      <td>49c2b40945d9eefa84ad6c3df0a6d47a</td>\n",
       "      <td>1</td>\n",
       "      <td>Almost visit</td>\n",
       "      <td>February 2019</td>\n",
       "      <td>en</td>\n",
       "      <td>Traveled with family</td>\n",
       "    </tr>\n",
       "  </tbody>\n",
       "</table>\n",
       "</div>"
      ],
      "text/plain": [
       "                                                      content  \\\n",
       "date                                                            \n",
       "2019-02-03  once again we enjoyed a wonderful stay at long...   \n",
       "2019-02-04  we had a long weekend break booked for 8 of us...   \n",
       "2019-02-04  we stayed mon-fri in the fir area.this is a 45...   \n",
       "2019-02-04  we have been to center parcs longleat numerous...   \n",
       "2019-02-04  like many other people it would seem our break...   \n",
       "\n",
       "                                        name  stars  \\\n",
       "date                                                  \n",
       "2019-02-03  e3e85c40ec2e6d6502343bee50c3e664      5   \n",
       "2019-02-04  f3cbcd42e17ae1129a2f03e52a0c48dc      1   \n",
       "2019-02-04  36ee62981a8ded4e32fa5bec17db5ed9      5   \n",
       "2019-02-04  0b74a0df1d2b42866eace933fccfb3f6      1   \n",
       "2019-02-04  49c2b40945d9eefa84ad6c3df0a6d47a      1   \n",
       "\n",
       "                                     title       trip_date review_language  \\\n",
       "date                                                                         \n",
       "2019-02-03  Sub-Tropical Swimming Paradise    January 2019              en   \n",
       "2019-02-04     Appalling customer service    February 2019              en   \n",
       "2019-02-04                            Snow    January 2019              en   \n",
       "2019-02-04          Disaster in management   February 2019              en   \n",
       "2019-02-04                   Almost visit    February 2019              en   \n",
       "\n",
       "                        trip_type  \n",
       "date                               \n",
       "2019-02-03  Traveled with friends  \n",
       "2019-02-04  Traveled with friends  \n",
       "2019-02-04   Traveled with family  \n",
       "2019-02-04   Traveled with family  \n",
       "2019-02-04   Traveled with family  "
      ]
     },
     "execution_count": 810,
     "metadata": {},
     "output_type": "execute_result"
    }
   ],
   "source": [
    "df1 = pd.read_csv('Datacleanedfinal.csv', index_col='date')\n",
    "df1.head()\n",
    "\n"
   ]
  },
  {
   "cell_type": "code",
   "execution_count": 489,
   "metadata": {},
   "outputs": [],
   "source": [
    "df1['hotel_name'] = 'Longleat Forest'\n",
    "df1 = df1.drop(['name'],axis=1)"
   ]
  },
  {
   "cell_type": "code",
   "execution_count": 503,
   "metadata": {},
   "outputs": [],
   "source": [
    "df1 = df1.drop(['trip_type'],axis=1)"
   ]
  },
  {
   "cell_type": "code",
   "execution_count": 500,
   "metadata": {},
   "outputs": [],
   "source": [
    "df1['source'] = 'TripAdvisor'"
   ]
  },
  {
   "cell_type": "code",
   "execution_count": 504,
   "metadata": {},
   "outputs": [],
   "source": [
    "df1.columns = ['review', 'rating', 'title', 'trip_date', 'language', 'hotel', 'source']"
   ]
  },
  {
   "cell_type": "code",
   "execution_count": 505,
   "metadata": {},
   "outputs": [
    {
     "data": {
      "text/html": [
       "<div>\n",
       "<style scoped>\n",
       "    .dataframe tbody tr th:only-of-type {\n",
       "        vertical-align: middle;\n",
       "    }\n",
       "\n",
       "    .dataframe tbody tr th {\n",
       "        vertical-align: top;\n",
       "    }\n",
       "\n",
       "    .dataframe thead th {\n",
       "        text-align: right;\n",
       "    }\n",
       "</style>\n",
       "<table border=\"1\" class=\"dataframe\">\n",
       "  <thead>\n",
       "    <tr style=\"text-align: right;\">\n",
       "      <th></th>\n",
       "      <th>review</th>\n",
       "      <th>rating</th>\n",
       "      <th>title</th>\n",
       "      <th>trip_date</th>\n",
       "      <th>language</th>\n",
       "      <th>hotel</th>\n",
       "      <th>source</th>\n",
       "    </tr>\n",
       "    <tr>\n",
       "      <th>date</th>\n",
       "      <th></th>\n",
       "      <th></th>\n",
       "      <th></th>\n",
       "      <th></th>\n",
       "      <th></th>\n",
       "      <th></th>\n",
       "      <th></th>\n",
       "    </tr>\n",
       "  </thead>\n",
       "  <tbody>\n",
       "    <tr>\n",
       "      <th>2019-02-03</th>\n",
       "      <td>once again we enjoyed a wonderful stay at long...</td>\n",
       "      <td>5</td>\n",
       "      <td>Sub-Tropical Swimming Paradise</td>\n",
       "      <td>January 2019</td>\n",
       "      <td>en</td>\n",
       "      <td>Longleat Forest</td>\n",
       "      <td>TripAdvisor</td>\n",
       "    </tr>\n",
       "    <tr>\n",
       "      <th>2019-02-04</th>\n",
       "      <td>we had a long weekend break booked for 8 of us...</td>\n",
       "      <td>1</td>\n",
       "      <td>Appalling customer service</td>\n",
       "      <td>February 2019</td>\n",
       "      <td>en</td>\n",
       "      <td>Longleat Forest</td>\n",
       "      <td>TripAdvisor</td>\n",
       "    </tr>\n",
       "    <tr>\n",
       "      <th>2019-02-04</th>\n",
       "      <td>we stayed mon-fri in the fir area.this is a 45...</td>\n",
       "      <td>5</td>\n",
       "      <td>Snow</td>\n",
       "      <td>January 2019</td>\n",
       "      <td>en</td>\n",
       "      <td>Longleat Forest</td>\n",
       "      <td>TripAdvisor</td>\n",
       "    </tr>\n",
       "    <tr>\n",
       "      <th>2019-02-04</th>\n",
       "      <td>we have been to center parcs longleat numerous...</td>\n",
       "      <td>1</td>\n",
       "      <td>Disaster in management</td>\n",
       "      <td>February 2019</td>\n",
       "      <td>en</td>\n",
       "      <td>Longleat Forest</td>\n",
       "      <td>TripAdvisor</td>\n",
       "    </tr>\n",
       "    <tr>\n",
       "      <th>2019-02-04</th>\n",
       "      <td>like many other people it would seem our break...</td>\n",
       "      <td>1</td>\n",
       "      <td>Almost visit</td>\n",
       "      <td>February 2019</td>\n",
       "      <td>en</td>\n",
       "      <td>Longleat Forest</td>\n",
       "      <td>TripAdvisor</td>\n",
       "    </tr>\n",
       "  </tbody>\n",
       "</table>\n",
       "</div>"
      ],
      "text/plain": [
       "                                                       review  rating  \\\n",
       "date                                                                    \n",
       "2019-02-03  once again we enjoyed a wonderful stay at long...       5   \n",
       "2019-02-04  we had a long weekend break booked for 8 of us...       1   \n",
       "2019-02-04  we stayed mon-fri in the fir area.this is a 45...       5   \n",
       "2019-02-04  we have been to center parcs longleat numerous...       1   \n",
       "2019-02-04  like many other people it would seem our break...       1   \n",
       "\n",
       "                                     title       trip_date language  \\\n",
       "date                                                                  \n",
       "2019-02-03  Sub-Tropical Swimming Paradise    January 2019       en   \n",
       "2019-02-04     Appalling customer service    February 2019       en   \n",
       "2019-02-04                            Snow    January 2019       en   \n",
       "2019-02-04          Disaster in management   February 2019       en   \n",
       "2019-02-04                   Almost visit    February 2019       en   \n",
       "\n",
       "                      hotel       source  \n",
       "date                                      \n",
       "2019-02-03  Longleat Forest  TripAdvisor  \n",
       "2019-02-04  Longleat Forest  TripAdvisor  \n",
       "2019-02-04  Longleat Forest  TripAdvisor  \n",
       "2019-02-04  Longleat Forest  TripAdvisor  \n",
       "2019-02-04  Longleat Forest  TripAdvisor  "
      ]
     },
     "execution_count": 505,
     "metadata": {},
     "output_type": "execute_result"
    }
   ],
   "source": [
    "df1.head()"
   ]
  },
  {
   "cell_type": "code",
   "execution_count": 509,
   "metadata": {},
   "outputs": [],
   "source": [
    "df1.to_csv(\"DataFrameCleanedFinal.csv\")"
   ]
  },
  {
   "cell_type": "markdown",
   "metadata": {},
   "source": [
    "# BONUS : A little exercice about RegEx"
   ]
  },
  {
   "cell_type": "markdown",
   "metadata": {},
   "source": [
    "**Try some patterns on the next strings**\n",
    "\n",
    "You can use the different functions\n",
    "- re.split() : to split my_string on the pattern and print the result.\n",
    "- re.findall() : find all the occurences matching the pattern in the total string."
   ]
  },
  {
   "cell_type": "code",
   "execution_count": null,
   "metadata": {},
   "outputs": [],
   "source": [
    "import re\n",
    "my_string = \"Let's write RegEx!\"\n",
    "\n",
    "PATTERN = r\"\\s+\"\n",
    "# PATTERN = r\"[a-z]\"\n",
    "# PATTERN = r\"\\w\"\n",
    "# PATTERN = r\"\\w+\""
   ]
  },
  {
   "cell_type": "code",
   "execution_count": null,
   "metadata": {},
   "outputs": [],
   "source": [
    "re.findall(PATTERN, my_string)"
   ]
  },
  {
   "cell_type": "code",
   "execution_count": null,
   "metadata": {},
   "outputs": [],
   "source": [
    "re.split(PATTERN, my_string)"
   ]
  },
  {
   "cell_type": "markdown",
   "metadata": {},
   "source": [
    "**Given the table show in course, try to make the following match**"
   ]
  },
  {
   "cell_type": "code",
   "execution_count": null,
   "metadata": {},
   "outputs": [],
   "source": [
    "# Write a pattern to match sentence endings: sentence_endings\n",
    "sentence_endings = r\"[___]\"\n",
    "\n",
    "# Split my_string on sentence endings and print the result\n",
    "print(re.____(____, ____))"
   ]
  },
  {
   "cell_type": "code",
   "execution_count": null,
   "metadata": {},
   "outputs": [],
   "source": [
    "# Find all capitalized words in my_string and print the result\n",
    "capitalized_words = r\"[___]\\w+\"\n",
    "print(re.____(____, ____))"
   ]
  },
  {
   "cell_type": "code",
   "execution_count": null,
   "metadata": {},
   "outputs": [],
   "source": [
    "# Split my_string on spaces and print the result\n",
    "spaces = r\"___\"\n",
    "print(re.____(____, ____))"
   ]
  },
  {
   "cell_type": "code",
   "execution_count": null,
   "metadata": {},
   "outputs": [],
   "source": [
    "# Find all digits in my_string and print the result\n",
    "digits = r\"___\"\n",
    "print(re.____(____, ____))"
   ]
  }
 ],
 "metadata": {
  "colab": {
   "collapsed_sections": [],
   "name": "X_HEC_Session_3_Notebook_1_clean_data.ipynb",
   "provenance": [],
   "version": "0.3.2"
  },
  "kernelspec": {
   "display_name": "Python 3",
   "language": "python",
   "name": "python3"
  },
  "language_info": {
   "codemirror_mode": {
    "name": "ipython",
    "version": 3
   },
   "file_extension": ".py",
   "mimetype": "text/x-python",
   "name": "python",
   "nbconvert_exporter": "python",
   "pygments_lexer": "ipython3",
   "version": "3.6.4"
  }
 },
 "nbformat": 4,
 "nbformat_minor": 2
}
