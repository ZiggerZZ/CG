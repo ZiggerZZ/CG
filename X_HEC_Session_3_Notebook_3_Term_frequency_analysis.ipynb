{
 "cells": [
  {
   "cell_type": "markdown",
   "metadata": {
    "toc": true
   },
   "source": [
    "<h1>Table of Contents<span class=\"tocSkip\"></span></h1>\n",
    "\n",
    "<div class=\"toc\"><ul class=\"toc-item\"><li><span><a href=\"#Initialization-and-preprocessing\" data-toc-modified-id=\"Initialization-and-preprocessing-1\"><span class=\"toc-item-num\">1&nbsp;&nbsp;</span>Initialization and preprocessing</a></span></li>\n",
    "\n",
    "<li><span><a href=\"#Term-Frequency-(TF)\" data-toc-modified-id=\"Term-Frequency-(TF)-2\"><span class=\"toc-item-num\">2&nbsp;&nbsp;</span>Term Frequency (TF)</a></span></li>\n",
    "\n",
    "<li><span><a href=\"#Inverse-Document-Frequency-(IDF)\" data-toc-modified-id=\"Inverse-Document-Frequency-(IDF)-3\"><span class=\"toc-item-num\">3&nbsp;&nbsp;</span>Inverse Document Frequency (IDF)</a></span></li>\n",
    "\n",
    "<li><span><a href=\"#Compute-TFIDF\" data-toc-modified-id=\"Compute-TFIDF-4\"><span class=\"toc-item-num\">4&nbsp;&nbsp;</span>Compute TFIDF</a></span></li>\n",
    "\n",
    "<li><span><a href=\"#Convert-to-sparse-matrix\" data-toc-modified-id=\"Convert-to-sparse-matrix-5\"><span class=\"toc-item-num\">5&nbsp;&nbsp;</span>Convert to sparse matrix</a></span></li>\n",
    "\n",
    "<li><span><a href=\"#Compare-our-matrix-with-Python-implementation\" data-toc-modified-id=\"Compare-our-matrix-with-Python-implementation-6\"><span class=\"toc-item-num\">6&nbsp;&nbsp;</span>Compare our matrix with Python implementation</a></span></li>\n",
    "\n",
    "<li><span><a href=\"#Build-a-bar-chart\" data-toc-modified-id=\"Build-a-bar-chart\"><span class=\"toc-item-num\">7&nbsp;&nbsp;</span>Build a bar chart</a></span></li>\n",
    "\n",
    "<li><span><a href=\"#Build-a-word-cloud\" data-toc-modified-id=\"Build-a-word-cloud\"><span class=\"toc-item-num\">8&nbsp;&nbsp;</span>Build a word cloud</a></span></li></ul></div>"
   ]
  },
  {
   "cell_type": "markdown",
   "metadata": {},
   "source": [
    "# TF/IDF from scratch"
   ]
  },
  {
   "cell_type": "markdown",
   "metadata": {},
   "source": [
    "## Initialization and preprocessing\n",
    "Let's take two sentences as an example"
   ]
  },
  {
   "cell_type": "code",
   "execution_count": 1,
   "metadata": {},
   "outputs": [],
   "source": [
    "import pandas as pd\n",
    "%matplotlib inline "
   ]
  },
  {
   "cell_type": "code",
   "execution_count": 2,
   "metadata": {},
   "outputs": [],
   "source": [
    "#Here you can also get a subset of your own dataset of comments\n",
    "docA='I went skiing with my friends last weekend'\n",
    "docB='My friends and I play poker every weekend'\n",
    "doc=[docA, docB]"
   ]
  },
  {
   "cell_type": "markdown",
   "metadata": {},
   "source": [
    "Now, we tokenize all words of our corpus to build a dictionary and get rid of stopwords and punctuation"
   ]
  },
  {
   "cell_type": "code",
   "execution_count": 3,
   "metadata": {},
   "outputs": [],
   "source": [
    "from nltk import word_tokenize\n",
    "from string import punctuation\n",
    "from nltk.corpus import stopwords\n",
    "\n",
    "stopW = stopwords.words('english') + list(punctuation)"
   ]
  },
  {
   "cell_type": "code",
   "execution_count": 4,
   "metadata": {},
   "outputs": [
    {
     "data": {
      "text/plain": [
       "['!',\n",
       " '\"',\n",
       " '#',\n",
       " '$',\n",
       " '%',\n",
       " '&',\n",
       " \"'\",\n",
       " '(',\n",
       " ')',\n",
       " '*',\n",
       " '+',\n",
       " ',',\n",
       " '-',\n",
       " '.',\n",
       " '/',\n",
       " ':',\n",
       " ';',\n",
       " '<',\n",
       " '=',\n",
       " '>',\n",
       " '?',\n",
       " '@',\n",
       " '[',\n",
       " '\\\\',\n",
       " ']',\n",
       " '^',\n",
       " '_',\n",
       " '`',\n",
       " '{',\n",
       " '|',\n",
       " '}',\n",
       " '~']"
      ]
     },
     "execution_count": 4,
     "metadata": {},
     "output_type": "execute_result"
    }
   ],
   "source": [
    "list(punctuation)"
   ]
  },
  {
   "cell_type": "code",
   "execution_count": null,
   "metadata": {},
   "outputs": [],
   "source": [
    "#import nltk #execute only if necesseray\n",
    "#nltk.download('punkt') #execute only if necesseray"
   ]
  },
  {
   "cell_type": "code",
   "execution_count": 5,
   "metadata": {},
   "outputs": [],
   "source": [
    "bag_of_words = [word_tokenize(text.lower()) for text in doc]"
   ]
  },
  {
   "cell_type": "code",
   "execution_count": 6,
   "metadata": {},
   "outputs": [
    {
     "data": {
      "text/plain": [
       "[['i', 'went', 'skiing', 'with', 'my', 'friends', 'last', 'weekend'],\n",
       " ['my', 'friends', 'and', 'i', 'play', 'poker', 'every', 'weekend']]"
      ]
     },
     "execution_count": 6,
     "metadata": {},
     "output_type": "execute_result"
    }
   ],
   "source": [
    "bag_of_words"
   ]
  },
  {
   "cell_type": "code",
   "execution_count": 7,
   "metadata": {},
   "outputs": [],
   "source": [
    "for i, sent in enumerate(bag_of_words):\n",
    "    bag_of_words[i] = [w for w in bag_of_words[i] if w not in stopW]"
   ]
  },
  {
   "cell_type": "code",
   "execution_count": 8,
   "metadata": {},
   "outputs": [
    {
     "data": {
      "text/plain": [
       "[['went', 'skiing', 'friends', 'last', 'weekend'],\n",
       " ['friends', 'play', 'poker', 'every', 'weekend']]"
      ]
     },
     "execution_count": 8,
     "metadata": {},
     "output_type": "execute_result"
    }
   ],
   "source": [
    "bag_of_words"
   ]
  },
  {
   "cell_type": "markdown",
   "metadata": {},
   "source": [
    "Get all unique words of the corpus"
   ]
  },
  {
   "cell_type": "code",
   "execution_count": 9,
   "metadata": {
    "scrolled": true
   },
   "outputs": [
    {
     "data": {
      "text/plain": [
       "{'every', 'friends', 'last', 'play', 'poker', 'skiing', 'weekend', 'went'}"
      ]
     },
     "execution_count": 9,
     "metadata": {},
     "output_type": "execute_result"
    }
   ],
   "source": [
    "wordSet = set().union(*bag_of_words)\n",
    "wordSet"
   ]
  },
  {
   "cell_type": "markdown",
   "metadata": {},
   "source": [
    "Now, we create a list with one dictionary for each review, containing all words of the corpus"
   ]
  },
  {
   "cell_type": "code",
   "execution_count": 12,
   "metadata": {},
   "outputs": [],
   "source": [
    "wordDict = []\n",
    "\n",
    "for i in range(len(bag_of_words)):\n",
    "    wordDict.append(dict.fromkeys(wordSet, 0))"
   ]
  },
  {
   "cell_type": "code",
   "execution_count": 13,
   "metadata": {},
   "outputs": [
    {
     "data": {
      "text/plain": [
       "[{'every': 0,\n",
       "  'friends': 0,\n",
       "  'last': 0,\n",
       "  'play': 0,\n",
       "  'poker': 0,\n",
       "  'skiing': 0,\n",
       "  'weekend': 0,\n",
       "  'went': 0},\n",
       " {'every': 0,\n",
       "  'friends': 0,\n",
       "  'last': 0,\n",
       "  'play': 0,\n",
       "  'poker': 0,\n",
       "  'skiing': 0,\n",
       "  'weekend': 0,\n",
       "  'went': 0}]"
      ]
     },
     "execution_count": 13,
     "metadata": {},
     "output_type": "execute_result"
    }
   ],
   "source": [
    "wordDict"
   ]
  },
  {
   "cell_type": "markdown",
   "metadata": {},
   "source": [
    "If a review countains a word, we're adding 1 to its count"
   ]
  },
  {
   "cell_type": "code",
   "execution_count": 14,
   "metadata": {},
   "outputs": [],
   "source": [
    "for i, sent in enumerate(bag_of_words): \n",
    "    for word in sent:\n",
    "        wordDict[i][word]+=1"
   ]
  },
  {
   "cell_type": "code",
   "execution_count": 15,
   "metadata": {},
   "outputs": [
    {
     "data": {
      "text/plain": [
       "[{'every': 0,\n",
       "  'friends': 1,\n",
       "  'last': 1,\n",
       "  'play': 0,\n",
       "  'poker': 0,\n",
       "  'skiing': 1,\n",
       "  'weekend': 1,\n",
       "  'went': 1},\n",
       " {'every': 1,\n",
       "  'friends': 1,\n",
       "  'last': 0,\n",
       "  'play': 1,\n",
       "  'poker': 1,\n",
       "  'skiing': 0,\n",
       "  'weekend': 1,\n",
       "  'went': 0}]"
      ]
     },
     "execution_count": 15,
     "metadata": {},
     "output_type": "execute_result"
    }
   ],
   "source": [
    "wordDict"
   ]
  },
  {
   "cell_type": "markdown",
   "metadata": {},
   "source": [
    "We have our Document Term Matrix"
   ]
  },
  {
   "cell_type": "code",
   "execution_count": 16,
   "metadata": {
    "scrolled": true
   },
   "outputs": [
    {
     "data": {
      "text/html": [
       "<div>\n",
       "<style scoped>\n",
       "    .dataframe tbody tr th:only-of-type {\n",
       "        vertical-align: middle;\n",
       "    }\n",
       "\n",
       "    .dataframe tbody tr th {\n",
       "        vertical-align: top;\n",
       "    }\n",
       "\n",
       "    .dataframe thead th {\n",
       "        text-align: right;\n",
       "    }\n",
       "</style>\n",
       "<table border=\"1\" class=\"dataframe\">\n",
       "  <thead>\n",
       "    <tr style=\"text-align: right;\">\n",
       "      <th></th>\n",
       "      <th>every</th>\n",
       "      <th>friends</th>\n",
       "      <th>last</th>\n",
       "      <th>play</th>\n",
       "      <th>poker</th>\n",
       "      <th>skiing</th>\n",
       "      <th>weekend</th>\n",
       "      <th>went</th>\n",
       "    </tr>\n",
       "  </thead>\n",
       "  <tbody>\n",
       "    <tr>\n",
       "      <th>0</th>\n",
       "      <td>0</td>\n",
       "      <td>1</td>\n",
       "      <td>1</td>\n",
       "      <td>0</td>\n",
       "      <td>0</td>\n",
       "      <td>1</td>\n",
       "      <td>1</td>\n",
       "      <td>1</td>\n",
       "    </tr>\n",
       "    <tr>\n",
       "      <th>1</th>\n",
       "      <td>1</td>\n",
       "      <td>1</td>\n",
       "      <td>0</td>\n",
       "      <td>1</td>\n",
       "      <td>1</td>\n",
       "      <td>0</td>\n",
       "      <td>1</td>\n",
       "      <td>0</td>\n",
       "    </tr>\n",
       "  </tbody>\n",
       "</table>\n",
       "</div>"
      ],
      "text/plain": [
       "   every  friends  last  play  poker  skiing  weekend  went\n",
       "0      0        1     1     0      0       1        1     1\n",
       "1      1        1     0     1      1       0        1     0"
      ]
     },
     "execution_count": 16,
     "metadata": {},
     "output_type": "execute_result"
    }
   ],
   "source": [
    "df = pd.DataFrame(wordDict)\n",
    "df.head()"
   ]
  },
  {
   "cell_type": "markdown",
   "metadata": {},
   "source": [
    "We build a bar plot"
   ]
  },
  {
   "cell_type": "code",
   "execution_count": 17,
   "metadata": {},
   "outputs": [],
   "source": [
    "df_mean = df.mean().sort_values(ascending=False).to_frame(name='occurence mean')"
   ]
  },
  {
   "cell_type": "code",
   "execution_count": 18,
   "metadata": {},
   "outputs": [
    {
     "data": {
      "text/plain": [
       "<matplotlib.axes._subplots.AxesSubplot at 0x1a0b3602b0>"
      ]
     },
     "execution_count": 18,
     "metadata": {},
     "output_type": "execute_result"
    },
    {
     "data": {
      "image/png": "[encoded data removed]",
      "text/plain": [
       "<matplotlib.figure.Figure at 0x1a0b2efa20>"
      ]
     },
     "metadata": {},
     "output_type": "display_data"
    }
   ],
   "source": [
    "df_mean[:8].plot.bar()"
   ]
  },
  {
   "cell_type": "markdown",
   "metadata": {},
   "source": [
    "## Term Frequency (TF)"
   ]
  },
  {
   "cell_type": "markdown",
   "metadata": {},
   "source": [
    "Here instead of using a raw count, let's try a term frequency adjusted for document length"
   ]
  },
  {
   "cell_type": "code",
   "execution_count": 19,
   "metadata": {},
   "outputs": [],
   "source": [
    "def compute_TF(wordDict, bow):\n",
    "    tfDict = {}\n",
    "    bowCount = len(bow)\n",
    "    for word, count in wordDict.items():\n",
    "        tfDict[word] = count/float(bowCount)\n",
    "    return tfDict"
   ]
  },
  {
   "cell_type": "code",
   "execution_count": 20,
   "metadata": {},
   "outputs": [],
   "source": [
    "tfBow = []\n",
    "for i in range(len(bag_of_words)):\n",
    "    tfBow.append(compute_TF(wordDict[i], bag_of_words[i]))"
   ]
  },
  {
   "cell_type": "code",
   "execution_count": 21,
   "metadata": {},
   "outputs": [
    {
     "data": {
      "text/plain": [
       "[{'every': 0.0,\n",
       "  'friends': 0.2,\n",
       "  'last': 0.2,\n",
       "  'play': 0.0,\n",
       "  'poker': 0.0,\n",
       "  'skiing': 0.2,\n",
       "  'weekend': 0.2,\n",
       "  'went': 0.2},\n",
       " {'every': 0.2,\n",
       "  'friends': 0.2,\n",
       "  'last': 0.0,\n",
       "  'play': 0.2,\n",
       "  'poker': 0.2,\n",
       "  'skiing': 0.0,\n",
       "  'weekend': 0.2,\n",
       "  'went': 0.0}]"
      ]
     },
     "execution_count": 21,
     "metadata": {},
     "output_type": "execute_result"
    }
   ],
   "source": [
    "tfBow"
   ]
  },
  {
   "cell_type": "markdown",
   "metadata": {},
   "source": [
    "## Inverse Document Frequency (IDF)"
   ]
  },
  {
   "cell_type": "code",
   "execution_count": 22,
   "metadata": {},
   "outputs": [],
   "source": [
    "import math\n",
    "def compute_IDF(wordDict):\n",
    "    idfDict = {}\n",
    "    N = len(wordDict)\n",
    "    idfDict = dict.fromkeys(wordDict[0].keys(), 0)\n",
    "    for doc in wordDict:\n",
    "        for word, val in doc.items():\n",
    "            if val > 0:\n",
    "                idfDict[word] += 1 #if the word is in the document\n",
    "    for word, val in idfDict.items():\n",
    "        idfDict[word] = math.log10(N / float(val))\n",
    "    return idfDict"
   ]
  },
  {
   "cell_type": "code",
   "execution_count": 23,
   "metadata": {},
   "outputs": [],
   "source": [
    "idfs = compute_IDF(wordDict)"
   ]
  },
  {
   "cell_type": "code",
   "execution_count": 24,
   "metadata": {},
   "outputs": [
    {
     "data": {
      "text/plain": [
       "{'every': 0.3010299956639812,\n",
       " 'friends': 0.0,\n",
       " 'last': 0.3010299956639812,\n",
       " 'play': 0.3010299956639812,\n",
       " 'poker': 0.3010299956639812,\n",
       " 'skiing': 0.3010299956639812,\n",
       " 'weekend': 0.0,\n",
       " 'went': 0.3010299956639812}"
      ]
     },
     "execution_count": 24,
     "metadata": {},
     "output_type": "execute_result"
    }
   ],
   "source": [
    "idfs"
   ]
  },
  {
   "cell_type": "markdown",
   "metadata": {},
   "source": [
    "## Compute TFIDF"
   ]
  },
  {
   "cell_type": "code",
   "execution_count": 25,
   "metadata": {},
   "outputs": [],
   "source": [
    "def compute_TFIDF(tfBow, idfs):\n",
    "    tfidf = {}\n",
    "    for word, val in tfBow.items():\n",
    "        tfidf[word] = val*idfs[word]\n",
    "    return tfidf"
   ]
  },
  {
   "cell_type": "code",
   "execution_count": 26,
   "metadata": {},
   "outputs": [],
   "source": [
    "tfidf = []\n",
    "for i in range(len(tfBow)):\n",
    "    tfidf.append(compute_TFIDF(tfBow[i], idfs))"
   ]
  },
  {
   "cell_type": "code",
   "execution_count": 27,
   "metadata": {},
   "outputs": [
    {
     "data": {
      "text/html": [
       "<div>\n",
       "<style scoped>\n",
       "    .dataframe tbody tr th:only-of-type {\n",
       "        vertical-align: middle;\n",
       "    }\n",
       "\n",
       "    .dataframe tbody tr th {\n",
       "        vertical-align: top;\n",
       "    }\n",
       "\n",
       "    .dataframe thead th {\n",
       "        text-align: right;\n",
       "    }\n",
       "</style>\n",
       "<table border=\"1\" class=\"dataframe\">\n",
       "  <thead>\n",
       "    <tr style=\"text-align: right;\">\n",
       "      <th></th>\n",
       "      <th>every</th>\n",
       "      <th>friends</th>\n",
       "      <th>last</th>\n",
       "      <th>play</th>\n",
       "      <th>poker</th>\n",
       "      <th>skiing</th>\n",
       "      <th>weekend</th>\n",
       "      <th>went</th>\n",
       "    </tr>\n",
       "  </thead>\n",
       "  <tbody>\n",
       "    <tr>\n",
       "      <th>0</th>\n",
       "      <td>0.000000</td>\n",
       "      <td>0.0</td>\n",
       "      <td>0.060206</td>\n",
       "      <td>0.000000</td>\n",
       "      <td>0.000000</td>\n",
       "      <td>0.060206</td>\n",
       "      <td>0.0</td>\n",
       "      <td>0.060206</td>\n",
       "    </tr>\n",
       "    <tr>\n",
       "      <th>1</th>\n",
       "      <td>0.060206</td>\n",
       "      <td>0.0</td>\n",
       "      <td>0.000000</td>\n",
       "      <td>0.060206</td>\n",
       "      <td>0.060206</td>\n",
       "      <td>0.000000</td>\n",
       "      <td>0.0</td>\n",
       "      <td>0.000000</td>\n",
       "    </tr>\n",
       "  </tbody>\n",
       "</table>\n",
       "</div>"
      ],
      "text/plain": [
       "      every  friends      last      play     poker    skiing  weekend  \\\n",
       "0  0.000000      0.0  0.060206  0.000000  0.000000  0.060206      0.0   \n",
       "1  0.060206      0.0  0.000000  0.060206  0.060206  0.000000      0.0   \n",
       "\n",
       "       went  \n",
       "0  0.060206  \n",
       "1  0.000000  "
      ]
     },
     "execution_count": 27,
     "metadata": {},
     "output_type": "execute_result"
    }
   ],
   "source": [
    "tfidf = pd.DataFrame(tfidf)\n",
    "tfidf.head()"
   ]
  },
  {
   "cell_type": "code",
   "execution_count": 28,
   "metadata": {},
   "outputs": [
    {
     "name": "stdout",
     "output_type": "stream",
     "text": [
      "A few words with lowest tfidf\n",
      "\n",
      " friends    0.000000\n",
      "weekend    0.000000\n",
      "every      0.060206\n",
      "last       0.060206\n",
      "play       0.060206\n",
      "dtype: float64\n",
      "\n",
      "\n",
      "Words with largest tfidf\n",
      "\n",
      " last      0.060206\n",
      "play      0.060206\n",
      "poker     0.060206\n",
      "skiing    0.060206\n",
      "went      0.060206\n",
      "dtype: float64\n"
     ]
    }
   ],
   "source": [
    "print('A few words with lowest tfidf\\n\\n',tfidf.apply(sum).sort_values()[:5])\n",
    "print('\\n\\nWords with largest tfidf\\n\\n',tfidf.apply(sum).sort_values()[-5:])"
   ]
  },
  {
   "cell_type": "markdown",
   "metadata": {},
   "source": [
    "## Compare our matrix with Python implementation"
   ]
  },
  {
   "cell_type": "code",
   "execution_count": 29,
   "metadata": {},
   "outputs": [],
   "source": [
    "#Here you can also get a subset of your own dataset of comments\n",
    "docA='I went skiing with my friends last weekend'\n",
    "docB='My friends and I play poker every weekend'\n",
    "doc=[docA, docB]"
   ]
  },
  {
   "cell_type": "code",
   "execution_count": 43,
   "metadata": {},
   "outputs": [],
   "source": [
    "docA='I went skiing with my friends last weekend'\n",
    "docB='My friends and I play poker every weekend'\n",
    "docC='My name is Ivan and I play foorbal last week'\n",
    "docD='She goes shopping every year with friends'\n",
    "doc=[docA, docB, docC, docD]"
   ]
  },
  {
   "cell_type": "code",
   "execution_count": 44,
   "metadata": {},
   "outputs": [],
   "source": [
    "from string import punctuation\n",
    "from nltk.corpus import stopwords\n",
    "\n",
    "stopW = stopwords.words('english') + list(punctuation)\n",
    "more_stopwords=['n\\'t','...','\\'ve','\\'re', 'ã\\x9dou', \"''\" ]"
   ]
  },
  {
   "cell_type": "code",
   "execution_count": 45,
   "metadata": {},
   "outputs": [],
   "source": [
    "from sklearn.feature_extraction.text import TfidfVectorizer\n",
    "from nltk import word_tokenize\n",
    "\n",
    "vect = TfidfVectorizer(tokenizer=word_tokenize,stop_words=stopW+more_stopwords)\n",
    "vect_transformed = vect.fit_transform(doc)"
   ]
  },
  {
   "cell_type": "code",
   "execution_count": 46,
   "metadata": {},
   "outputs": [
    {
     "name": "stdout",
     "output_type": "stream",
     "text": [
      "Smallest tfidf:\n",
      "['friends' 'last' 'every' 'play' 'weekend' 'foorbal' 'ivan' 'name' 'week'\n",
      " 'goes']\n",
      "\n",
      "Largest tfidf: \n",
      "['poker' 'went' 'skiing' 'year' 'shopping' 'goes' 'week' 'name' 'ivan'\n",
      " 'foorbal']\n"
     ]
    }
   ],
   "source": [
    "import numpy as np\n",
    "feature_names = np.array(vect.get_feature_names())\n",
    "sorted_tfidf_index = vect_transformed.max(0).toarray()[0].argsort()\n",
    "\n",
    "print('Smallest tfidf:\\n{}\\n'.format(feature_names[sorted_tfidf_index[:10]]))\n",
    "print('Largest tfidf: \\n{}'.format(feature_names[sorted_tfidf_index[:-11:-1]]))"
   ]
  },
  {
   "cell_type": "code",
   "execution_count": 47,
   "metadata": {
    "scrolled": true
   },
   "outputs": [
    {
     "data": {
      "text/html": [
       "<div>\n",
       "<style scoped>\n",
       "    .dataframe tbody tr th:only-of-type {\n",
       "        vertical-align: middle;\n",
       "    }\n",
       "\n",
       "    .dataframe tbody tr th {\n",
       "        vertical-align: top;\n",
       "    }\n",
       "\n",
       "    .dataframe thead th {\n",
       "        text-align: right;\n",
       "    }\n",
       "</style>\n",
       "<table border=\"1\" class=\"dataframe\">\n",
       "  <thead>\n",
       "    <tr style=\"text-align: right;\">\n",
       "      <th></th>\n",
       "      <th>every</th>\n",
       "      <th>foorbal</th>\n",
       "      <th>friends</th>\n",
       "      <th>goes</th>\n",
       "      <th>ivan</th>\n",
       "      <th>last</th>\n",
       "      <th>name</th>\n",
       "      <th>play</th>\n",
       "      <th>poker</th>\n",
       "      <th>shopping</th>\n",
       "      <th>skiing</th>\n",
       "      <th>week</th>\n",
       "      <th>weekend</th>\n",
       "      <th>went</th>\n",
       "      <th>year</th>\n",
       "    </tr>\n",
       "  </thead>\n",
       "  <tbody>\n",
       "    <tr>\n",
       "      <th>0</th>\n",
       "      <td>0.000000</td>\n",
       "      <td>0.000000</td>\n",
       "      <td>0.334067</td>\n",
       "      <td>0.000000</td>\n",
       "      <td>0.000000</td>\n",
       "      <td>0.412640</td>\n",
       "      <td>0.000000</td>\n",
       "      <td>0.000000</td>\n",
       "      <td>0.000000</td>\n",
       "      <td>0.000000</td>\n",
       "      <td>0.523381</td>\n",
       "      <td>0.000000</td>\n",
       "      <td>0.412640</td>\n",
       "      <td>0.523381</td>\n",
       "      <td>0.000000</td>\n",
       "    </tr>\n",
       "    <tr>\n",
       "      <th>1</th>\n",
       "      <td>0.435847</td>\n",
       "      <td>0.000000</td>\n",
       "      <td>0.352855</td>\n",
       "      <td>0.000000</td>\n",
       "      <td>0.000000</td>\n",
       "      <td>0.000000</td>\n",
       "      <td>0.000000</td>\n",
       "      <td>0.435847</td>\n",
       "      <td>0.552816</td>\n",
       "      <td>0.000000</td>\n",
       "      <td>0.000000</td>\n",
       "      <td>0.000000</td>\n",
       "      <td>0.435847</td>\n",
       "      <td>0.000000</td>\n",
       "      <td>0.000000</td>\n",
       "    </tr>\n",
       "    <tr>\n",
       "      <th>2</th>\n",
       "      <td>0.000000</td>\n",
       "      <td>0.436719</td>\n",
       "      <td>0.000000</td>\n",
       "      <td>0.000000</td>\n",
       "      <td>0.436719</td>\n",
       "      <td>0.344315</td>\n",
       "      <td>0.436719</td>\n",
       "      <td>0.344315</td>\n",
       "      <td>0.000000</td>\n",
       "      <td>0.000000</td>\n",
       "      <td>0.000000</td>\n",
       "      <td>0.436719</td>\n",
       "      <td>0.000000</td>\n",
       "      <td>0.000000</td>\n",
       "      <td>0.000000</td>\n",
       "    </tr>\n",
       "    <tr>\n",
       "      <th>3</th>\n",
       "      <td>0.392784</td>\n",
       "      <td>0.000000</td>\n",
       "      <td>0.317993</td>\n",
       "      <td>0.498197</td>\n",
       "      <td>0.000000</td>\n",
       "      <td>0.000000</td>\n",
       "      <td>0.000000</td>\n",
       "      <td>0.000000</td>\n",
       "      <td>0.000000</td>\n",
       "      <td>0.498197</td>\n",
       "      <td>0.000000</td>\n",
       "      <td>0.000000</td>\n",
       "      <td>0.000000</td>\n",
       "      <td>0.000000</td>\n",
       "      <td>0.498197</td>\n",
       "    </tr>\n",
       "  </tbody>\n",
       "</table>\n",
       "</div>"
      ],
      "text/plain": [
       "      every   foorbal   friends      goes      ivan      last      name  \\\n",
       "0  0.000000  0.000000  0.334067  0.000000  0.000000  0.412640  0.000000   \n",
       "1  0.435847  0.000000  0.352855  0.000000  0.000000  0.000000  0.000000   \n",
       "2  0.000000  0.436719  0.000000  0.000000  0.436719  0.344315  0.436719   \n",
       "3  0.392784  0.000000  0.317993  0.498197  0.000000  0.000000  0.000000   \n",
       "\n",
       "       play     poker  shopping    skiing      week   weekend      went  \\\n",
       "0  0.000000  0.000000  0.000000  0.523381  0.000000  0.412640  0.523381   \n",
       "1  0.435847  0.552816  0.000000  0.000000  0.000000  0.435847  0.000000   \n",
       "2  0.344315  0.000000  0.000000  0.000000  0.436719  0.000000  0.000000   \n",
       "3  0.000000  0.000000  0.498197  0.000000  0.000000  0.000000  0.000000   \n",
       "\n",
       "       year  \n",
       "0  0.000000  \n",
       "1  0.000000  \n",
       "2  0.000000  \n",
       "3  0.498197  "
      ]
     },
     "execution_count": 47,
     "metadata": {},
     "output_type": "execute_result"
    }
   ],
   "source": [
    "df_sklearn = pd.DataFrame(vect_transformed.todense(), columns = feature_names)\n",
    "df_sklearn.head()"
   ]
  },
  {
   "cell_type": "markdown",
   "metadata": {},
   "source": [
    "They have similar values. Not exactly the same because the formulas used to comput the TF-IDF scores are different."
   ]
  },
  {
   "cell_type": "markdown",
   "metadata": {},
   "source": [
    "## Build a bar chart"
   ]
  },
  {
   "cell_type": "code",
   "execution_count": 48,
   "metadata": {},
   "outputs": [
    {
     "data": {
      "text/html": [
       "<div>\n",
       "<style scoped>\n",
       "    .dataframe tbody tr th:only-of-type {\n",
       "        vertical-align: middle;\n",
       "    }\n",
       "\n",
       "    .dataframe tbody tr th {\n",
       "        vertical-align: top;\n",
       "    }\n",
       "\n",
       "    .dataframe thead th {\n",
       "        text-align: right;\n",
       "    }\n",
       "</style>\n",
       "<table border=\"1\" class=\"dataframe\">\n",
       "  <thead>\n",
       "    <tr style=\"text-align: right;\">\n",
       "      <th></th>\n",
       "      <th>tfidf mean</th>\n",
       "    </tr>\n",
       "  </thead>\n",
       "  <tbody>\n",
       "    <tr>\n",
       "      <th>friends</th>\n",
       "      <td>0.251229</td>\n",
       "    </tr>\n",
       "    <tr>\n",
       "      <th>weekend</th>\n",
       "      <td>0.212122</td>\n",
       "    </tr>\n",
       "    <tr>\n",
       "      <th>every</th>\n",
       "      <td>0.207158</td>\n",
       "    </tr>\n",
       "    <tr>\n",
       "      <th>play</th>\n",
       "      <td>0.195040</td>\n",
       "    </tr>\n",
       "    <tr>\n",
       "      <th>last</th>\n",
       "      <td>0.189239</td>\n",
       "    </tr>\n",
       "  </tbody>\n",
       "</table>\n",
       "</div>"
      ],
      "text/plain": [
       "         tfidf mean\n",
       "friends    0.251229\n",
       "weekend    0.212122\n",
       "every      0.207158\n",
       "play       0.195040\n",
       "last       0.189239"
      ]
     },
     "execution_count": 48,
     "metadata": {},
     "output_type": "execute_result"
    }
   ],
   "source": [
    "df_sklearn_mean = df_sklearn.mean().sort_values(ascending=False).to_frame(name='tfidf mean')\n",
    "df_sklearn_mean.head()"
   ]
  },
  {
   "cell_type": "code",
   "execution_count": 49,
   "metadata": {},
   "outputs": [
    {
     "data": {
      "text/plain": [
       "<matplotlib.axes._subplots.AxesSubplot at 0x1a0b33ca20>"
      ]
     },
     "execution_count": 49,
     "metadata": {},
     "output_type": "execute_result"
    },
    {
     "data": {
      "image/png": "[encoded data removed]",
      "text/plain": [
       "<matplotlib.figure.Figure at 0x1a10dbe828>"
      ]
     },
     "metadata": {},
     "output_type": "display_data"
    }
   ],
   "source": [
    "df_sklearn_mean[:20].plot.bar()"
   ]
  },
  {
   "cell_type": "markdown",
   "metadata": {},
   "source": [
    "## Build a word cloud"
   ]
  },
  {
   "cell_type": "code",
   "execution_count": 50,
   "metadata": {},
   "outputs": [],
   "source": [
    "from wordcloud import WordCloud\n",
    "from PIL import Image\n",
    "import matplotlib.pyplot as plt"
   ]
  },
  {
   "cell_type": "code",
   "execution_count": 51,
   "metadata": {},
   "outputs": [],
   "source": [
    "dict_words_tfidf = df_sklearn_mean[df_sklearn_mean['tfidf mean'] != 0].to_dict()['tfidf mean']"
   ]
  },
  {
   "cell_type": "code",
   "execution_count": 52,
   "metadata": {},
   "outputs": [],
   "source": [
    "#read mask (just for fun)\n",
    "hotel_mask = np.array(Image.open(\"hotel.png\"))"
   ]
  },
  {
   "cell_type": "code",
   "execution_count": 53,
   "metadata": {},
   "outputs": [
    {
     "data": {
      "image/png": "[encoded data removed]",
      "text/plain": [
       "<matplotlib.figure.Figure at 0x1a14e8ba20>"
      ]
     },
     "metadata": {},
     "output_type": "display_data"
    }
   ],
   "source": [
    "wordcloud = WordCloud(height=600, width=800, background_color=\"white\", colormap='inferno', max_words=100, mask=hotel_mask)\n",
    "wordcloud.generate_from_frequencies(frequencies=dict_words_tfidf)\n",
    "plt.figure(figsize=(12,16))\n",
    "plt.imshow(wordcloud, interpolation=\"bilinear\")\n",
    "plt.axis(\"off\")\n",
    "plt.show()"
   ]
  },
  {
   "cell_type": "markdown",
   "metadata": {},
   "source": [
    "**Now it's your turn! Use your own datasets to get key insights about the main topics discussed in the reviews**"
   ]
  },
  {
   "cell_type": "code",
   "execution_count": null,
   "metadata": {},
   "outputs": [],
   "source": []
  }
 ],
 "metadata": {
  "kernelspec": {
   "display_name": "Python 3",
   "language": "python",
   "name": "python3"
  },
  "language_info": {
   "codemirror_mode": {
    "name": "ipython",
    "version": 3
   },
   "file_extension": ".py",
   "mimetype": "text/x-python",
   "name": "python",
   "nbconvert_exporter": "python",
   "pygments_lexer": "ipython3",
   "version": "3.6.4"
  },
  "toc": {
   "base_numbering": 1,
   "nav_menu": {},
   "number_sections": true,
   "sideBar": true,
   "skip_h1_title": true,
   "title_cell": "Table of Contents",
   "title_sidebar": "Contents",
   "toc_cell": true,
   "toc_position": {},
   "toc_section_display": true,
   "toc_window_display": false
  }
 },
 "nbformat": 4,
 "nbformat_minor": 2
}
