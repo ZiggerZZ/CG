{
 "cells": [
  {
   "cell_type": "markdown",
   "metadata": {},
   "source": [
    "Packages"
   ]
  },
  {
   "cell_type": "code",
   "execution_count": 1,
   "metadata": {},
   "outputs": [
    {
     "name": "stdout",
     "output_type": "stream",
     "text": [
      "[nltk_data] Downloading package stopwords to\n",
      "[nltk_data]     /Users/zigfridzvezdin/nltk_data...\n",
      "[nltk_data]   Package stopwords is already up-to-date!\n"
     ]
    }
   ],
   "source": [
    "import warnings\n",
    "warnings.filterwarnings('ignore')\n",
    "\n",
    "import pandas as pd\n",
    "pd.set_option(\"display.max_colwidth\", 40)\n",
    "import numpy as np\n",
    "import os\n",
    "import re\n",
    "import operator\n",
    "from collections import Counter\n",
    "import nltk\n",
    "nltk.download('stopwords')\n",
    "from nltk.corpus import stopwords\n",
    "import gensim\n",
    "from gensim.models.word2vec import Word2Vec\n",
    "from gensim.models import KeyedVectors\n",
    "from sklearn.metrics.pairwise import cosine_similarity\n",
    "from sklearn.decomposition import PCA\n",
    "from sklearn.manifold import TSNE\n",
    "\n",
    "# visualization\n",
    "import matplotlib.pyplot as plt\n",
    "\n",
    "# magic command\n",
    "%matplotlib inline"
   ]
  },
  {
   "cell_type": "markdown",
   "metadata": {},
   "source": [
    "## Load  Data"
   ]
  },
  {
   "cell_type": "code",
   "execution_count": 2,
   "metadata": {},
   "outputs": [],
   "source": [
    "df = pd.read_csv('AllReviewsCleanTokens.csv')\n",
    "data = df.tokens"
   ]
  },
  {
   "cell_type": "code",
   "execution_count": 3,
   "metadata": {},
   "outputs": [
    {
     "data": {
      "text/plain": [
       "0    ['enjoy', 'wonderful', 'stay', 'long...\n",
       "1    ['long', 'weekend', 'break', 'book',...\n",
       "2    ['stay', 'fri', 'fir', 'area', '45',...\n",
       "3    ['center', 'parcs', 'longleat', 'num...\n",
       "4    ['like', 'many', 'people', 'would', ...\n",
       "Name: tokens, dtype: object"
      ]
     },
     "execution_count": 3,
     "metadata": {},
     "output_type": "execute_result"
    }
   ],
   "source": [
    "data.head()"
   ]
  },
  {
   "cell_type": "code",
   "execution_count": 4,
   "metadata": {},
   "outputs": [
    {
     "data": {
      "text/plain": [
       "0    [enjoy, wonderful, stay, longleat, c...\n",
       "1    [long, weekend, break, book, 8, frid...\n",
       "2    [stay, fri, fir, area, 45, minute, w...\n",
       "3    [center, parcs, longleat, numerous, ...\n",
       "4    [like, many, people, would, seem, br...\n",
       "Name: tokens, dtype: object"
      ]
     },
     "execution_count": 4,
     "metadata": {},
     "output_type": "execute_result"
    }
   ],
   "source": [
    "# the lemmantized_reviews are interpreted as a string by the read_csv command. We convert it into a list. \n",
    "data = data.str.replace(r\"[\\[\\]\\']\", \"\").str.split(\", \")\n",
    "data.head()"
   ]
  },
  {
   "cell_type": "code",
   "execution_count": 5,
   "metadata": {},
   "outputs": [],
   "source": [
    "cleaned_docs = list(data)"
   ]
  },
  {
   "cell_type": "markdown",
   "metadata": {},
   "source": [
    "## Use word2vec considering our dataset vocabulary"
   ]
  },
  {
   "cell_type": "code",
   "execution_count": 6,
   "metadata": {},
   "outputs": [],
   "source": [
    "my_q = 300 # to match dim of GNews word vectors\n",
    "mcount = 50 # minimal word frequency  \n",
    "\n",
    "w2v = Word2Vec(size = my_q, min_count = mcount)\n",
    "w2v.build_vocab(cleaned_docs)"
   ]
  },
  {
   "cell_type": "markdown",
   "metadata": {},
   "source": [
    "Load Google vectors corresponding to our vocabulary"
   ]
  },
  {
   "cell_type": "code",
   "execution_count": 7,
   "metadata": {},
   "outputs": [],
   "source": [
    "w2v.intersect_word2vec_format('GoogleNews-vectors-negative300.bin.gz', binary = True)"
   ]
  },
  {
   "cell_type": "code",
   "execution_count": 8,
   "metadata": {},
   "outputs": [
    {
     "data": {
      "text/plain": [
       "(300,)"
      ]
     },
     "execution_count": 8,
     "metadata": {},
     "output_type": "execute_result"
    }
   ],
   "source": [
    "w2v['parcs'].shape"
   ]
  },
  {
   "cell_type": "code",
   "execution_count": 9,
   "metadata": {},
   "outputs": [],
   "source": [
    "def my_vector_getter(word, wv) :\n",
    "    # returns the vector of a word\n",
    "    try:\n",
    "        # we use reshape because cosine similarity in sklearn now works only for multidimensional arrays\n",
    "        word_array = wv[word].reshape(1,-1)\n",
    "        return word_array\n",
    "    except KeyError:\n",
    "        print('word: <', word, '> not in vocabulary!')"
   ]
  },
  {
   "cell_type": "code",
   "execution_count": 10,
   "metadata": {},
   "outputs": [
    {
     "data": {
      "text/plain": [
       "(1, 300)"
      ]
     },
     "execution_count": 10,
     "metadata": {},
     "output_type": "execute_result"
    }
   ],
   "source": [
    "my_vector_getter('parcs', w2v).shape"
   ]
  },
  {
   "cell_type": "markdown",
   "metadata": {},
   "source": [
    "Let's look for a word missing from our vocabulary"
   ]
  },
  {
   "cell_type": "code",
   "execution_count": 11,
   "metadata": {},
   "outputs": [
    {
     "name": "stdout",
     "output_type": "stream",
     "text": [
      "word: < eagle > not in vocabulary!\n"
     ]
    }
   ],
   "source": [
    "my_vector_getter('eagle', w2v)"
   ]
  },
  {
   "cell_type": "markdown",
   "metadata": {},
   "source": [
    "Some (cosine) similarities examples :"
   ]
  },
  {
   "cell_type": "code",
   "execution_count": 12,
   "metadata": {},
   "outputs": [
    {
     "name": "stdout",
     "output_type": "stream",
     "text": [
      "-3.689349e+19\n",
      "-3.689349e+19\n",
      "3.689349e+19\n"
     ]
    }
   ],
   "source": [
    "print(w2v.similarity('shower', 'bathroom'))\n",
    "print(w2v.similarity('parcs', 'parc'))\n",
    "print(w2v.similarity('great', 'good'))"
   ]
  },
  {
   "cell_type": "code",
   "execution_count": 31,
   "metadata": {},
   "outputs": [
    {
     "name": "stdout",
     "output_type": "stream",
     "text": [
      "-1.0842022e-19\n"
     ]
    }
   ],
   "source": [
    "print(w2v.similarity('parcs', 'accommodation'))"
   ]
  },
  {
   "cell_type": "markdown",
   "metadata": {},
   "source": [
    "Let's return the most similar words !"
   ]
  },
  {
   "cell_type": "code",
   "execution_count": 13,
   "metadata": {},
   "outputs": [
    {
     "data": {
      "text/plain": [
       "[('bathroom', 0.6207695007324219),\n",
       " ('bath', 0.5871196389198303),\n",
       " ('tub', 0.5430082082748413),\n",
       " ('toilet', 0.5051549673080444),\n",
       " ('jacuzzi', 0.49551501870155334),\n",
       " ('sauna', 0.4805178642272949),\n",
       " ('wash', 0.46883711218833923),\n",
       " ('towel', 0.46487686038017273),\n",
       " ('downstairs', 0.4630371332168579),\n",
       " ('bed', 0.45729708671569824)]"
      ]
     },
     "execution_count": 13,
     "metadata": {},
     "output_type": "execute_result"
    }
   ],
   "source": [
    "w2v.similar_by_word('shower')"
   ]
  },
  {
   "cell_type": "code",
   "execution_count": 14,
   "metadata": {},
   "outputs": [
    {
     "data": {
      "text/plain": [
       "[('parc', 0.4865573048591614),\n",
       " ('accommodation', 0.4269517958164215),\n",
       " ('leisure', 0.3979206681251526),\n",
       " ('tlc', 0.39526769518852234),\n",
       " ('haut', 0.3936243951320648),\n",
       " ('accomodation', 0.38739755749702454),\n",
       " ('amis', 0.38513052463531494),\n",
       " ('magasin', 0.3842311501502991),\n",
       " ('partout', 0.37427258491516113),\n",
       " ('spa', 0.37402230501174927)]"
      ]
     },
     "execution_count": 14,
     "metadata": {},
     "output_type": "execute_result"
    }
   ],
   "source": [
    "w2v.similar_by_word('parcs')"
   ]
  },
  {
   "cell_type": "markdown",
   "metadata": {},
   "source": [
    "What are analogies found for the vector v = w2v['hotel'] - w2v['bed'] ?"
   ]
  },
  {
   "cell_type": "code",
   "execution_count": 15,
   "metadata": {},
   "outputs": [
    {
     "data": {
      "text/plain": [
       "[('hall', 0.3183954358100891),\n",
       " ('spacious', 0.24434278905391693),\n",
       " ('space', 0.22608470916748047),\n",
       " ('plenty', 0.22357279062271118),\n",
       " ('upstairs', 0.21837681531906128),\n",
       " ('lounge', 0.21554088592529297),\n",
       " ('session', 0.192834734916687),\n",
       " ('accomadation', 0.1896750032901764),\n",
       " ('venue', 0.18933255970478058),\n",
       " ('atmosphere', 0.1870124787092209)]"
      ]
     },
     "execution_count": 15,
     "metadata": {},
     "output_type": "execute_result"
    }
   ],
   "source": [
    "w2v.most_similar(positive = ['room'], negative = ['bed'])"
   ]
  },
  {
   "cell_type": "markdown",
   "metadata": {},
   "source": [
    "### Visualize word embeddings of most frequents words"
   ]
  },
  {
   "cell_type": "code",
   "execution_count": 16,
   "metadata": {},
   "outputs": [
    {
     "data": {
      "text/plain": [
       "22019"
      ]
     },
     "execution_count": 16,
     "metadata": {},
     "output_type": "execute_result"
    }
   ],
   "source": [
    "all_tokens = [token for sublist in cleaned_docs for token in sublist]\n",
    "t_counts = dict(Counter(all_tokens))\n",
    "len(t_counts)"
   ]
  },
  {
   "cell_type": "code",
   "execution_count": 17,
   "metadata": {},
   "outputs": [],
   "source": [
    "n_most_fqt = 200\n",
    "sorted_t_counts = sorted(t_counts.items(), key = operator.itemgetter(1), reverse = True)\n",
    "mft = [elt[0] for elt in sorted_t_counts[:n_most_fqt]]"
   ]
  },
  {
   "cell_type": "code",
   "execution_count": 18,
   "metadata": {},
   "outputs": [
    {
     "data": {
      "text/plain": [
       "['time',\n",
       " 'go',\n",
       " 'good',\n",
       " 'great',\n",
       " 'get',\n",
       " 'pool',\n",
       " 'parcs',\n",
       " 'would',\n",
       " 'stay',\n",
       " 'lodge',\n",
       " 'activity',\n",
       " 'one',\n",
       " 'book',\n",
       " 'year',\n",
       " 'day',\n",
       " 'family',\n",
       " 'staff',\n",
       " 'really',\n",
       " 'visit',\n",
       " 'longleat',\n",
       " 'take',\n",
       " 'center',\n",
       " 'clean',\n",
       " 'area',\n",
       " 'food',\n",
       " 'well',\n",
       " 'child',\n",
       " 'also',\n",
       " 'villa',\n",
       " 'swim',\n",
       " 'back',\n",
       " 'holiday',\n",
       " 'make',\n",
       " 'even',\n",
       " 'need',\n",
       " 'service',\n",
       " 'park',\n",
       " 'love',\n",
       " 'accommodation',\n",
       " 'much',\n",
       " 'lovely',\n",
       " 'expensive',\n",
       " 'enjoy',\n",
       " 'price',\n",
       " 'could',\n",
       " 'walk',\n",
       " 'break',\n",
       " 'place',\n",
       " 'lot',\n",
       " 'centre',\n",
       " '2',\n",
       " 'bike',\n",
       " 'restaurant',\n",
       " 'like',\n",
       " 'come',\n",
       " 'eat',\n",
       " 'pay',\n",
       " 'room',\n",
       " 'kid',\n",
       " 'find',\n",
       " 'around',\n",
       " 'little',\n",
       " 'use',\n",
       " 'old',\n",
       " 'think',\n",
       " 'train',\n",
       " '3',\n",
       " 'first',\n",
       " 'car',\n",
       " 'look',\n",
       " 'excellent',\n",
       " 'parc',\n",
       " 'say',\n",
       " 'fun',\n",
       " 'bite',\n",
       " 'thing',\n",
       " 'night',\n",
       " 'want',\n",
       " 'nice',\n",
       " 'tre',\n",
       " '4',\n",
       " 'bed',\n",
       " 'week',\n",
       " 'return',\n",
       " 'people',\n",
       " 'weekend',\n",
       " 'every',\n",
       " 'two',\n",
       " 'sport',\n",
       " 'everything',\n",
       " 'leave',\n",
       " 'site',\n",
       " 'however',\n",
       " 'always',\n",
       " 'spend',\n",
       " 'friendly',\n",
       " 'new',\n",
       " 'amp',\n",
       " 'next',\n",
       " 'money',\n",
       " 'quite',\n",
       " 'experience',\n",
       " 'although',\n",
       " 'plaza',\n",
       " 'recommend',\n",
       " 'facility',\n",
       " 'rapid',\n",
       " 'house',\n",
       " 'spa',\n",
       " 'last',\n",
       " 'fantastic',\n",
       " 'arrive',\n",
       " 'see',\n",
       " 'long',\n",
       " 'quot',\n",
       " 'away',\n",
       " 'work',\n",
       " 'cost',\n",
       " 'many',\n",
       " 'feel',\n",
       " 'amaze',\n",
       " 'bedroom',\n",
       " 'hour',\n",
       " 'land',\n",
       " 'age',\n",
       " 'change',\n",
       " 'helpful',\n",
       " 'give',\n",
       " '5',\n",
       " 'pancake',\n",
       " 'way',\n",
       " 'small',\n",
       " 'minute',\n",
       " 'though',\n",
       " 'cafe',\n",
       " 'cycle',\n",
       " 'relax',\n",
       " 'outside',\n",
       " 'wait',\n",
       " 'try',\n",
       " 'meal',\n",
       " 'executive',\n",
       " 'expect',\n",
       " 'plus',\n",
       " 'still',\n",
       " 'extra',\n",
       " 'seem',\n",
       " 'forest',\n",
       " 'adult',\n",
       " 'free',\n",
       " 'keep',\n",
       " 'best',\n",
       " 'end',\n",
       " 'enough',\n",
       " 'big',\n",
       " 'play',\n",
       " 'worth',\n",
       " 'definitely',\n",
       " 'etc',\n",
       " 'disappoint',\n",
       " 'overall',\n",
       " 'never',\n",
       " 'water',\n",
       " 'know',\n",
       " 'plenty',\n",
       " 'shop',\n",
       " 'close',\n",
       " 'problem',\n",
       " 'hire',\n",
       " 'main',\n",
       " 'whole',\n",
       " 'guest',\n",
       " 'especially',\n",
       " 'young',\n",
       " 'brilliant',\n",
       " 'run',\n",
       " 'high',\n",
       " 'trip',\n",
       " 'daughter',\n",
       " 'busy',\n",
       " 'woodland',\n",
       " 'kitchen',\n",
       " 'check',\n",
       " 'slide',\n",
       " 'drink',\n",
       " 'cp',\n",
       " 'bien',\n",
       " 'felt',\n",
       " 'include',\n",
       " 'huck',\n",
       " 'weather',\n",
       " 'dog',\n",
       " 'everyone',\n",
       " 'couple',\n",
       " 'cheap',\n",
       " '10',\n",
       " 'another',\n",
       " 'door',\n",
       " 'bathroom',\n",
       " 'tell']"
      ]
     },
     "execution_count": 18,
     "metadata": {},
     "output_type": "execute_result"
    }
   ],
   "source": [
    "mft"
   ]
  },
  {
   "cell_type": "markdown",
   "metadata": {},
   "source": [
    "Store the vectors of the most frequent words in numpy array"
   ]
  },
  {
   "cell_type": "code",
   "execution_count": 19,
   "metadata": {},
   "outputs": [],
   "source": [
    "mft_vecs = np.zeros((n_most_fqt, my_q))\n",
    "\n",
    "for idx,token in enumerate(mft):\n",
    "    mft_vecs[idx,:] = w2v[token]"
   ]
  },
  {
   "cell_type": "code",
   "execution_count": 20,
   "metadata": {},
   "outputs": [
    {
     "data": {
      "text/plain": [
       "(200, 300)"
      ]
     },
     "execution_count": 20,
     "metadata": {},
     "output_type": "execute_result"
    }
   ],
   "source": [
    "mft_vecs.shape"
   ]
  },
  {
   "cell_type": "markdown",
   "metadata": {},
   "source": [
    "Visualizing Data using t-SNE :\n",
    "-  Original article : http://www.jmlr.org/papers/volume9/vandermaaten08a/vandermaaten08a.pdf\n",
    "- Scikit-Learn documentation : https://scikit-learn.org/stable/modules/generated/sklearn.manifold.TSNE.html"
   ]
  },
  {
   "cell_type": "code",
   "execution_count": 21,
   "metadata": {},
   "outputs": [
    {
     "data": {
      "text/plain": [
       "<matplotlib.figure.Figure at 0x113794400>"
      ]
     },
     "metadata": {},
     "output_type": "display_data"
    },
    {
     "data": {
      "image/png": "[encoded data removed]",
      "text/plain": [
       "<matplotlib.figure.Figure at 0x113c41358>"
      ]
     },
     "metadata": {},
     "output_type": "display_data"
    }
   ],
   "source": [
    "my_pca = PCA(n_components=10)\n",
    "my_tsne = TSNE(n_components=2)\n",
    "\n",
    "mft_vecs_pca = my_pca.fit_transform(mft_vecs)\n",
    "mft_vecs_tsne = my_tsne.fit_transform(mft_vecs_pca)\n",
    "\n",
    "plt.figure(figsize=(20, 10))\n",
    "fig, ax = plt.subplots()\n",
    "ax.scatter(mft_vecs_tsne[:,0], mft_vecs_tsne[:,1],s=3)\n",
    "for x, y, token in zip(mft_vecs_tsne[:,0] , mft_vecs_tsne[:,1], mft):     \n",
    "    ax.annotate(token, xy=(x, y), size=8)\n",
    "fig.suptitle('t-SNE visualization of word embeddings',fontsize=20)\n",
    "fig.set_size_inches(20,10)\n",
    "fig.savefig('word_embeddings.png',dpi=300)\n",
    "fig.show()"
   ]
  },
  {
   "cell_type": "markdown",
   "metadata": {},
   "source": [
    "## Use word2vec considering all Google word vectors\n",
    "Let's compare !"
   ]
  },
  {
   "cell_type": "code",
   "execution_count": 22,
   "metadata": {},
   "outputs": [],
   "source": [
    "wv_from_bin = KeyedVectors.load_word2vec_format('GoogleNews-vectors-negative300.bin.gz', binary = True)"
   ]
  },
  {
   "cell_type": "code",
   "execution_count": 23,
   "metadata": {},
   "outputs": [
    {
     "data": {
      "text/plain": [
       "[('Keycamp', 0.7030531167984009),\n",
       " ('Siblu', 0.6702446937561035),\n",
       " ('Eurocamp', 0.6518019437789917),\n",
       " ('gites', 0.6129817962646484),\n",
       " ('Canvas_Holidays', 0.6082348823547363),\n",
       " ('catered_chalet', 0.6071932315826416),\n",
       " ('www.kuoni.co.uk', 0.5980793237686157),\n",
       " ('gîtes', 0.5975005626678467),\n",
       " ('catered_chalets', 0.5936937928199768),\n",
       " (\"chambres_d'\", 0.5907391309738159)]"
      ]
     },
     "execution_count": 23,
     "metadata": {},
     "output_type": "execute_result"
    }
   ],
   "source": [
    "wv_from_bin.similar_by_word('parcs')"
   ]
  },
  {
   "cell_type": "markdown",
   "metadata": {},
   "source": [
    "Running time is far longer but we can remark important differences among most similar words !\n",
    "### Document similarity\n",
    "In vector space ('bag-of-words' representation)"
   ]
  },
  {
   "cell_type": "code",
   "execution_count": 24,
   "metadata": {},
   "outputs": [],
   "source": [
    "stpwds = stopwords.words('english')"
   ]
  },
  {
   "cell_type": "code",
   "execution_count": 25,
   "metadata": {},
   "outputs": [
    {
     "name": "stdout",
     "output_type": "stream",
     "text": [
      "['computer', 'science', 'study', 'design', 'use', 'computers']\n",
      "['programming', 'language', 'theory', 'considers', 'various', 'approaches', 'description', 'computation']\n"
     ]
    }
   ],
   "source": [
    "s_1 = 'computer science is the study of the design and use of computers'\n",
    "s_2 = 'programming language theory considers various approaches to the description of computation'\n",
    "\n",
    "s_1 = [elt for elt in s_1.split(' ') if elt not in stpwds]\n",
    "s_2 = [elt for elt in s_2.split(' ') if elt not in stpwds]\n",
    "\n",
    "print(s_1)\n",
    "print(s_2)"
   ]
  },
  {
   "cell_type": "code",
   "execution_count": 26,
   "metadata": {},
   "outputs": [
    {
     "name": "stdout",
     "output_type": "stream",
     "text": [
      "=== vector space representation of sentence 1 : ===\n",
      "[('science', 1), ('description', 0), ('various', 0), ('computation', 0), ('computer', 1), ('approaches', 0), ('considers', 0), ('language', 0), ('programming', 0), ('design', 1), ('use', 1), ('study', 1), ('theory', 0), ('computers', 1)] \n",
      "\n",
      "=== vector space representation of sentence 2 : ===\n",
      "[('science', 0), ('description', 1), ('various', 1), ('computation', 1), ('computer', 0), ('approaches', 1), ('considers', 1), ('language', 1), ('programming', 1), ('design', 0), ('use', 0), ('study', 0), ('theory', 1), ('computers', 0)] \n",
      "\n",
      "similarity of sentences 1 and 2 in vector space: [[0.]]\n"
     ]
    }
   ],
   "source": [
    "features = list(set(s_1).union(set(s_2)))\n",
    "\n",
    "# project the two sentences in the vector space\n",
    "p_1 = [1 if feature in s_1 else 0 for feature in features]\n",
    "p_2 = [1 if feature in s_2 else 0 for feature in features]\n",
    "\n",
    "p_1_print = list(zip(features, p_1))\n",
    "p_2_print = list(zip(features, p_2))\n",
    "\n",
    "print('=== vector space representation of sentence 1 : ===')\n",
    "print(p_1_print, '\\n')\n",
    "print('=== vector space representation of sentence 2 : ===')\n",
    "print(p_2_print, '\\n')\n",
    "\n",
    "print('similarity of sentences 1 and 2 in vector space:', \n",
    "      cosine_similarity(np.array(p_1).reshape(1,-1),np.array(p_2).reshape(1,-1)))"
   ]
  },
  {
   "cell_type": "markdown",
   "metadata": {},
   "source": [
    "No similarity found in the vector space induced by bag-of-words representation !\n",
    "\n",
    "In word embeddings space : naive document embeddings by word vector averaging :"
   ]
  },
  {
   "cell_type": "code",
   "execution_count": 27,
   "metadata": {},
   "outputs": [
    {
     "name": "stdout",
     "output_type": "stream",
     "text": [
      "similarity of centroids of sentences 1 and 2 in word embeddings space: [[-2.]]\n"
     ]
    }
   ],
   "source": [
    "p_1_embeddings = np.concatenate([wv_from_bin[token].reshape(1,-1) for token in s_1])\n",
    "p_2_embeddings = np.concatenate([wv_from_bin[token].reshape(1,-1) for token in s_2])\n",
    "\n",
    "# naive approach: centroids\n",
    "centroid_1 = np.mean(p_1_embeddings, axis=0).reshape(1,-1)\n",
    "centroid_2 = np.mean(p_2_embeddings, axis=0).reshape(1,-1)\n",
    "\n",
    "print('similarity of centroids of sentences 1 and 2 in word embeddings space:', cosine_similarity(centroid_1, centroid_2))"
   ]
  },
  {
   "cell_type": "markdown",
   "metadata": {},
   "source": [
    "It is already better !"
   ]
  }
 ],
 "metadata": {
  "kernelspec": {
   "display_name": "Python 3",
   "language": "python",
   "name": "python3"
  },
  "language_info": {
   "codemirror_mode": {
    "name": "ipython",
    "version": 3
   },
   "file_extension": ".py",
   "mimetype": "text/x-python",
   "name": "python",
   "nbconvert_exporter": "python",
   "pygments_lexer": "ipython3",
   "version": "3.6.4"
  }
 },
 "nbformat": 4,
 "nbformat_minor": 2
}
